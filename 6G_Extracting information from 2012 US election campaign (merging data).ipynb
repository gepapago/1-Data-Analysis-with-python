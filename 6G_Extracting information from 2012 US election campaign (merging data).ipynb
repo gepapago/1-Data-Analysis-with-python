{
  "metadata": {
    "kernelspec": {
      "name": "python",
      "display_name": "Python (Pyodide)",
      "language": "python"
    },
    "language_info": {
      "codemirror_mode": {
        "name": "python",
        "version": 3
      },
      "file_extension": ".py",
      "mimetype": "text/x-python",
      "name": "python",
      "nbconvert_exporter": "python",
      "pygments_lexer": "ipython3",
      "version": "3.8"
    },
    "celltoolbar": "Slideshow"
  },
  "nbformat_minor": 4,
  "nbformat": 4,
  "cells": [
    {
      "cell_type": "markdown",
      "source": "# Extracting information from 2012 US election campaign (merging data) ",
      "metadata": {
        "slideshow": {
          "slide_type": "slide"
        }
      }
    },
    {
      "cell_type": "markdown",
      "source": "# What Is It About?\n\n* The [Federal Election Commission](https://www.fec.gov/) publishes data on donations given to US election campaigns.\n\n* Data available at https://www.fec.gov/data/browse-data/?tab=bulk-data.\n\n* We will use the 2012 data (simply because it is smaller in volume).",
      "metadata": {
        "slideshow": {
          "slide_type": "slide"
        }
      }
    },
    {
      "cell_type": "code",
      "source": "import pandas as pd\nimport matplotlib.pyplot as plt\nimport matplotlib\nfrom collections import defaultdict\n\nmatplotlib.style.use('ggplot')\npd.set_option(\"display.max_columns\", None)",
      "metadata": {
        "slideshow": {
          "slide_type": "slide"
        },
        "trusted": true
      },
      "outputs": [
        {
          "name": "stderr",
          "text": "<ipython-input-1-745464b1daa0>:1: DeprecationWarning: \nPyarrow will become a required dependency of pandas in the next major release of pandas (pandas 3.0),\n(to allow more performant data types, such as the Arrow string type, and better interoperability with other libraries)\nbut was not found to be installed on your system.\nIf this would cause problems for you,\nplease provide us feedback at https://github.com/pandas-dev/pandas/issues/54466\n        \n  import pandas as pd\n",
          "output_type": "stream"
        }
      ],
      "execution_count": 1
    },
    {
      "cell_type": "markdown",
      "source": "* We will investigate [2012 individual contributions](https://www.fec.gov/files/bulk-downloads/2012/indiv12.zip).\n\n* Data includes donor names, address, occupation, and donation amount.\n\n* The data file is separate from the [header file](https://www.fec.gov/files/bulk-downloads/data_dictionaries/indiv_header_file.csv) which we will need to download separately.",
      "metadata": {
        "slideshow": {
          "slide_type": "slide"
        }
      }
    },
    {
      "cell_type": "code",
      "source": "headers = pd.read_csv('https://www.fec.gov/files/bulk-downloads/data_dictionaries/indiv_header_file.csv')\nheaders",
      "metadata": {
        "slideshow": {
          "slide_type": "fragment"
        },
        "trusted": true
      },
      "outputs": [
        {
          "ename": "<class 'urllib.error.URLError'>",
          "evalue": "<urlopen error [Errno 23] Host is unreachable>",
          "traceback": [
            "\u001b[0;31m---------------------------------------------------------------------------\u001b[0m",
            "\u001b[0;31mOSError\u001b[0m                                   Traceback (most recent call last)",
            "File \u001b[0;32m/lib/python312.zip/urllib/request.py:1344\u001b[0m, in \u001b[0;36mAbstractHTTPHandler.do_open\u001b[0;34m(self, http_class, req, **http_conn_args)\u001b[0m\n\u001b[1;32m   1343\u001b[0m \u001b[38;5;28;01mtry\u001b[39;00m:\n\u001b[0;32m-> 1344\u001b[0m     \u001b[43mh\u001b[49m\u001b[38;5;241;43m.\u001b[39;49m\u001b[43mrequest\u001b[49m\u001b[43m(\u001b[49m\u001b[43mreq\u001b[49m\u001b[38;5;241;43m.\u001b[39;49m\u001b[43mget_method\u001b[49m\u001b[43m(\u001b[49m\u001b[43m)\u001b[49m\u001b[43m,\u001b[49m\u001b[43m \u001b[49m\u001b[43mreq\u001b[49m\u001b[38;5;241;43m.\u001b[39;49m\u001b[43mselector\u001b[49m\u001b[43m,\u001b[49m\u001b[43m \u001b[49m\u001b[43mreq\u001b[49m\u001b[38;5;241;43m.\u001b[39;49m\u001b[43mdata\u001b[49m\u001b[43m,\u001b[49m\u001b[43m \u001b[49m\u001b[43mheaders\u001b[49m\u001b[43m,\u001b[49m\n\u001b[1;32m   1345\u001b[0m \u001b[43m              \u001b[49m\u001b[43mencode_chunked\u001b[49m\u001b[38;5;241;43m=\u001b[39;49m\u001b[43mreq\u001b[49m\u001b[38;5;241;43m.\u001b[39;49m\u001b[43mhas_header\u001b[49m\u001b[43m(\u001b[49m\u001b[38;5;124;43m'\u001b[39;49m\u001b[38;5;124;43mTransfer-encoding\u001b[39;49m\u001b[38;5;124;43m'\u001b[39;49m\u001b[43m)\u001b[49m\u001b[43m)\u001b[49m\n\u001b[1;32m   1346\u001b[0m \u001b[38;5;28;01mexcept\u001b[39;00m \u001b[38;5;167;01mOSError\u001b[39;00m \u001b[38;5;28;01mas\u001b[39;00m err: \u001b[38;5;66;03m# timeout error\u001b[39;00m\n",
            "File \u001b[0;32m/lib/python312.zip/http/client.py:1327\u001b[0m, in \u001b[0;36mHTTPConnection.request\u001b[0;34m(self, method, url, body, headers, encode_chunked)\u001b[0m\n\u001b[1;32m   1326\u001b[0m \u001b[38;5;250m\u001b[39m\u001b[38;5;124;03m\"\"\"Send a complete request to the server.\"\"\"\u001b[39;00m\n\u001b[0;32m-> 1327\u001b[0m \u001b[38;5;28;43mself\u001b[39;49m\u001b[38;5;241;43m.\u001b[39;49m\u001b[43m_send_request\u001b[49m\u001b[43m(\u001b[49m\u001b[43mmethod\u001b[49m\u001b[43m,\u001b[49m\u001b[43m \u001b[49m\u001b[43murl\u001b[49m\u001b[43m,\u001b[49m\u001b[43m \u001b[49m\u001b[43mbody\u001b[49m\u001b[43m,\u001b[49m\u001b[43m \u001b[49m\u001b[43mheaders\u001b[49m\u001b[43m,\u001b[49m\u001b[43m \u001b[49m\u001b[43mencode_chunked\u001b[49m\u001b[43m)\u001b[49m\n",
            "File \u001b[0;32m/lib/python312.zip/http/client.py:1373\u001b[0m, in \u001b[0;36mHTTPConnection._send_request\u001b[0;34m(self, method, url, body, headers, encode_chunked)\u001b[0m\n\u001b[1;32m   1372\u001b[0m     body \u001b[38;5;241m=\u001b[39m _encode(body, \u001b[38;5;124m'\u001b[39m\u001b[38;5;124mbody\u001b[39m\u001b[38;5;124m'\u001b[39m)\n\u001b[0;32m-> 1373\u001b[0m \u001b[38;5;28;43mself\u001b[39;49m\u001b[38;5;241;43m.\u001b[39;49m\u001b[43mendheaders\u001b[49m\u001b[43m(\u001b[49m\u001b[43mbody\u001b[49m\u001b[43m,\u001b[49m\u001b[43m \u001b[49m\u001b[43mencode_chunked\u001b[49m\u001b[38;5;241;43m=\u001b[39;49m\u001b[43mencode_chunked\u001b[49m\u001b[43m)\u001b[49m\n",
            "File \u001b[0;32m/lib/python312.zip/http/client.py:1322\u001b[0m, in \u001b[0;36mHTTPConnection.endheaders\u001b[0;34m(self, message_body, encode_chunked)\u001b[0m\n\u001b[1;32m   1321\u001b[0m     \u001b[38;5;28;01mraise\u001b[39;00m CannotSendHeader()\n\u001b[0;32m-> 1322\u001b[0m \u001b[38;5;28;43mself\u001b[39;49m\u001b[38;5;241;43m.\u001b[39;49m\u001b[43m_send_output\u001b[49m\u001b[43m(\u001b[49m\u001b[43mmessage_body\u001b[49m\u001b[43m,\u001b[49m\u001b[43m \u001b[49m\u001b[43mencode_chunked\u001b[49m\u001b[38;5;241;43m=\u001b[39;49m\u001b[43mencode_chunked\u001b[49m\u001b[43m)\u001b[49m\n",
            "File \u001b[0;32m/lib/python312.zip/http/client.py:1081\u001b[0m, in \u001b[0;36mHTTPConnection._send_output\u001b[0;34m(self, message_body, encode_chunked)\u001b[0m\n\u001b[1;32m   1080\u001b[0m \u001b[38;5;28;01mdel\u001b[39;00m \u001b[38;5;28mself\u001b[39m\u001b[38;5;241m.\u001b[39m_buffer[:]\n\u001b[0;32m-> 1081\u001b[0m \u001b[38;5;28;43mself\u001b[39;49m\u001b[38;5;241;43m.\u001b[39;49m\u001b[43msend\u001b[49m\u001b[43m(\u001b[49m\u001b[43mmsg\u001b[49m\u001b[43m)\u001b[49m\n\u001b[1;32m   1083\u001b[0m \u001b[38;5;28;01mif\u001b[39;00m message_body \u001b[38;5;129;01mis\u001b[39;00m \u001b[38;5;129;01mnot\u001b[39;00m \u001b[38;5;28;01mNone\u001b[39;00m:\n\u001b[1;32m   1084\u001b[0m \n\u001b[1;32m   1085\u001b[0m     \u001b[38;5;66;03m# create a consistent interface to message_body\u001b[39;00m\n",
            "File \u001b[0;32m/lib/python312.zip/http/client.py:1025\u001b[0m, in \u001b[0;36mHTTPConnection.send\u001b[0;34m(self, data)\u001b[0m\n\u001b[1;32m   1024\u001b[0m \u001b[38;5;28;01mif\u001b[39;00m \u001b[38;5;28mself\u001b[39m\u001b[38;5;241m.\u001b[39mauto_open:\n\u001b[0;32m-> 1025\u001b[0m     \u001b[38;5;28;43mself\u001b[39;49m\u001b[38;5;241;43m.\u001b[39;49m\u001b[43mconnect\u001b[49m\u001b[43m(\u001b[49m\u001b[43m)\u001b[49m\n\u001b[1;32m   1026\u001b[0m \u001b[38;5;28;01melse\u001b[39;00m:\n",
            "File \u001b[0;32m/lib/python312.zip/http/client.py:1461\u001b[0m, in \u001b[0;36mHTTPSConnection.connect\u001b[0;34m(self)\u001b[0m\n\u001b[1;32m   1459\u001b[0m \u001b[38;5;124m\"\u001b[39m\u001b[38;5;124mConnect to a host on a given (SSL) port.\u001b[39m\u001b[38;5;124m\"\u001b[39m\n\u001b[0;32m-> 1461\u001b[0m \u001b[38;5;28;43msuper\u001b[39;49m\u001b[43m(\u001b[49m\u001b[43m)\u001b[49m\u001b[38;5;241;43m.\u001b[39;49m\u001b[43mconnect\u001b[49m\u001b[43m(\u001b[49m\u001b[43m)\u001b[49m\n\u001b[1;32m   1463\u001b[0m \u001b[38;5;28;01mif\u001b[39;00m \u001b[38;5;28mself\u001b[39m\u001b[38;5;241m.\u001b[39m_tunnel_host:\n",
            "File \u001b[0;32m/lib/python312.zip/http/client.py:991\u001b[0m, in \u001b[0;36mHTTPConnection.connect\u001b[0;34m(self)\u001b[0m\n\u001b[1;32m    990\u001b[0m sys\u001b[38;5;241m.\u001b[39maudit(\u001b[38;5;124m\"\u001b[39m\u001b[38;5;124mhttp.client.connect\u001b[39m\u001b[38;5;124m\"\u001b[39m, \u001b[38;5;28mself\u001b[39m, \u001b[38;5;28mself\u001b[39m\u001b[38;5;241m.\u001b[39mhost, \u001b[38;5;28mself\u001b[39m\u001b[38;5;241m.\u001b[39mport)\n\u001b[0;32m--> 991\u001b[0m \u001b[38;5;28mself\u001b[39m\u001b[38;5;241m.\u001b[39msock \u001b[38;5;241m=\u001b[39m \u001b[38;5;28;43mself\u001b[39;49m\u001b[38;5;241;43m.\u001b[39;49m\u001b[43m_create_connection\u001b[49m\u001b[43m(\u001b[49m\n\u001b[1;32m    992\u001b[0m \u001b[43m    \u001b[49m\u001b[43m(\u001b[49m\u001b[38;5;28;43mself\u001b[39;49m\u001b[38;5;241;43m.\u001b[39;49m\u001b[43mhost\u001b[49m\u001b[43m,\u001b[49m\u001b[38;5;28;43mself\u001b[39;49m\u001b[38;5;241;43m.\u001b[39;49m\u001b[43mport\u001b[49m\u001b[43m)\u001b[49m\u001b[43m,\u001b[49m\u001b[43m \u001b[49m\u001b[38;5;28;43mself\u001b[39;49m\u001b[38;5;241;43m.\u001b[39;49m\u001b[43mtimeout\u001b[49m\u001b[43m,\u001b[49m\u001b[43m \u001b[49m\u001b[38;5;28;43mself\u001b[39;49m\u001b[38;5;241;43m.\u001b[39;49m\u001b[43msource_address\u001b[49m\u001b[43m)\u001b[49m\n\u001b[1;32m    993\u001b[0m \u001b[38;5;66;03m# Might fail in OSs that don't implement TCP_NODELAY\u001b[39;00m\n",
            "File \u001b[0;32m/lib/python312.zip/socket.py:852\u001b[0m, in \u001b[0;36mcreate_connection\u001b[0;34m(address, timeout, source_address, all_errors)\u001b[0m\n\u001b[1;32m    851\u001b[0m \u001b[38;5;28;01mif\u001b[39;00m \u001b[38;5;129;01mnot\u001b[39;00m all_errors:\n\u001b[0;32m--> 852\u001b[0m     \u001b[38;5;28;01mraise\u001b[39;00m exceptions[\u001b[38;5;241m0\u001b[39m]\n\u001b[1;32m    853\u001b[0m \u001b[38;5;28;01mraise\u001b[39;00m ExceptionGroup(\u001b[38;5;124m\"\u001b[39m\u001b[38;5;124mcreate_connection failed\u001b[39m\u001b[38;5;124m\"\u001b[39m, exceptions)\n",
            "File \u001b[0;32m/lib/python312.zip/socket.py:837\u001b[0m, in \u001b[0;36mcreate_connection\u001b[0;34m(address, timeout, source_address, all_errors)\u001b[0m\n\u001b[1;32m    836\u001b[0m     sock\u001b[38;5;241m.\u001b[39mbind(source_address)\n\u001b[0;32m--> 837\u001b[0m \u001b[43msock\u001b[49m\u001b[38;5;241;43m.\u001b[39;49m\u001b[43mconnect\u001b[49m\u001b[43m(\u001b[49m\u001b[43msa\u001b[49m\u001b[43m)\u001b[49m\n\u001b[1;32m    838\u001b[0m \u001b[38;5;66;03m# Break explicitly a reference cycle\u001b[39;00m\n",
            "\u001b[0;31mOSError\u001b[0m: [Errno 23] Host is unreachable",
            "\nDuring handling of the above exception, another exception occurred:\n",
            "\u001b[0;31mURLError\u001b[0m                                  Traceback (most recent call last)",
            "Cell \u001b[0;32mIn[2], line 1\u001b[0m\n\u001b[0;32m----> 1\u001b[0m headers \u001b[38;5;241m=\u001b[39m \u001b[43mpd\u001b[49m\u001b[38;5;241;43m.\u001b[39;49m\u001b[43mread_csv\u001b[49m\u001b[43m(\u001b[49m\u001b[38;5;124;43m'\u001b[39;49m\u001b[38;5;124;43mhttps://www.fec.gov/files/bulk-downloads/data_dictionaries/indiv_header_file.csv\u001b[39;49m\u001b[38;5;124;43m'\u001b[39;49m\u001b[43m)\u001b[49m\n\u001b[1;32m      2\u001b[0m headers\n",
            "File \u001b[0;32m/lib/python3.12/site-packages/pandas/io/parsers/readers.py:1024\u001b[0m, in \u001b[0;36mread_csv\u001b[0;34m(filepath_or_buffer, sep, delimiter, header, names, index_col, usecols, dtype, engine, converters, true_values, false_values, skipinitialspace, skiprows, skipfooter, nrows, na_values, keep_default_na, na_filter, verbose, skip_blank_lines, parse_dates, infer_datetime_format, keep_date_col, date_parser, date_format, dayfirst, cache_dates, iterator, chunksize, compression, thousands, decimal, lineterminator, quotechar, quoting, doublequote, escapechar, comment, encoding, encoding_errors, dialect, on_bad_lines, delim_whitespace, low_memory, memory_map, float_precision, storage_options, dtype_backend)\u001b[0m\n\u001b[1;32m   1011\u001b[0m kwds_defaults \u001b[38;5;241m=\u001b[39m _refine_defaults_read(\n\u001b[1;32m   1012\u001b[0m     dialect,\n\u001b[1;32m   1013\u001b[0m     delimiter,\n\u001b[0;32m   (...)\u001b[0m\n\u001b[1;32m   1020\u001b[0m     dtype_backend\u001b[38;5;241m=\u001b[39mdtype_backend,\n\u001b[1;32m   1021\u001b[0m )\n\u001b[1;32m   1022\u001b[0m kwds\u001b[38;5;241m.\u001b[39mupdate(kwds_defaults)\n\u001b[0;32m-> 1024\u001b[0m \u001b[38;5;28;01mreturn\u001b[39;00m \u001b[43m_read\u001b[49m\u001b[43m(\u001b[49m\u001b[43mfilepath_or_buffer\u001b[49m\u001b[43m,\u001b[49m\u001b[43m \u001b[49m\u001b[43mkwds\u001b[49m\u001b[43m)\u001b[49m\n",
            "File \u001b[0;32m/lib/python3.12/site-packages/pandas/io/parsers/readers.py:618\u001b[0m, in \u001b[0;36m_read\u001b[0;34m(filepath_or_buffer, kwds)\u001b[0m\n\u001b[1;32m    615\u001b[0m _validate_names(kwds\u001b[38;5;241m.\u001b[39mget(\u001b[38;5;124m\"\u001b[39m\u001b[38;5;124mnames\u001b[39m\u001b[38;5;124m\"\u001b[39m, \u001b[38;5;28;01mNone\u001b[39;00m))\n\u001b[1;32m    617\u001b[0m \u001b[38;5;66;03m# Create the parser.\u001b[39;00m\n\u001b[0;32m--> 618\u001b[0m parser \u001b[38;5;241m=\u001b[39m \u001b[43mTextFileReader\u001b[49m\u001b[43m(\u001b[49m\u001b[43mfilepath_or_buffer\u001b[49m\u001b[43m,\u001b[49m\u001b[43m \u001b[49m\u001b[38;5;241;43m*\u001b[39;49m\u001b[38;5;241;43m*\u001b[39;49m\u001b[43mkwds\u001b[49m\u001b[43m)\u001b[49m\n\u001b[1;32m    620\u001b[0m \u001b[38;5;28;01mif\u001b[39;00m chunksize \u001b[38;5;129;01mor\u001b[39;00m iterator:\n\u001b[1;32m    621\u001b[0m     \u001b[38;5;28;01mreturn\u001b[39;00m parser\n",
            "File \u001b[0;32m/lib/python3.12/site-packages/pandas/io/parsers/readers.py:1618\u001b[0m, in \u001b[0;36mTextFileReader.__init__\u001b[0;34m(self, f, engine, **kwds)\u001b[0m\n\u001b[1;32m   1615\u001b[0m     \u001b[38;5;28mself\u001b[39m\u001b[38;5;241m.\u001b[39moptions[\u001b[38;5;124m\"\u001b[39m\u001b[38;5;124mhas_index_names\u001b[39m\u001b[38;5;124m\"\u001b[39m] \u001b[38;5;241m=\u001b[39m kwds[\u001b[38;5;124m\"\u001b[39m\u001b[38;5;124mhas_index_names\u001b[39m\u001b[38;5;124m\"\u001b[39m]\n\u001b[1;32m   1617\u001b[0m \u001b[38;5;28mself\u001b[39m\u001b[38;5;241m.\u001b[39mhandles: IOHandles \u001b[38;5;241m|\u001b[39m \u001b[38;5;28;01mNone\u001b[39;00m \u001b[38;5;241m=\u001b[39m \u001b[38;5;28;01mNone\u001b[39;00m\n\u001b[0;32m-> 1618\u001b[0m \u001b[38;5;28mself\u001b[39m\u001b[38;5;241m.\u001b[39m_engine \u001b[38;5;241m=\u001b[39m \u001b[38;5;28;43mself\u001b[39;49m\u001b[38;5;241;43m.\u001b[39;49m\u001b[43m_make_engine\u001b[49m\u001b[43m(\u001b[49m\u001b[43mf\u001b[49m\u001b[43m,\u001b[49m\u001b[43m \u001b[49m\u001b[38;5;28;43mself\u001b[39;49m\u001b[38;5;241;43m.\u001b[39;49m\u001b[43mengine\u001b[49m\u001b[43m)\u001b[49m\n",
            "File \u001b[0;32m/lib/python3.12/site-packages/pandas/io/parsers/readers.py:1878\u001b[0m, in \u001b[0;36mTextFileReader._make_engine\u001b[0;34m(self, f, engine)\u001b[0m\n\u001b[1;32m   1876\u001b[0m     \u001b[38;5;28;01mif\u001b[39;00m \u001b[38;5;124m\"\u001b[39m\u001b[38;5;124mb\u001b[39m\u001b[38;5;124m\"\u001b[39m \u001b[38;5;129;01mnot\u001b[39;00m \u001b[38;5;129;01min\u001b[39;00m mode:\n\u001b[1;32m   1877\u001b[0m         mode \u001b[38;5;241m+\u001b[39m\u001b[38;5;241m=\u001b[39m \u001b[38;5;124m\"\u001b[39m\u001b[38;5;124mb\u001b[39m\u001b[38;5;124m\"\u001b[39m\n\u001b[0;32m-> 1878\u001b[0m \u001b[38;5;28mself\u001b[39m\u001b[38;5;241m.\u001b[39mhandles \u001b[38;5;241m=\u001b[39m \u001b[43mget_handle\u001b[49m\u001b[43m(\u001b[49m\n\u001b[1;32m   1879\u001b[0m \u001b[43m    \u001b[49m\u001b[43mf\u001b[49m\u001b[43m,\u001b[49m\n\u001b[1;32m   1880\u001b[0m \u001b[43m    \u001b[49m\u001b[43mmode\u001b[49m\u001b[43m,\u001b[49m\n\u001b[1;32m   1881\u001b[0m \u001b[43m    \u001b[49m\u001b[43mencoding\u001b[49m\u001b[38;5;241;43m=\u001b[39;49m\u001b[38;5;28;43mself\u001b[39;49m\u001b[38;5;241;43m.\u001b[39;49m\u001b[43moptions\u001b[49m\u001b[38;5;241;43m.\u001b[39;49m\u001b[43mget\u001b[49m\u001b[43m(\u001b[49m\u001b[38;5;124;43m\"\u001b[39;49m\u001b[38;5;124;43mencoding\u001b[39;49m\u001b[38;5;124;43m\"\u001b[39;49m\u001b[43m,\u001b[49m\u001b[43m \u001b[49m\u001b[38;5;28;43;01mNone\u001b[39;49;00m\u001b[43m)\u001b[49m\u001b[43m,\u001b[49m\n\u001b[1;32m   1882\u001b[0m \u001b[43m    \u001b[49m\u001b[43mcompression\u001b[49m\u001b[38;5;241;43m=\u001b[39;49m\u001b[38;5;28;43mself\u001b[39;49m\u001b[38;5;241;43m.\u001b[39;49m\u001b[43moptions\u001b[49m\u001b[38;5;241;43m.\u001b[39;49m\u001b[43mget\u001b[49m\u001b[43m(\u001b[49m\u001b[38;5;124;43m\"\u001b[39;49m\u001b[38;5;124;43mcompression\u001b[39;49m\u001b[38;5;124;43m\"\u001b[39;49m\u001b[43m,\u001b[49m\u001b[43m \u001b[49m\u001b[38;5;28;43;01mNone\u001b[39;49;00m\u001b[43m)\u001b[49m\u001b[43m,\u001b[49m\n\u001b[1;32m   1883\u001b[0m \u001b[43m    \u001b[49m\u001b[43mmemory_map\u001b[49m\u001b[38;5;241;43m=\u001b[39;49m\u001b[38;5;28;43mself\u001b[39;49m\u001b[38;5;241;43m.\u001b[39;49m\u001b[43moptions\u001b[49m\u001b[38;5;241;43m.\u001b[39;49m\u001b[43mget\u001b[49m\u001b[43m(\u001b[49m\u001b[38;5;124;43m\"\u001b[39;49m\u001b[38;5;124;43mmemory_map\u001b[39;49m\u001b[38;5;124;43m\"\u001b[39;49m\u001b[43m,\u001b[49m\u001b[43m \u001b[49m\u001b[38;5;28;43;01mFalse\u001b[39;49;00m\u001b[43m)\u001b[49m\u001b[43m,\u001b[49m\n\u001b[1;32m   1884\u001b[0m \u001b[43m    \u001b[49m\u001b[43mis_text\u001b[49m\u001b[38;5;241;43m=\u001b[39;49m\u001b[43mis_text\u001b[49m\u001b[43m,\u001b[49m\n\u001b[1;32m   1885\u001b[0m \u001b[43m    \u001b[49m\u001b[43merrors\u001b[49m\u001b[38;5;241;43m=\u001b[39;49m\u001b[38;5;28;43mself\u001b[39;49m\u001b[38;5;241;43m.\u001b[39;49m\u001b[43moptions\u001b[49m\u001b[38;5;241;43m.\u001b[39;49m\u001b[43mget\u001b[49m\u001b[43m(\u001b[49m\u001b[38;5;124;43m\"\u001b[39;49m\u001b[38;5;124;43mencoding_errors\u001b[39;49m\u001b[38;5;124;43m\"\u001b[39;49m\u001b[43m,\u001b[49m\u001b[43m \u001b[49m\u001b[38;5;124;43m\"\u001b[39;49m\u001b[38;5;124;43mstrict\u001b[39;49m\u001b[38;5;124;43m\"\u001b[39;49m\u001b[43m)\u001b[49m\u001b[43m,\u001b[49m\n\u001b[1;32m   1886\u001b[0m \u001b[43m    \u001b[49m\u001b[43mstorage_options\u001b[49m\u001b[38;5;241;43m=\u001b[39;49m\u001b[38;5;28;43mself\u001b[39;49m\u001b[38;5;241;43m.\u001b[39;49m\u001b[43moptions\u001b[49m\u001b[38;5;241;43m.\u001b[39;49m\u001b[43mget\u001b[49m\u001b[43m(\u001b[49m\u001b[38;5;124;43m\"\u001b[39;49m\u001b[38;5;124;43mstorage_options\u001b[39;49m\u001b[38;5;124;43m\"\u001b[39;49m\u001b[43m,\u001b[49m\u001b[43m \u001b[49m\u001b[38;5;28;43;01mNone\u001b[39;49;00m\u001b[43m)\u001b[49m\u001b[43m,\u001b[49m\n\u001b[1;32m   1887\u001b[0m \u001b[43m\u001b[49m\u001b[43m)\u001b[49m\n\u001b[1;32m   1888\u001b[0m \u001b[38;5;28;01massert\u001b[39;00m \u001b[38;5;28mself\u001b[39m\u001b[38;5;241m.\u001b[39mhandles \u001b[38;5;129;01mis\u001b[39;00m \u001b[38;5;129;01mnot\u001b[39;00m \u001b[38;5;28;01mNone\u001b[39;00m\n\u001b[1;32m   1889\u001b[0m f \u001b[38;5;241m=\u001b[39m \u001b[38;5;28mself\u001b[39m\u001b[38;5;241m.\u001b[39mhandles\u001b[38;5;241m.\u001b[39mhandle\n",
            "File \u001b[0;32m/lib/python3.12/site-packages/pandas/io/common.py:728\u001b[0m, in \u001b[0;36mget_handle\u001b[0;34m(path_or_buf, mode, encoding, compression, memory_map, is_text, errors, storage_options)\u001b[0m\n\u001b[1;32m    725\u001b[0m     codecs\u001b[38;5;241m.\u001b[39mlookup_error(errors)\n\u001b[1;32m    727\u001b[0m \u001b[38;5;66;03m# open URLs\u001b[39;00m\n\u001b[0;32m--> 728\u001b[0m ioargs \u001b[38;5;241m=\u001b[39m \u001b[43m_get_filepath_or_buffer\u001b[49m\u001b[43m(\u001b[49m\n\u001b[1;32m    729\u001b[0m \u001b[43m    \u001b[49m\u001b[43mpath_or_buf\u001b[49m\u001b[43m,\u001b[49m\n\u001b[1;32m    730\u001b[0m \u001b[43m    \u001b[49m\u001b[43mencoding\u001b[49m\u001b[38;5;241;43m=\u001b[39;49m\u001b[43mencoding\u001b[49m\u001b[43m,\u001b[49m\n\u001b[1;32m    731\u001b[0m \u001b[43m    \u001b[49m\u001b[43mcompression\u001b[49m\u001b[38;5;241;43m=\u001b[39;49m\u001b[43mcompression\u001b[49m\u001b[43m,\u001b[49m\n\u001b[1;32m    732\u001b[0m \u001b[43m    \u001b[49m\u001b[43mmode\u001b[49m\u001b[38;5;241;43m=\u001b[39;49m\u001b[43mmode\u001b[49m\u001b[43m,\u001b[49m\n\u001b[1;32m    733\u001b[0m \u001b[43m    \u001b[49m\u001b[43mstorage_options\u001b[49m\u001b[38;5;241;43m=\u001b[39;49m\u001b[43mstorage_options\u001b[49m\u001b[43m,\u001b[49m\n\u001b[1;32m    734\u001b[0m \u001b[43m\u001b[49m\u001b[43m)\u001b[49m\n\u001b[1;32m    736\u001b[0m handle \u001b[38;5;241m=\u001b[39m ioargs\u001b[38;5;241m.\u001b[39mfilepath_or_buffer\n\u001b[1;32m    737\u001b[0m handles: \u001b[38;5;28mlist\u001b[39m[BaseBuffer]\n",
            "File \u001b[0;32m/lib/python3.12/site-packages/pandas/io/common.py:384\u001b[0m, in \u001b[0;36m_get_filepath_or_buffer\u001b[0;34m(filepath_or_buffer, encoding, compression, mode, storage_options)\u001b[0m\n\u001b[1;32m    382\u001b[0m \u001b[38;5;66;03m# assuming storage_options is to be interpreted as headers\u001b[39;00m\n\u001b[1;32m    383\u001b[0m req_info \u001b[38;5;241m=\u001b[39m urllib\u001b[38;5;241m.\u001b[39mrequest\u001b[38;5;241m.\u001b[39mRequest(filepath_or_buffer, headers\u001b[38;5;241m=\u001b[39mstorage_options)\n\u001b[0;32m--> 384\u001b[0m \u001b[38;5;28;01mwith\u001b[39;00m \u001b[43murlopen\u001b[49m\u001b[43m(\u001b[49m\u001b[43mreq_info\u001b[49m\u001b[43m)\u001b[49m \u001b[38;5;28;01mas\u001b[39;00m req:\n\u001b[1;32m    385\u001b[0m     content_encoding \u001b[38;5;241m=\u001b[39m req\u001b[38;5;241m.\u001b[39mheaders\u001b[38;5;241m.\u001b[39mget(\u001b[38;5;124m\"\u001b[39m\u001b[38;5;124mContent-Encoding\u001b[39m\u001b[38;5;124m\"\u001b[39m, \u001b[38;5;28;01mNone\u001b[39;00m)\n\u001b[1;32m    386\u001b[0m     \u001b[38;5;28;01mif\u001b[39;00m content_encoding \u001b[38;5;241m==\u001b[39m \u001b[38;5;124m\"\u001b[39m\u001b[38;5;124mgzip\u001b[39m\u001b[38;5;124m\"\u001b[39m:\n\u001b[1;32m    387\u001b[0m         \u001b[38;5;66;03m# Override compression based on Content-Encoding header\u001b[39;00m\n",
            "File \u001b[0;32m/lib/python3.12/site-packages/pandas/io/common.py:289\u001b[0m, in \u001b[0;36murlopen\u001b[0;34m(*args, **kwargs)\u001b[0m\n\u001b[1;32m    283\u001b[0m \u001b[38;5;250m\u001b[39m\u001b[38;5;124;03m\"\"\"\u001b[39;00m\n\u001b[1;32m    284\u001b[0m \u001b[38;5;124;03mLazy-import wrapper for stdlib urlopen, as that imports a big chunk of\u001b[39;00m\n\u001b[1;32m    285\u001b[0m \u001b[38;5;124;03mthe stdlib.\u001b[39;00m\n\u001b[1;32m    286\u001b[0m \u001b[38;5;124;03m\"\"\"\u001b[39;00m\n\u001b[1;32m    287\u001b[0m \u001b[38;5;28;01mimport\u001b[39;00m \u001b[38;5;21;01murllib\u001b[39;00m\u001b[38;5;21;01m.\u001b[39;00m\u001b[38;5;21;01mrequest\u001b[39;00m\n\u001b[0;32m--> 289\u001b[0m \u001b[38;5;28;01mreturn\u001b[39;00m \u001b[43murllib\u001b[49m\u001b[38;5;241;43m.\u001b[39;49m\u001b[43mrequest\u001b[49m\u001b[38;5;241;43m.\u001b[39;49m\u001b[43murlopen\u001b[49m\u001b[43m(\u001b[49m\u001b[38;5;241;43m*\u001b[39;49m\u001b[43margs\u001b[49m\u001b[43m,\u001b[49m\u001b[43m \u001b[49m\u001b[38;5;241;43m*\u001b[39;49m\u001b[38;5;241;43m*\u001b[39;49m\u001b[43mkwargs\u001b[49m\u001b[43m)\u001b[49m\n",
            "File \u001b[0;32m/lib/python312.zip/urllib/request.py:215\u001b[0m, in \u001b[0;36murlopen\u001b[0;34m(url, data, timeout, cafile, capath, cadefault, context)\u001b[0m\n\u001b[1;32m    213\u001b[0m \u001b[38;5;28;01melse\u001b[39;00m:\n\u001b[1;32m    214\u001b[0m     opener \u001b[38;5;241m=\u001b[39m _opener\n\u001b[0;32m--> 215\u001b[0m \u001b[38;5;28;01mreturn\u001b[39;00m \u001b[43mopener\u001b[49m\u001b[38;5;241;43m.\u001b[39;49m\u001b[43mopen\u001b[49m\u001b[43m(\u001b[49m\u001b[43murl\u001b[49m\u001b[43m,\u001b[49m\u001b[43m \u001b[49m\u001b[43mdata\u001b[49m\u001b[43m,\u001b[49m\u001b[43m \u001b[49m\u001b[43mtimeout\u001b[49m\u001b[43m)\u001b[49m\n",
            "File \u001b[0;32m/lib/python312.zip/urllib/request.py:515\u001b[0m, in \u001b[0;36mOpenerDirector.open\u001b[0;34m(self, fullurl, data, timeout)\u001b[0m\n\u001b[1;32m    512\u001b[0m     req \u001b[38;5;241m=\u001b[39m meth(req)\n\u001b[1;32m    514\u001b[0m sys\u001b[38;5;241m.\u001b[39maudit(\u001b[38;5;124m'\u001b[39m\u001b[38;5;124murllib.Request\u001b[39m\u001b[38;5;124m'\u001b[39m, req\u001b[38;5;241m.\u001b[39mfull_url, req\u001b[38;5;241m.\u001b[39mdata, req\u001b[38;5;241m.\u001b[39mheaders, req\u001b[38;5;241m.\u001b[39mget_method())\n\u001b[0;32m--> 515\u001b[0m response \u001b[38;5;241m=\u001b[39m \u001b[38;5;28;43mself\u001b[39;49m\u001b[38;5;241;43m.\u001b[39;49m\u001b[43m_open\u001b[49m\u001b[43m(\u001b[49m\u001b[43mreq\u001b[49m\u001b[43m,\u001b[49m\u001b[43m \u001b[49m\u001b[43mdata\u001b[49m\u001b[43m)\u001b[49m\n\u001b[1;32m    517\u001b[0m \u001b[38;5;66;03m# post-process response\u001b[39;00m\n\u001b[1;32m    518\u001b[0m meth_name \u001b[38;5;241m=\u001b[39m protocol\u001b[38;5;241m+\u001b[39m\u001b[38;5;124m\"\u001b[39m\u001b[38;5;124m_response\u001b[39m\u001b[38;5;124m\"\u001b[39m\n",
            "File \u001b[0;32m/lib/python312.zip/urllib/request.py:532\u001b[0m, in \u001b[0;36mOpenerDirector._open\u001b[0;34m(self, req, data)\u001b[0m\n\u001b[1;32m    529\u001b[0m     \u001b[38;5;28;01mreturn\u001b[39;00m result\n\u001b[1;32m    531\u001b[0m protocol \u001b[38;5;241m=\u001b[39m req\u001b[38;5;241m.\u001b[39mtype\n\u001b[0;32m--> 532\u001b[0m result \u001b[38;5;241m=\u001b[39m \u001b[38;5;28;43mself\u001b[39;49m\u001b[38;5;241;43m.\u001b[39;49m\u001b[43m_call_chain\u001b[49m\u001b[43m(\u001b[49m\u001b[38;5;28;43mself\u001b[39;49m\u001b[38;5;241;43m.\u001b[39;49m\u001b[43mhandle_open\u001b[49m\u001b[43m,\u001b[49m\u001b[43m \u001b[49m\u001b[43mprotocol\u001b[49m\u001b[43m,\u001b[49m\u001b[43m \u001b[49m\u001b[43mprotocol\u001b[49m\u001b[43m \u001b[49m\u001b[38;5;241;43m+\u001b[39;49m\n\u001b[1;32m    533\u001b[0m \u001b[43m                          \u001b[49m\u001b[38;5;124;43m'\u001b[39;49m\u001b[38;5;124;43m_open\u001b[39;49m\u001b[38;5;124;43m'\u001b[39;49m\u001b[43m,\u001b[49m\u001b[43m \u001b[49m\u001b[43mreq\u001b[49m\u001b[43m)\u001b[49m\n\u001b[1;32m    534\u001b[0m \u001b[38;5;28;01mif\u001b[39;00m result:\n\u001b[1;32m    535\u001b[0m     \u001b[38;5;28;01mreturn\u001b[39;00m result\n",
            "File \u001b[0;32m/lib/python312.zip/urllib/request.py:492\u001b[0m, in \u001b[0;36mOpenerDirector._call_chain\u001b[0;34m(self, chain, kind, meth_name, *args)\u001b[0m\n\u001b[1;32m    490\u001b[0m \u001b[38;5;28;01mfor\u001b[39;00m handler \u001b[38;5;129;01min\u001b[39;00m handlers:\n\u001b[1;32m    491\u001b[0m     func \u001b[38;5;241m=\u001b[39m \u001b[38;5;28mgetattr\u001b[39m(handler, meth_name)\n\u001b[0;32m--> 492\u001b[0m     result \u001b[38;5;241m=\u001b[39m \u001b[43mfunc\u001b[49m\u001b[43m(\u001b[49m\u001b[38;5;241;43m*\u001b[39;49m\u001b[43margs\u001b[49m\u001b[43m)\u001b[49m\n\u001b[1;32m    493\u001b[0m     \u001b[38;5;28;01mif\u001b[39;00m result \u001b[38;5;129;01mis\u001b[39;00m \u001b[38;5;129;01mnot\u001b[39;00m \u001b[38;5;28;01mNone\u001b[39;00m:\n\u001b[1;32m    494\u001b[0m         \u001b[38;5;28;01mreturn\u001b[39;00m result\n",
            "File \u001b[0;32m/lib/python312.zip/urllib/request.py:1392\u001b[0m, in \u001b[0;36mHTTPSHandler.https_open\u001b[0;34m(self, req)\u001b[0m\n\u001b[1;32m   1391\u001b[0m \u001b[38;5;28;01mdef\u001b[39;00m \u001b[38;5;21mhttps_open\u001b[39m(\u001b[38;5;28mself\u001b[39m, req):\n\u001b[0;32m-> 1392\u001b[0m     \u001b[38;5;28;01mreturn\u001b[39;00m \u001b[38;5;28;43mself\u001b[39;49m\u001b[38;5;241;43m.\u001b[39;49m\u001b[43mdo_open\u001b[49m\u001b[43m(\u001b[49m\u001b[43mhttp\u001b[49m\u001b[38;5;241;43m.\u001b[39;49m\u001b[43mclient\u001b[49m\u001b[38;5;241;43m.\u001b[39;49m\u001b[43mHTTPSConnection\u001b[49m\u001b[43m,\u001b[49m\u001b[43m \u001b[49m\u001b[43mreq\u001b[49m\u001b[43m,\u001b[49m\n\u001b[1;32m   1393\u001b[0m \u001b[43m                        \u001b[49m\u001b[43mcontext\u001b[49m\u001b[38;5;241;43m=\u001b[39;49m\u001b[38;5;28;43mself\u001b[39;49m\u001b[38;5;241;43m.\u001b[39;49m\u001b[43m_context\u001b[49m\u001b[43m)\u001b[49m\n",
            "File \u001b[0;32m/lib/python312.zip/urllib/request.py:1347\u001b[0m, in \u001b[0;36mAbstractHTTPHandler.do_open\u001b[0;34m(self, http_class, req, **http_conn_args)\u001b[0m\n\u001b[1;32m   1344\u001b[0m         h\u001b[38;5;241m.\u001b[39mrequest(req\u001b[38;5;241m.\u001b[39mget_method(), req\u001b[38;5;241m.\u001b[39mselector, req\u001b[38;5;241m.\u001b[39mdata, headers,\n\u001b[1;32m   1345\u001b[0m                   encode_chunked\u001b[38;5;241m=\u001b[39mreq\u001b[38;5;241m.\u001b[39mhas_header(\u001b[38;5;124m'\u001b[39m\u001b[38;5;124mTransfer-encoding\u001b[39m\u001b[38;5;124m'\u001b[39m))\n\u001b[1;32m   1346\u001b[0m     \u001b[38;5;28;01mexcept\u001b[39;00m \u001b[38;5;167;01mOSError\u001b[39;00m \u001b[38;5;28;01mas\u001b[39;00m err: \u001b[38;5;66;03m# timeout error\u001b[39;00m\n\u001b[0;32m-> 1347\u001b[0m         \u001b[38;5;28;01mraise\u001b[39;00m URLError(err)\n\u001b[1;32m   1348\u001b[0m     r \u001b[38;5;241m=\u001b[39m h\u001b[38;5;241m.\u001b[39mgetresponse()\n\u001b[1;32m   1349\u001b[0m \u001b[38;5;28;01mexcept\u001b[39;00m:\n",
            "\u001b[0;31mURLError\u001b[0m: <urlopen error [Errno 23] Host is unreachable>"
          ],
          "output_type": "error"
        }
      ],
      "execution_count": 2
    },
    {
      "cell_type": "markdown",
      "source": "* Now we can read the data itself.",
      "metadata": {
        "slideshow": {
          "slide_type": "slide"
        }
      }
    },
    {
      "cell_type": "code",
      "source": "fec = pd.read_csv('itcont.txt', sep=\"|\", nrows=10, names=headers.columns)\nfec.head(5)",
      "metadata": {
        "slideshow": {
          "slide_type": "fragment"
        },
        "trusted": true
      },
      "outputs": [
        {
          "ename": "<class 'NameError'>",
          "evalue": "name 'headers' is not defined",
          "traceback": [
            "\u001b[0;31m---------------------------------------------------------------------------\u001b[0m",
            "\u001b[0;31mNameError\u001b[0m                                 Traceback (most recent call last)",
            "Cell \u001b[0;32mIn[3], line 1\u001b[0m\n\u001b[0;32m----> 1\u001b[0m fec \u001b[38;5;241m=\u001b[39m pd\u001b[38;5;241m.\u001b[39mread_csv(\u001b[38;5;124m'\u001b[39m\u001b[38;5;124mitcont.txt\u001b[39m\u001b[38;5;124m'\u001b[39m, sep\u001b[38;5;241m=\u001b[39m\u001b[38;5;124m\"\u001b[39m\u001b[38;5;124m|\u001b[39m\u001b[38;5;124m\"\u001b[39m, nrows\u001b[38;5;241m=\u001b[39m\u001b[38;5;241m10\u001b[39m, names\u001b[38;5;241m=\u001b[39m\u001b[43mheaders\u001b[49m\u001b[38;5;241m.\u001b[39mcolumns)\n\u001b[1;32m      2\u001b[0m fec\u001b[38;5;241m.\u001b[39mhead(\u001b[38;5;241m5\u001b[39m)\n",
            "\u001b[0;31mNameError\u001b[0m: name 'headers' is not defined"
          ],
          "output_type": "error"
        }
      ],
      "execution_count": 3
    },
    {
      "cell_type": "markdown",
      "source": "* The file we will read is large.\n\n* When reading a file, we make pandas easier by giving it the data types of the columns.\n\n* We give their data types with a dictionary. Here we are interested in the amount of the donation, which we will declare to be a number, while for all the rest we will handle them as strings.",
      "metadata": {
        "slideshow": {
          "slide_type": "slide"
        }
      }
    },
    {
      "cell_type": "code",
      "source": "data_types = { header: str for header in headers }\ndata_types['TRANSACTION_AMT'] = float\ndata_types",
      "metadata": {
        "slideshow": {
          "slide_type": "slide"
        }
      },
      "outputs": [
        {
          "data": {
            "text/plain": [
              "{'CMTE_ID': str,\n",
              " 'AMNDT_IND': str,\n",
              " 'RPT_TP': str,\n",
              " 'TRANSACTION_PGI': str,\n",
              " 'IMAGE_NUM': str,\n",
              " 'TRANSACTION_TP': str,\n",
              " 'ENTITY_TP': str,\n",
              " 'NAME': str,\n",
              " 'CITY': str,\n",
              " 'STATE': str,\n",
              " 'ZIP_CODE': str,\n",
              " 'EMPLOYER': str,\n",
              " 'OCCUPATION': str,\n",
              " 'TRANSACTION_DT': str,\n",
              " 'TRANSACTION_AMT': float,\n",
              " 'OTHER_ID': str,\n",
              " 'TRAN_ID': str,\n",
              " 'FILE_NUM': str,\n",
              " 'MEMO_CD': str,\n",
              " 'MEMO_TEXT': str,\n",
              " 'SUB_ID': str}"
            ]
          },
          "execution_count": 4,
          "metadata": {},
          "output_type": "execute_result"
        }
      ],
      "execution_count": 4
    },
    {
      "cell_type": "markdown",
      "source": "* So now let's read all the data.",
      "metadata": {
        "slideshow": {
          "slide_type": "slide"
        }
      }
    },
    {
      "cell_type": "code",
      "source": "fec = pd.read_csv('itcont.txt', \n                  sep=\"|\", \n                  names=headers.columns,\n                  dtype=data_types)\n\nfec.shape",
      "metadata": {
        "slideshow": {
          "slide_type": "fragment"
        }
      },
      "outputs": [
        {
          "data": {
            "text/plain": [
              "(3372139, 21)"
            ]
          },
          "execution_count": 5,
          "metadata": {},
          "output_type": "execute_result"
        }
      ],
      "execution_count": 5
    },
    {
      "cell_type": "code",
      "source": "fec.sample(10)",
      "metadata": {
        "slideshow": {
          "slide_type": "slide"
        }
      },
      "outputs": [
        {
          "data": {
            "text/html": [
              "<div>\n",
              "<style scoped>\n",
              "    .dataframe tbody tr th:only-of-type {\n",
              "        vertical-align: middle;\n",
              "    }\n",
              "\n",
              "    .dataframe tbody tr th {\n",
              "        vertical-align: top;\n",
              "    }\n",
              "\n",
              "    .dataframe thead th {\n",
              "        text-align: right;\n",
              "    }\n",
              "</style>\n",
              "<table border=\"1\" class=\"dataframe\">\n",
              "  <thead>\n",
              "    <tr style=\"text-align: right;\">\n",
              "      <th></th>\n",
              "      <th>CMTE_ID</th>\n",
              "      <th>AMNDT_IND</th>\n",
              "      <th>RPT_TP</th>\n",
              "      <th>TRANSACTION_PGI</th>\n",
              "      <th>IMAGE_NUM</th>\n",
              "      <th>TRANSACTION_TP</th>\n",
              "      <th>ENTITY_TP</th>\n",
              "      <th>NAME</th>\n",
              "      <th>CITY</th>\n",
              "      <th>STATE</th>\n",
              "      <th>ZIP_CODE</th>\n",
              "      <th>EMPLOYER</th>\n",
              "      <th>OCCUPATION</th>\n",
              "      <th>TRANSACTION_DT</th>\n",
              "      <th>TRANSACTION_AMT</th>\n",
              "      <th>OTHER_ID</th>\n",
              "      <th>TRAN_ID</th>\n",
              "      <th>FILE_NUM</th>\n",
              "      <th>MEMO_CD</th>\n",
              "      <th>MEMO_TEXT</th>\n",
              "      <th>SUB_ID</th>\n",
              "    </tr>\n",
              "  </thead>\n",
              "  <tbody>\n",
              "    <tr>\n",
              "      <th>2594491</th>\n",
              "      <td>C00431445</td>\n",
              "      <td>A</td>\n",
              "      <td>30G</td>\n",
              "      <td>G2012</td>\n",
              "      <td>13963997537</td>\n",
              "      <td>22Y</td>\n",
              "      <td>IND</td>\n",
              "      <td>LYNCH, JOAN</td>\n",
              "      <td>BOULDER</td>\n",
              "      <td>CO</td>\n",
              "      <td>80304</td>\n",
              "      <td>NaN</td>\n",
              "      <td>NaN</td>\n",
              "      <td>11192012</td>\n",
              "      <td>25.0</td>\n",
              "      <td>NaN</td>\n",
              "      <td>D93706</td>\n",
              "      <td>876050</td>\n",
              "      <td>NaN</td>\n",
              "      <td>NaN</td>\n",
              "      <td>4091520131197046207</td>\n",
              "    </tr>\n",
              "    <tr>\n",
              "      <th>2851304</th>\n",
              "      <td>C00431445</td>\n",
              "      <td>A</td>\n",
              "      <td>M9</td>\n",
              "      <td>P2012</td>\n",
              "      <td>13943439289</td>\n",
              "      <td>15</td>\n",
              "      <td>IND</td>\n",
              "      <td>ROSSITER, KARLY</td>\n",
              "      <td>PHOENIX</td>\n",
              "      <td>AZ</td>\n",
              "      <td>85041</td>\n",
              "      <td>STATE OF ARIZONA</td>\n",
              "      <td>ATTORNEY</td>\n",
              "      <td>08202012</td>\n",
              "      <td>500.0</td>\n",
              "      <td>NaN</td>\n",
              "      <td>C19584485</td>\n",
              "      <td>897073</td>\n",
              "      <td>NaN</td>\n",
              "      <td>NaN</td>\n",
              "      <td>4121620131202217676</td>\n",
              "    </tr>\n",
              "    <tr>\n",
              "      <th>3177886</th>\n",
              "      <td>C00431171</td>\n",
              "      <td>A</td>\n",
              "      <td>12G</td>\n",
              "      <td>G2012</td>\n",
              "      <td>14941667506</td>\n",
              "      <td>15</td>\n",
              "      <td>IND</td>\n",
              "      <td>PRICE, BRENT MR.</td>\n",
              "      <td>LONGVIEW</td>\n",
              "      <td>TX</td>\n",
              "      <td>75606</td>\n",
              "      <td>SELF-EMPLOYED</td>\n",
              "      <td>SERVICE MACHINE</td>\n",
              "      <td>10162012</td>\n",
              "      <td>250.0</td>\n",
              "      <td>NaN</td>\n",
              "      <td>SA17.3738738</td>\n",
              "      <td>933475</td>\n",
              "      <td>NaN</td>\n",
              "      <td>NaN</td>\n",
              "      <td>4071120141216873288</td>\n",
              "    </tr>\n",
              "    <tr>\n",
              "      <th>3354448</th>\n",
              "      <td>C00496497</td>\n",
              "      <td>N</td>\n",
              "      <td>M2</td>\n",
              "      <td>P2012</td>\n",
              "      <td>12950554286</td>\n",
              "      <td>15</td>\n",
              "      <td>IND</td>\n",
              "      <td>BROUSSARD, LAWLESS MR. JR.</td>\n",
              "      <td>JOELTON</td>\n",
              "      <td>TN</td>\n",
              "      <td>37080</td>\n",
              "      <td>TRADES UNLIMTED</td>\n",
              "      <td>IND ELECT</td>\n",
              "      <td>01212012</td>\n",
              "      <td>200.0</td>\n",
              "      <td>NaN</td>\n",
              "      <td>SA17.186560</td>\n",
              "      <td>767151</td>\n",
              "      <td>NaN</td>\n",
              "      <td>NaN</td>\n",
              "      <td>4022220121151706273</td>\n",
              "    </tr>\n",
              "    <tr>\n",
              "      <th>239278</th>\n",
              "      <td>C00031054</td>\n",
              "      <td>A</td>\n",
              "      <td>M6</td>\n",
              "      <td>NaN</td>\n",
              "      <td>11932495946</td>\n",
              "      <td>15</td>\n",
              "      <td>IND</td>\n",
              "      <td>JOHNSON, MICHAEL</td>\n",
              "      <td>HAMTRAMCK</td>\n",
              "      <td>MI</td>\n",
              "      <td>48212</td>\n",
              "      <td>SALES</td>\n",
              "      <td>SALES</td>\n",
              "      <td>05132011</td>\n",
              "      <td>400.0</td>\n",
              "      <td>NaN</td>\n",
              "      <td>11AI-000086866</td>\n",
              "      <td>746134</td>\n",
              "      <td>NaN</td>\n",
              "      <td>NaN</td>\n",
              "      <td>4092720111143375369</td>\n",
              "    </tr>\n",
              "    <tr>\n",
              "      <th>904531</th>\n",
              "      <td>C00431171</td>\n",
              "      <td>A</td>\n",
              "      <td>YE</td>\n",
              "      <td>P2012</td>\n",
              "      <td>13942689243</td>\n",
              "      <td>15</td>\n",
              "      <td>IND</td>\n",
              "      <td>PROFETA, JOSEPH A. MR.</td>\n",
              "      <td>WARREN</td>\n",
              "      <td>NJ</td>\n",
              "      <td>07059</td>\n",
              "      <td>EMC</td>\n",
              "      <td>SALES</td>\n",
              "      <td>12132011</td>\n",
              "      <td>1500.0</td>\n",
              "      <td>NaN</td>\n",
              "      <td>SA17.595488</td>\n",
              "      <td>896726</td>\n",
              "      <td>NaN</td>\n",
              "      <td>NaN</td>\n",
              "      <td>4121120131200023910</td>\n",
              "    </tr>\n",
              "    <tr>\n",
              "      <th>213338</th>\n",
              "      <td>C00255695</td>\n",
              "      <td>N</td>\n",
              "      <td>M8</td>\n",
              "      <td>NaN</td>\n",
              "      <td>11932297497</td>\n",
              "      <td>15</td>\n",
              "      <td>IND</td>\n",
              "      <td>DODDS, JUM</td>\n",
              "      <td>VANDERBILT</td>\n",
              "      <td>MI</td>\n",
              "      <td>49795</td>\n",
              "      <td>NaN</td>\n",
              "      <td>INFORMATION REQUESTED</td>\n",
              "      <td>07312011</td>\n",
              "      <td>250.0</td>\n",
              "      <td>NaN</td>\n",
              "      <td>SA11AI.28311</td>\n",
              "      <td>742748</td>\n",
              "      <td>NaN</td>\n",
              "      <td>NaN</td>\n",
              "      <td>4082220111142355003</td>\n",
              "    </tr>\n",
              "    <tr>\n",
              "      <th>826713</th>\n",
              "      <td>C00494971</td>\n",
              "      <td>N</td>\n",
              "      <td>YE</td>\n",
              "      <td>P</td>\n",
              "      <td>12020142886</td>\n",
              "      <td>15</td>\n",
              "      <td>IND</td>\n",
              "      <td>WRIGHT, PETER W</td>\n",
              "      <td>LIGHTHOUSE POINT</td>\n",
              "      <td>FL</td>\n",
              "      <td>33064</td>\n",
              "      <td>HUDSON CAPITAL GROUP</td>\n",
              "      <td>CFO</td>\n",
              "      <td>12072011</td>\n",
              "      <td>500.0</td>\n",
              "      <td>NaN</td>\n",
              "      <td>SA0223101512194</td>\n",
              "      <td>767420</td>\n",
              "      <td>NaN</td>\n",
              "      <td>NaN</td>\n",
              "      <td>2022320121152263144</td>\n",
              "    </tr>\n",
              "    <tr>\n",
              "      <th>2356773</th>\n",
              "      <td>C00003418</td>\n",
              "      <td>A</td>\n",
              "      <td>12G</td>\n",
              "      <td>NaN</td>\n",
              "      <td>13940592707</td>\n",
              "      <td>15</td>\n",
              "      <td>IND</td>\n",
              "      <td>NEISWONGER, RICHARD A. MR.</td>\n",
              "      <td>BUENA PARK</td>\n",
              "      <td>CA</td>\n",
              "      <td>90621</td>\n",
              "      <td>RETIRED</td>\n",
              "      <td>RETIRED</td>\n",
              "      <td>10122012</td>\n",
              "      <td>200.0</td>\n",
              "      <td>NaN</td>\n",
              "      <td>201212GL11AI23438</td>\n",
              "      <td>867755</td>\n",
              "      <td>NaN</td>\n",
              "      <td>NaN</td>\n",
              "      <td>4041920131187619506</td>\n",
              "    </tr>\n",
              "    <tr>\n",
              "      <th>1111077</th>\n",
              "      <td>C00295527</td>\n",
              "      <td>N</td>\n",
              "      <td>M4</td>\n",
              "      <td>NaN</td>\n",
              "      <td>12971140358</td>\n",
              "      <td>15</td>\n",
              "      <td>IND</td>\n",
              "      <td>LANCASTER, ALICE MRS.</td>\n",
              "      <td>LOUISVILLE</td>\n",
              "      <td>KY</td>\n",
              "      <td>40222</td>\n",
              "      <td>INFORMATION REQUESTED</td>\n",
              "      <td>INFORMATION REQUESTED</td>\n",
              "      <td>03012012</td>\n",
              "      <td>300.0</td>\n",
              "      <td>NaN</td>\n",
              "      <td>A2012-821079</td>\n",
              "      <td>780078</td>\n",
              "      <td>NaN</td>\n",
              "      <td>NaN</td>\n",
              "      <td>4052120121156115194</td>\n",
              "    </tr>\n",
              "  </tbody>\n",
              "</table>\n",
              "</div>"
            ],
            "text/plain": [
              "           CMTE_ID AMNDT_IND RPT_TP TRANSACTION_PGI    IMAGE_NUM  \\\n",
              "2594491  C00431445         A    30G           G2012  13963997537   \n",
              "2851304  C00431445         A     M9           P2012  13943439289   \n",
              "3177886  C00431171         A    12G           G2012  14941667506   \n",
              "3354448  C00496497         N     M2           P2012  12950554286   \n",
              "239278   C00031054         A     M6             NaN  11932495946   \n",
              "904531   C00431171         A     YE           P2012  13942689243   \n",
              "213338   C00255695         N     M8             NaN  11932297497   \n",
              "826713   C00494971         N     YE               P  12020142886   \n",
              "2356773  C00003418         A    12G             NaN  13940592707   \n",
              "1111077  C00295527         N     M4             NaN  12971140358   \n",
              "\n",
              "        TRANSACTION_TP ENTITY_TP                        NAME  \\\n",
              "2594491            22Y       IND                 LYNCH, JOAN   \n",
              "2851304             15       IND             ROSSITER, KARLY   \n",
              "3177886             15       IND            PRICE, BRENT MR.   \n",
              "3354448             15       IND  BROUSSARD, LAWLESS MR. JR.   \n",
              "239278              15       IND            JOHNSON, MICHAEL   \n",
              "904531              15       IND      PROFETA, JOSEPH A. MR.   \n",
              "213338              15       IND                  DODDS, JUM   \n",
              "826713              15       IND             WRIGHT, PETER W   \n",
              "2356773             15       IND  NEISWONGER, RICHARD A. MR.   \n",
              "1111077             15       IND       LANCASTER, ALICE MRS.   \n",
              "\n",
              "                     CITY STATE ZIP_CODE               EMPLOYER  \\\n",
              "2594491           BOULDER    CO    80304                    NaN   \n",
              "2851304           PHOENIX    AZ    85041       STATE OF ARIZONA   \n",
              "3177886          LONGVIEW    TX    75606          SELF-EMPLOYED   \n",
              "3354448           JOELTON    TN    37080        TRADES UNLIMTED   \n",
              "239278          HAMTRAMCK    MI    48212                  SALES   \n",
              "904531             WARREN    NJ    07059                    EMC   \n",
              "213338         VANDERBILT    MI    49795                    NaN   \n",
              "826713   LIGHTHOUSE POINT    FL    33064   HUDSON CAPITAL GROUP   \n",
              "2356773        BUENA PARK    CA    90621                RETIRED   \n",
              "1111077        LOUISVILLE    KY    40222  INFORMATION REQUESTED   \n",
              "\n",
              "                    OCCUPATION TRANSACTION_DT  TRANSACTION_AMT OTHER_ID  \\\n",
              "2594491                    NaN       11192012             25.0      NaN   \n",
              "2851304               ATTORNEY       08202012            500.0      NaN   \n",
              "3177886        SERVICE MACHINE       10162012            250.0      NaN   \n",
              "3354448              IND ELECT       01212012            200.0      NaN   \n",
              "239278                   SALES       05132011            400.0      NaN   \n",
              "904531                   SALES       12132011           1500.0      NaN   \n",
              "213338   INFORMATION REQUESTED       07312011            250.0      NaN   \n",
              "826713                     CFO       12072011            500.0      NaN   \n",
              "2356773                RETIRED       10122012            200.0      NaN   \n",
              "1111077  INFORMATION REQUESTED       03012012            300.0      NaN   \n",
              "\n",
              "                   TRAN_ID FILE_NUM MEMO_CD MEMO_TEXT               SUB_ID  \n",
              "2594491             D93706   876050     NaN       NaN  4091520131197046207  \n",
              "2851304          C19584485   897073     NaN       NaN  4121620131202217676  \n",
              "3177886       SA17.3738738   933475     NaN       NaN  4071120141216873288  \n",
              "3354448        SA17.186560   767151     NaN       NaN  4022220121151706273  \n",
              "239278      11AI-000086866   746134     NaN       NaN  4092720111143375369  \n",
              "904531         SA17.595488   896726     NaN       NaN  4121120131200023910  \n",
              "213338        SA11AI.28311   742748     NaN       NaN  4082220111142355003  \n",
              "826713     SA0223101512194   767420     NaN       NaN  2022320121152263144  \n",
              "2356773  201212GL11AI23438   867755     NaN       NaN  4041920131187619506  \n",
              "1111077       A2012-821079   780078     NaN       NaN  4052120121156115194  "
            ]
          },
          "execution_count": 6,
          "metadata": {},
          "output_type": "execute_result"
        }
      ],
      "execution_count": 6
    },
    {
      "cell_type": "markdown",
      "source": "* Unfortunately we notice that there is no information about the candidate to whom a donation is addressed.\n\n* Donations are given to committees.\n\n* The donation file indicates the committee in question with the `CMTE_ID' code.\n\n* So we should turn to them and read the [committee file](https://www.fec.gov/files/bulk-downloads/2012/cm12.zip).\n\n* As before, we should read [the header file](https://www.fec.gov/data/browse-data/files/bulk-downloads/data_dictionaries/cm_header_file.csv) separately.",
      "metadata": {
        "slideshow": {
          "slide_type": "slide"
        }
      }
    },
    {
      "cell_type": "code",
      "source": "cm_headers =  pd.read_csv('https://www.fec.gov/data/browse-data/files/bulk-downloads/data_dictionaries/cm_header_file.csv')\ncm_headers",
      "metadata": {
        "slideshow": {
          "slide_type": "fragment"
        }
      },
      "outputs": [
        {
          "data": {
            "text/html": [
              "<div>\n",
              "<style scoped>\n",
              "    .dataframe tbody tr th:only-of-type {\n",
              "        vertical-align: middle;\n",
              "    }\n",
              "\n",
              "    .dataframe tbody tr th {\n",
              "        vertical-align: top;\n",
              "    }\n",
              "\n",
              "    .dataframe thead th {\n",
              "        text-align: right;\n",
              "    }\n",
              "</style>\n",
              "<table border=\"1\" class=\"dataframe\">\n",
              "  <thead>\n",
              "    <tr style=\"text-align: right;\">\n",
              "      <th></th>\n",
              "      <th>CMTE_ID</th>\n",
              "      <th>CMTE_NM</th>\n",
              "      <th>TRES_NM</th>\n",
              "      <th>CMTE_ST1</th>\n",
              "      <th>CMTE_ST2</th>\n",
              "      <th>CMTE_CITY</th>\n",
              "      <th>CMTE_ST</th>\n",
              "      <th>CMTE_ZIP</th>\n",
              "      <th>CMTE_DSGN</th>\n",
              "      <th>CMTE_TP</th>\n",
              "      <th>CMTE_PTY_AFFILIATION</th>\n",
              "      <th>CMTE_FILING_FREQ</th>\n",
              "      <th>ORG_TP</th>\n",
              "      <th>CONNECTED_ORG_NM</th>\n",
              "      <th>CAND_ID</th>\n",
              "    </tr>\n",
              "  </thead>\n",
              "  <tbody>\n",
              "  </tbody>\n",
              "</table>\n",
              "</div>"
            ],
            "text/plain": [
              "Empty DataFrame\n",
              "Columns: [CMTE_ID, CMTE_NM, TRES_NM, CMTE_ST1, CMTE_ST2, CMTE_CITY, CMTE_ST, CMTE_ZIP, CMTE_DSGN, CMTE_TP, CMTE_PTY_AFFILIATION, CMTE_FILING_FREQ, ORG_TP, CONNECTED_ORG_NM, CAND_ID]\n",
              "Index: []"
            ]
          },
          "execution_count": 7,
          "metadata": {},
          "output_type": "execute_result"
        }
      ],
      "execution_count": 7
    },
    {
      "cell_type": "markdown",
      "source": "* Having read the headings, we can read the data of the committees themselves.",
      "metadata": {
        "slideshow": {
          "slide_type": "slide"
        }
      }
    },
    {
      "cell_type": "code",
      "source": "cm = pd.read_csv('cm.txt', \n                  sep=\"|\", \n                  names=cm_headers.columns)\nprint(cm.shape)\ncm.head(5)",
      "metadata": {
        "slideshow": {
          "slide_type": "fragment"
        }
      },
      "outputs": [
        {
          "name": "stdout",
          "output_type": "stream",
          "text": [
            "(14455, 15)\n"
          ]
        },
        {
          "data": {
            "text/html": [
              "<div>\n",
              "<style scoped>\n",
              "    .dataframe tbody tr th:only-of-type {\n",
              "        vertical-align: middle;\n",
              "    }\n",
              "\n",
              "    .dataframe tbody tr th {\n",
              "        vertical-align: top;\n",
              "    }\n",
              "\n",
              "    .dataframe thead th {\n",
              "        text-align: right;\n",
              "    }\n",
              "</style>\n",
              "<table border=\"1\" class=\"dataframe\">\n",
              "  <thead>\n",
              "    <tr style=\"text-align: right;\">\n",
              "      <th></th>\n",
              "      <th>CMTE_ID</th>\n",
              "      <th>CMTE_NM</th>\n",
              "      <th>TRES_NM</th>\n",
              "      <th>CMTE_ST1</th>\n",
              "      <th>CMTE_ST2</th>\n",
              "      <th>CMTE_CITY</th>\n",
              "      <th>CMTE_ST</th>\n",
              "      <th>CMTE_ZIP</th>\n",
              "      <th>CMTE_DSGN</th>\n",
              "      <th>CMTE_TP</th>\n",
              "      <th>CMTE_PTY_AFFILIATION</th>\n",
              "      <th>CMTE_FILING_FREQ</th>\n",
              "      <th>ORG_TP</th>\n",
              "      <th>CONNECTED_ORG_NM</th>\n",
              "      <th>CAND_ID</th>\n",
              "    </tr>\n",
              "  </thead>\n",
              "  <tbody>\n",
              "    <tr>\n",
              "      <th>0</th>\n",
              "      <td>C00000042</td>\n",
              "      <td>ILLINOIS TOOL WORKS INC. FOR BETTER GOVERNMENT...</td>\n",
              "      <td>LYNCH, MICHAEL J. MR.</td>\n",
              "      <td>3600 WEST LAKE AVENUE</td>\n",
              "      <td>NaN</td>\n",
              "      <td>GLENVIEW</td>\n",
              "      <td>IL</td>\n",
              "      <td>60026.0</td>\n",
              "      <td>B</td>\n",
              "      <td>Q</td>\n",
              "      <td>NaN</td>\n",
              "      <td>Q</td>\n",
              "      <td>C</td>\n",
              "      <td>ILLINOIS TOOL WORKS INC.</td>\n",
              "      <td>NaN</td>\n",
              "    </tr>\n",
              "    <tr>\n",
              "      <th>1</th>\n",
              "      <td>C00000059</td>\n",
              "      <td>HALLMARK CARDS PAC</td>\n",
              "      <td>GREG SWARENS</td>\n",
              "      <td>2501 MCGEE</td>\n",
              "      <td>MD#288</td>\n",
              "      <td>KANSAS CITY</td>\n",
              "      <td>MO</td>\n",
              "      <td>64108.0</td>\n",
              "      <td>U</td>\n",
              "      <td>Q</td>\n",
              "      <td>UNK</td>\n",
              "      <td>M</td>\n",
              "      <td>C</td>\n",
              "      <td>NaN</td>\n",
              "      <td>NaN</td>\n",
              "    </tr>\n",
              "    <tr>\n",
              "      <th>2</th>\n",
              "      <td>C00000422</td>\n",
              "      <td>AMERICAN MEDICAL ASSOCIATION POLITICAL ACTION ...</td>\n",
              "      <td>WALKER, KEVIN</td>\n",
              "      <td>25 MASSACHUSETTS AVE, NW</td>\n",
              "      <td>SUITE 600</td>\n",
              "      <td>WASHINGTON</td>\n",
              "      <td>DC</td>\n",
              "      <td>20001.0</td>\n",
              "      <td>B</td>\n",
              "      <td>Q</td>\n",
              "      <td>NaN</td>\n",
              "      <td>M</td>\n",
              "      <td>M</td>\n",
              "      <td>AMERICAN MEDICAL ASSOCIATION</td>\n",
              "      <td>NaN</td>\n",
              "    </tr>\n",
              "    <tr>\n",
              "      <th>3</th>\n",
              "      <td>C00000489</td>\n",
              "      <td>D R I V E POLITICAL FUND CHAPTER 886</td>\n",
              "      <td>TOM RITTER</td>\n",
              "      <td>3528 W RENO</td>\n",
              "      <td>NaN</td>\n",
              "      <td>OKLAHOMA CITY</td>\n",
              "      <td>OK</td>\n",
              "      <td>73107.0</td>\n",
              "      <td>U</td>\n",
              "      <td>N</td>\n",
              "      <td>NaN</td>\n",
              "      <td>Q</td>\n",
              "      <td>L</td>\n",
              "      <td>TEAMSTERS LOCAL UNION 886</td>\n",
              "      <td>NaN</td>\n",
              "    </tr>\n",
              "    <tr>\n",
              "      <th>4</th>\n",
              "      <td>C00000547</td>\n",
              "      <td>KANSAS MEDICAL SOCIETY POLITICAL ACTION COMMITTEE</td>\n",
              "      <td>C. RICHARD BONEBRAKE, M.D.</td>\n",
              "      <td>623 SW 10TH AVE</td>\n",
              "      <td>NaN</td>\n",
              "      <td>TOPEKA</td>\n",
              "      <td>KS</td>\n",
              "      <td>66612.0</td>\n",
              "      <td>U</td>\n",
              "      <td>Q</td>\n",
              "      <td>UNK</td>\n",
              "      <td>Q</td>\n",
              "      <td>T</td>\n",
              "      <td>MEDICAL ASS'N; KANSAS          [AMPAC]</td>\n",
              "      <td>NaN</td>\n",
              "    </tr>\n",
              "  </tbody>\n",
              "</table>\n",
              "</div>"
            ],
            "text/plain": [
              "     CMTE_ID                                            CMTE_NM  \\\n",
              "0  C00000042  ILLINOIS TOOL WORKS INC. FOR BETTER GOVERNMENT...   \n",
              "1  C00000059                                 HALLMARK CARDS PAC   \n",
              "2  C00000422  AMERICAN MEDICAL ASSOCIATION POLITICAL ACTION ...   \n",
              "3  C00000489               D R I V E POLITICAL FUND CHAPTER 886   \n",
              "4  C00000547  KANSAS MEDICAL SOCIETY POLITICAL ACTION COMMITTEE   \n",
              "\n",
              "                      TRES_NM                  CMTE_ST1   CMTE_ST2  \\\n",
              "0       LYNCH, MICHAEL J. MR.     3600 WEST LAKE AVENUE        NaN   \n",
              "1                GREG SWARENS                2501 MCGEE     MD#288   \n",
              "2               WALKER, KEVIN  25 MASSACHUSETTS AVE, NW  SUITE 600   \n",
              "3                  TOM RITTER               3528 W RENO        NaN   \n",
              "4  C. RICHARD BONEBRAKE, M.D.           623 SW 10TH AVE        NaN   \n",
              "\n",
              "       CMTE_CITY CMTE_ST  CMTE_ZIP CMTE_DSGN CMTE_TP CMTE_PTY_AFFILIATION  \\\n",
              "0       GLENVIEW      IL   60026.0         B       Q                  NaN   \n",
              "1    KANSAS CITY      MO   64108.0         U       Q                  UNK   \n",
              "2     WASHINGTON      DC   20001.0         B       Q                  NaN   \n",
              "3  OKLAHOMA CITY      OK   73107.0         U       N                  NaN   \n",
              "4         TOPEKA      KS   66612.0         U       Q                  UNK   \n",
              "\n",
              "  CMTE_FILING_FREQ ORG_TP                        CONNECTED_ORG_NM CAND_ID  \n",
              "0                Q      C                ILLINOIS TOOL WORKS INC.     NaN  \n",
              "1                M      C                                     NaN     NaN  \n",
              "2                M      M            AMERICAN MEDICAL ASSOCIATION     NaN  \n",
              "3                Q      L               TEAMSTERS LOCAL UNION 886     NaN  \n",
              "4                Q      T  MEDICAL ASS'N; KANSAS          [AMPAC]     NaN  "
            ]
          },
          "execution_count": 8,
          "metadata": {},
          "output_type": "execute_result"
        }
      ],
      "execution_count": 8
    },
    {
      "cell_type": "markdown",
      "source": "* To combine the committee data with the donation data, we should *join* them.\n\n* To merge two `DataFrame`s in pandas we use the `merge()` method.",
      "metadata": {
        "slideshow": {
          "slide_type": "slide"
        }
      }
    },
    {
      "cell_type": "code",
      "source": "fec = pd.merge(fec, \n               cm[['CMTE_ID', 'CMTE_NM', 'CAND_ID']], \n               on='CMTE_ID', \n               how='inner')\n\nprint(fec.shape)\nfec.head(5)",
      "metadata": {
        "slideshow": {
          "slide_type": "fragment"
        }
      },
      "outputs": [
        {
          "name": "stdout",
          "output_type": "stream",
          "text": [
            "(3372139, 23)\n"
          ]
        },
        {
          "data": {
            "text/html": [
              "<div>\n",
              "<style scoped>\n",
              "    .dataframe tbody tr th:only-of-type {\n",
              "        vertical-align: middle;\n",
              "    }\n",
              "\n",
              "    .dataframe tbody tr th {\n",
              "        vertical-align: top;\n",
              "    }\n",
              "\n",
              "    .dataframe thead th {\n",
              "        text-align: right;\n",
              "    }\n",
              "</style>\n",
              "<table border=\"1\" class=\"dataframe\">\n",
              "  <thead>\n",
              "    <tr style=\"text-align: right;\">\n",
              "      <th></th>\n",
              "      <th>CMTE_ID</th>\n",
              "      <th>AMNDT_IND</th>\n",
              "      <th>RPT_TP</th>\n",
              "      <th>TRANSACTION_PGI</th>\n",
              "      <th>IMAGE_NUM</th>\n",
              "      <th>TRANSACTION_TP</th>\n",
              "      <th>ENTITY_TP</th>\n",
              "      <th>NAME</th>\n",
              "      <th>CITY</th>\n",
              "      <th>STATE</th>\n",
              "      <th>ZIP_CODE</th>\n",
              "      <th>EMPLOYER</th>\n",
              "      <th>OCCUPATION</th>\n",
              "      <th>TRANSACTION_DT</th>\n",
              "      <th>TRANSACTION_AMT</th>\n",
              "      <th>OTHER_ID</th>\n",
              "      <th>TRAN_ID</th>\n",
              "      <th>FILE_NUM</th>\n",
              "      <th>MEMO_CD</th>\n",
              "      <th>MEMO_TEXT</th>\n",
              "      <th>SUB_ID</th>\n",
              "      <th>CMTE_NM</th>\n",
              "      <th>CAND_ID</th>\n",
              "    </tr>\n",
              "  </thead>\n",
              "  <tbody>\n",
              "    <tr>\n",
              "      <th>0</th>\n",
              "      <td>C00425645</td>\n",
              "      <td>N</td>\n",
              "      <td>M2</td>\n",
              "      <td>NaN</td>\n",
              "      <td>11930332238</td>\n",
              "      <td>15</td>\n",
              "      <td>IND</td>\n",
              "      <td>MYERS, WALTER</td>\n",
              "      <td>TUSTIN RANCH</td>\n",
              "      <td>CA</td>\n",
              "      <td>92782</td>\n",
              "      <td>MICROSOFT</td>\n",
              "      <td>CONSULTANT</td>\n",
              "      <td>01192011</td>\n",
              "      <td>250.0</td>\n",
              "      <td>NaN</td>\n",
              "      <td>INCA210</td>\n",
              "      <td>713442</td>\n",
              "      <td>NaN</td>\n",
              "      <td>NaN</td>\n",
              "      <td>4030920111137082784</td>\n",
              "      <td>ATLAS PAC, FEDERAL</td>\n",
              "      <td>NaN</td>\n",
              "    </tr>\n",
              "    <tr>\n",
              "      <th>1</th>\n",
              "      <td>C00425645</td>\n",
              "      <td>A</td>\n",
              "      <td>M3</td>\n",
              "      <td>NaN</td>\n",
              "      <td>11930501656</td>\n",
              "      <td>15</td>\n",
              "      <td>IND</td>\n",
              "      <td>LOWREY, LEE</td>\n",
              "      <td>NEWPORT BEACH</td>\n",
              "      <td>CA</td>\n",
              "      <td>92658</td>\n",
              "      <td>PACER COMMUNITIES</td>\n",
              "      <td>DIRECTOR OF FINANCE</td>\n",
              "      <td>02032011</td>\n",
              "      <td>500.0</td>\n",
              "      <td>NaN</td>\n",
              "      <td>PAYA212</td>\n",
              "      <td>717650</td>\n",
              "      <td>NaN</td>\n",
              "      <td>NaN</td>\n",
              "      <td>4031820111137613153</td>\n",
              "      <td>ATLAS PAC, FEDERAL</td>\n",
              "      <td>NaN</td>\n",
              "    </tr>\n",
              "    <tr>\n",
              "      <th>2</th>\n",
              "      <td>C00425645</td>\n",
              "      <td>A</td>\n",
              "      <td>M3</td>\n",
              "      <td>NaN</td>\n",
              "      <td>11930501656</td>\n",
              "      <td>15</td>\n",
              "      <td>IND</td>\n",
              "      <td>FEATHER, KATHRYN</td>\n",
              "      <td>GARDEN GROVE</td>\n",
              "      <td>CA</td>\n",
              "      <td>92840</td>\n",
              "      <td>COUNTY OF ORANGE</td>\n",
              "      <td>POLICY ADVISOR</td>\n",
              "      <td>02222011</td>\n",
              "      <td>250.0</td>\n",
              "      <td>NaN</td>\n",
              "      <td>INCA221</td>\n",
              "      <td>717650</td>\n",
              "      <td>NaN</td>\n",
              "      <td>NaN</td>\n",
              "      <td>4031820111137613154</td>\n",
              "      <td>ATLAS PAC, FEDERAL</td>\n",
              "      <td>NaN</td>\n",
              "    </tr>\n",
              "    <tr>\n",
              "      <th>3</th>\n",
              "      <td>C00425645</td>\n",
              "      <td>A</td>\n",
              "      <td>M3</td>\n",
              "      <td>NaN</td>\n",
              "      <td>11930501656</td>\n",
              "      <td>15</td>\n",
              "      <td>IND</td>\n",
              "      <td>TOBIN, KEVIN</td>\n",
              "      <td>COSTA MESA</td>\n",
              "      <td>CA</td>\n",
              "      <td>92626</td>\n",
              "      <td>UCI</td>\n",
              "      <td>ENGINEER</td>\n",
              "      <td>02222011</td>\n",
              "      <td>250.0</td>\n",
              "      <td>NaN</td>\n",
              "      <td>INCA219</td>\n",
              "      <td>717650</td>\n",
              "      <td>NaN</td>\n",
              "      <td>NaN</td>\n",
              "      <td>4031820111137613155</td>\n",
              "      <td>ATLAS PAC, FEDERAL</td>\n",
              "      <td>NaN</td>\n",
              "    </tr>\n",
              "    <tr>\n",
              "      <th>4</th>\n",
              "      <td>C00425645</td>\n",
              "      <td>N</td>\n",
              "      <td>M5</td>\n",
              "      <td>NaN</td>\n",
              "      <td>11931295390</td>\n",
              "      <td>15</td>\n",
              "      <td>IND</td>\n",
              "      <td>DREYER, MARY</td>\n",
              "      <td>DANA POINT</td>\n",
              "      <td>CA</td>\n",
              "      <td>92629</td>\n",
              "      <td>SANTA ANA USD</td>\n",
              "      <td>TEACHER</td>\n",
              "      <td>04272011</td>\n",
              "      <td>250.0</td>\n",
              "      <td>NaN</td>\n",
              "      <td>INCA248</td>\n",
              "      <td>727360</td>\n",
              "      <td>NaN</td>\n",
              "      <td>NaN</td>\n",
              "      <td>4050920111139806337</td>\n",
              "      <td>ATLAS PAC, FEDERAL</td>\n",
              "      <td>NaN</td>\n",
              "    </tr>\n",
              "  </tbody>\n",
              "</table>\n",
              "</div>"
            ],
            "text/plain": [
              "     CMTE_ID AMNDT_IND RPT_TP TRANSACTION_PGI    IMAGE_NUM TRANSACTION_TP  \\\n",
              "0  C00425645         N     M2             NaN  11930332238             15   \n",
              "1  C00425645         A     M3             NaN  11930501656             15   \n",
              "2  C00425645         A     M3             NaN  11930501656             15   \n",
              "3  C00425645         A     M3             NaN  11930501656             15   \n",
              "4  C00425645         N     M5             NaN  11931295390             15   \n",
              "\n",
              "  ENTITY_TP              NAME           CITY STATE ZIP_CODE  \\\n",
              "0       IND     MYERS, WALTER   TUSTIN RANCH    CA    92782   \n",
              "1       IND       LOWREY, LEE  NEWPORT BEACH    CA    92658   \n",
              "2       IND  FEATHER, KATHRYN   GARDEN GROVE    CA    92840   \n",
              "3       IND      TOBIN, KEVIN     COSTA MESA    CA    92626   \n",
              "4       IND      DREYER, MARY     DANA POINT    CA    92629   \n",
              "\n",
              "            EMPLOYER           OCCUPATION TRANSACTION_DT  TRANSACTION_AMT  \\\n",
              "0          MICROSOFT           CONSULTANT       01192011            250.0   \n",
              "1  PACER COMMUNITIES  DIRECTOR OF FINANCE       02032011            500.0   \n",
              "2   COUNTY OF ORANGE       POLICY ADVISOR       02222011            250.0   \n",
              "3                UCI             ENGINEER       02222011            250.0   \n",
              "4      SANTA ANA USD              TEACHER       04272011            250.0   \n",
              "\n",
              "  OTHER_ID  TRAN_ID FILE_NUM MEMO_CD MEMO_TEXT               SUB_ID  \\\n",
              "0      NaN  INCA210   713442     NaN       NaN  4030920111137082784   \n",
              "1      NaN  PAYA212   717650     NaN       NaN  4031820111137613153   \n",
              "2      NaN  INCA221   717650     NaN       NaN  4031820111137613154   \n",
              "3      NaN  INCA219   717650     NaN       NaN  4031820111137613155   \n",
              "4      NaN  INCA248   727360     NaN       NaN  4050920111139806337   \n",
              "\n",
              "              CMTE_NM CAND_ID  \n",
              "0  ATLAS PAC, FEDERAL     NaN  \n",
              "1  ATLAS PAC, FEDERAL     NaN  \n",
              "2  ATLAS PAC, FEDERAL     NaN  \n",
              "3  ATLAS PAC, FEDERAL     NaN  \n",
              "4  ATLAS PAC, FEDERAL     NaN  "
            ]
          },
          "execution_count": 9,
          "metadata": {},
          "output_type": "execute_result"
        }
      ],
      "execution_count": 9
    },
    {
      "cell_type": "markdown",
      "source": "* Unfortunately we note again that we do not see the full details of the candidate for whom each committee is raising money.\n\n* There is only its code, `CAND_ID`.\n\n* So we have to turn to the [candidates](https://www.fec.gov/files/bulk-downloads/2012/cn12.zip) file.\n\n* And, as before, we should also get the corresponding [headers](https://www.fec.gov/data/browse-data/files/bulk-downloads/data_dictionaries/cn_header_file.csv).",
      "metadata": {
        "slideshow": {
          "slide_type": "slide"
        }
      }
    },
    {
      "cell_type": "code",
      "source": "cn_headers =  pd.read_csv('https://www.fec.gov/data/browse-data/files/bulk-downloads/data_dictionaries/cn_header_file.csv')\ncn_headers",
      "metadata": {
        "slideshow": {
          "slide_type": "fragment"
        }
      },
      "outputs": [
        {
          "data": {
            "text/html": [
              "<div>\n",
              "<style scoped>\n",
              "    .dataframe tbody tr th:only-of-type {\n",
              "        vertical-align: middle;\n",
              "    }\n",
              "\n",
              "    .dataframe tbody tr th {\n",
              "        vertical-align: top;\n",
              "    }\n",
              "\n",
              "    .dataframe thead th {\n",
              "        text-align: right;\n",
              "    }\n",
              "</style>\n",
              "<table border=\"1\" class=\"dataframe\">\n",
              "  <thead>\n",
              "    <tr style=\"text-align: right;\">\n",
              "      <th></th>\n",
              "      <th>CAND_ID</th>\n",
              "      <th>CAND_NAME</th>\n",
              "      <th>CAND_PTY_AFFILIATION</th>\n",
              "      <th>CAND_ELECTION_YR</th>\n",
              "      <th>CAND_OFFICE_ST</th>\n",
              "      <th>CAND_OFFICE</th>\n",
              "      <th>CAND_OFFICE_DISTRICT</th>\n",
              "      <th>CAND_ICI</th>\n",
              "      <th>CAND_STATUS</th>\n",
              "      <th>CAND_PCC</th>\n",
              "      <th>CAND_ST1</th>\n",
              "      <th>CAND_ST2</th>\n",
              "      <th>CAND_CITY</th>\n",
              "      <th>CAND_ST</th>\n",
              "      <th>CAND_ZIP</th>\n",
              "    </tr>\n",
              "  </thead>\n",
              "  <tbody>\n",
              "  </tbody>\n",
              "</table>\n",
              "</div>"
            ],
            "text/plain": [
              "Empty DataFrame\n",
              "Columns: [CAND_ID, CAND_NAME, CAND_PTY_AFFILIATION, CAND_ELECTION_YR, CAND_OFFICE_ST, CAND_OFFICE, CAND_OFFICE_DISTRICT, CAND_ICI, CAND_STATUS, CAND_PCC, CAND_ST1, CAND_ST2, CAND_CITY, CAND_ST, CAND_ZIP]\n",
              "Index: []"
            ]
          },
          "execution_count": 10,
          "metadata": {},
          "output_type": "execute_result"
        }
      ],
      "execution_count": 10
    },
    {
      "cell_type": "markdown",
      "source": "* We are now also reading the file of candidates.",
      "metadata": {
        "slideshow": {
          "slide_type": "slide"
        }
      }
    },
    {
      "cell_type": "code",
      "source": "cn = pd.read_csv('cn.txt', \n                  sep=\"|\", \n                  names=cn_headers.columns)\ncn.head(5)",
      "metadata": {
        "slideshow": {
          "slide_type": "fragment"
        }
      },
      "outputs": [
        {
          "data": {
            "text/html": [
              "<div>\n",
              "<style scoped>\n",
              "    .dataframe tbody tr th:only-of-type {\n",
              "        vertical-align: middle;\n",
              "    }\n",
              "\n",
              "    .dataframe tbody tr th {\n",
              "        vertical-align: top;\n",
              "    }\n",
              "\n",
              "    .dataframe thead th {\n",
              "        text-align: right;\n",
              "    }\n",
              "</style>\n",
              "<table border=\"1\" class=\"dataframe\">\n",
              "  <thead>\n",
              "    <tr style=\"text-align: right;\">\n",
              "      <th></th>\n",
              "      <th>CAND_ID</th>\n",
              "      <th>CAND_NAME</th>\n",
              "      <th>CAND_PTY_AFFILIATION</th>\n",
              "      <th>CAND_ELECTION_YR</th>\n",
              "      <th>CAND_OFFICE_ST</th>\n",
              "      <th>CAND_OFFICE</th>\n",
              "      <th>CAND_OFFICE_DISTRICT</th>\n",
              "      <th>CAND_ICI</th>\n",
              "      <th>CAND_STATUS</th>\n",
              "      <th>CAND_PCC</th>\n",
              "      <th>CAND_ST1</th>\n",
              "      <th>CAND_ST2</th>\n",
              "      <th>CAND_CITY</th>\n",
              "      <th>CAND_ST</th>\n",
              "      <th>CAND_ZIP</th>\n",
              "    </tr>\n",
              "  </thead>\n",
              "  <tbody>\n",
              "    <tr>\n",
              "      <th>0</th>\n",
              "      <td>H0AK00089</td>\n",
              "      <td>CRAWFORD, HARRY T JR</td>\n",
              "      <td>DEM</td>\n",
              "      <td>2010</td>\n",
              "      <td>AK</td>\n",
              "      <td>H</td>\n",
              "      <td>0.0</td>\n",
              "      <td>C</td>\n",
              "      <td>P</td>\n",
              "      <td>C00466698</td>\n",
              "      <td>4350 BUTTE CIR</td>\n",
              "      <td>NaN</td>\n",
              "      <td>ANCHORAGE</td>\n",
              "      <td>AK</td>\n",
              "      <td>99504.0</td>\n",
              "    </tr>\n",
              "    <tr>\n",
              "      <th>1</th>\n",
              "      <td>H0AK00097</td>\n",
              "      <td>COX, JOHN ROBERT</td>\n",
              "      <td>REP</td>\n",
              "      <td>2012</td>\n",
              "      <td>AK</td>\n",
              "      <td>H</td>\n",
              "      <td>0.0</td>\n",
              "      <td>C</td>\n",
              "      <td>N</td>\n",
              "      <td>C00525261</td>\n",
              "      <td>PO BOX 1092</td>\n",
              "      <td>NaN</td>\n",
              "      <td>ANCHOR POINT</td>\n",
              "      <td>AK</td>\n",
              "      <td>995561092.0</td>\n",
              "    </tr>\n",
              "    <tr>\n",
              "      <th>2</th>\n",
              "      <td>H0AL00016</td>\n",
              "      <td>BOZEMAN, MARTHA RENEE</td>\n",
              "      <td>UNK</td>\n",
              "      <td>2010</td>\n",
              "      <td>AL</td>\n",
              "      <td>H</td>\n",
              "      <td>7.0</td>\n",
              "      <td>O</td>\n",
              "      <td>C</td>\n",
              "      <td>C00464040</td>\n",
              "      <td>PO BOX 2512</td>\n",
              "      <td>NaN</td>\n",
              "      <td>BIRMINGHAM</td>\n",
              "      <td>AL</td>\n",
              "      <td>35201.0</td>\n",
              "    </tr>\n",
              "    <tr>\n",
              "      <th>3</th>\n",
              "      <td>H0AL01030</td>\n",
              "      <td>GOUNARES, PETER HUNTER</td>\n",
              "      <td>REP</td>\n",
              "      <td>2012</td>\n",
              "      <td>AL</td>\n",
              "      <td>H</td>\n",
              "      <td>1.0</td>\n",
              "      <td>C</td>\n",
              "      <td>C</td>\n",
              "      <td>C00459495</td>\n",
              "      <td>PO BOX 1010</td>\n",
              "      <td>NaN</td>\n",
              "      <td>ORANGE BEACH</td>\n",
              "      <td>AL</td>\n",
              "      <td>36561.0</td>\n",
              "    </tr>\n",
              "    <tr>\n",
              "      <th>4</th>\n",
              "      <td>H0AL02087</td>\n",
              "      <td>ROBY, MARTHA</td>\n",
              "      <td>REP</td>\n",
              "      <td>2012</td>\n",
              "      <td>AL</td>\n",
              "      <td>H</td>\n",
              "      <td>2.0</td>\n",
              "      <td>I</td>\n",
              "      <td>C</td>\n",
              "      <td>C00462143</td>\n",
              "      <td>3260 BANKHEAD AVENUE</td>\n",
              "      <td>NaN</td>\n",
              "      <td>MONTGOMERY</td>\n",
              "      <td>AL</td>\n",
              "      <td>36106.0</td>\n",
              "    </tr>\n",
              "  </tbody>\n",
              "</table>\n",
              "</div>"
            ],
            "text/plain": [
              "     CAND_ID               CAND_NAME CAND_PTY_AFFILIATION  CAND_ELECTION_YR  \\\n",
              "0  H0AK00089    CRAWFORD, HARRY T JR                  DEM              2010   \n",
              "1  H0AK00097        COX, JOHN ROBERT                  REP              2012   \n",
              "2  H0AL00016   BOZEMAN, MARTHA RENEE                  UNK              2010   \n",
              "3  H0AL01030  GOUNARES, PETER HUNTER                  REP              2012   \n",
              "4  H0AL02087            ROBY, MARTHA                  REP              2012   \n",
              "\n",
              "  CAND_OFFICE_ST CAND_OFFICE  CAND_OFFICE_DISTRICT CAND_ICI CAND_STATUS  \\\n",
              "0             AK           H                   0.0        C           P   \n",
              "1             AK           H                   0.0        C           N   \n",
              "2             AL           H                   7.0        O           C   \n",
              "3             AL           H                   1.0        C           C   \n",
              "4             AL           H                   2.0        I           C   \n",
              "\n",
              "    CAND_PCC              CAND_ST1 CAND_ST2     CAND_CITY CAND_ST     CAND_ZIP  \n",
              "0  C00466698        4350 BUTTE CIR      NaN     ANCHORAGE      AK      99504.0  \n",
              "1  C00525261           PO BOX 1092      NaN  ANCHOR POINT      AK  995561092.0  \n",
              "2  C00464040          PO BOX 2512       NaN    BIRMINGHAM      AL      35201.0  \n",
              "3  C00459495           PO BOX 1010      NaN  ORANGE BEACH      AL      36561.0  \n",
              "4  C00462143  3260 BANKHEAD AVENUE      NaN    MONTGOMERY      AL      36106.0  "
            ]
          },
          "execution_count": 11,
          "metadata": {},
          "output_type": "execute_result"
        }
      ],
      "execution_count": 11
    },
    {
      "cell_type": "markdown",
      "source": "* Who are the candidates?",
      "metadata": {
        "slideshow": {
          "slide_type": "slide"
        }
      }
    },
    {
      "cell_type": "code",
      "source": "cn['CAND_NAME'].unique()",
      "metadata": {
        "slideshow": {
          "slide_type": "fragment"
        }
      },
      "outputs": [
        {
          "data": {
            "text/plain": [
              "array(['CRAWFORD, HARRY T JR', 'COX, JOHN ROBERT',\n",
              "       'BOZEMAN, MARTHA RENEE', ..., 'NEUMANN, MARK W',\n",
              "       'FLETCHER, SHEIRL LEE', 'GOODENOUGH, KEITH B.'], dtype=object)"
            ]
          },
          "execution_count": 12,
          "metadata": {},
          "output_type": "execute_result"
        }
      ],
      "execution_count": 12
    },
    {
      "cell_type": "markdown",
      "source": "* These are probably not the ones we expected.\n\n* How many are there really?",
      "metadata": {
        "slideshow": {
          "slide_type": "slide"
        }
      }
    },
    {
      "cell_type": "code",
      "source": "cn['CAND_NAME'].unique().shape",
      "metadata": {
        "slideshow": {
          "slide_type": "fragment"
        }
      },
      "outputs": [
        {
          "data": {
            "text/plain": [
              "(5524,)"
            ]
          },
          "execution_count": 13,
          "metadata": {},
          "output_type": "execute_result"
        }
      ],
      "execution_count": 13
    },
    {
      "cell_type": "markdown",
      "source": "* This is because the data contains donations made to other election campaigns (not just the presidential election).\n\n* In addition, and regarding the election of the president, in the USA in an election campaign there are more than two final candidates (due to the primaries).",
      "metadata": {
        "slideshow": {
          "slide_type": "slide"
        }
      }
    },
    {
      "cell_type": "markdown",
      "source": "* So let's find the two final presidential candidates.\n\n* We start with Barack Obama.",
      "metadata": {
        "slideshow": {
          "slide_type": "slide"
        }
      }
    },
    {
      "cell_type": "code",
      "source": "cn[cn['CAND_NAME'].str.contains('OBAMA')]",
      "metadata": {
        "slideshow": {
          "slide_type": "fragment"
        }
      },
      "outputs": [
        {
          "data": {
            "text/html": [
              "<div>\n",
              "<style scoped>\n",
              "    .dataframe tbody tr th:only-of-type {\n",
              "        vertical-align: middle;\n",
              "    }\n",
              "\n",
              "    .dataframe tbody tr th {\n",
              "        vertical-align: top;\n",
              "    }\n",
              "\n",
              "    .dataframe thead th {\n",
              "        text-align: right;\n",
              "    }\n",
              "</style>\n",
              "<table border=\"1\" class=\"dataframe\">\n",
              "  <thead>\n",
              "    <tr style=\"text-align: right;\">\n",
              "      <th></th>\n",
              "      <th>CAND_ID</th>\n",
              "      <th>CAND_NAME</th>\n",
              "      <th>CAND_PTY_AFFILIATION</th>\n",
              "      <th>CAND_ELECTION_YR</th>\n",
              "      <th>CAND_OFFICE_ST</th>\n",
              "      <th>CAND_OFFICE</th>\n",
              "      <th>CAND_OFFICE_DISTRICT</th>\n",
              "      <th>CAND_ICI</th>\n",
              "      <th>CAND_STATUS</th>\n",
              "      <th>CAND_PCC</th>\n",
              "      <th>CAND_ST1</th>\n",
              "      <th>CAND_ST2</th>\n",
              "      <th>CAND_CITY</th>\n",
              "      <th>CAND_ST</th>\n",
              "      <th>CAND_ZIP</th>\n",
              "    </tr>\n",
              "  </thead>\n",
              "  <tbody>\n",
              "    <tr>\n",
              "      <th>4618</th>\n",
              "      <td>P80003338</td>\n",
              "      <td>OBAMA, BARACK</td>\n",
              "      <td>DEM</td>\n",
              "      <td>2012</td>\n",
              "      <td>US</td>\n",
              "      <td>P</td>\n",
              "      <td>0.0</td>\n",
              "      <td>I</td>\n",
              "      <td>C</td>\n",
              "      <td>C00431445</td>\n",
              "      <td>PO BOX 8102</td>\n",
              "      <td>NaN</td>\n",
              "      <td>CHICAGO</td>\n",
              "      <td>IL</td>\n",
              "      <td>60680.0</td>\n",
              "    </tr>\n",
              "  </tbody>\n",
              "</table>\n",
              "</div>"
            ],
            "text/plain": [
              "        CAND_ID      CAND_NAME CAND_PTY_AFFILIATION  CAND_ELECTION_YR  \\\n",
              "4618  P80003338  OBAMA, BARACK                  DEM              2012   \n",
              "\n",
              "     CAND_OFFICE_ST CAND_OFFICE  CAND_OFFICE_DISTRICT CAND_ICI CAND_STATUS  \\\n",
              "4618             US           P                   0.0        I           C   \n",
              "\n",
              "       CAND_PCC     CAND_ST1 CAND_ST2 CAND_CITY CAND_ST  CAND_ZIP  \n",
              "4618  C00431445  PO BOX 8102      NaN   CHICAGO      IL   60680.0  "
            ]
          },
          "execution_count": 14,
          "metadata": {},
          "output_type": "execute_result"
        }
      ],
      "execution_count": 14
    },
    {
      "cell_type": "markdown",
      "source": "* Continuing with Mitt Romney.",
      "metadata": {
        "slideshow": {
          "slide_type": "slide"
        }
      }
    },
    {
      "cell_type": "code",
      "source": "cn[cn['CAND_NAME'].str.contains('ROMNEY')]",
      "metadata": {
        "slideshow": {
          "slide_type": "fragment"
        }
      },
      "outputs": [
        {
          "data": {
            "text/html": [
              "<div>\n",
              "<style scoped>\n",
              "    .dataframe tbody tr th:only-of-type {\n",
              "        vertical-align: middle;\n",
              "    }\n",
              "\n",
              "    .dataframe tbody tr th {\n",
              "        vertical-align: top;\n",
              "    }\n",
              "\n",
              "    .dataframe thead th {\n",
              "        text-align: right;\n",
              "    }\n",
              "</style>\n",
              "<table border=\"1\" class=\"dataframe\">\n",
              "  <thead>\n",
              "    <tr style=\"text-align: right;\">\n",
              "      <th></th>\n",
              "      <th>CAND_ID</th>\n",
              "      <th>CAND_NAME</th>\n",
              "      <th>CAND_PTY_AFFILIATION</th>\n",
              "      <th>CAND_ELECTION_YR</th>\n",
              "      <th>CAND_OFFICE_ST</th>\n",
              "      <th>CAND_OFFICE</th>\n",
              "      <th>CAND_OFFICE_DISTRICT</th>\n",
              "      <th>CAND_ICI</th>\n",
              "      <th>CAND_STATUS</th>\n",
              "      <th>CAND_PCC</th>\n",
              "      <th>CAND_ST1</th>\n",
              "      <th>CAND_ST2</th>\n",
              "      <th>CAND_CITY</th>\n",
              "      <th>CAND_ST</th>\n",
              "      <th>CAND_ZIP</th>\n",
              "    </tr>\n",
              "  </thead>\n",
              "  <tbody>\n",
              "    <tr>\n",
              "      <th>4620</th>\n",
              "      <td>P80003353</td>\n",
              "      <td>ROMNEY, MITT / RYAN, PAUL D.</td>\n",
              "      <td>REP</td>\n",
              "      <td>2012</td>\n",
              "      <td>US</td>\n",
              "      <td>P</td>\n",
              "      <td>0.0</td>\n",
              "      <td>C</td>\n",
              "      <td>C</td>\n",
              "      <td>C00431171</td>\n",
              "      <td>585 COMMERCIAL ST.</td>\n",
              "      <td>NaN</td>\n",
              "      <td>BOSTON</td>\n",
              "      <td>MA</td>\n",
              "      <td>2109.0</td>\n",
              "    </tr>\n",
              "  </tbody>\n",
              "</table>\n",
              "</div>"
            ],
            "text/plain": [
              "        CAND_ID                      CAND_NAME CAND_PTY_AFFILIATION  \\\n",
              "4620  P80003353  ROMNEY, MITT / RYAN, PAUL D.                   REP   \n",
              "\n",
              "      CAND_ELECTION_YR CAND_OFFICE_ST CAND_OFFICE  CAND_OFFICE_DISTRICT  \\\n",
              "4620              2012             US           P                   0.0   \n",
              "\n",
              "     CAND_ICI CAND_STATUS   CAND_PCC            CAND_ST1 CAND_ST2 CAND_CITY  \\\n",
              "4620        C           C  C00431171  585 COMMERCIAL ST.      NaN    BOSTON   \n",
              "\n",
              "     CAND_ST  CAND_ZIP  \n",
              "4620      MA    2109.0  "
            ]
          },
          "execution_count": 15,
          "metadata": {},
          "output_type": "execute_result"
        }
      ],
      "execution_count": 15
    },
    {
      "cell_type": "markdown",
      "source": "* So let's pick these two.",
      "metadata": {
        "slideshow": {
          "slide_type": "slide"
        }
      }
    },
    {
      "cell_type": "code",
      "source": "cn[cn['CAND_NAME'].isin(['OBAMA, BARACK', 'ROMNEY, MITT / RYAN, PAUL D.'])]",
      "metadata": {
        "slideshow": {
          "slide_type": "fragment"
        }
      },
      "outputs": [
        {
          "data": {
            "text/html": [
              "<div>\n",
              "<style scoped>\n",
              "    .dataframe tbody tr th:only-of-type {\n",
              "        vertical-align: middle;\n",
              "    }\n",
              "\n",
              "    .dataframe tbody tr th {\n",
              "        vertical-align: top;\n",
              "    }\n",
              "\n",
              "    .dataframe thead th {\n",
              "        text-align: right;\n",
              "    }\n",
              "</style>\n",
              "<table border=\"1\" class=\"dataframe\">\n",
              "  <thead>\n",
              "    <tr style=\"text-align: right;\">\n",
              "      <th></th>\n",
              "      <th>CAND_ID</th>\n",
              "      <th>CAND_NAME</th>\n",
              "      <th>CAND_PTY_AFFILIATION</th>\n",
              "      <th>CAND_ELECTION_YR</th>\n",
              "      <th>CAND_OFFICE_ST</th>\n",
              "      <th>CAND_OFFICE</th>\n",
              "      <th>CAND_OFFICE_DISTRICT</th>\n",
              "      <th>CAND_ICI</th>\n",
              "      <th>CAND_STATUS</th>\n",
              "      <th>CAND_PCC</th>\n",
              "      <th>CAND_ST1</th>\n",
              "      <th>CAND_ST2</th>\n",
              "      <th>CAND_CITY</th>\n",
              "      <th>CAND_ST</th>\n",
              "      <th>CAND_ZIP</th>\n",
              "    </tr>\n",
              "  </thead>\n",
              "  <tbody>\n",
              "    <tr>\n",
              "      <th>4618</th>\n",
              "      <td>P80003338</td>\n",
              "      <td>OBAMA, BARACK</td>\n",
              "      <td>DEM</td>\n",
              "      <td>2012</td>\n",
              "      <td>US</td>\n",
              "      <td>P</td>\n",
              "      <td>0.0</td>\n",
              "      <td>I</td>\n",
              "      <td>C</td>\n",
              "      <td>C00431445</td>\n",
              "      <td>PO BOX 8102</td>\n",
              "      <td>NaN</td>\n",
              "      <td>CHICAGO</td>\n",
              "      <td>IL</td>\n",
              "      <td>60680.0</td>\n",
              "    </tr>\n",
              "  </tbody>\n",
              "</table>\n",
              "</div>"
            ],
            "text/plain": [
              "        CAND_ID      CAND_NAME CAND_PTY_AFFILIATION  CAND_ELECTION_YR  \\\n",
              "4618  P80003338  OBAMA, BARACK                  DEM              2012   \n",
              "\n",
              "     CAND_OFFICE_ST CAND_OFFICE  CAND_OFFICE_DISTRICT CAND_ICI CAND_STATUS  \\\n",
              "4618             US           P                   0.0        I           C   \n",
              "\n",
              "       CAND_PCC     CAND_ST1 CAND_ST2 CAND_CITY CAND_ST  CAND_ZIP  \n",
              "4618  C00431445  PO BOX 8102      NaN   CHICAGO      IL   60680.0  "
            ]
          },
          "execution_count": 16,
          "metadata": {},
          "output_type": "execute_result"
        }
      ],
      "execution_count": 16
    },
    {
      "cell_type": "markdown",
      "source": "* Why did Mitt Romney disappear?\n\n* Because unfortunately there is a gap at the end!",
      "metadata": {
        "slideshow": {
          "slide_type": "slide"
        }
      }
    },
    {
      "cell_type": "code",
      "source": "cn.loc[cn['CAND_NAME'].str.contains('ROMNEY'), 'CAND_NAME'].values",
      "metadata": {
        "slideshow": {
          "slide_type": "fragment"
        }
      },
      "outputs": [
        {
          "data": {
            "text/plain": [
              "array(['ROMNEY, MITT / RYAN, PAUL D. '], dtype=object)"
            ]
          },
          "execution_count": 17,
          "metadata": {},
          "output_type": "execute_result"
        }
      ],
      "execution_count": 17
    },
    {
      "cell_type": "markdown",
      "source": "* Let's fix and simplify the situation.",
      "metadata": {
        "slideshow": {
          "slide_type": "slide"
        }
      }
    },
    {
      "cell_type": "code",
      "source": "cn.loc[cn['CAND_NAME'].str.contains('ROMNEY'), 'CAND_NAME'] = 'ROMNEY, MITT'\ncn[cn['CAND_NAME'].str.contains('ROMNEY')]['CAND_NAME'].values",
      "metadata": {
        "slideshow": {
          "slide_type": "fragment"
        }
      },
      "outputs": [
        {
          "data": {
            "text/plain": [
              "array(['ROMNEY, MITT'], dtype=object)"
            ]
          },
          "execution_count": 18,
          "metadata": {},
          "output_type": "execute_result"
        }
      ],
      "execution_count": 18
    },
    {
      "cell_type": "markdown",
      "source": "* To confirm we are OK:",
      "metadata": {
        "slideshow": {
          "slide_type": "slide"
        }
      }
    },
    {
      "cell_type": "code",
      "source": "cn_bomr = cn[cn['CAND_NAME'].isin(['OBAMA, BARACK', 'ROMNEY, MITT'])]\ncn_bomr",
      "metadata": {
        "slideshow": {
          "slide_type": "fragment"
        }
      },
      "outputs": [
        {
          "data": {
            "text/html": [
              "<div>\n",
              "<style scoped>\n",
              "    .dataframe tbody tr th:only-of-type {\n",
              "        vertical-align: middle;\n",
              "    }\n",
              "\n",
              "    .dataframe tbody tr th {\n",
              "        vertical-align: top;\n",
              "    }\n",
              "\n",
              "    .dataframe thead th {\n",
              "        text-align: right;\n",
              "    }\n",
              "</style>\n",
              "<table border=\"1\" class=\"dataframe\">\n",
              "  <thead>\n",
              "    <tr style=\"text-align: right;\">\n",
              "      <th></th>\n",
              "      <th>CAND_ID</th>\n",
              "      <th>CAND_NAME</th>\n",
              "      <th>CAND_PTY_AFFILIATION</th>\n",
              "      <th>CAND_ELECTION_YR</th>\n",
              "      <th>CAND_OFFICE_ST</th>\n",
              "      <th>CAND_OFFICE</th>\n",
              "      <th>CAND_OFFICE_DISTRICT</th>\n",
              "      <th>CAND_ICI</th>\n",
              "      <th>CAND_STATUS</th>\n",
              "      <th>CAND_PCC</th>\n",
              "      <th>CAND_ST1</th>\n",
              "      <th>CAND_ST2</th>\n",
              "      <th>CAND_CITY</th>\n",
              "      <th>CAND_ST</th>\n",
              "      <th>CAND_ZIP</th>\n",
              "    </tr>\n",
              "  </thead>\n",
              "  <tbody>\n",
              "    <tr>\n",
              "      <th>4618</th>\n",
              "      <td>P80003338</td>\n",
              "      <td>OBAMA, BARACK</td>\n",
              "      <td>DEM</td>\n",
              "      <td>2012</td>\n",
              "      <td>US</td>\n",
              "      <td>P</td>\n",
              "      <td>0.0</td>\n",
              "      <td>I</td>\n",
              "      <td>C</td>\n",
              "      <td>C00431445</td>\n",
              "      <td>PO BOX 8102</td>\n",
              "      <td>NaN</td>\n",
              "      <td>CHICAGO</td>\n",
              "      <td>IL</td>\n",
              "      <td>60680.0</td>\n",
              "    </tr>\n",
              "    <tr>\n",
              "      <th>4620</th>\n",
              "      <td>P80003353</td>\n",
              "      <td>ROMNEY, MITT</td>\n",
              "      <td>REP</td>\n",
              "      <td>2012</td>\n",
              "      <td>US</td>\n",
              "      <td>P</td>\n",
              "      <td>0.0</td>\n",
              "      <td>C</td>\n",
              "      <td>C</td>\n",
              "      <td>C00431171</td>\n",
              "      <td>585 COMMERCIAL ST.</td>\n",
              "      <td>NaN</td>\n",
              "      <td>BOSTON</td>\n",
              "      <td>MA</td>\n",
              "      <td>2109.0</td>\n",
              "    </tr>\n",
              "  </tbody>\n",
              "</table>\n",
              "</div>"
            ],
            "text/plain": [
              "        CAND_ID      CAND_NAME CAND_PTY_AFFILIATION  CAND_ELECTION_YR  \\\n",
              "4618  P80003338  OBAMA, BARACK                  DEM              2012   \n",
              "4620  P80003353   ROMNEY, MITT                  REP              2012   \n",
              "\n",
              "     CAND_OFFICE_ST CAND_OFFICE  CAND_OFFICE_DISTRICT CAND_ICI CAND_STATUS  \\\n",
              "4618             US           P                   0.0        I           C   \n",
              "4620             US           P                   0.0        C           C   \n",
              "\n",
              "       CAND_PCC            CAND_ST1 CAND_ST2 CAND_CITY CAND_ST  CAND_ZIP  \n",
              "4618  C00431445         PO BOX 8102      NaN   CHICAGO      IL   60680.0  \n",
              "4620  C00431171  585 COMMERCIAL ST.      NaN    BOSTON      MA    2109.0  "
            ]
          },
          "execution_count": 19,
          "metadata": {},
          "output_type": "execute_result"
        }
      ],
      "execution_count": 19
    },
    {
      "cell_type": "markdown",
      "source": "* We can now merge candidate data with donation data.",
      "metadata": {
        "slideshow": {
          "slide_type": "slide"
        }
      }
    },
    {
      "cell_type": "code",
      "source": "fec = pd.merge(fec, \n               cn_bomr[['CAND_ID', 'CAND_NAME', 'CAND_PTY_AFFILIATION']], \n               on='CAND_ID',\n               how='inner')\n\nprint(fec.shape)\nfec.head(5)",
      "metadata": {
        "slideshow": {
          "slide_type": "fragment"
        }
      },
      "outputs": [
        {
          "name": "stdout",
          "output_type": "stream",
          "text": [
            "(1059267, 25)\n"
          ]
        },
        {
          "data": {
            "text/html": [
              "<div>\n",
              "<style scoped>\n",
              "    .dataframe tbody tr th:only-of-type {\n",
              "        vertical-align: middle;\n",
              "    }\n",
              "\n",
              "    .dataframe tbody tr th {\n",
              "        vertical-align: top;\n",
              "    }\n",
              "\n",
              "    .dataframe thead th {\n",
              "        text-align: right;\n",
              "    }\n",
              "</style>\n",
              "<table border=\"1\" class=\"dataframe\">\n",
              "  <thead>\n",
              "    <tr style=\"text-align: right;\">\n",
              "      <th></th>\n",
              "      <th>CMTE_ID</th>\n",
              "      <th>AMNDT_IND</th>\n",
              "      <th>RPT_TP</th>\n",
              "      <th>TRANSACTION_PGI</th>\n",
              "      <th>IMAGE_NUM</th>\n",
              "      <th>TRANSACTION_TP</th>\n",
              "      <th>ENTITY_TP</th>\n",
              "      <th>NAME</th>\n",
              "      <th>CITY</th>\n",
              "      <th>STATE</th>\n",
              "      <th>ZIP_CODE</th>\n",
              "      <th>EMPLOYER</th>\n",
              "      <th>OCCUPATION</th>\n",
              "      <th>TRANSACTION_DT</th>\n",
              "      <th>TRANSACTION_AMT</th>\n",
              "      <th>OTHER_ID</th>\n",
              "      <th>TRAN_ID</th>\n",
              "      <th>FILE_NUM</th>\n",
              "      <th>MEMO_CD</th>\n",
              "      <th>MEMO_TEXT</th>\n",
              "      <th>SUB_ID</th>\n",
              "      <th>CMTE_NM</th>\n",
              "      <th>CAND_ID</th>\n",
              "      <th>CAND_NAME</th>\n",
              "      <th>CAND_PTY_AFFILIATION</th>\n",
              "    </tr>\n",
              "  </thead>\n",
              "  <tbody>\n",
              "    <tr>\n",
              "      <th>0</th>\n",
              "      <td>C00431445</td>\n",
              "      <td>N</td>\n",
              "      <td>Q1</td>\n",
              "      <td>P2008</td>\n",
              "      <td>11930701008</td>\n",
              "      <td>22Y</td>\n",
              "      <td>IND</td>\n",
              "      <td>PORTA, BONNIE</td>\n",
              "      <td>CAPE ELIZABETH</td>\n",
              "      <td>ME</td>\n",
              "      <td>04107</td>\n",
              "      <td>NaN</td>\n",
              "      <td>NaN</td>\n",
              "      <td>03092011</td>\n",
              "      <td>2300.0</td>\n",
              "      <td>NaN</td>\n",
              "      <td>SB28A-106502</td>\n",
              "      <td>724196</td>\n",
              "      <td>NaN</td>\n",
              "      <td>NaN</td>\n",
              "      <td>4041920111138175295</td>\n",
              "      <td>OBAMA FOR AMERICA</td>\n",
              "      <td>P80003338</td>\n",
              "      <td>OBAMA, BARACK</td>\n",
              "      <td>DEM</td>\n",
              "    </tr>\n",
              "    <tr>\n",
              "      <th>1</th>\n",
              "      <td>C00431445</td>\n",
              "      <td>N</td>\n",
              "      <td>Q1</td>\n",
              "      <td>G2008</td>\n",
              "      <td>11930701008</td>\n",
              "      <td>22Y</td>\n",
              "      <td>IND</td>\n",
              "      <td>PORTA, BONNIE</td>\n",
              "      <td>CAPE ELIZABETH</td>\n",
              "      <td>ME</td>\n",
              "      <td>04107</td>\n",
              "      <td>NaN</td>\n",
              "      <td>NaN</td>\n",
              "      <td>03092011</td>\n",
              "      <td>2300.0</td>\n",
              "      <td>NaN</td>\n",
              "      <td>SB28A-106503</td>\n",
              "      <td>724196</td>\n",
              "      <td>NaN</td>\n",
              "      <td>NaN</td>\n",
              "      <td>4041920111138175296</td>\n",
              "      <td>OBAMA FOR AMERICA</td>\n",
              "      <td>P80003338</td>\n",
              "      <td>OBAMA, BARACK</td>\n",
              "      <td>DEM</td>\n",
              "    </tr>\n",
              "    <tr>\n",
              "      <th>2</th>\n",
              "      <td>C00431445</td>\n",
              "      <td>A</td>\n",
              "      <td>Q3</td>\n",
              "      <td>P2012</td>\n",
              "      <td>12970029343</td>\n",
              "      <td>15</td>\n",
              "      <td>IND</td>\n",
              "      <td>ANTHONY, KENT</td>\n",
              "      <td>LEAGUE CITY</td>\n",
              "      <td>TX</td>\n",
              "      <td>77573</td>\n",
              "      <td>THE METHODIST HOSPITAL SYSTEM</td>\n",
              "      <td>PHYSICIAN</td>\n",
              "      <td>09302011</td>\n",
              "      <td>1000.0</td>\n",
              "      <td>NaN</td>\n",
              "      <td>C12462768</td>\n",
              "      <td>756218</td>\n",
              "      <td>NaN</td>\n",
              "      <td>NaN</td>\n",
              "      <td>4021620121151193386</td>\n",
              "      <td>OBAMA FOR AMERICA</td>\n",
              "      <td>P80003338</td>\n",
              "      <td>OBAMA, BARACK</td>\n",
              "      <td>DEM</td>\n",
              "    </tr>\n",
              "    <tr>\n",
              "      <th>3</th>\n",
              "      <td>C00431445</td>\n",
              "      <td>A</td>\n",
              "      <td>Q3</td>\n",
              "      <td>P2012</td>\n",
              "      <td>12970029344</td>\n",
              "      <td>15</td>\n",
              "      <td>IND</td>\n",
              "      <td>KAHN, VIRGINIA</td>\n",
              "      <td>CAMBRIDGE</td>\n",
              "      <td>MA</td>\n",
              "      <td>02138</td>\n",
              "      <td>RETIRED</td>\n",
              "      <td>RETIRED</td>\n",
              "      <td>08082011</td>\n",
              "      <td>1000.0</td>\n",
              "      <td>NaN</td>\n",
              "      <td>C11861688</td>\n",
              "      <td>756218</td>\n",
              "      <td>NaN</td>\n",
              "      <td>NaN</td>\n",
              "      <td>4021620121151193391</td>\n",
              "      <td>OBAMA FOR AMERICA</td>\n",
              "      <td>P80003338</td>\n",
              "      <td>OBAMA, BARACK</td>\n",
              "      <td>DEM</td>\n",
              "    </tr>\n",
              "    <tr>\n",
              "      <th>4</th>\n",
              "      <td>C00431445</td>\n",
              "      <td>A</td>\n",
              "      <td>Q3</td>\n",
              "      <td>P2012</td>\n",
              "      <td>12970021794</td>\n",
              "      <td>15</td>\n",
              "      <td>IND</td>\n",
              "      <td>ELSON, SALLY T</td>\n",
              "      <td>CHICAGO</td>\n",
              "      <td>IL</td>\n",
              "      <td>60657</td>\n",
              "      <td>NaN</td>\n",
              "      <td>INFORMATION REQUESTED</td>\n",
              "      <td>09202011</td>\n",
              "      <td>250.0</td>\n",
              "      <td>NaN</td>\n",
              "      <td>C12160885</td>\n",
              "      <td>756218</td>\n",
              "      <td>NaN</td>\n",
              "      <td>NaN</td>\n",
              "      <td>4021620121151170741</td>\n",
              "      <td>OBAMA FOR AMERICA</td>\n",
              "      <td>P80003338</td>\n",
              "      <td>OBAMA, BARACK</td>\n",
              "      <td>DEM</td>\n",
              "    </tr>\n",
              "  </tbody>\n",
              "</table>\n",
              "</div>"
            ],
            "text/plain": [
              "     CMTE_ID AMNDT_IND RPT_TP TRANSACTION_PGI    IMAGE_NUM TRANSACTION_TP  \\\n",
              "0  C00431445         N     Q1           P2008  11930701008            22Y   \n",
              "1  C00431445         N     Q1           G2008  11930701008            22Y   \n",
              "2  C00431445         A     Q3           P2012  12970029343             15   \n",
              "3  C00431445         A     Q3           P2012  12970029344             15   \n",
              "4  C00431445         A     Q3           P2012  12970021794             15   \n",
              "\n",
              "  ENTITY_TP            NAME            CITY STATE ZIP_CODE  \\\n",
              "0       IND   PORTA, BONNIE  CAPE ELIZABETH    ME    04107   \n",
              "1       IND   PORTA, BONNIE  CAPE ELIZABETH    ME    04107   \n",
              "2       IND   ANTHONY, KENT     LEAGUE CITY    TX    77573   \n",
              "3       IND  KAHN, VIRGINIA       CAMBRIDGE    MA    02138   \n",
              "4       IND  ELSON, SALLY T         CHICAGO    IL    60657   \n",
              "\n",
              "                        EMPLOYER             OCCUPATION TRANSACTION_DT  \\\n",
              "0                            NaN                    NaN       03092011   \n",
              "1                            NaN                    NaN       03092011   \n",
              "2  THE METHODIST HOSPITAL SYSTEM              PHYSICIAN       09302011   \n",
              "3                        RETIRED                RETIRED       08082011   \n",
              "4                            NaN  INFORMATION REQUESTED       09202011   \n",
              "\n",
              "   TRANSACTION_AMT OTHER_ID       TRAN_ID FILE_NUM MEMO_CD MEMO_TEXT  \\\n",
              "0           2300.0      NaN  SB28A-106502   724196     NaN       NaN   \n",
              "1           2300.0      NaN  SB28A-106503   724196     NaN       NaN   \n",
              "2           1000.0      NaN     C12462768   756218     NaN       NaN   \n",
              "3           1000.0      NaN     C11861688   756218     NaN       NaN   \n",
              "4            250.0      NaN     C12160885   756218     NaN       NaN   \n",
              "\n",
              "                SUB_ID            CMTE_NM    CAND_ID      CAND_NAME  \\\n",
              "0  4041920111138175295  OBAMA FOR AMERICA  P80003338  OBAMA, BARACK   \n",
              "1  4041920111138175296  OBAMA FOR AMERICA  P80003338  OBAMA, BARACK   \n",
              "2  4021620121151193386  OBAMA FOR AMERICA  P80003338  OBAMA, BARACK   \n",
              "3  4021620121151193391  OBAMA FOR AMERICA  P80003338  OBAMA, BARACK   \n",
              "4  4021620121151170741  OBAMA FOR AMERICA  P80003338  OBAMA, BARACK   \n",
              "\n",
              "  CAND_PTY_AFFILIATION  \n",
              "0                  DEM  \n",
              "1                  DEM  \n",
              "2                  DEM  \n",
              "3                  DEM  \n",
              "4                  DEM  "
            ]
          },
          "execution_count": 20,
          "metadata": {},
          "output_type": "execute_result"
        }
      ],
      "execution_count": 20
    },
    {
      "cell_type": "markdown",
      "source": "* So now that we have the data in the format we want it, we can start investigating how many donations were given to each candidate.",
      "metadata": {
        "slideshow": {
          "slide_type": "slide"
        }
      }
    },
    {
      "cell_type": "code",
      "source": "fec['CAND_NAME'].value_counts()",
      "metadata": {
        "slideshow": {
          "slide_type": "fragment"
        }
      },
      "outputs": [
        {
          "data": {
            "text/plain": [
              "OBAMA, BARACK    637617\n",
              "ROMNEY, MITT     421650\n",
              "Name: CAND_NAME, dtype: int64"
            ]
          },
          "execution_count": 21,
          "metadata": {},
          "output_type": "execute_result"
        }
      ],
      "execution_count": 21
    },
    {
      "cell_type": "markdown",
      "source": "* But are we sure that these are real contributions?",
      "metadata": {
        "slideshow": {
          "slide_type": "slide"
        }
      }
    },
    {
      "cell_type": "code",
      "source": "(fec['TRANSACTION_AMT'] > 0).value_counts()",
      "metadata": {
        "slideshow": {
          "slide_type": "fragment"
        }
      },
      "outputs": [
        {
          "data": {
            "text/plain": [
              "True     1052127\n",
              "False       7140\n",
              "Name: TRANSACTION_AMT, dtype: int64"
            ]
          },
          "execution_count": 22,
          "metadata": {},
          "output_type": "execute_result"
        }
      ],
      "execution_count": 22
    },
    {
      "cell_type": "markdown",
      "source": "* So let's keep only real contributions.",
      "metadata": {
        "slideshow": {
          "slide_type": "slide"
        }
      }
    },
    {
      "cell_type": "code",
      "source": "fec = fec.loc[fec['TRANSACTION_AMT'] > 0]",
      "metadata": {
        "slideshow": {
          "slide_type": "fragment"
        }
      },
      "outputs": [],
      "execution_count": 23
    },
    {
      "cell_type": "markdown",
      "source": "* We can now see the relationship between supporters and professions.\n\n* For example, lawyers are believed to support Democrats, while high-ranking business executives support Republicans.\n\n* The good thing is we can see for ourselves what happens!\n\n* To see the big picture.",
      "metadata": {
        "slideshow": {
          "slide_type": "slide"
        }
      }
    },
    {
      "cell_type": "code",
      "source": "fec['OCCUPATION'].value_counts()[:20]",
      "metadata": {
        "slideshow": {
          "slide_type": "slide"
        }
      },
      "outputs": [
        {
          "data": {
            "text/plain": [
              "RETIRED                  202024\n",
              "ATTORNEY                  60801\n",
              "PHYSICIAN                 38559\n",
              "HOMEMAKER                 33144\n",
              "PROFESSOR                 17480\n",
              "CONSULTANT                17275\n",
              "LAWYER                    15645\n",
              "ENGINEER                  12000\n",
              "PRESIDENT                 11941\n",
              "INFORMATION REQUESTED     11825\n",
              "EXECUTIVE                 10564\n",
              "SELF-EMPLOYED              9889\n",
              "NONE                       8499\n",
              "MANAGER                    8392\n",
              "TEACHER                    7651\n",
              "OWNER                      7115\n",
              "BUSINESS OWNER             6972\n",
              "CEO                        6886\n",
              "SALES                      6723\n",
              "NOT EMPLOYED               6691\n",
              "Name: OCCUPATION, dtype: int64"
            ]
          },
          "execution_count": 24,
          "metadata": {},
          "output_type": "execute_result"
        }
      ],
      "execution_count": 24
    },
    {
      "cell_type": "markdown",
      "source": "* We can now use the `pivot_table()` method to sum donations by party and profession.",
      "metadata": {
        "slideshow": {
          "slide_type": "slide"
        }
      }
    },
    {
      "cell_type": "code",
      "source": "by_occupation = fec.pivot_table(index='OCCUPATION', \n                                columns='CAND_PTY_AFFILIATION',\n                                values='TRANSACTION_AMT',\n                                aggfunc='sum')\nby_occupation",
      "metadata": {
        "slideshow": {
          "slide_type": "fragment"
        }
      },
      "outputs": [
        {
          "data": {
            "text/html": [
              "<div>\n",
              "<style scoped>\n",
              "    .dataframe tbody tr th:only-of-type {\n",
              "        vertical-align: middle;\n",
              "    }\n",
              "\n",
              "    .dataframe tbody tr th {\n",
              "        vertical-align: top;\n",
              "    }\n",
              "\n",
              "    .dataframe thead th {\n",
              "        text-align: right;\n",
              "    }\n",
              "</style>\n",
              "<table border=\"1\" class=\"dataframe\">\n",
              "  <thead>\n",
              "    <tr style=\"text-align: right;\">\n",
              "      <th>CAND_PTY_AFFILIATION</th>\n",
              "      <th>DEM</th>\n",
              "      <th>REP</th>\n",
              "    </tr>\n",
              "    <tr>\n",
              "      <th>OCCUPATION</th>\n",
              "      <th></th>\n",
              "      <th></th>\n",
              "    </tr>\n",
              "  </thead>\n",
              "  <tbody>\n",
              "    <tr>\n",
              "      <th>SOFTWARE ENGINEER/HOMEMAKER</th>\n",
              "      <td>2225.0</td>\n",
              "      <td>NaN</td>\n",
              "    </tr>\n",
              "    <tr>\n",
              "      <th>$2500 ALREADY CONTRIBUTED</th>\n",
              "      <td>NaN</td>\n",
              "      <td>5000.0</td>\n",
              "    </tr>\n",
              "    <tr>\n",
              "      <th>(FORMER) COMPUTER TECH MANAGEMENT</th>\n",
              "      <td>500.0</td>\n",
              "      <td>NaN</td>\n",
              "    </tr>\n",
              "    <tr>\n",
              "      <th>(FORMER) COMPUTER TECH. MANAGEMENT</th>\n",
              "      <td>1500.0</td>\n",
              "      <td>NaN</td>\n",
              "    </tr>\n",
              "    <tr>\n",
              "      <th>(SEMI) RETIRED TEACHER</th>\n",
              "      <td>NaN</td>\n",
              "      <td>250.0</td>\n",
              "    </tr>\n",
              "    <tr>\n",
              "      <th>...</th>\n",
              "      <td>...</td>\n",
              "      <td>...</td>\n",
              "    </tr>\n",
              "    <tr>\n",
              "      <th>ZUMBA GOLD INSTRUCTOR</th>\n",
              "      <td>NaN</td>\n",
              "      <td>250.0</td>\n",
              "    </tr>\n",
              "    <tr>\n",
              "      <th>ZUMBA INSTRUCTOR</th>\n",
              "      <td>NaN</td>\n",
              "      <td>2500.0</td>\n",
              "    </tr>\n",
              "    <tr>\n",
              "      <th>\\RESEARCH DIRECTOR</th>\n",
              "      <td>250.0</td>\n",
              "      <td>NaN</td>\n",
              "    </tr>\n",
              "    <tr>\n",
              "      <th>`ATTORNEY</th>\n",
              "      <td>1500.0</td>\n",
              "      <td>NaN</td>\n",
              "    </tr>\n",
              "    <tr>\n",
              "      <th>``PRESIDENT</th>\n",
              "      <td>NaN</td>\n",
              "      <td>250.0</td>\n",
              "    </tr>\n",
              "  </tbody>\n",
              "</table>\n",
              "<p>60010 rows × 2 columns</p>\n",
              "</div>"
            ],
            "text/plain": [
              "CAND_PTY_AFFILIATION                   DEM     REP\n",
              "OCCUPATION                                        \n",
              " SOFTWARE ENGINEER/HOMEMAKER        2225.0     NaN\n",
              "$2500 ALREADY CONTRIBUTED              NaN  5000.0\n",
              "(FORMER) COMPUTER TECH MANAGEMENT    500.0     NaN\n",
              "(FORMER) COMPUTER TECH. MANAGEMENT  1500.0     NaN\n",
              "(SEMI) RETIRED TEACHER                 NaN   250.0\n",
              "...                                    ...     ...\n",
              "ZUMBA GOLD INSTRUCTOR                  NaN   250.0\n",
              "ZUMBA INSTRUCTOR                       NaN  2500.0\n",
              "\\RESEARCH DIRECTOR                   250.0     NaN\n",
              "`ATTORNEY                           1500.0     NaN\n",
              "``PRESIDENT                            NaN   250.0\n",
              "\n",
              "[60010 rows x 2 columns]"
            ]
          },
          "execution_count": 25,
          "metadata": {},
          "output_type": "execute_result"
        }
      ],
      "execution_count": 25
    },
    {
      "cell_type": "markdown",
      "source": "* Για να ξεχωρίσουμε τα άσχετα επαγγέλματα, και να επικεντρωθούμε σε αυτά που τελικά δίνουν συνολικά μεγάλα ποσά, ας δούμε κατ' αρχήν πόσα χρήματα συνολικά δόθηκαν ανά επάγγελμα.\n\n* Για να το κάνουμε αυτό, πρέπει να αθροίσουμε τα δεδομένα κάθε γραμμής, δηλαδή να προχωράμε κατά στήλες. Αυτός είναι ο 1ος άξονας σε ένα `DataFrame` (`axis=1`).",
      "metadata": {
        "slideshow": {
          "slide_type": "slide"
        }
      }
    },
    {
      "cell_type": "code",
      "source": "by_occupation['SUM'] = by_occupation.sum(axis=1)\nby_occupation",
      "metadata": {
        "slideshow": {
          "slide_type": "fragment"
        }
      },
      "outputs": [
        {
          "data": {
            "text/html": [
              "<div>\n",
              "<style scoped>\n",
              "    .dataframe tbody tr th:only-of-type {\n",
              "        vertical-align: middle;\n",
              "    }\n",
              "\n",
              "    .dataframe tbody tr th {\n",
              "        vertical-align: top;\n",
              "    }\n",
              "\n",
              "    .dataframe thead th {\n",
              "        text-align: right;\n",
              "    }\n",
              "</style>\n",
              "<table border=\"1\" class=\"dataframe\">\n",
              "  <thead>\n",
              "    <tr style=\"text-align: right;\">\n",
              "      <th>CAND_PTY_AFFILIATION</th>\n",
              "      <th>DEM</th>\n",
              "      <th>REP</th>\n",
              "      <th>SUM</th>\n",
              "    </tr>\n",
              "    <tr>\n",
              "      <th>OCCUPATION</th>\n",
              "      <th></th>\n",
              "      <th></th>\n",
              "      <th></th>\n",
              "    </tr>\n",
              "  </thead>\n",
              "  <tbody>\n",
              "    <tr>\n",
              "      <th>SOFTWARE ENGINEER/HOMEMAKER</th>\n",
              "      <td>2225.0</td>\n",
              "      <td>NaN</td>\n",
              "      <td>2225.0</td>\n",
              "    </tr>\n",
              "    <tr>\n",
              "      <th>$2500 ALREADY CONTRIBUTED</th>\n",
              "      <td>NaN</td>\n",
              "      <td>5000.0</td>\n",
              "      <td>5000.0</td>\n",
              "    </tr>\n",
              "    <tr>\n",
              "      <th>(FORMER) COMPUTER TECH MANAGEMENT</th>\n",
              "      <td>500.0</td>\n",
              "      <td>NaN</td>\n",
              "      <td>500.0</td>\n",
              "    </tr>\n",
              "    <tr>\n",
              "      <th>(FORMER) COMPUTER TECH. MANAGEMENT</th>\n",
              "      <td>1500.0</td>\n",
              "      <td>NaN</td>\n",
              "      <td>1500.0</td>\n",
              "    </tr>\n",
              "    <tr>\n",
              "      <th>(SEMI) RETIRED TEACHER</th>\n",
              "      <td>NaN</td>\n",
              "      <td>250.0</td>\n",
              "      <td>250.0</td>\n",
              "    </tr>\n",
              "    <tr>\n",
              "      <th>...</th>\n",
              "      <td>...</td>\n",
              "      <td>...</td>\n",
              "      <td>...</td>\n",
              "    </tr>\n",
              "    <tr>\n",
              "      <th>ZUMBA GOLD INSTRUCTOR</th>\n",
              "      <td>NaN</td>\n",
              "      <td>250.0</td>\n",
              "      <td>250.0</td>\n",
              "    </tr>\n",
              "    <tr>\n",
              "      <th>ZUMBA INSTRUCTOR</th>\n",
              "      <td>NaN</td>\n",
              "      <td>2500.0</td>\n",
              "      <td>2500.0</td>\n",
              "    </tr>\n",
              "    <tr>\n",
              "      <th>\\RESEARCH DIRECTOR</th>\n",
              "      <td>250.0</td>\n",
              "      <td>NaN</td>\n",
              "      <td>250.0</td>\n",
              "    </tr>\n",
              "    <tr>\n",
              "      <th>`ATTORNEY</th>\n",
              "      <td>1500.0</td>\n",
              "      <td>NaN</td>\n",
              "      <td>1500.0</td>\n",
              "    </tr>\n",
              "    <tr>\n",
              "      <th>``PRESIDENT</th>\n",
              "      <td>NaN</td>\n",
              "      <td>250.0</td>\n",
              "      <td>250.0</td>\n",
              "    </tr>\n",
              "  </tbody>\n",
              "</table>\n",
              "<p>60010 rows × 3 columns</p>\n",
              "</div>"
            ],
            "text/plain": [
              "CAND_PTY_AFFILIATION                   DEM     REP     SUM\n",
              "OCCUPATION                                                \n",
              " SOFTWARE ENGINEER/HOMEMAKER        2225.0     NaN  2225.0\n",
              "$2500 ALREADY CONTRIBUTED              NaN  5000.0  5000.0\n",
              "(FORMER) COMPUTER TECH MANAGEMENT    500.0     NaN   500.0\n",
              "(FORMER) COMPUTER TECH. MANAGEMENT  1500.0     NaN  1500.0\n",
              "(SEMI) RETIRED TEACHER                 NaN   250.0   250.0\n",
              "...                                    ...     ...     ...\n",
              "ZUMBA GOLD INSTRUCTOR                  NaN   250.0   250.0\n",
              "ZUMBA INSTRUCTOR                       NaN  2500.0  2500.0\n",
              "\\RESEARCH DIRECTOR                   250.0     NaN   250.0\n",
              "`ATTORNEY                           1500.0     NaN  1500.0\n",
              "``PRESIDENT                            NaN   250.0   250.0\n",
              "\n",
              "[60010 rows x 3 columns]"
            ]
          },
          "execution_count": 26,
          "metadata": {},
          "output_type": "execute_result"
        }
      ],
      "execution_count": 26
    },
    {
      "cell_type": "markdown",
      "source": "* Let's keep the professions that gave $10,000,000 and up.",
      "metadata": {
        "slideshow": {
          "slide_type": "slide"
        }
      }
    },
    {
      "cell_type": "code",
      "source": "over_10mm = by_occupation.loc[by_occupation['SUM'] >= 10**7] \nover_10mm",
      "metadata": {
        "slideshow": {
          "slide_type": "fragment"
        }
      },
      "outputs": [
        {
          "data": {
            "text/html": [
              "<div>\n",
              "<style scoped>\n",
              "    .dataframe tbody tr th:only-of-type {\n",
              "        vertical-align: middle;\n",
              "    }\n",
              "\n",
              "    .dataframe tbody tr th {\n",
              "        vertical-align: top;\n",
              "    }\n",
              "\n",
              "    .dataframe thead th {\n",
              "        text-align: right;\n",
              "    }\n",
              "</style>\n",
              "<table border=\"1\" class=\"dataframe\">\n",
              "  <thead>\n",
              "    <tr style=\"text-align: right;\">\n",
              "      <th>CAND_PTY_AFFILIATION</th>\n",
              "      <th>DEM</th>\n",
              "      <th>REP</th>\n",
              "      <th>SUM</th>\n",
              "    </tr>\n",
              "    <tr>\n",
              "      <th>OCCUPATION</th>\n",
              "      <th></th>\n",
              "      <th></th>\n",
              "      <th></th>\n",
              "    </tr>\n",
              "  </thead>\n",
              "  <tbody>\n",
              "    <tr>\n",
              "      <th>ATTORNEY</th>\n",
              "      <td>49616201.0</td>\n",
              "      <td>21791814.0</td>\n",
              "      <td>71408015.0</td>\n",
              "    </tr>\n",
              "    <tr>\n",
              "      <th>C.E.O.</th>\n",
              "      <td>13500.0</td>\n",
              "      <td>16649148.0</td>\n",
              "      <td>16662648.0</td>\n",
              "    </tr>\n",
              "    <tr>\n",
              "      <th>CEO</th>\n",
              "      <td>12693212.0</td>\n",
              "      <td>5913438.0</td>\n",
              "      <td>18606650.0</td>\n",
              "    </tr>\n",
              "    <tr>\n",
              "      <th>CHAIRMAN</th>\n",
              "      <td>3828164.0</td>\n",
              "      <td>9652011.0</td>\n",
              "      <td>13480175.0</td>\n",
              "    </tr>\n",
              "    <tr>\n",
              "      <th>CONSULTANT</th>\n",
              "      <td>10707939.0</td>\n",
              "      <td>6985307.0</td>\n",
              "      <td>17693246.0</td>\n",
              "    </tr>\n",
              "    <tr>\n",
              "      <th>EXECUTIVE</th>\n",
              "      <td>8329918.0</td>\n",
              "      <td>20468201.0</td>\n",
              "      <td>28798119.0</td>\n",
              "    </tr>\n",
              "    <tr>\n",
              "      <th>HOMEMAKER</th>\n",
              "      <td>23831339.0</td>\n",
              "      <td>60956038.0</td>\n",
              "      <td>84787377.0</td>\n",
              "    </tr>\n",
              "    <tr>\n",
              "      <th>INFORMATION REQUESTED</th>\n",
              "      <td>10231903.0</td>\n",
              "      <td>NaN</td>\n",
              "      <td>10231903.0</td>\n",
              "    </tr>\n",
              "    <tr>\n",
              "      <th>INVESTOR</th>\n",
              "      <td>6038114.0</td>\n",
              "      <td>13428109.0</td>\n",
              "      <td>19466223.0</td>\n",
              "    </tr>\n",
              "    <tr>\n",
              "      <th>LAWYER</th>\n",
              "      <td>14198143.0</td>\n",
              "      <td>2482767.0</td>\n",
              "      <td>16680910.0</td>\n",
              "    </tr>\n",
              "    <tr>\n",
              "      <th>OWNER</th>\n",
              "      <td>5322123.0</td>\n",
              "      <td>8342087.0</td>\n",
              "      <td>13664210.0</td>\n",
              "    </tr>\n",
              "    <tr>\n",
              "      <th>PHYSICIAN</th>\n",
              "      <td>14918921.0</td>\n",
              "      <td>13030969.0</td>\n",
              "      <td>27949890.0</td>\n",
              "    </tr>\n",
              "    <tr>\n",
              "      <th>PRESIDENT</th>\n",
              "      <td>10428104.0</td>\n",
              "      <td>19177075.0</td>\n",
              "      <td>29605179.0</td>\n",
              "    </tr>\n",
              "    <tr>\n",
              "      <th>PROFESSOR</th>\n",
              "      <td>9151859.0</td>\n",
              "      <td>960026.0</td>\n",
              "      <td>10111885.0</td>\n",
              "    </tr>\n",
              "    <tr>\n",
              "      <th>REAL ESTATE</th>\n",
              "      <td>2892382.0</td>\n",
              "      <td>7850966.0</td>\n",
              "      <td>10743348.0</td>\n",
              "    </tr>\n",
              "    <tr>\n",
              "      <th>RETIRED</th>\n",
              "      <td>85212969.0</td>\n",
              "      <td>91770280.0</td>\n",
              "      <td>176983249.0</td>\n",
              "    </tr>\n",
              "    <tr>\n",
              "      <th>SELF-EMPLOYED</th>\n",
              "      <td>3413441.0</td>\n",
              "      <td>8241336.0</td>\n",
              "      <td>11654777.0</td>\n",
              "    </tr>\n",
              "  </tbody>\n",
              "</table>\n",
              "</div>"
            ],
            "text/plain": [
              "CAND_PTY_AFFILIATION          DEM         REP          SUM\n",
              "OCCUPATION                                                \n",
              "ATTORNEY               49616201.0  21791814.0   71408015.0\n",
              "C.E.O.                    13500.0  16649148.0   16662648.0\n",
              "CEO                    12693212.0   5913438.0   18606650.0\n",
              "CHAIRMAN                3828164.0   9652011.0   13480175.0\n",
              "CONSULTANT             10707939.0   6985307.0   17693246.0\n",
              "EXECUTIVE               8329918.0  20468201.0   28798119.0\n",
              "HOMEMAKER              23831339.0  60956038.0   84787377.0\n",
              "INFORMATION REQUESTED  10231903.0         NaN   10231903.0\n",
              "INVESTOR                6038114.0  13428109.0   19466223.0\n",
              "LAWYER                 14198143.0   2482767.0   16680910.0\n",
              "OWNER                   5322123.0   8342087.0   13664210.0\n",
              "PHYSICIAN              14918921.0  13030969.0   27949890.0\n",
              "PRESIDENT              10428104.0  19177075.0   29605179.0\n",
              "PROFESSOR               9151859.0    960026.0   10111885.0\n",
              "REAL ESTATE             2892382.0   7850966.0   10743348.0\n",
              "RETIRED                85212969.0  91770280.0  176983249.0\n",
              "SELF-EMPLOYED           3413441.0   8241336.0   11654777.0"
            ]
          },
          "execution_count": 27,
          "metadata": {},
          "output_type": "execute_result"
        }
      ],
      "execution_count": 27
    },
    {
      "cell_type": "markdown",
      "source": "* Here we see a problem, where the same occupation appears with two different spellings: `C.E.O.` and `CEO`.\n\n* In fact, if we look further into the data, we will see that there is also a ``C.E.O''.\n\n* Also the cases where no information about the profession was given appear in different ways.\n\n* To fix this, we can use the following idiom.",
      "metadata": {
        "slideshow": {
          "slide_type": "slide"
        }
      }
    },
    {
      "cell_type": "code",
      "source": "occ_mapping = {\n    'INFORMATION REQUESTED PER BEST EFFORTS' : 'NOT PROVIDED', \n    'INFORMATION REQUESTED' : 'NOT PROVIDED',\n    'C.E.O.': 'CEO',\n    'C.E.O': 'CEO'\n}\n\n# If no mapping provided, return x\nf = lambda x: occ_mapping.get(x, x) \nfec.loc[:, 'OCCUPATION'] = fec.loc[:, 'OCCUPATION'].map(f)",
      "metadata": {
        "slideshow": {
          "slide_type": "fragment"
        }
      },
      "outputs": [],
      "execution_count": 28
    },
    {
      "cell_type": "markdown",
      "source": "* And here we go again from the beginning (approximately)...",
      "metadata": {
        "slideshow": {
          "slide_type": "slide"
        }
      }
    },
    {
      "cell_type": "code",
      "source": "by_occupation = fec.pivot_table(index='OCCUPATION', \n                                columns='CAND_PTY_AFFILIATION',\n                                values='TRANSACTION_AMT',\n                                aggfunc='sum')\nby_occupation['SUM'] = by_occupation.sum(axis=1)\nover_10mm = by_occupation.loc[by_occupation['SUM'] >= 10**7] \nover_10mm",
      "metadata": {
        "slideshow": {
          "slide_type": "fragment"
        }
      },
      "outputs": [
        {
          "data": {
            "text/html": [
              "<div>\n",
              "<style scoped>\n",
              "    .dataframe tbody tr th:only-of-type {\n",
              "        vertical-align: middle;\n",
              "    }\n",
              "\n",
              "    .dataframe tbody tr th {\n",
              "        vertical-align: top;\n",
              "    }\n",
              "\n",
              "    .dataframe thead th {\n",
              "        text-align: right;\n",
              "    }\n",
              "</style>\n",
              "<table border=\"1\" class=\"dataframe\">\n",
              "  <thead>\n",
              "    <tr style=\"text-align: right;\">\n",
              "      <th>CAND_PTY_AFFILIATION</th>\n",
              "      <th>DEM</th>\n",
              "      <th>REP</th>\n",
              "      <th>SUM</th>\n",
              "    </tr>\n",
              "    <tr>\n",
              "      <th>OCCUPATION</th>\n",
              "      <th></th>\n",
              "      <th></th>\n",
              "      <th></th>\n",
              "    </tr>\n",
              "  </thead>\n",
              "  <tbody>\n",
              "    <tr>\n",
              "      <th>ATTORNEY</th>\n",
              "      <td>49616201.0</td>\n",
              "      <td>21791814.0</td>\n",
              "      <td>71408015.0</td>\n",
              "    </tr>\n",
              "    <tr>\n",
              "      <th>CEO</th>\n",
              "      <td>12717712.0</td>\n",
              "      <td>25054094.0</td>\n",
              "      <td>37771806.0</td>\n",
              "    </tr>\n",
              "    <tr>\n",
              "      <th>CHAIRMAN</th>\n",
              "      <td>3828164.0</td>\n",
              "      <td>9652011.0</td>\n",
              "      <td>13480175.0</td>\n",
              "    </tr>\n",
              "    <tr>\n",
              "      <th>CONSULTANT</th>\n",
              "      <td>10707939.0</td>\n",
              "      <td>6985307.0</td>\n",
              "      <td>17693246.0</td>\n",
              "    </tr>\n",
              "    <tr>\n",
              "      <th>EXECUTIVE</th>\n",
              "      <td>8329918.0</td>\n",
              "      <td>20468201.0</td>\n",
              "      <td>28798119.0</td>\n",
              "    </tr>\n",
              "    <tr>\n",
              "      <th>HOMEMAKER</th>\n",
              "      <td>23831339.0</td>\n",
              "      <td>60956038.0</td>\n",
              "      <td>84787377.0</td>\n",
              "    </tr>\n",
              "    <tr>\n",
              "      <th>INVESTOR</th>\n",
              "      <td>6038114.0</td>\n",
              "      <td>13428109.0</td>\n",
              "      <td>19466223.0</td>\n",
              "    </tr>\n",
              "    <tr>\n",
              "      <th>LAWYER</th>\n",
              "      <td>14198143.0</td>\n",
              "      <td>2482767.0</td>\n",
              "      <td>16680910.0</td>\n",
              "    </tr>\n",
              "    <tr>\n",
              "      <th>NOT PROVIDED</th>\n",
              "      <td>10231903.0</td>\n",
              "      <td>1701689.0</td>\n",
              "      <td>11933592.0</td>\n",
              "    </tr>\n",
              "    <tr>\n",
              "      <th>OWNER</th>\n",
              "      <td>5322123.0</td>\n",
              "      <td>8342087.0</td>\n",
              "      <td>13664210.0</td>\n",
              "    </tr>\n",
              "    <tr>\n",
              "      <th>PHYSICIAN</th>\n",
              "      <td>14918921.0</td>\n",
              "      <td>13030969.0</td>\n",
              "      <td>27949890.0</td>\n",
              "    </tr>\n",
              "    <tr>\n",
              "      <th>PRESIDENT</th>\n",
              "      <td>10428104.0</td>\n",
              "      <td>19177075.0</td>\n",
              "      <td>29605179.0</td>\n",
              "    </tr>\n",
              "    <tr>\n",
              "      <th>PROFESSOR</th>\n",
              "      <td>9151859.0</td>\n",
              "      <td>960026.0</td>\n",
              "      <td>10111885.0</td>\n",
              "    </tr>\n",
              "    <tr>\n",
              "      <th>REAL ESTATE</th>\n",
              "      <td>2892382.0</td>\n",
              "      <td>7850966.0</td>\n",
              "      <td>10743348.0</td>\n",
              "    </tr>\n",
              "    <tr>\n",
              "      <th>RETIRED</th>\n",
              "      <td>85212969.0</td>\n",
              "      <td>91770280.0</td>\n",
              "      <td>176983249.0</td>\n",
              "    </tr>\n",
              "    <tr>\n",
              "      <th>SELF-EMPLOYED</th>\n",
              "      <td>3413441.0</td>\n",
              "      <td>8241336.0</td>\n",
              "      <td>11654777.0</td>\n",
              "    </tr>\n",
              "  </tbody>\n",
              "</table>\n",
              "</div>"
            ],
            "text/plain": [
              "CAND_PTY_AFFILIATION         DEM         REP          SUM\n",
              "OCCUPATION                                               \n",
              "ATTORNEY              49616201.0  21791814.0   71408015.0\n",
              "CEO                   12717712.0  25054094.0   37771806.0\n",
              "CHAIRMAN               3828164.0   9652011.0   13480175.0\n",
              "CONSULTANT            10707939.0   6985307.0   17693246.0\n",
              "EXECUTIVE              8329918.0  20468201.0   28798119.0\n",
              "HOMEMAKER             23831339.0  60956038.0   84787377.0\n",
              "INVESTOR               6038114.0  13428109.0   19466223.0\n",
              "LAWYER                14198143.0   2482767.0   16680910.0\n",
              "NOT PROVIDED          10231903.0   1701689.0   11933592.0\n",
              "OWNER                  5322123.0   8342087.0   13664210.0\n",
              "PHYSICIAN             14918921.0  13030969.0   27949890.0\n",
              "PRESIDENT             10428104.0  19177075.0   29605179.0\n",
              "PROFESSOR              9151859.0    960026.0   10111885.0\n",
              "REAL ESTATE            2892382.0   7850966.0   10743348.0\n",
              "RETIRED               85212969.0  91770280.0  176983249.0\n",
              "SELF-EMPLOYED          3413441.0   8241336.0   11654777.0"
            ]
          },
          "execution_count": 29,
          "metadata": {},
          "output_type": "execute_result"
        }
      ],
      "execution_count": 29
    },
    {
      "cell_type": "markdown",
      "source": "* Or we can sort them in descending order of total amounts.",
      "metadata": {
        "slideshow": {
          "slide_type": "slide"
        }
      }
    },
    {
      "cell_type": "code",
      "source": "over_10mm.sort_values(by='SUM', ascending=False)",
      "metadata": {
        "slideshow": {
          "slide_type": "fragment"
        }
      },
      "outputs": [
        {
          "data": {
            "text/html": [
              "<div>\n",
              "<style scoped>\n",
              "    .dataframe tbody tr th:only-of-type {\n",
              "        vertical-align: middle;\n",
              "    }\n",
              "\n",
              "    .dataframe tbody tr th {\n",
              "        vertical-align: top;\n",
              "    }\n",
              "\n",
              "    .dataframe thead th {\n",
              "        text-align: right;\n",
              "    }\n",
              "</style>\n",
              "<table border=\"1\" class=\"dataframe\">\n",
              "  <thead>\n",
              "    <tr style=\"text-align: right;\">\n",
              "      <th>CAND_PTY_AFFILIATION</th>\n",
              "      <th>DEM</th>\n",
              "      <th>REP</th>\n",
              "      <th>SUM</th>\n",
              "    </tr>\n",
              "    <tr>\n",
              "      <th>OCCUPATION</th>\n",
              "      <th></th>\n",
              "      <th></th>\n",
              "      <th></th>\n",
              "    </tr>\n",
              "  </thead>\n",
              "  <tbody>\n",
              "    <tr>\n",
              "      <th>RETIRED</th>\n",
              "      <td>85212969.0</td>\n",
              "      <td>91770280.0</td>\n",
              "      <td>176983249.0</td>\n",
              "    </tr>\n",
              "    <tr>\n",
              "      <th>HOMEMAKER</th>\n",
              "      <td>23831339.0</td>\n",
              "      <td>60956038.0</td>\n",
              "      <td>84787377.0</td>\n",
              "    </tr>\n",
              "    <tr>\n",
              "      <th>ATTORNEY</th>\n",
              "      <td>49616201.0</td>\n",
              "      <td>21791814.0</td>\n",
              "      <td>71408015.0</td>\n",
              "    </tr>\n",
              "    <tr>\n",
              "      <th>CEO</th>\n",
              "      <td>12717712.0</td>\n",
              "      <td>25054094.0</td>\n",
              "      <td>37771806.0</td>\n",
              "    </tr>\n",
              "    <tr>\n",
              "      <th>PRESIDENT</th>\n",
              "      <td>10428104.0</td>\n",
              "      <td>19177075.0</td>\n",
              "      <td>29605179.0</td>\n",
              "    </tr>\n",
              "    <tr>\n",
              "      <th>EXECUTIVE</th>\n",
              "      <td>8329918.0</td>\n",
              "      <td>20468201.0</td>\n",
              "      <td>28798119.0</td>\n",
              "    </tr>\n",
              "    <tr>\n",
              "      <th>PHYSICIAN</th>\n",
              "      <td>14918921.0</td>\n",
              "      <td>13030969.0</td>\n",
              "      <td>27949890.0</td>\n",
              "    </tr>\n",
              "    <tr>\n",
              "      <th>INVESTOR</th>\n",
              "      <td>6038114.0</td>\n",
              "      <td>13428109.0</td>\n",
              "      <td>19466223.0</td>\n",
              "    </tr>\n",
              "    <tr>\n",
              "      <th>CONSULTANT</th>\n",
              "      <td>10707939.0</td>\n",
              "      <td>6985307.0</td>\n",
              "      <td>17693246.0</td>\n",
              "    </tr>\n",
              "    <tr>\n",
              "      <th>LAWYER</th>\n",
              "      <td>14198143.0</td>\n",
              "      <td>2482767.0</td>\n",
              "      <td>16680910.0</td>\n",
              "    </tr>\n",
              "    <tr>\n",
              "      <th>OWNER</th>\n",
              "      <td>5322123.0</td>\n",
              "      <td>8342087.0</td>\n",
              "      <td>13664210.0</td>\n",
              "    </tr>\n",
              "    <tr>\n",
              "      <th>CHAIRMAN</th>\n",
              "      <td>3828164.0</td>\n",
              "      <td>9652011.0</td>\n",
              "      <td>13480175.0</td>\n",
              "    </tr>\n",
              "    <tr>\n",
              "      <th>NOT PROVIDED</th>\n",
              "      <td>10231903.0</td>\n",
              "      <td>1701689.0</td>\n",
              "      <td>11933592.0</td>\n",
              "    </tr>\n",
              "    <tr>\n",
              "      <th>SELF-EMPLOYED</th>\n",
              "      <td>3413441.0</td>\n",
              "      <td>8241336.0</td>\n",
              "      <td>11654777.0</td>\n",
              "    </tr>\n",
              "    <tr>\n",
              "      <th>REAL ESTATE</th>\n",
              "      <td>2892382.0</td>\n",
              "      <td>7850966.0</td>\n",
              "      <td>10743348.0</td>\n",
              "    </tr>\n",
              "    <tr>\n",
              "      <th>PROFESSOR</th>\n",
              "      <td>9151859.0</td>\n",
              "      <td>960026.0</td>\n",
              "      <td>10111885.0</td>\n",
              "    </tr>\n",
              "  </tbody>\n",
              "</table>\n",
              "</div>"
            ],
            "text/plain": [
              "CAND_PTY_AFFILIATION         DEM         REP          SUM\n",
              "OCCUPATION                                               \n",
              "RETIRED               85212969.0  91770280.0  176983249.0\n",
              "HOMEMAKER             23831339.0  60956038.0   84787377.0\n",
              "ATTORNEY              49616201.0  21791814.0   71408015.0\n",
              "CEO                   12717712.0  25054094.0   37771806.0\n",
              "PRESIDENT             10428104.0  19177075.0   29605179.0\n",
              "EXECUTIVE              8329918.0  20468201.0   28798119.0\n",
              "PHYSICIAN             14918921.0  13030969.0   27949890.0\n",
              "INVESTOR               6038114.0  13428109.0   19466223.0\n",
              "CONSULTANT            10707939.0   6985307.0   17693246.0\n",
              "LAWYER                14198143.0   2482767.0   16680910.0\n",
              "OWNER                  5322123.0   8342087.0   13664210.0\n",
              "CHAIRMAN               3828164.0   9652011.0   13480175.0\n",
              "NOT PROVIDED          10231903.0   1701689.0   11933592.0\n",
              "SELF-EMPLOYED          3413441.0   8241336.0   11654777.0\n",
              "REAL ESTATE            2892382.0   7850966.0   10743348.0\n",
              "PROFESSOR              9151859.0    960026.0   10111885.0"
            ]
          },
          "execution_count": 30,
          "metadata": {},
          "output_type": "execute_result"
        }
      ],
      "execution_count": 30
    },
    {
      "cell_type": "markdown",
      "source": "* It might be easier to see what's going on with a diagram.",
      "metadata": {
        "slideshow": {
          "slide_type": "slide"
        }
      }
    },
    {
      "cell_type": "code",
      "source": "_ = over_10mm.sort_values(by='SUM', ascending=True)[['DEM', 'REP']].\\\n    plot(kind='barh', color=('deepskyblue', 'salmon'), figsize=(10, 8))",
      "metadata": {
        "slideshow": {
          "slide_type": "fragment"
        }
      },
      "outputs": [
        {
          "data": {
            "image/png": "[encoded data removed]",
            "text/plain": [
              "<Figure size 720x576 with 1 Axes>"
            ]
          },
          "metadata": {},
          "output_type": "display_data"
        }
      ],
      "execution_count": 31
    },
    {
      "cell_type": "markdown",
      "source": "* It might be interesting to see the percentage of donations by profession.\n\n* To do this we should divide each element of the first two columns by the third column (sum).\n\n* Since the division will be done from top to bottom, we will move along axis 0 (`axis=0`).",
      "metadata": {
        "slideshow": {
          "slide_type": "slide"
        }
      }
    },
    {
      "cell_type": "code",
      "source": "over_10mm_pct = over_10mm[['DEM', 'REP']].div(over_10mm['SUM'], axis=0)\nover_10mm_pct",
      "metadata": {
        "slideshow": {
          "slide_type": "fragment"
        }
      },
      "outputs": [
        {
          "data": {
            "text/html": [
              "<div>\n",
              "<style scoped>\n",
              "    .dataframe tbody tr th:only-of-type {\n",
              "        vertical-align: middle;\n",
              "    }\n",
              "\n",
              "    .dataframe tbody tr th {\n",
              "        vertical-align: top;\n",
              "    }\n",
              "\n",
              "    .dataframe thead th {\n",
              "        text-align: right;\n",
              "    }\n",
              "</style>\n",
              "<table border=\"1\" class=\"dataframe\">\n",
              "  <thead>\n",
              "    <tr style=\"text-align: right;\">\n",
              "      <th>CAND_PTY_AFFILIATION</th>\n",
              "      <th>DEM</th>\n",
              "      <th>REP</th>\n",
              "    </tr>\n",
              "    <tr>\n",
              "      <th>OCCUPATION</th>\n",
              "      <th></th>\n",
              "      <th></th>\n",
              "    </tr>\n",
              "  </thead>\n",
              "  <tbody>\n",
              "    <tr>\n",
              "      <th>ATTORNEY</th>\n",
              "      <td>0.694827</td>\n",
              "      <td>0.305173</td>\n",
              "    </tr>\n",
              "    <tr>\n",
              "      <th>CEO</th>\n",
              "      <td>0.336699</td>\n",
              "      <td>0.663301</td>\n",
              "    </tr>\n",
              "    <tr>\n",
              "      <th>CHAIRMAN</th>\n",
              "      <td>0.283985</td>\n",
              "      <td>0.716015</td>\n",
              "    </tr>\n",
              "    <tr>\n",
              "      <th>CONSULTANT</th>\n",
              "      <td>0.605199</td>\n",
              "      <td>0.394801</td>\n",
              "    </tr>\n",
              "    <tr>\n",
              "      <th>EXECUTIVE</th>\n",
              "      <td>0.289252</td>\n",
              "      <td>0.710748</td>\n",
              "    </tr>\n",
              "    <tr>\n",
              "      <th>HOMEMAKER</th>\n",
              "      <td>0.281072</td>\n",
              "      <td>0.718928</td>\n",
              "    </tr>\n",
              "    <tr>\n",
              "      <th>INVESTOR</th>\n",
              "      <td>0.310184</td>\n",
              "      <td>0.689816</td>\n",
              "    </tr>\n",
              "    <tr>\n",
              "      <th>LAWYER</th>\n",
              "      <td>0.851161</td>\n",
              "      <td>0.148839</td>\n",
              "    </tr>\n",
              "    <tr>\n",
              "      <th>NOT PROVIDED</th>\n",
              "      <td>0.857403</td>\n",
              "      <td>0.142597</td>\n",
              "    </tr>\n",
              "    <tr>\n",
              "      <th>OWNER</th>\n",
              "      <td>0.389494</td>\n",
              "      <td>0.610506</td>\n",
              "    </tr>\n",
              "    <tr>\n",
              "      <th>PHYSICIAN</th>\n",
              "      <td>0.533774</td>\n",
              "      <td>0.466226</td>\n",
              "    </tr>\n",
              "    <tr>\n",
              "      <th>PRESIDENT</th>\n",
              "      <td>0.352239</td>\n",
              "      <td>0.647761</td>\n",
              "    </tr>\n",
              "    <tr>\n",
              "      <th>PROFESSOR</th>\n",
              "      <td>0.905060</td>\n",
              "      <td>0.094940</td>\n",
              "    </tr>\n",
              "    <tr>\n",
              "      <th>REAL ESTATE</th>\n",
              "      <td>0.269225</td>\n",
              "      <td>0.730775</td>\n",
              "    </tr>\n",
              "    <tr>\n",
              "      <th>RETIRED</th>\n",
              "      <td>0.481475</td>\n",
              "      <td>0.518525</td>\n",
              "    </tr>\n",
              "    <tr>\n",
              "      <th>SELF-EMPLOYED</th>\n",
              "      <td>0.292879</td>\n",
              "      <td>0.707121</td>\n",
              "    </tr>\n",
              "  </tbody>\n",
              "</table>\n",
              "</div>"
            ],
            "text/plain": [
              "CAND_PTY_AFFILIATION       DEM       REP\n",
              "OCCUPATION                              \n",
              "ATTORNEY              0.694827  0.305173\n",
              "CEO                   0.336699  0.663301\n",
              "CHAIRMAN              0.283985  0.716015\n",
              "CONSULTANT            0.605199  0.394801\n",
              "EXECUTIVE             0.289252  0.710748\n",
              "HOMEMAKER             0.281072  0.718928\n",
              "INVESTOR              0.310184  0.689816\n",
              "LAWYER                0.851161  0.148839\n",
              "NOT PROVIDED          0.857403  0.142597\n",
              "OWNER                 0.389494  0.610506\n",
              "PHYSICIAN             0.533774  0.466226\n",
              "PRESIDENT             0.352239  0.647761\n",
              "PROFESSOR             0.905060  0.094940\n",
              "REAL ESTATE           0.269225  0.730775\n",
              "RETIRED               0.481475  0.518525\n",
              "SELF-EMPLOYED         0.292879  0.707121"
            ]
          },
          "execution_count": 32,
          "metadata": {},
          "output_type": "execute_result"
        }
      ],
      "execution_count": 32
    },
    {
      "cell_type": "markdown",
      "source": "* And the corresponding diagram, where since we have percentages, all the bars add up to one.",
      "metadata": {
        "slideshow": {
          "slide_type": "slide"
        }
      }
    },
    {
      "cell_type": "code",
      "source": "_ = over_10mm_pct.plot(kind='barh', color=('deepskyblue', 'salmon'), stacked=True, figsize=(10, 8))\nplt.xlim((0, 1))\nplt.legend(loc='center left', bbox_to_anchor=(1.01, 0.5))",
      "metadata": {
        "slideshow": {
          "slide_type": "fragment"
        }
      },
      "outputs": [
        {
          "data": {
            "text/plain": [
              "<matplotlib.legend.Legend at 0x15f6754f0>"
            ]
          },
          "execution_count": 33,
          "metadata": {},
          "output_type": "execute_result"
        },
        {
          "data": {
            "image/png": "[encoded data removed]",
            "text/plain": [
              "<Figure size 720x576 with 1 Axes>"
            ]
          },
          "metadata": {},
          "output_type": "display_data"
        }
      ],
      "execution_count": 33
    },
    {
      "cell_type": "markdown",
      "source": "* And having seen the relationship of professions to support for specific parties, let's return to a more basic question.\n\n* How much money did each candidate raise?",
      "metadata": {
        "slideshow": {
          "slide_type": "slide"
        }
      }
    },
    {
      "cell_type": "code",
      "source": "fec.groupby('CAND_NAME').sum()",
      "metadata": {
        "slideshow": {
          "slide_type": "fragment"
        }
      },
      "outputs": [
        {
          "data": {
            "text/html": [
              "<div>\n",
              "<style scoped>\n",
              "    .dataframe tbody tr th:only-of-type {\n",
              "        vertical-align: middle;\n",
              "    }\n",
              "\n",
              "    .dataframe tbody tr th {\n",
              "        vertical-align: top;\n",
              "    }\n",
              "\n",
              "    .dataframe thead th {\n",
              "        text-align: right;\n",
              "    }\n",
              "</style>\n",
              "<table border=\"1\" class=\"dataframe\">\n",
              "  <thead>\n",
              "    <tr style=\"text-align: right;\">\n",
              "      <th></th>\n",
              "      <th>TRANSACTION_AMT</th>\n",
              "    </tr>\n",
              "    <tr>\n",
              "      <th>CAND_NAME</th>\n",
              "      <th></th>\n",
              "    </tr>\n",
              "  </thead>\n",
              "  <tbody>\n",
              "    <tr>\n",
              "      <th>OBAMA, BARACK</th>\n",
              "      <td>562711400.0</td>\n",
              "    </tr>\n",
              "    <tr>\n",
              "      <th>ROMNEY, MITT</th>\n",
              "      <td>659176427.0</td>\n",
              "    </tr>\n",
              "  </tbody>\n",
              "</table>\n",
              "</div>"
            ],
            "text/plain": [
              "               TRANSACTION_AMT\n",
              "CAND_NAME                     \n",
              "OBAMA, BARACK      562711400.0\n",
              "ROMNEY, MITT       659176427.0"
            ]
          },
          "execution_count": 34,
          "metadata": {},
          "output_type": "execute_result"
        }
      ],
      "execution_count": 34
    },
    {
      "cell_type": "markdown",
      "source": "* This is very paradoxical.\n\n* Mitt Romney appears to have raised more money than Barack Obama.\n\n* It's not what we expected, and it's also not what we find if we look at posts on the internet related to the 2012 election.\n",
      "metadata": {
        "slideshow": {
          "slide_type": "slide"
        }
      }
    }
  ]
}