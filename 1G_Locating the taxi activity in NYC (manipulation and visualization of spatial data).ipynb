{
  "metadata": {
    "kernelspec": {
      "name": "python",
      "display_name": "Python (Pyodide)",
      "language": "python"
    },
    "language_info": {
      "codemirror_mode": {
        "name": "python",
        "version": 3
      },
      "file_extension": ".py",
      "mimetype": "text/x-python",
      "name": "python",
      "nbconvert_exporter": "python",
      "pygments_lexer": "ipython3",
      "version": "3.8"
    },
    "celltoolbar": "Slideshow"
  },
  "nbformat_minor": 4,
  "nbformat": 4,
  "cells": [
    {
      "cell_type": "markdown",
      "source": "# Locating the taxi activity in NYC (manipulation and visualization of spatial data)",
      "metadata": {
        "slideshow": {
          "slide_type": "slide"
        }
      }
    },
    {
      "cell_type": "markdown",
      "source": "\n* Εμπνευσμένο από το κεφάλαιο 2 του βιβλίου του Cyrille Rossant, Learning IPython for Interactive Computing and Data Visualization, 2η έκδοση, Packt Publishing, 2015.* We start by importing the libraries we will need.\n\n* The [NumPy](https://numpy.org/) library implements highly optimized array operations in Python.\n\n* The [pandas](https://pandas.pydata.org/) library is the core library for data processing in Python.\n\n* With the [matplotlib](https://matplotlib.org/) library we can visualize our data.",
      "metadata": {
        "slideshow": {
          "slide_type": "slide"
        }
      }
    },
    {
      "cell_type": "code",
      "source": "import numpy as np\nimport pandas as pd\nimport matplotlib.pyplot as plt",
      "metadata": {
        "slideshow": {
          "slide_type": "fragment"
        }
      },
      "outputs": [],
      "execution_count": 1
    },
    {
      "cell_type": "markdown",
      "source": "* We start by importing the libraries we will need.\n\n* The [NumPy](https://numpy.org/) library implements highly optimized array operations in Python.\n\n* The [pandas](https://pandas.pydata.org/) library is the core library for data processing in Python.\n\n* With the [matplotlib](https://matplotlib.org/) library we can visualize our data.",
      "metadata": {
        "slideshow": {
          "slide_type": "slide"
        }
      }
    },
    {
      "cell_type": "code",
      "source": "data_filename = \"nyc_taxi_trip_data_sample.csv.zip\"",
      "metadata": {
        "slideshow": {
          "slide_type": "fragment"
        }
      },
      "outputs": [],
      "execution_count": 2
    },
    {
      "cell_type": "markdown",
      "source": "* If we unzip the file and open it we will see that the data is as follows:\n```\nmedallion,hack_license,vendor_id,rate_code,store_and_fwd_flag,pickup_datetime,dropoff_datetime,passenger_count,trip_time_in_secs,trip_distance,pickup_longitude,pickup_latitude,dropoff_longitude,dropoff_latitude\n037CB433AB5895649F7A9EF37F767EF1,F57FA13A6A82FE2F40D9DB0193DE0FEE,VTS,1,,2013-10-04 20:20:00,2013-10-04 20:42:00,1,1320,4.05,-73.990089,40.723377,-73.941559,40.70779\nE05E952B2DA14C7E9F1D7DEB80667739,11A3989B7BABB288FA3FA233E348C450,CMT,1,N,2013-09-27 14:16:04,2013-09-27 14:37:17,1,1273,2.10,-73.960022,40.710678,-73.994324,40.722858\n51B267141807D0261EEB1844D2A78087,9DE60DFD683336F899D5BB448CE7CB09,CMT,1,N,2013-07-18 13:24:37,2013-07-18 13:29:27,3,290,.90,-73.970634,40.76041,-73.960213,40.770241\n76AC5C0F44D07BA5A2291F19E730B0B9,2348E03BB8227595281D9D6B38E45B38,VTS,1,,2013-06-25 12:12:00,2013-06-25 12:28:00,2,960,1.28,-73.992661,40.752766,-73.975952,40.751781\n```",
      "metadata": {
        "slideshow": {
          "slide_type": "slide"
        }
      }
    },
    {
      "cell_type": "markdown",
      "source": "* To read the data we will use the pandas `read_csv()` function.",
      "metadata": {
        "slideshow": {
          "slide_type": "slide"
        }
      }
    },
    {
      "cell_type": "code",
      "source": "data = pd.read_csv(data_filename)",
      "metadata": {
        "slideshow": {
          "slide_type": "fragment"
        }
      },
      "outputs": [],
      "execution_count": 3
    },
    {
      "cell_type": "markdown",
      "source": "* The `data` variable contains a `DataFrame` object.\n\n* A `DataFrame` is a table containing rows (observations) and columns (attributes).\n\n* A `DataFrame` can contain text, numbers, dates, and other types of data.",
      "metadata": {
        "slideshow": {
          "slide_type": "slide"
        }
      }
    },
    {
      "cell_type": "code",
      "source": "data",
      "metadata": {
        "slideshow": {
          "slide_type": "slide"
        }
      },
      "outputs": [
        {
          "data": {
            "text/html": [
              "<div>\n",
              "<style scoped>\n",
              "    .dataframe tbody tr th:only-of-type {\n",
              "        vertical-align: middle;\n",
              "    }\n",
              "\n",
              "    .dataframe tbody tr th {\n",
              "        vertical-align: top;\n",
              "    }\n",
              "\n",
              "    .dataframe thead th {\n",
              "        text-align: right;\n",
              "    }\n",
              "</style>\n",
              "<table border=\"1\" class=\"dataframe\">\n",
              "  <thead>\n",
              "    <tr style=\"text-align: right;\">\n",
              "      <th></th>\n",
              "      <th>medallion</th>\n",
              "      <th>hack_license</th>\n",
              "      <th>vendor_id</th>\n",
              "      <th>rate_code</th>\n",
              "      <th>store_and_fwd_flag</th>\n",
              "      <th>pickup_datetime</th>\n",
              "      <th>dropoff_datetime</th>\n",
              "      <th>passenger_count</th>\n",
              "      <th>trip_time_in_secs</th>\n",
              "      <th>trip_distance</th>\n",
              "      <th>pickup_longitude</th>\n",
              "      <th>pickup_latitude</th>\n",
              "      <th>dropoff_longitude</th>\n",
              "      <th>dropoff_latitude</th>\n",
              "    </tr>\n",
              "  </thead>\n",
              "  <tbody>\n",
              "    <tr>\n",
              "      <th>0</th>\n",
              "      <td>037CB433AB5895649F7A9EF37F767EF1</td>\n",
              "      <td>F57FA13A6A82FE2F40D9DB0193DE0FEE</td>\n",
              "      <td>VTS</td>\n",
              "      <td>1</td>\n",
              "      <td>NaN</td>\n",
              "      <td>2013-10-04 20:20:00</td>\n",
              "      <td>2013-10-04 20:42:00</td>\n",
              "      <td>1</td>\n",
              "      <td>1320</td>\n",
              "      <td>4.05</td>\n",
              "      <td>-73.990089</td>\n",
              "      <td>40.723377</td>\n",
              "      <td>-73.941559</td>\n",
              "      <td>40.707790</td>\n",
              "    </tr>\n",
              "    <tr>\n",
              "      <th>1</th>\n",
              "      <td>E05E952B2DA14C7E9F1D7DEB80667739</td>\n",
              "      <td>11A3989B7BABB288FA3FA233E348C450</td>\n",
              "      <td>CMT</td>\n",
              "      <td>1</td>\n",
              "      <td>N</td>\n",
              "      <td>2013-09-27 14:16:04</td>\n",
              "      <td>2013-09-27 14:37:17</td>\n",
              "      <td>1</td>\n",
              "      <td>1273</td>\n",
              "      <td>2.10</td>\n",
              "      <td>-73.960022</td>\n",
              "      <td>40.710678</td>\n",
              "      <td>-73.994324</td>\n",
              "      <td>40.722858</td>\n",
              "    </tr>\n",
              "    <tr>\n",
              "      <th>2</th>\n",
              "      <td>51B267141807D0261EEB1844D2A78087</td>\n",
              "      <td>9DE60DFD683336F899D5BB448CE7CB09</td>\n",
              "      <td>CMT</td>\n",
              "      <td>1</td>\n",
              "      <td>N</td>\n",
              "      <td>2013-07-18 13:24:37</td>\n",
              "      <td>2013-07-18 13:29:27</td>\n",
              "      <td>3</td>\n",
              "      <td>290</td>\n",
              "      <td>0.90</td>\n",
              "      <td>-73.970634</td>\n",
              "      <td>40.760410</td>\n",
              "      <td>-73.960213</td>\n",
              "      <td>40.770241</td>\n",
              "    </tr>\n",
              "    <tr>\n",
              "      <th>3</th>\n",
              "      <td>76AC5C0F44D07BA5A2291F19E730B0B9</td>\n",
              "      <td>2348E03BB8227595281D9D6B38E45B38</td>\n",
              "      <td>VTS</td>\n",
              "      <td>1</td>\n",
              "      <td>NaN</td>\n",
              "      <td>2013-06-25 12:12:00</td>\n",
              "      <td>2013-06-25 12:28:00</td>\n",
              "      <td>2</td>\n",
              "      <td>960</td>\n",
              "      <td>1.28</td>\n",
              "      <td>-73.992661</td>\n",
              "      <td>40.752766</td>\n",
              "      <td>-73.975952</td>\n",
              "      <td>40.751781</td>\n",
              "    </tr>\n",
              "    <tr>\n",
              "      <th>4</th>\n",
              "      <td>739323AC15DADABE4B54561CB3330C53</td>\n",
              "      <td>9387A0902D7B1B4597802BE63AE7C34F</td>\n",
              "      <td>VTS</td>\n",
              "      <td>1</td>\n",
              "      <td>NaN</td>\n",
              "      <td>2013-04-19 05:28:00</td>\n",
              "      <td>2013-04-19 05:38:00</td>\n",
              "      <td>1</td>\n",
              "      <td>600</td>\n",
              "      <td>2.22</td>\n",
              "      <td>-73.999107</td>\n",
              "      <td>40.727924</td>\n",
              "      <td>-73.974869</td>\n",
              "      <td>40.741886</td>\n",
              "    </tr>\n",
              "    <tr>\n",
              "      <th>...</th>\n",
              "      <td>...</td>\n",
              "      <td>...</td>\n",
              "      <td>...</td>\n",
              "      <td>...</td>\n",
              "      <td>...</td>\n",
              "      <td>...</td>\n",
              "      <td>...</td>\n",
              "      <td>...</td>\n",
              "      <td>...</td>\n",
              "      <td>...</td>\n",
              "      <td>...</td>\n",
              "      <td>...</td>\n",
              "      <td>...</td>\n",
              "      <td>...</td>\n",
              "    </tr>\n",
              "    <tr>\n",
              "      <th>1731792</th>\n",
              "      <td>5DAE4FE51457F5B4D4950D00A0AD4394</td>\n",
              "      <td>B76DC9DC874EB9D71CC04ABC0D9AAC6A</td>\n",
              "      <td>CMT</td>\n",
              "      <td>1</td>\n",
              "      <td>N</td>\n",
              "      <td>2013-08-02 03:34:00</td>\n",
              "      <td>2013-08-02 03:51:47</td>\n",
              "      <td>2</td>\n",
              "      <td>1067</td>\n",
              "      <td>6.00</td>\n",
              "      <td>-73.995766</td>\n",
              "      <td>40.764359</td>\n",
              "      <td>-73.920052</td>\n",
              "      <td>40.775574</td>\n",
              "    </tr>\n",
              "    <tr>\n",
              "      <th>1731793</th>\n",
              "      <td>3C16CFAD2B12F3508F7211C37F8F8B8F</td>\n",
              "      <td>A36B62F2B6D1D6C289519810E66EAAB9</td>\n",
              "      <td>VTS</td>\n",
              "      <td>1</td>\n",
              "      <td>NaN</td>\n",
              "      <td>2013-02-21 12:44:00</td>\n",
              "      <td>2013-02-21 13:11:00</td>\n",
              "      <td>6</td>\n",
              "      <td>1620</td>\n",
              "      <td>3.94</td>\n",
              "      <td>0.000000</td>\n",
              "      <td>0.000000</td>\n",
              "      <td>0.000000</td>\n",
              "      <td>0.000000</td>\n",
              "    </tr>\n",
              "    <tr>\n",
              "      <th>1731794</th>\n",
              "      <td>23E5F1FDC96168E865BF7B4427C0163B</td>\n",
              "      <td>E7D75D6D6F2DBD7D25578F02991193D9</td>\n",
              "      <td>VTS</td>\n",
              "      <td>1</td>\n",
              "      <td>NaN</td>\n",
              "      <td>2013-02-16 17:24:00</td>\n",
              "      <td>2013-02-16 17:30:00</td>\n",
              "      <td>3</td>\n",
              "      <td>360</td>\n",
              "      <td>2.15</td>\n",
              "      <td>-73.991554</td>\n",
              "      <td>40.726940</td>\n",
              "      <td>-73.971642</td>\n",
              "      <td>40.751362</td>\n",
              "    </tr>\n",
              "    <tr>\n",
              "      <th>1731795</th>\n",
              "      <td>FE44D1131D86D515C88D5296598DD35A</td>\n",
              "      <td>015615BB1B66BA269602ED1A867271FA</td>\n",
              "      <td>CMT</td>\n",
              "      <td>1</td>\n",
              "      <td>N</td>\n",
              "      <td>2013-05-24 10:29:16</td>\n",
              "      <td>2013-05-24 10:44:39</td>\n",
              "      <td>1</td>\n",
              "      <td>923</td>\n",
              "      <td>7.20</td>\n",
              "      <td>-73.865715</td>\n",
              "      <td>40.771168</td>\n",
              "      <td>-73.809006</td>\n",
              "      <td>40.700127</td>\n",
              "    </tr>\n",
              "    <tr>\n",
              "      <th>1731796</th>\n",
              "      <td>465FE7E793D67BBB8A7A9869065170E5</td>\n",
              "      <td>E5D211ECD1F6A6164B6CFF1EB9B50499</td>\n",
              "      <td>CMT</td>\n",
              "      <td>1</td>\n",
              "      <td>N</td>\n",
              "      <td>2013-03-15 14:42:10</td>\n",
              "      <td>2013-03-15 14:51:20</td>\n",
              "      <td>1</td>\n",
              "      <td>549</td>\n",
              "      <td>0.70</td>\n",
              "      <td>-74.002968</td>\n",
              "      <td>40.718216</td>\n",
              "      <td>-74.011620</td>\n",
              "      <td>40.708351</td>\n",
              "    </tr>\n",
              "  </tbody>\n",
              "</table>\n",
              "<p>1731797 rows × 14 columns</p>\n",
              "</div>"
            ],
            "text/plain": [
              "                                medallion                      hack_license  \\\n",
              "0        037CB433AB5895649F7A9EF37F767EF1  F57FA13A6A82FE2F40D9DB0193DE0FEE   \n",
              "1        E05E952B2DA14C7E9F1D7DEB80667739  11A3989B7BABB288FA3FA233E348C450   \n",
              "2        51B267141807D0261EEB1844D2A78087  9DE60DFD683336F899D5BB448CE7CB09   \n",
              "3        76AC5C0F44D07BA5A2291F19E730B0B9  2348E03BB8227595281D9D6B38E45B38   \n",
              "4        739323AC15DADABE4B54561CB3330C53  9387A0902D7B1B4597802BE63AE7C34F   \n",
              "...                                   ...                               ...   \n",
              "1731792  5DAE4FE51457F5B4D4950D00A0AD4394  B76DC9DC874EB9D71CC04ABC0D9AAC6A   \n",
              "1731793  3C16CFAD2B12F3508F7211C37F8F8B8F  A36B62F2B6D1D6C289519810E66EAAB9   \n",
              "1731794  23E5F1FDC96168E865BF7B4427C0163B  E7D75D6D6F2DBD7D25578F02991193D9   \n",
              "1731795  FE44D1131D86D515C88D5296598DD35A  015615BB1B66BA269602ED1A867271FA   \n",
              "1731796  465FE7E793D67BBB8A7A9869065170E5  E5D211ECD1F6A6164B6CFF1EB9B50499   \n",
              "\n",
              "        vendor_id  rate_code store_and_fwd_flag      pickup_datetime  \\\n",
              "0             VTS          1                NaN  2013-10-04 20:20:00   \n",
              "1             CMT          1                  N  2013-09-27 14:16:04   \n",
              "2             CMT          1                  N  2013-07-18 13:24:37   \n",
              "3             VTS          1                NaN  2013-06-25 12:12:00   \n",
              "4             VTS          1                NaN  2013-04-19 05:28:00   \n",
              "...           ...        ...                ...                  ...   \n",
              "1731792       CMT          1                  N  2013-08-02 03:34:00   \n",
              "1731793       VTS          1                NaN  2013-02-21 12:44:00   \n",
              "1731794       VTS          1                NaN  2013-02-16 17:24:00   \n",
              "1731795       CMT          1                  N  2013-05-24 10:29:16   \n",
              "1731796       CMT          1                  N  2013-03-15 14:42:10   \n",
              "\n",
              "            dropoff_datetime  passenger_count  trip_time_in_secs  \\\n",
              "0        2013-10-04 20:42:00                1               1320   \n",
              "1        2013-09-27 14:37:17                1               1273   \n",
              "2        2013-07-18 13:29:27                3                290   \n",
              "3        2013-06-25 12:28:00                2                960   \n",
              "4        2013-04-19 05:38:00                1                600   \n",
              "...                      ...              ...                ...   \n",
              "1731792  2013-08-02 03:51:47                2               1067   \n",
              "1731793  2013-02-21 13:11:00                6               1620   \n",
              "1731794  2013-02-16 17:30:00                3                360   \n",
              "1731795  2013-05-24 10:44:39                1                923   \n",
              "1731796  2013-03-15 14:51:20                1                549   \n",
              "\n",
              "         trip_distance  pickup_longitude  pickup_latitude  dropoff_longitude  \\\n",
              "0                 4.05        -73.990089        40.723377         -73.941559   \n",
              "1                 2.10        -73.960022        40.710678         -73.994324   \n",
              "2                 0.90        -73.970634        40.760410         -73.960213   \n",
              "3                 1.28        -73.992661        40.752766         -73.975952   \n",
              "4                 2.22        -73.999107        40.727924         -73.974869   \n",
              "...                ...               ...              ...                ...   \n",
              "1731792           6.00        -73.995766        40.764359         -73.920052   \n",
              "1731793           3.94          0.000000         0.000000           0.000000   \n",
              "1731794           2.15        -73.991554        40.726940         -73.971642   \n",
              "1731795           7.20        -73.865715        40.771168         -73.809006   \n",
              "1731796           0.70        -74.002968        40.718216         -74.011620   \n",
              "\n",
              "         dropoff_latitude  \n",
              "0               40.707790  \n",
              "1               40.722858  \n",
              "2               40.770241  \n",
              "3               40.751781  \n",
              "4               40.741886  \n",
              "...                   ...  \n",
              "1731792         40.775574  \n",
              "1731793          0.000000  \n",
              "1731794         40.751362  \n",
              "1731795         40.700127  \n",
              "1731796         40.708351  \n",
              "\n",
              "[1731797 rows x 14 columns]"
            ]
          },
          "execution_count": 4,
          "metadata": {},
          "output_type": "execute_result"
        }
      ],
      "execution_count": 4
    },
    {
      "cell_type": "markdown",
      "source": "* We can see the dimensions of a `DataFrame` using the `shape` property.",
      "metadata": {
        "slideshow": {
          "slide_type": "slide"
        }
      }
    },
    {
      "cell_type": "code",
      "source": "data.shape",
      "metadata": {
        "slideshow": {
          "slide_type": "fragment"
        }
      },
      "outputs": [
        {
          "data": {
            "text/plain": [
              "(1731797, 14)"
            ]
          },
          "execution_count": 5,
          "metadata": {},
          "output_type": "execute_result"
        }
      ],
      "execution_count": 5
    },
    {
      "cell_type": "markdown",
      "source": "* The `head()` method gives us the initial lines of a `DataFrame`.",
      "metadata": {
        "slideshow": {
          "slide_type": "slide"
        }
      }
    },
    {
      "cell_type": "code",
      "source": "data.head(3)",
      "metadata": {
        "slideshow": {
          "slide_type": "fragment"
        }
      },
      "outputs": [
        {
          "data": {
            "text/html": [
              "<div>\n",
              "<style scoped>\n",
              "    .dataframe tbody tr th:only-of-type {\n",
              "        vertical-align: middle;\n",
              "    }\n",
              "\n",
              "    .dataframe tbody tr th {\n",
              "        vertical-align: top;\n",
              "    }\n",
              "\n",
              "    .dataframe thead th {\n",
              "        text-align: right;\n",
              "    }\n",
              "</style>\n",
              "<table border=\"1\" class=\"dataframe\">\n",
              "  <thead>\n",
              "    <tr style=\"text-align: right;\">\n",
              "      <th></th>\n",
              "      <th>medallion</th>\n",
              "      <th>hack_license</th>\n",
              "      <th>vendor_id</th>\n",
              "      <th>rate_code</th>\n",
              "      <th>store_and_fwd_flag</th>\n",
              "      <th>pickup_datetime</th>\n",
              "      <th>dropoff_datetime</th>\n",
              "      <th>passenger_count</th>\n",
              "      <th>trip_time_in_secs</th>\n",
              "      <th>trip_distance</th>\n",
              "      <th>pickup_longitude</th>\n",
              "      <th>pickup_latitude</th>\n",
              "      <th>dropoff_longitude</th>\n",
              "      <th>dropoff_latitude</th>\n",
              "    </tr>\n",
              "  </thead>\n",
              "  <tbody>\n",
              "    <tr>\n",
              "      <th>0</th>\n",
              "      <td>037CB433AB5895649F7A9EF37F767EF1</td>\n",
              "      <td>F57FA13A6A82FE2F40D9DB0193DE0FEE</td>\n",
              "      <td>VTS</td>\n",
              "      <td>1</td>\n",
              "      <td>NaN</td>\n",
              "      <td>2013-10-04 20:20:00</td>\n",
              "      <td>2013-10-04 20:42:00</td>\n",
              "      <td>1</td>\n",
              "      <td>1320</td>\n",
              "      <td>4.05</td>\n",
              "      <td>-73.990089</td>\n",
              "      <td>40.723377</td>\n",
              "      <td>-73.941559</td>\n",
              "      <td>40.707790</td>\n",
              "    </tr>\n",
              "    <tr>\n",
              "      <th>1</th>\n",
              "      <td>E05E952B2DA14C7E9F1D7DEB80667739</td>\n",
              "      <td>11A3989B7BABB288FA3FA233E348C450</td>\n",
              "      <td>CMT</td>\n",
              "      <td>1</td>\n",
              "      <td>N</td>\n",
              "      <td>2013-09-27 14:16:04</td>\n",
              "      <td>2013-09-27 14:37:17</td>\n",
              "      <td>1</td>\n",
              "      <td>1273</td>\n",
              "      <td>2.10</td>\n",
              "      <td>-73.960022</td>\n",
              "      <td>40.710678</td>\n",
              "      <td>-73.994324</td>\n",
              "      <td>40.722858</td>\n",
              "    </tr>\n",
              "    <tr>\n",
              "      <th>2</th>\n",
              "      <td>51B267141807D0261EEB1844D2A78087</td>\n",
              "      <td>9DE60DFD683336F899D5BB448CE7CB09</td>\n",
              "      <td>CMT</td>\n",
              "      <td>1</td>\n",
              "      <td>N</td>\n",
              "      <td>2013-07-18 13:24:37</td>\n",
              "      <td>2013-07-18 13:29:27</td>\n",
              "      <td>3</td>\n",
              "      <td>290</td>\n",
              "      <td>0.90</td>\n",
              "      <td>-73.970634</td>\n",
              "      <td>40.760410</td>\n",
              "      <td>-73.960213</td>\n",
              "      <td>40.770241</td>\n",
              "    </tr>\n",
              "  </tbody>\n",
              "</table>\n",
              "</div>"
            ],
            "text/plain": [
              "                          medallion                      hack_license  \\\n",
              "0  037CB433AB5895649F7A9EF37F767EF1  F57FA13A6A82FE2F40D9DB0193DE0FEE   \n",
              "1  E05E952B2DA14C7E9F1D7DEB80667739  11A3989B7BABB288FA3FA233E348C450   \n",
              "2  51B267141807D0261EEB1844D2A78087  9DE60DFD683336F899D5BB448CE7CB09   \n",
              "\n",
              "  vendor_id  rate_code store_and_fwd_flag      pickup_datetime  \\\n",
              "0       VTS          1                NaN  2013-10-04 20:20:00   \n",
              "1       CMT          1                  N  2013-09-27 14:16:04   \n",
              "2       CMT          1                  N  2013-07-18 13:24:37   \n",
              "\n",
              "      dropoff_datetime  passenger_count  trip_time_in_secs  trip_distance  \\\n",
              "0  2013-10-04 20:42:00                1               1320           4.05   \n",
              "1  2013-09-27 14:37:17                1               1273           2.10   \n",
              "2  2013-07-18 13:29:27                3                290           0.90   \n",
              "\n",
              "   pickup_longitude  pickup_latitude  dropoff_longitude  dropoff_latitude  \n",
              "0        -73.990089        40.723377         -73.941559         40.707790  \n",
              "1        -73.960022        40.710678         -73.994324         40.722858  \n",
              "2        -73.970634        40.760410         -73.960213         40.770241  "
            ]
          },
          "execution_count": 6,
          "metadata": {},
          "output_type": "execute_result"
        }
      ],
      "execution_count": 6
    },
    {
      "cell_type": "markdown",
      "source": "* We can also handle this with the usual Python syntax for data sequences:",
      "metadata": {
        "slideshow": {
          "slide_type": "slide"
        }
      }
    },
    {
      "cell_type": "code",
      "source": "data[:3]",
      "metadata": {
        "slideshow": {
          "slide_type": "fragment"
        }
      },
      "outputs": [
        {
          "data": {
            "text/html": [
              "<div>\n",
              "<style scoped>\n",
              "    .dataframe tbody tr th:only-of-type {\n",
              "        vertical-align: middle;\n",
              "    }\n",
              "\n",
              "    .dataframe tbody tr th {\n",
              "        vertical-align: top;\n",
              "    }\n",
              "\n",
              "    .dataframe thead th {\n",
              "        text-align: right;\n",
              "    }\n",
              "</style>\n",
              "<table border=\"1\" class=\"dataframe\">\n",
              "  <thead>\n",
              "    <tr style=\"text-align: right;\">\n",
              "      <th></th>\n",
              "      <th>medallion</th>\n",
              "      <th>hack_license</th>\n",
              "      <th>vendor_id</th>\n",
              "      <th>rate_code</th>\n",
              "      <th>store_and_fwd_flag</th>\n",
              "      <th>pickup_datetime</th>\n",
              "      <th>dropoff_datetime</th>\n",
              "      <th>passenger_count</th>\n",
              "      <th>trip_time_in_secs</th>\n",
              "      <th>trip_distance</th>\n",
              "      <th>pickup_longitude</th>\n",
              "      <th>pickup_latitude</th>\n",
              "      <th>dropoff_longitude</th>\n",
              "      <th>dropoff_latitude</th>\n",
              "    </tr>\n",
              "  </thead>\n",
              "  <tbody>\n",
              "    <tr>\n",
              "      <th>0</th>\n",
              "      <td>037CB433AB5895649F7A9EF37F767EF1</td>\n",
              "      <td>F57FA13A6A82FE2F40D9DB0193DE0FEE</td>\n",
              "      <td>VTS</td>\n",
              "      <td>1</td>\n",
              "      <td>NaN</td>\n",
              "      <td>2013-10-04 20:20:00</td>\n",
              "      <td>2013-10-04 20:42:00</td>\n",
              "      <td>1</td>\n",
              "      <td>1320</td>\n",
              "      <td>4.05</td>\n",
              "      <td>-73.990089</td>\n",
              "      <td>40.723377</td>\n",
              "      <td>-73.941559</td>\n",
              "      <td>40.707790</td>\n",
              "    </tr>\n",
              "    <tr>\n",
              "      <th>1</th>\n",
              "      <td>E05E952B2DA14C7E9F1D7DEB80667739</td>\n",
              "      <td>11A3989B7BABB288FA3FA233E348C450</td>\n",
              "      <td>CMT</td>\n",
              "      <td>1</td>\n",
              "      <td>N</td>\n",
              "      <td>2013-09-27 14:16:04</td>\n",
              "      <td>2013-09-27 14:37:17</td>\n",
              "      <td>1</td>\n",
              "      <td>1273</td>\n",
              "      <td>2.10</td>\n",
              "      <td>-73.960022</td>\n",
              "      <td>40.710678</td>\n",
              "      <td>-73.994324</td>\n",
              "      <td>40.722858</td>\n",
              "    </tr>\n",
              "    <tr>\n",
              "      <th>2</th>\n",
              "      <td>51B267141807D0261EEB1844D2A78087</td>\n",
              "      <td>9DE60DFD683336F899D5BB448CE7CB09</td>\n",
              "      <td>CMT</td>\n",
              "      <td>1</td>\n",
              "      <td>N</td>\n",
              "      <td>2013-07-18 13:24:37</td>\n",
              "      <td>2013-07-18 13:29:27</td>\n",
              "      <td>3</td>\n",
              "      <td>290</td>\n",
              "      <td>0.90</td>\n",
              "      <td>-73.970634</td>\n",
              "      <td>40.760410</td>\n",
              "      <td>-73.960213</td>\n",
              "      <td>40.770241</td>\n",
              "    </tr>\n",
              "  </tbody>\n",
              "</table>\n",
              "</div>"
            ],
            "text/plain": [
              "                          medallion                      hack_license  \\\n",
              "0  037CB433AB5895649F7A9EF37F767EF1  F57FA13A6A82FE2F40D9DB0193DE0FEE   \n",
              "1  E05E952B2DA14C7E9F1D7DEB80667739  11A3989B7BABB288FA3FA233E348C450   \n",
              "2  51B267141807D0261EEB1844D2A78087  9DE60DFD683336F899D5BB448CE7CB09   \n",
              "\n",
              "  vendor_id  rate_code store_and_fwd_flag      pickup_datetime  \\\n",
              "0       VTS          1                NaN  2013-10-04 20:20:00   \n",
              "1       CMT          1                  N  2013-09-27 14:16:04   \n",
              "2       CMT          1                  N  2013-07-18 13:24:37   \n",
              "\n",
              "      dropoff_datetime  passenger_count  trip_time_in_secs  trip_distance  \\\n",
              "0  2013-10-04 20:42:00                1               1320           4.05   \n",
              "1  2013-09-27 14:37:17                1               1273           2.10   \n",
              "2  2013-07-18 13:29:27                3                290           0.90   \n",
              "\n",
              "   pickup_longitude  pickup_latitude  dropoff_longitude  dropoff_latitude  \n",
              "0        -73.990089        40.723377         -73.941559         40.707790  \n",
              "1        -73.960022        40.710678         -73.994324         40.722858  \n",
              "2        -73.970634        40.760410         -73.960213         40.770241  "
            ]
          },
          "execution_count": 7,
          "metadata": {},
          "output_type": "execute_result"
        }
      ],
      "execution_count": 7
    },
    {
      "cell_type": "markdown",
      "source": "* Correspondingly, the `tail()` method gives us the last lines of a `DataFrame`.",
      "metadata": {
        "collapsed": true,
        "slideshow": {
          "slide_type": "slide"
        },
        "jupyter": {
          "outputs_hidden": true
        }
      }
    },
    {
      "cell_type": "code",
      "source": "data.tail(3)",
      "metadata": {
        "slideshow": {
          "slide_type": "fragment"
        }
      },
      "outputs": [
        {
          "data": {
            "text/html": [
              "<div>\n",
              "<style scoped>\n",
              "    .dataframe tbody tr th:only-of-type {\n",
              "        vertical-align: middle;\n",
              "    }\n",
              "\n",
              "    .dataframe tbody tr th {\n",
              "        vertical-align: top;\n",
              "    }\n",
              "\n",
              "    .dataframe thead th {\n",
              "        text-align: right;\n",
              "    }\n",
              "</style>\n",
              "<table border=\"1\" class=\"dataframe\">\n",
              "  <thead>\n",
              "    <tr style=\"text-align: right;\">\n",
              "      <th></th>\n",
              "      <th>medallion</th>\n",
              "      <th>hack_license</th>\n",
              "      <th>vendor_id</th>\n",
              "      <th>rate_code</th>\n",
              "      <th>store_and_fwd_flag</th>\n",
              "      <th>pickup_datetime</th>\n",
              "      <th>dropoff_datetime</th>\n",
              "      <th>passenger_count</th>\n",
              "      <th>trip_time_in_secs</th>\n",
              "      <th>trip_distance</th>\n",
              "      <th>pickup_longitude</th>\n",
              "      <th>pickup_latitude</th>\n",
              "      <th>dropoff_longitude</th>\n",
              "      <th>dropoff_latitude</th>\n",
              "    </tr>\n",
              "  </thead>\n",
              "  <tbody>\n",
              "    <tr>\n",
              "      <th>1731794</th>\n",
              "      <td>23E5F1FDC96168E865BF7B4427C0163B</td>\n",
              "      <td>E7D75D6D6F2DBD7D25578F02991193D9</td>\n",
              "      <td>VTS</td>\n",
              "      <td>1</td>\n",
              "      <td>NaN</td>\n",
              "      <td>2013-02-16 17:24:00</td>\n",
              "      <td>2013-02-16 17:30:00</td>\n",
              "      <td>3</td>\n",
              "      <td>360</td>\n",
              "      <td>2.15</td>\n",
              "      <td>-73.991554</td>\n",
              "      <td>40.726940</td>\n",
              "      <td>-73.971642</td>\n",
              "      <td>40.751362</td>\n",
              "    </tr>\n",
              "    <tr>\n",
              "      <th>1731795</th>\n",
              "      <td>FE44D1131D86D515C88D5296598DD35A</td>\n",
              "      <td>015615BB1B66BA269602ED1A867271FA</td>\n",
              "      <td>CMT</td>\n",
              "      <td>1</td>\n",
              "      <td>N</td>\n",
              "      <td>2013-05-24 10:29:16</td>\n",
              "      <td>2013-05-24 10:44:39</td>\n",
              "      <td>1</td>\n",
              "      <td>923</td>\n",
              "      <td>7.20</td>\n",
              "      <td>-73.865715</td>\n",
              "      <td>40.771168</td>\n",
              "      <td>-73.809006</td>\n",
              "      <td>40.700127</td>\n",
              "    </tr>\n",
              "    <tr>\n",
              "      <th>1731796</th>\n",
              "      <td>465FE7E793D67BBB8A7A9869065170E5</td>\n",
              "      <td>E5D211ECD1F6A6164B6CFF1EB9B50499</td>\n",
              "      <td>CMT</td>\n",
              "      <td>1</td>\n",
              "      <td>N</td>\n",
              "      <td>2013-03-15 14:42:10</td>\n",
              "      <td>2013-03-15 14:51:20</td>\n",
              "      <td>1</td>\n",
              "      <td>549</td>\n",
              "      <td>0.70</td>\n",
              "      <td>-74.002968</td>\n",
              "      <td>40.718216</td>\n",
              "      <td>-74.011620</td>\n",
              "      <td>40.708351</td>\n",
              "    </tr>\n",
              "  </tbody>\n",
              "</table>\n",
              "</div>"
            ],
            "text/plain": [
              "                                medallion                      hack_license  \\\n",
              "1731794  23E5F1FDC96168E865BF7B4427C0163B  E7D75D6D6F2DBD7D25578F02991193D9   \n",
              "1731795  FE44D1131D86D515C88D5296598DD35A  015615BB1B66BA269602ED1A867271FA   \n",
              "1731796  465FE7E793D67BBB8A7A9869065170E5  E5D211ECD1F6A6164B6CFF1EB9B50499   \n",
              "\n",
              "        vendor_id  rate_code store_and_fwd_flag      pickup_datetime  \\\n",
              "1731794       VTS          1                NaN  2013-02-16 17:24:00   \n",
              "1731795       CMT          1                  N  2013-05-24 10:29:16   \n",
              "1731796       CMT          1                  N  2013-03-15 14:42:10   \n",
              "\n",
              "            dropoff_datetime  passenger_count  trip_time_in_secs  \\\n",
              "1731794  2013-02-16 17:30:00                3                360   \n",
              "1731795  2013-05-24 10:44:39                1                923   \n",
              "1731796  2013-03-15 14:51:20                1                549   \n",
              "\n",
              "         trip_distance  pickup_longitude  pickup_latitude  dropoff_longitude  \\\n",
              "1731794           2.15        -73.991554        40.726940         -73.971642   \n",
              "1731795           7.20        -73.865715        40.771168         -73.809006   \n",
              "1731796           0.70        -74.002968        40.718216         -74.011620   \n",
              "\n",
              "         dropoff_latitude  \n",
              "1731794         40.751362  \n",
              "1731795         40.700127  \n",
              "1731796         40.708351  "
            ]
          },
          "execution_count": 8,
          "metadata": {},
          "output_type": "execute_result"
        }
      ],
      "execution_count": 8
    },
    {
      "cell_type": "markdown",
      "source": "* Or again with the familiar Python syntax:",
      "metadata": {
        "slideshow": {
          "slide_type": "slide"
        }
      }
    },
    {
      "cell_type": "code",
      "source": "data[-3:]",
      "metadata": {
        "slideshow": {
          "slide_type": "fragment"
        }
      },
      "outputs": [
        {
          "data": {
            "text/html": [
              "<div>\n",
              "<style scoped>\n",
              "    .dataframe tbody tr th:only-of-type {\n",
              "        vertical-align: middle;\n",
              "    }\n",
              "\n",
              "    .dataframe tbody tr th {\n",
              "        vertical-align: top;\n",
              "    }\n",
              "\n",
              "    .dataframe thead th {\n",
              "        text-align: right;\n",
              "    }\n",
              "</style>\n",
              "<table border=\"1\" class=\"dataframe\">\n",
              "  <thead>\n",
              "    <tr style=\"text-align: right;\">\n",
              "      <th></th>\n",
              "      <th>medallion</th>\n",
              "      <th>hack_license</th>\n",
              "      <th>vendor_id</th>\n",
              "      <th>rate_code</th>\n",
              "      <th>store_and_fwd_flag</th>\n",
              "      <th>pickup_datetime</th>\n",
              "      <th>dropoff_datetime</th>\n",
              "      <th>passenger_count</th>\n",
              "      <th>trip_time_in_secs</th>\n",
              "      <th>trip_distance</th>\n",
              "      <th>pickup_longitude</th>\n",
              "      <th>pickup_latitude</th>\n",
              "      <th>dropoff_longitude</th>\n",
              "      <th>dropoff_latitude</th>\n",
              "    </tr>\n",
              "  </thead>\n",
              "  <tbody>\n",
              "    <tr>\n",
              "      <th>1731794</th>\n",
              "      <td>23E5F1FDC96168E865BF7B4427C0163B</td>\n",
              "      <td>E7D75D6D6F2DBD7D25578F02991193D9</td>\n",
              "      <td>VTS</td>\n",
              "      <td>1</td>\n",
              "      <td>NaN</td>\n",
              "      <td>2013-02-16 17:24:00</td>\n",
              "      <td>2013-02-16 17:30:00</td>\n",
              "      <td>3</td>\n",
              "      <td>360</td>\n",
              "      <td>2.15</td>\n",
              "      <td>-73.991554</td>\n",
              "      <td>40.726940</td>\n",
              "      <td>-73.971642</td>\n",
              "      <td>40.751362</td>\n",
              "    </tr>\n",
              "    <tr>\n",
              "      <th>1731795</th>\n",
              "      <td>FE44D1131D86D515C88D5296598DD35A</td>\n",
              "      <td>015615BB1B66BA269602ED1A867271FA</td>\n",
              "      <td>CMT</td>\n",
              "      <td>1</td>\n",
              "      <td>N</td>\n",
              "      <td>2013-05-24 10:29:16</td>\n",
              "      <td>2013-05-24 10:44:39</td>\n",
              "      <td>1</td>\n",
              "      <td>923</td>\n",
              "      <td>7.20</td>\n",
              "      <td>-73.865715</td>\n",
              "      <td>40.771168</td>\n",
              "      <td>-73.809006</td>\n",
              "      <td>40.700127</td>\n",
              "    </tr>\n",
              "    <tr>\n",
              "      <th>1731796</th>\n",
              "      <td>465FE7E793D67BBB8A7A9869065170E5</td>\n",
              "      <td>E5D211ECD1F6A6164B6CFF1EB9B50499</td>\n",
              "      <td>CMT</td>\n",
              "      <td>1</td>\n",
              "      <td>N</td>\n",
              "      <td>2013-03-15 14:42:10</td>\n",
              "      <td>2013-03-15 14:51:20</td>\n",
              "      <td>1</td>\n",
              "      <td>549</td>\n",
              "      <td>0.70</td>\n",
              "      <td>-74.002968</td>\n",
              "      <td>40.718216</td>\n",
              "      <td>-74.011620</td>\n",
              "      <td>40.708351</td>\n",
              "    </tr>\n",
              "  </tbody>\n",
              "</table>\n",
              "</div>"
            ],
            "text/plain": [
              "                                medallion                      hack_license  \\\n",
              "1731794  23E5F1FDC96168E865BF7B4427C0163B  E7D75D6D6F2DBD7D25578F02991193D9   \n",
              "1731795  FE44D1131D86D515C88D5296598DD35A  015615BB1B66BA269602ED1A867271FA   \n",
              "1731796  465FE7E793D67BBB8A7A9869065170E5  E5D211ECD1F6A6164B6CFF1EB9B50499   \n",
              "\n",
              "        vendor_id  rate_code store_and_fwd_flag      pickup_datetime  \\\n",
              "1731794       VTS          1                NaN  2013-02-16 17:24:00   \n",
              "1731795       CMT          1                  N  2013-05-24 10:29:16   \n",
              "1731796       CMT          1                  N  2013-03-15 14:42:10   \n",
              "\n",
              "            dropoff_datetime  passenger_count  trip_time_in_secs  \\\n",
              "1731794  2013-02-16 17:30:00                3                360   \n",
              "1731795  2013-05-24 10:44:39                1                923   \n",
              "1731796  2013-03-15 14:51:20                1                549   \n",
              "\n",
              "         trip_distance  pickup_longitude  pickup_latitude  dropoff_longitude  \\\n",
              "1731794           2.15        -73.991554        40.726940         -73.971642   \n",
              "1731795           7.20        -73.865715        40.771168         -73.809006   \n",
              "1731796           0.70        -74.002968        40.718216         -74.011620   \n",
              "\n",
              "         dropoff_latitude  \n",
              "1731794         40.751362  \n",
              "1731795         40.700127  \n",
              "1731796         40.708351  "
            ]
          },
          "execution_count": 9,
          "metadata": {},
          "output_type": "execute_result"
        }
      ],
      "execution_count": 9
    },
    {
      "cell_type": "markdown",
      "source": "* The `describe()` method gives us basic descriptive statistics.",
      "metadata": {
        "slideshow": {
          "slide_type": "slide"
        }
      }
    },
    {
      "cell_type": "code",
      "source": "data.describe()",
      "metadata": {
        "slideshow": {
          "slide_type": "fragment"
        }
      },
      "outputs": [
        {
          "data": {
            "text/html": [
              "<div>\n",
              "<style scoped>\n",
              "    .dataframe tbody tr th:only-of-type {\n",
              "        vertical-align: middle;\n",
              "    }\n",
              "\n",
              "    .dataframe tbody tr th {\n",
              "        vertical-align: top;\n",
              "    }\n",
              "\n",
              "    .dataframe thead th {\n",
              "        text-align: right;\n",
              "    }\n",
              "</style>\n",
              "<table border=\"1\" class=\"dataframe\">\n",
              "  <thead>\n",
              "    <tr style=\"text-align: right;\">\n",
              "      <th></th>\n",
              "      <th>rate_code</th>\n",
              "      <th>passenger_count</th>\n",
              "      <th>trip_time_in_secs</th>\n",
              "      <th>trip_distance</th>\n",
              "      <th>pickup_longitude</th>\n",
              "      <th>pickup_latitude</th>\n",
              "      <th>dropoff_longitude</th>\n",
              "      <th>dropoff_latitude</th>\n",
              "    </tr>\n",
              "  </thead>\n",
              "  <tbody>\n",
              "    <tr>\n",
              "      <th>count</th>\n",
              "      <td>1.731797e+06</td>\n",
              "      <td>1.731797e+06</td>\n",
              "      <td>1.731797e+06</td>\n",
              "      <td>1.731797e+06</td>\n",
              "      <td>1.731797e+06</td>\n",
              "      <td>1.731797e+06</td>\n",
              "      <td>1.731767e+06</td>\n",
              "      <td>1.731767e+06</td>\n",
              "    </tr>\n",
              "    <tr>\n",
              "      <th>mean</th>\n",
              "      <td>1.033927e+00</td>\n",
              "      <td>1.707519e+00</td>\n",
              "      <td>8.110141e+02</td>\n",
              "      <td>3.458005e+00</td>\n",
              "      <td>-7.244724e+01</td>\n",
              "      <td>3.974714e+01</td>\n",
              "      <td>-7.240237e+01</td>\n",
              "      <td>3.972352e+01</td>\n",
              "    </tr>\n",
              "    <tr>\n",
              "      <th>std</th>\n",
              "      <td>4.174030e-01</td>\n",
              "      <td>1.373835e+00</td>\n",
              "      <td>1.561974e+04</td>\n",
              "      <td>7.221295e+02</td>\n",
              "      <td>1.122722e+01</td>\n",
              "      <td>8.509423e+00</td>\n",
              "      <td>1.134113e+01</td>\n",
              "      <td>8.562259e+00</td>\n",
              "    </tr>\n",
              "    <tr>\n",
              "      <th>min</th>\n",
              "      <td>0.000000e+00</td>\n",
              "      <td>0.000000e+00</td>\n",
              "      <td>-1.000000e+01</td>\n",
              "      <td>0.000000e+00</td>\n",
              "      <td>-7.400217e+02</td>\n",
              "      <td>-3.117494e+03</td>\n",
              "      <td>-1.800000e+02</td>\n",
              "      <td>-3.114296e+03</td>\n",
              "    </tr>\n",
              "    <tr>\n",
              "      <th>25%</th>\n",
              "      <td>1.000000e+00</td>\n",
              "      <td>1.000000e+00</td>\n",
              "      <td>3.600000e+02</td>\n",
              "      <td>1.040000e+00</td>\n",
              "      <td>-7.399218e+01</td>\n",
              "      <td>4.073443e+01</td>\n",
              "      <td>-7.399147e+01</td>\n",
              "      <td>4.073352e+01</td>\n",
              "    </tr>\n",
              "    <tr>\n",
              "      <th>50%</th>\n",
              "      <td>1.000000e+00</td>\n",
              "      <td>1.000000e+00</td>\n",
              "      <td>6.000000e+02</td>\n",
              "      <td>1.800000e+00</td>\n",
              "      <td>-7.398184e+01</td>\n",
              "      <td>4.075238e+01</td>\n",
              "      <td>-7.398027e+01</td>\n",
              "      <td>4.075280e+01</td>\n",
              "    </tr>\n",
              "    <tr>\n",
              "      <th>75%</th>\n",
              "      <td>1.000000e+00</td>\n",
              "      <td>2.000000e+00</td>\n",
              "      <td>9.600000e+02</td>\n",
              "      <td>3.200000e+00</td>\n",
              "      <td>-7.396687e+01</td>\n",
              "      <td>4.076700e+01</td>\n",
              "      <td>-7.396362e+01</td>\n",
              "      <td>4.076778e+01</td>\n",
              "    </tr>\n",
              "    <tr>\n",
              "      <th>max</th>\n",
              "      <td>2.100000e+02</td>\n",
              "      <td>7.000000e+00</td>\n",
              "      <td>4.294941e+06</td>\n",
              "      <td>9.500000e+05</td>\n",
              "      <td>5.197732e+01</td>\n",
              "      <td>7.400267e+01</td>\n",
              "      <td>8.431574e+01</td>\n",
              "      <td>7.401300e+01</td>\n",
              "    </tr>\n",
              "  </tbody>\n",
              "</table>\n",
              "</div>"
            ],
            "text/plain": [
              "          rate_code  passenger_count  trip_time_in_secs  trip_distance  \\\n",
              "count  1.731797e+06     1.731797e+06       1.731797e+06   1.731797e+06   \n",
              "mean   1.033927e+00     1.707519e+00       8.110141e+02   3.458005e+00   \n",
              "std    4.174030e-01     1.373835e+00       1.561974e+04   7.221295e+02   \n",
              "min    0.000000e+00     0.000000e+00      -1.000000e+01   0.000000e+00   \n",
              "25%    1.000000e+00     1.000000e+00       3.600000e+02   1.040000e+00   \n",
              "50%    1.000000e+00     1.000000e+00       6.000000e+02   1.800000e+00   \n",
              "75%    1.000000e+00     2.000000e+00       9.600000e+02   3.200000e+00   \n",
              "max    2.100000e+02     7.000000e+00       4.294941e+06   9.500000e+05   \n",
              "\n",
              "       pickup_longitude  pickup_latitude  dropoff_longitude  dropoff_latitude  \n",
              "count      1.731797e+06     1.731797e+06       1.731767e+06      1.731767e+06  \n",
              "mean      -7.244724e+01     3.974714e+01      -7.240237e+01      3.972352e+01  \n",
              "std        1.122722e+01     8.509423e+00       1.134113e+01      8.562259e+00  \n",
              "min       -7.400217e+02    -3.117494e+03      -1.800000e+02     -3.114296e+03  \n",
              "25%       -7.399218e+01     4.073443e+01      -7.399147e+01      4.073352e+01  \n",
              "50%       -7.398184e+01     4.075238e+01      -7.398027e+01      4.075280e+01  \n",
              "75%       -7.396687e+01     4.076700e+01      -7.396362e+01      4.076778e+01  \n",
              "max        5.197732e+01     7.400267e+01       8.431574e+01      7.401300e+01  "
            ]
          },
          "execution_count": 10,
          "metadata": {},
          "output_type": "execute_result"
        }
      ],
      "execution_count": 10
    },
    {
      "cell_type": "markdown",
      "source": "* The basic library for data visualization with Python is [matplotlib](https://matplotlib.org/).\n\n* We will look at the points in the city where passengers get into taxis.\n\n* The first step is to find the geographic coordinates of the points from `DataFrame`.",
      "metadata": {
        "slideshow": {
          "slide_type": "slide"
        }
      }
    },
    {
      "cell_type": "markdown",
      "source": "* To remember what the columns are.",
      "metadata": {
        "slideshow": {
          "slide_type": "slide"
        }
      }
    },
    {
      "cell_type": "code",
      "source": "data.columns",
      "metadata": {
        "slideshow": {
          "slide_type": "fragment"
        }
      },
      "outputs": [
        {
          "data": {
            "text/plain": [
              "Index(['medallion', 'hack_license', 'vendor_id', 'rate_code',\n",
              "       'store_and_fwd_flag', 'pickup_datetime', 'dropoff_datetime',\n",
              "       'passenger_count', 'trip_time_in_secs', 'trip_distance',\n",
              "       'pickup_longitude', 'pickup_latitude', 'dropoff_longitude',\n",
              "       'dropoff_latitude'],\n",
              "      dtype='object')"
            ]
          },
          "execution_count": 11,
          "metadata": {},
          "output_type": "execute_result"
        }
      ],
      "execution_count": 11
    },
    {
      "cell_type": "markdown",
      "source": "* There are four columns corresponding to the coordinates where the passenger enters and exits the vehicle:\n\n * `pickup_longitude`\n * `pickup_latitude`\n * `dropoff_longitude`\n * `dropoff_latitude`\n\n* As we said, we will focus on the points where a route starts.",
      "metadata": {
        "slideshow": {
          "slide_type": "slide"
        }
      }
    },
    {
      "cell_type": "markdown",
      "source": "* We can refer to a column of a `DataFrame` by giving the name of the `DataFrame`, a period, and the name of the column:",
      "metadata": {
        "slideshow": {
          "slide_type": "slide"
        }
      }
    },
    {
      "cell_type": "code",
      "source": "data.pickup_longitude",
      "metadata": {
        "slideshow": {
          "slide_type": "fragment"
        }
      },
      "outputs": [
        {
          "data": {
            "text/plain": [
              "0         -73.990089\n",
              "1         -73.960022\n",
              "2         -73.970634\n",
              "3         -73.992661\n",
              "4         -73.999107\n",
              "             ...    \n",
              "1731792   -73.995766\n",
              "1731793     0.000000\n",
              "1731794   -73.991554\n",
              "1731795   -73.865715\n",
              "1731796   -74.002968\n",
              "Name: pickup_longitude, Length: 1731797, dtype: float64"
            ]
          },
          "execution_count": 12,
          "metadata": {},
          "output_type": "execute_result"
        }
      ],
      "execution_count": 12
    },
    {
      "cell_type": "markdown",
      "source": "* Alternatively, we can use the syntax we use in Python dictionaries:",
      "metadata": {
        "slideshow": {
          "slide_type": "slide"
        }
      }
    },
    {
      "cell_type": "code",
      "source": "data['pickup_latitude']",
      "metadata": {
        "slideshow": {
          "slide_type": "fragment"
        }
      },
      "outputs": [
        {
          "data": {
            "text/plain": [
              "0          40.723377\n",
              "1          40.710678\n",
              "2          40.760410\n",
              "3          40.752766\n",
              "4          40.727924\n",
              "             ...    \n",
              "1731792    40.764359\n",
              "1731793     0.000000\n",
              "1731794    40.726940\n",
              "1731795    40.771168\n",
              "1731796    40.718216\n",
              "Name: pickup_latitude, Length: 1731797, dtype: float64"
            ]
          },
          "execution_count": 13,
          "metadata": {},
          "output_type": "execute_result"
        }
      ],
      "execution_count": 13
    },
    {
      "cell_type": "markdown",
      "source": "* Each column is an object of type `Series`.\n\n* So, a `DataFrame` is ultimately a set of columns of type `Series`.",
      "metadata": {
        "slideshow": {
          "slide_type": "slide"
        }
      }
    },
    {
      "cell_type": "markdown",
      "source": "* Before we saw that some of the `DataFrame` values ​​don't make sense.\n\n* The latitude value range should be between 0 and 90 degrees.\n\n* But is it really so?\n\n* We can ascertain this by calling the appropriate methods on the `Series' objects of the column we are interested in.",
      "metadata": {
        "slideshow": {
          "slide_type": "slide"
        }
      }
    },
    {
      "cell_type": "code",
      "source": "print(data['pickup_latitude'].min(), data['pickup_latitude'].max())",
      "metadata": {
        "slideshow": {
          "slide_type": "fragment"
        }
      },
      "outputs": [
        {
          "name": "stdout",
          "output_type": "stream",
          "text": [
            "-3117.4944 74.00267\n"
          ]
        }
      ],
      "execution_count": 14
    },
    {
      "cell_type": "markdown",
      "source": "* The longitude range should be between -180 and 0 degrees (or probably much smaller, since we don't have amphibious taxis in our data).\n\n* Again, is it really so?",
      "metadata": {
        "slideshow": {
          "slide_type": "slide"
        }
      }
    },
    {
      "cell_type": "code",
      "source": "print(data['pickup_longitude'].min(), data['pickup_longitude'].max())",
      "metadata": {
        "slideshow": {
          "slide_type": "fragment"
        }
      },
      "outputs": [
        {
          "name": "stdout",
          "output_type": "stream",
          "text": [
            "-740.02167 51.977318\n"
          ]
        }
      ],
      "execution_count": 15
    },
    {
      "cell_type": "markdown",
      "source": "* If we want to define a filter on the values ​​of a column, we start by defining the condition we are interested in.\n\n* A boolean condition on one column returns a boolean vector (with `True' and `False' values):",
      "metadata": {
        "slideshow": {
          "slide_type": "slide"
        }
      }
    },
    {
      "cell_type": "code",
      "source": "data['pickup_latitude'] >= 0",
      "metadata": {
        "slideshow": {
          "slide_type": "fragment"
        }
      },
      "outputs": [
        {
          "data": {
            "text/plain": [
              "0          True\n",
              "1          True\n",
              "2          True\n",
              "3          True\n",
              "4          True\n",
              "           ... \n",
              "1731792    True\n",
              "1731793    True\n",
              "1731794    True\n",
              "1731795    True\n",
              "1731796    True\n",
              "Name: pickup_latitude, Length: 1731797, dtype: bool"
            ]
          },
          "execution_count": 16,
          "metadata": {},
          "output_type": "execute_result"
        }
      ],
      "execution_count": 16
    },
    {
      "cell_type": "markdown",
      "source": "* If we pass a logical vector to a `DataFrame` we get the rows of the `DataFrame` for which the vector has the value `True`.",
      "metadata": {
        "slideshow": {
          "slide_type": "slide"
        }
      }
    },
    {
      "cell_type": "code",
      "source": "print(data.shape[0])\ndata[data['pickup_latitude'] >= 0]",
      "metadata": {
        "slideshow": {
          "slide_type": "fragment"
        }
      },
      "outputs": [
        {
          "name": "stdout",
          "output_type": "stream",
          "text": [
            "1731797\n"
          ]
        },
        {
          "data": {
            "text/html": [
              "<div>\n",
              "<style scoped>\n",
              "    .dataframe tbody tr th:only-of-type {\n",
              "        vertical-align: middle;\n",
              "    }\n",
              "\n",
              "    .dataframe tbody tr th {\n",
              "        vertical-align: top;\n",
              "    }\n",
              "\n",
              "    .dataframe thead th {\n",
              "        text-align: right;\n",
              "    }\n",
              "</style>\n",
              "<table border=\"1\" class=\"dataframe\">\n",
              "  <thead>\n",
              "    <tr style=\"text-align: right;\">\n",
              "      <th></th>\n",
              "      <th>medallion</th>\n",
              "      <th>hack_license</th>\n",
              "      <th>vendor_id</th>\n",
              "      <th>rate_code</th>\n",
              "      <th>store_and_fwd_flag</th>\n",
              "      <th>pickup_datetime</th>\n",
              "      <th>dropoff_datetime</th>\n",
              "      <th>passenger_count</th>\n",
              "      <th>trip_time_in_secs</th>\n",
              "      <th>trip_distance</th>\n",
              "      <th>pickup_longitude</th>\n",
              "      <th>pickup_latitude</th>\n",
              "      <th>dropoff_longitude</th>\n",
              "      <th>dropoff_latitude</th>\n",
              "    </tr>\n",
              "  </thead>\n",
              "  <tbody>\n",
              "    <tr>\n",
              "      <th>0</th>\n",
              "      <td>037CB433AB5895649F7A9EF37F767EF1</td>\n",
              "      <td>F57FA13A6A82FE2F40D9DB0193DE0FEE</td>\n",
              "      <td>VTS</td>\n",
              "      <td>1</td>\n",
              "      <td>NaN</td>\n",
              "      <td>2013-10-04 20:20:00</td>\n",
              "      <td>2013-10-04 20:42:00</td>\n",
              "      <td>1</td>\n",
              "      <td>1320</td>\n",
              "      <td>4.05</td>\n",
              "      <td>-73.990089</td>\n",
              "      <td>40.723377</td>\n",
              "      <td>-73.941559</td>\n",
              "      <td>40.707790</td>\n",
              "    </tr>\n",
              "    <tr>\n",
              "      <th>1</th>\n",
              "      <td>E05E952B2DA14C7E9F1D7DEB80667739</td>\n",
              "      <td>11A3989B7BABB288FA3FA233E348C450</td>\n",
              "      <td>CMT</td>\n",
              "      <td>1</td>\n",
              "      <td>N</td>\n",
              "      <td>2013-09-27 14:16:04</td>\n",
              "      <td>2013-09-27 14:37:17</td>\n",
              "      <td>1</td>\n",
              "      <td>1273</td>\n",
              "      <td>2.10</td>\n",
              "      <td>-73.960022</td>\n",
              "      <td>40.710678</td>\n",
              "      <td>-73.994324</td>\n",
              "      <td>40.722858</td>\n",
              "    </tr>\n",
              "    <tr>\n",
              "      <th>2</th>\n",
              "      <td>51B267141807D0261EEB1844D2A78087</td>\n",
              "      <td>9DE60DFD683336F899D5BB448CE7CB09</td>\n",
              "      <td>CMT</td>\n",
              "      <td>1</td>\n",
              "      <td>N</td>\n",
              "      <td>2013-07-18 13:24:37</td>\n",
              "      <td>2013-07-18 13:29:27</td>\n",
              "      <td>3</td>\n",
              "      <td>290</td>\n",
              "      <td>0.90</td>\n",
              "      <td>-73.970634</td>\n",
              "      <td>40.760410</td>\n",
              "      <td>-73.960213</td>\n",
              "      <td>40.770241</td>\n",
              "    </tr>\n",
              "    <tr>\n",
              "      <th>3</th>\n",
              "      <td>76AC5C0F44D07BA5A2291F19E730B0B9</td>\n",
              "      <td>2348E03BB8227595281D9D6B38E45B38</td>\n",
              "      <td>VTS</td>\n",
              "      <td>1</td>\n",
              "      <td>NaN</td>\n",
              "      <td>2013-06-25 12:12:00</td>\n",
              "      <td>2013-06-25 12:28:00</td>\n",
              "      <td>2</td>\n",
              "      <td>960</td>\n",
              "      <td>1.28</td>\n",
              "      <td>-73.992661</td>\n",
              "      <td>40.752766</td>\n",
              "      <td>-73.975952</td>\n",
              "      <td>40.751781</td>\n",
              "    </tr>\n",
              "    <tr>\n",
              "      <th>4</th>\n",
              "      <td>739323AC15DADABE4B54561CB3330C53</td>\n",
              "      <td>9387A0902D7B1B4597802BE63AE7C34F</td>\n",
              "      <td>VTS</td>\n",
              "      <td>1</td>\n",
              "      <td>NaN</td>\n",
              "      <td>2013-04-19 05:28:00</td>\n",
              "      <td>2013-04-19 05:38:00</td>\n",
              "      <td>1</td>\n",
              "      <td>600</td>\n",
              "      <td>2.22</td>\n",
              "      <td>-73.999107</td>\n",
              "      <td>40.727924</td>\n",
              "      <td>-73.974869</td>\n",
              "      <td>40.741886</td>\n",
              "    </tr>\n",
              "    <tr>\n",
              "      <th>...</th>\n",
              "      <td>...</td>\n",
              "      <td>...</td>\n",
              "      <td>...</td>\n",
              "      <td>...</td>\n",
              "      <td>...</td>\n",
              "      <td>...</td>\n",
              "      <td>...</td>\n",
              "      <td>...</td>\n",
              "      <td>...</td>\n",
              "      <td>...</td>\n",
              "      <td>...</td>\n",
              "      <td>...</td>\n",
              "      <td>...</td>\n",
              "      <td>...</td>\n",
              "    </tr>\n",
              "    <tr>\n",
              "      <th>1731792</th>\n",
              "      <td>5DAE4FE51457F5B4D4950D00A0AD4394</td>\n",
              "      <td>B76DC9DC874EB9D71CC04ABC0D9AAC6A</td>\n",
              "      <td>CMT</td>\n",
              "      <td>1</td>\n",
              "      <td>N</td>\n",
              "      <td>2013-08-02 03:34:00</td>\n",
              "      <td>2013-08-02 03:51:47</td>\n",
              "      <td>2</td>\n",
              "      <td>1067</td>\n",
              "      <td>6.00</td>\n",
              "      <td>-73.995766</td>\n",
              "      <td>40.764359</td>\n",
              "      <td>-73.920052</td>\n",
              "      <td>40.775574</td>\n",
              "    </tr>\n",
              "    <tr>\n",
              "      <th>1731793</th>\n",
              "      <td>3C16CFAD2B12F3508F7211C37F8F8B8F</td>\n",
              "      <td>A36B62F2B6D1D6C289519810E66EAAB9</td>\n",
              "      <td>VTS</td>\n",
              "      <td>1</td>\n",
              "      <td>NaN</td>\n",
              "      <td>2013-02-21 12:44:00</td>\n",
              "      <td>2013-02-21 13:11:00</td>\n",
              "      <td>6</td>\n",
              "      <td>1620</td>\n",
              "      <td>3.94</td>\n",
              "      <td>0.000000</td>\n",
              "      <td>0.000000</td>\n",
              "      <td>0.000000</td>\n",
              "      <td>0.000000</td>\n",
              "    </tr>\n",
              "    <tr>\n",
              "      <th>1731794</th>\n",
              "      <td>23E5F1FDC96168E865BF7B4427C0163B</td>\n",
              "      <td>E7D75D6D6F2DBD7D25578F02991193D9</td>\n",
              "      <td>VTS</td>\n",
              "      <td>1</td>\n",
              "      <td>NaN</td>\n",
              "      <td>2013-02-16 17:24:00</td>\n",
              "      <td>2013-02-16 17:30:00</td>\n",
              "      <td>3</td>\n",
              "      <td>360</td>\n",
              "      <td>2.15</td>\n",
              "      <td>-73.991554</td>\n",
              "      <td>40.726940</td>\n",
              "      <td>-73.971642</td>\n",
              "      <td>40.751362</td>\n",
              "    </tr>\n",
              "    <tr>\n",
              "      <th>1731795</th>\n",
              "      <td>FE44D1131D86D515C88D5296598DD35A</td>\n",
              "      <td>015615BB1B66BA269602ED1A867271FA</td>\n",
              "      <td>CMT</td>\n",
              "      <td>1</td>\n",
              "      <td>N</td>\n",
              "      <td>2013-05-24 10:29:16</td>\n",
              "      <td>2013-05-24 10:44:39</td>\n",
              "      <td>1</td>\n",
              "      <td>923</td>\n",
              "      <td>7.20</td>\n",
              "      <td>-73.865715</td>\n",
              "      <td>40.771168</td>\n",
              "      <td>-73.809006</td>\n",
              "      <td>40.700127</td>\n",
              "    </tr>\n",
              "    <tr>\n",
              "      <th>1731796</th>\n",
              "      <td>465FE7E793D67BBB8A7A9869065170E5</td>\n",
              "      <td>E5D211ECD1F6A6164B6CFF1EB9B50499</td>\n",
              "      <td>CMT</td>\n",
              "      <td>1</td>\n",
              "      <td>N</td>\n",
              "      <td>2013-03-15 14:42:10</td>\n",
              "      <td>2013-03-15 14:51:20</td>\n",
              "      <td>1</td>\n",
              "      <td>549</td>\n",
              "      <td>0.70</td>\n",
              "      <td>-74.002968</td>\n",
              "      <td>40.718216</td>\n",
              "      <td>-74.011620</td>\n",
              "      <td>40.708351</td>\n",
              "    </tr>\n",
              "  </tbody>\n",
              "</table>\n",
              "<p>1726330 rows × 14 columns</p>\n",
              "</div>"
            ],
            "text/plain": [
              "                                medallion                      hack_license  \\\n",
              "0        037CB433AB5895649F7A9EF37F767EF1  F57FA13A6A82FE2F40D9DB0193DE0FEE   \n",
              "1        E05E952B2DA14C7E9F1D7DEB80667739  11A3989B7BABB288FA3FA233E348C450   \n",
              "2        51B267141807D0261EEB1844D2A78087  9DE60DFD683336F899D5BB448CE7CB09   \n",
              "3        76AC5C0F44D07BA5A2291F19E730B0B9  2348E03BB8227595281D9D6B38E45B38   \n",
              "4        739323AC15DADABE4B54561CB3330C53  9387A0902D7B1B4597802BE63AE7C34F   \n",
              "...                                   ...                               ...   \n",
              "1731792  5DAE4FE51457F5B4D4950D00A0AD4394  B76DC9DC874EB9D71CC04ABC0D9AAC6A   \n",
              "1731793  3C16CFAD2B12F3508F7211C37F8F8B8F  A36B62F2B6D1D6C289519810E66EAAB9   \n",
              "1731794  23E5F1FDC96168E865BF7B4427C0163B  E7D75D6D6F2DBD7D25578F02991193D9   \n",
              "1731795  FE44D1131D86D515C88D5296598DD35A  015615BB1B66BA269602ED1A867271FA   \n",
              "1731796  465FE7E793D67BBB8A7A9869065170E5  E5D211ECD1F6A6164B6CFF1EB9B50499   \n",
              "\n",
              "        vendor_id  rate_code store_and_fwd_flag      pickup_datetime  \\\n",
              "0             VTS          1                NaN  2013-10-04 20:20:00   \n",
              "1             CMT          1                  N  2013-09-27 14:16:04   \n",
              "2             CMT          1                  N  2013-07-18 13:24:37   \n",
              "3             VTS          1                NaN  2013-06-25 12:12:00   \n",
              "4             VTS          1                NaN  2013-04-19 05:28:00   \n",
              "...           ...        ...                ...                  ...   \n",
              "1731792       CMT          1                  N  2013-08-02 03:34:00   \n",
              "1731793       VTS          1                NaN  2013-02-21 12:44:00   \n",
              "1731794       VTS          1                NaN  2013-02-16 17:24:00   \n",
              "1731795       CMT          1                  N  2013-05-24 10:29:16   \n",
              "1731796       CMT          1                  N  2013-03-15 14:42:10   \n",
              "\n",
              "            dropoff_datetime  passenger_count  trip_time_in_secs  \\\n",
              "0        2013-10-04 20:42:00                1               1320   \n",
              "1        2013-09-27 14:37:17                1               1273   \n",
              "2        2013-07-18 13:29:27                3                290   \n",
              "3        2013-06-25 12:28:00                2                960   \n",
              "4        2013-04-19 05:38:00                1                600   \n",
              "...                      ...              ...                ...   \n",
              "1731792  2013-08-02 03:51:47                2               1067   \n",
              "1731793  2013-02-21 13:11:00                6               1620   \n",
              "1731794  2013-02-16 17:30:00                3                360   \n",
              "1731795  2013-05-24 10:44:39                1                923   \n",
              "1731796  2013-03-15 14:51:20                1                549   \n",
              "\n",
              "         trip_distance  pickup_longitude  pickup_latitude  dropoff_longitude  \\\n",
              "0                 4.05        -73.990089        40.723377         -73.941559   \n",
              "1                 2.10        -73.960022        40.710678         -73.994324   \n",
              "2                 0.90        -73.970634        40.760410         -73.960213   \n",
              "3                 1.28        -73.992661        40.752766         -73.975952   \n",
              "4                 2.22        -73.999107        40.727924         -73.974869   \n",
              "...                ...               ...              ...                ...   \n",
              "1731792           6.00        -73.995766        40.764359         -73.920052   \n",
              "1731793           3.94          0.000000         0.000000           0.000000   \n",
              "1731794           2.15        -73.991554        40.726940         -73.971642   \n",
              "1731795           7.20        -73.865715        40.771168         -73.809006   \n",
              "1731796           0.70        -74.002968        40.718216         -74.011620   \n",
              "\n",
              "         dropoff_latitude  \n",
              "0               40.707790  \n",
              "1               40.722858  \n",
              "2               40.770241  \n",
              "3               40.751781  \n",
              "4               40.741886  \n",
              "...                   ...  \n",
              "1731792         40.775574  \n",
              "1731793          0.000000  \n",
              "1731794         40.751362  \n",
              "1731795         40.700127  \n",
              "1731796         40.708351  \n",
              "\n",
              "[1726330 rows x 14 columns]"
            ]
          },
          "execution_count": 17,
          "metadata": {},
          "output_type": "execute_result"
        }
      ],
      "execution_count": 17
    },
    {
      "cell_type": "markdown",
      "source": "* But here we want the latitude to be from 0 to 90.\n\n* We can do this by concatenating the two corresponding logical conditions with the `&` operator (the corresponding disjunctive terminator, or, is `|`).",
      "metadata": {
        "slideshow": {
          "slide_type": "slide"
        }
      }
    },
    {
      "cell_type": "code",
      "source": "data[(data['pickup_latitude'] >= 0) & (data['pickup_latitude'] <= 90)]",
      "metadata": {
        "slideshow": {
          "slide_type": "fragment"
        }
      },
      "outputs": [
        {
          "data": {
            "text/html": [
              "<div>\n",
              "<style scoped>\n",
              "    .dataframe tbody tr th:only-of-type {\n",
              "        vertical-align: middle;\n",
              "    }\n",
              "\n",
              "    .dataframe tbody tr th {\n",
              "        vertical-align: top;\n",
              "    }\n",
              "\n",
              "    .dataframe thead th {\n",
              "        text-align: right;\n",
              "    }\n",
              "</style>\n",
              "<table border=\"1\" class=\"dataframe\">\n",
              "  <thead>\n",
              "    <tr style=\"text-align: right;\">\n",
              "      <th></th>\n",
              "      <th>medallion</th>\n",
              "      <th>hack_license</th>\n",
              "      <th>vendor_id</th>\n",
              "      <th>rate_code</th>\n",
              "      <th>store_and_fwd_flag</th>\n",
              "      <th>pickup_datetime</th>\n",
              "      <th>dropoff_datetime</th>\n",
              "      <th>passenger_count</th>\n",
              "      <th>trip_time_in_secs</th>\n",
              "      <th>trip_distance</th>\n",
              "      <th>pickup_longitude</th>\n",
              "      <th>pickup_latitude</th>\n",
              "      <th>dropoff_longitude</th>\n",
              "      <th>dropoff_latitude</th>\n",
              "    </tr>\n",
              "  </thead>\n",
              "  <tbody>\n",
              "    <tr>\n",
              "      <th>0</th>\n",
              "      <td>037CB433AB5895649F7A9EF37F767EF1</td>\n",
              "      <td>F57FA13A6A82FE2F40D9DB0193DE0FEE</td>\n",
              "      <td>VTS</td>\n",
              "      <td>1</td>\n",
              "      <td>NaN</td>\n",
              "      <td>2013-10-04 20:20:00</td>\n",
              "      <td>2013-10-04 20:42:00</td>\n",
              "      <td>1</td>\n",
              "      <td>1320</td>\n",
              "      <td>4.05</td>\n",
              "      <td>-73.990089</td>\n",
              "      <td>40.723377</td>\n",
              "      <td>-73.941559</td>\n",
              "      <td>40.707790</td>\n",
              "    </tr>\n",
              "    <tr>\n",
              "      <th>1</th>\n",
              "      <td>E05E952B2DA14C7E9F1D7DEB80667739</td>\n",
              "      <td>11A3989B7BABB288FA3FA233E348C450</td>\n",
              "      <td>CMT</td>\n",
              "      <td>1</td>\n",
              "      <td>N</td>\n",
              "      <td>2013-09-27 14:16:04</td>\n",
              "      <td>2013-09-27 14:37:17</td>\n",
              "      <td>1</td>\n",
              "      <td>1273</td>\n",
              "      <td>2.10</td>\n",
              "      <td>-73.960022</td>\n",
              "      <td>40.710678</td>\n",
              "      <td>-73.994324</td>\n",
              "      <td>40.722858</td>\n",
              "    </tr>\n",
              "    <tr>\n",
              "      <th>2</th>\n",
              "      <td>51B267141807D0261EEB1844D2A78087</td>\n",
              "      <td>9DE60DFD683336F899D5BB448CE7CB09</td>\n",
              "      <td>CMT</td>\n",
              "      <td>1</td>\n",
              "      <td>N</td>\n",
              "      <td>2013-07-18 13:24:37</td>\n",
              "      <td>2013-07-18 13:29:27</td>\n",
              "      <td>3</td>\n",
              "      <td>290</td>\n",
              "      <td>0.90</td>\n",
              "      <td>-73.970634</td>\n",
              "      <td>40.760410</td>\n",
              "      <td>-73.960213</td>\n",
              "      <td>40.770241</td>\n",
              "    </tr>\n",
              "    <tr>\n",
              "      <th>3</th>\n",
              "      <td>76AC5C0F44D07BA5A2291F19E730B0B9</td>\n",
              "      <td>2348E03BB8227595281D9D6B38E45B38</td>\n",
              "      <td>VTS</td>\n",
              "      <td>1</td>\n",
              "      <td>NaN</td>\n",
              "      <td>2013-06-25 12:12:00</td>\n",
              "      <td>2013-06-25 12:28:00</td>\n",
              "      <td>2</td>\n",
              "      <td>960</td>\n",
              "      <td>1.28</td>\n",
              "      <td>-73.992661</td>\n",
              "      <td>40.752766</td>\n",
              "      <td>-73.975952</td>\n",
              "      <td>40.751781</td>\n",
              "    </tr>\n",
              "    <tr>\n",
              "      <th>4</th>\n",
              "      <td>739323AC15DADABE4B54561CB3330C53</td>\n",
              "      <td>9387A0902D7B1B4597802BE63AE7C34F</td>\n",
              "      <td>VTS</td>\n",
              "      <td>1</td>\n",
              "      <td>NaN</td>\n",
              "      <td>2013-04-19 05:28:00</td>\n",
              "      <td>2013-04-19 05:38:00</td>\n",
              "      <td>1</td>\n",
              "      <td>600</td>\n",
              "      <td>2.22</td>\n",
              "      <td>-73.999107</td>\n",
              "      <td>40.727924</td>\n",
              "      <td>-73.974869</td>\n",
              "      <td>40.741886</td>\n",
              "    </tr>\n",
              "    <tr>\n",
              "      <th>...</th>\n",
              "      <td>...</td>\n",
              "      <td>...</td>\n",
              "      <td>...</td>\n",
              "      <td>...</td>\n",
              "      <td>...</td>\n",
              "      <td>...</td>\n",
              "      <td>...</td>\n",
              "      <td>...</td>\n",
              "      <td>...</td>\n",
              "      <td>...</td>\n",
              "      <td>...</td>\n",
              "      <td>...</td>\n",
              "      <td>...</td>\n",
              "      <td>...</td>\n",
              "    </tr>\n",
              "    <tr>\n",
              "      <th>1731792</th>\n",
              "      <td>5DAE4FE51457F5B4D4950D00A0AD4394</td>\n",
              "      <td>B76DC9DC874EB9D71CC04ABC0D9AAC6A</td>\n",
              "      <td>CMT</td>\n",
              "      <td>1</td>\n",
              "      <td>N</td>\n",
              "      <td>2013-08-02 03:34:00</td>\n",
              "      <td>2013-08-02 03:51:47</td>\n",
              "      <td>2</td>\n",
              "      <td>1067</td>\n",
              "      <td>6.00</td>\n",
              "      <td>-73.995766</td>\n",
              "      <td>40.764359</td>\n",
              "      <td>-73.920052</td>\n",
              "      <td>40.775574</td>\n",
              "    </tr>\n",
              "    <tr>\n",
              "      <th>1731793</th>\n",
              "      <td>3C16CFAD2B12F3508F7211C37F8F8B8F</td>\n",
              "      <td>A36B62F2B6D1D6C289519810E66EAAB9</td>\n",
              "      <td>VTS</td>\n",
              "      <td>1</td>\n",
              "      <td>NaN</td>\n",
              "      <td>2013-02-21 12:44:00</td>\n",
              "      <td>2013-02-21 13:11:00</td>\n",
              "      <td>6</td>\n",
              "      <td>1620</td>\n",
              "      <td>3.94</td>\n",
              "      <td>0.000000</td>\n",
              "      <td>0.000000</td>\n",
              "      <td>0.000000</td>\n",
              "      <td>0.000000</td>\n",
              "    </tr>\n",
              "    <tr>\n",
              "      <th>1731794</th>\n",
              "      <td>23E5F1FDC96168E865BF7B4427C0163B</td>\n",
              "      <td>E7D75D6D6F2DBD7D25578F02991193D9</td>\n",
              "      <td>VTS</td>\n",
              "      <td>1</td>\n",
              "      <td>NaN</td>\n",
              "      <td>2013-02-16 17:24:00</td>\n",
              "      <td>2013-02-16 17:30:00</td>\n",
              "      <td>3</td>\n",
              "      <td>360</td>\n",
              "      <td>2.15</td>\n",
              "      <td>-73.991554</td>\n",
              "      <td>40.726940</td>\n",
              "      <td>-73.971642</td>\n",
              "      <td>40.751362</td>\n",
              "    </tr>\n",
              "    <tr>\n",
              "      <th>1731795</th>\n",
              "      <td>FE44D1131D86D515C88D5296598DD35A</td>\n",
              "      <td>015615BB1B66BA269602ED1A867271FA</td>\n",
              "      <td>CMT</td>\n",
              "      <td>1</td>\n",
              "      <td>N</td>\n",
              "      <td>2013-05-24 10:29:16</td>\n",
              "      <td>2013-05-24 10:44:39</td>\n",
              "      <td>1</td>\n",
              "      <td>923</td>\n",
              "      <td>7.20</td>\n",
              "      <td>-73.865715</td>\n",
              "      <td>40.771168</td>\n",
              "      <td>-73.809006</td>\n",
              "      <td>40.700127</td>\n",
              "    </tr>\n",
              "    <tr>\n",
              "      <th>1731796</th>\n",
              "      <td>465FE7E793D67BBB8A7A9869065170E5</td>\n",
              "      <td>E5D211ECD1F6A6164B6CFF1EB9B50499</td>\n",
              "      <td>CMT</td>\n",
              "      <td>1</td>\n",
              "      <td>N</td>\n",
              "      <td>2013-03-15 14:42:10</td>\n",
              "      <td>2013-03-15 14:51:20</td>\n",
              "      <td>1</td>\n",
              "      <td>549</td>\n",
              "      <td>0.70</td>\n",
              "      <td>-74.002968</td>\n",
              "      <td>40.718216</td>\n",
              "      <td>-74.011620</td>\n",
              "      <td>40.708351</td>\n",
              "    </tr>\n",
              "  </tbody>\n",
              "</table>\n",
              "<p>1726330 rows × 14 columns</p>\n",
              "</div>"
            ],
            "text/plain": [
              "                                medallion                      hack_license  \\\n",
              "0        037CB433AB5895649F7A9EF37F767EF1  F57FA13A6A82FE2F40D9DB0193DE0FEE   \n",
              "1        E05E952B2DA14C7E9F1D7DEB80667739  11A3989B7BABB288FA3FA233E348C450   \n",
              "2        51B267141807D0261EEB1844D2A78087  9DE60DFD683336F899D5BB448CE7CB09   \n",
              "3        76AC5C0F44D07BA5A2291F19E730B0B9  2348E03BB8227595281D9D6B38E45B38   \n",
              "4        739323AC15DADABE4B54561CB3330C53  9387A0902D7B1B4597802BE63AE7C34F   \n",
              "...                                   ...                               ...   \n",
              "1731792  5DAE4FE51457F5B4D4950D00A0AD4394  B76DC9DC874EB9D71CC04ABC0D9AAC6A   \n",
              "1731793  3C16CFAD2B12F3508F7211C37F8F8B8F  A36B62F2B6D1D6C289519810E66EAAB9   \n",
              "1731794  23E5F1FDC96168E865BF7B4427C0163B  E7D75D6D6F2DBD7D25578F02991193D9   \n",
              "1731795  FE44D1131D86D515C88D5296598DD35A  015615BB1B66BA269602ED1A867271FA   \n",
              "1731796  465FE7E793D67BBB8A7A9869065170E5  E5D211ECD1F6A6164B6CFF1EB9B50499   \n",
              "\n",
              "        vendor_id  rate_code store_and_fwd_flag      pickup_datetime  \\\n",
              "0             VTS          1                NaN  2013-10-04 20:20:00   \n",
              "1             CMT          1                  N  2013-09-27 14:16:04   \n",
              "2             CMT          1                  N  2013-07-18 13:24:37   \n",
              "3             VTS          1                NaN  2013-06-25 12:12:00   \n",
              "4             VTS          1                NaN  2013-04-19 05:28:00   \n",
              "...           ...        ...                ...                  ...   \n",
              "1731792       CMT          1                  N  2013-08-02 03:34:00   \n",
              "1731793       VTS          1                NaN  2013-02-21 12:44:00   \n",
              "1731794       VTS          1                NaN  2013-02-16 17:24:00   \n",
              "1731795       CMT          1                  N  2013-05-24 10:29:16   \n",
              "1731796       CMT          1                  N  2013-03-15 14:42:10   \n",
              "\n",
              "            dropoff_datetime  passenger_count  trip_time_in_secs  \\\n",
              "0        2013-10-04 20:42:00                1               1320   \n",
              "1        2013-09-27 14:37:17                1               1273   \n",
              "2        2013-07-18 13:29:27                3                290   \n",
              "3        2013-06-25 12:28:00                2                960   \n",
              "4        2013-04-19 05:38:00                1                600   \n",
              "...                      ...              ...                ...   \n",
              "1731792  2013-08-02 03:51:47                2               1067   \n",
              "1731793  2013-02-21 13:11:00                6               1620   \n",
              "1731794  2013-02-16 17:30:00                3                360   \n",
              "1731795  2013-05-24 10:44:39                1                923   \n",
              "1731796  2013-03-15 14:51:20                1                549   \n",
              "\n",
              "         trip_distance  pickup_longitude  pickup_latitude  dropoff_longitude  \\\n",
              "0                 4.05        -73.990089        40.723377         -73.941559   \n",
              "1                 2.10        -73.960022        40.710678         -73.994324   \n",
              "2                 0.90        -73.970634        40.760410         -73.960213   \n",
              "3                 1.28        -73.992661        40.752766         -73.975952   \n",
              "4                 2.22        -73.999107        40.727924         -73.974869   \n",
              "...                ...               ...              ...                ...   \n",
              "1731792           6.00        -73.995766        40.764359         -73.920052   \n",
              "1731793           3.94          0.000000         0.000000           0.000000   \n",
              "1731794           2.15        -73.991554        40.726940         -73.971642   \n",
              "1731795           7.20        -73.865715        40.771168         -73.809006   \n",
              "1731796           0.70        -74.002968        40.718216         -74.011620   \n",
              "\n",
              "         dropoff_latitude  \n",
              "0               40.707790  \n",
              "1               40.722858  \n",
              "2               40.770241  \n",
              "3               40.751781  \n",
              "4               40.741886  \n",
              "...                   ...  \n",
              "1731792         40.775574  \n",
              "1731793          0.000000  \n",
              "1731794         40.751362  \n",
              "1731795         40.700127  \n",
              "1731796         40.708351  \n",
              "\n",
              "[1726330 rows x 14 columns]"
            ]
          },
          "execution_count": 18,
          "metadata": {},
          "output_type": "execute_result"
        }
      ],
      "execution_count": 18
    },
    {
      "cell_type": "markdown",
      "source": "* But we're not done yet, we also want the longitude to be from -180 to 0, so we connect the extra logical conditions.",
      "metadata": {
        "slideshow": {
          "slide_type": "slide"
        }
      }
    },
    {
      "cell_type": "code",
      "source": "data = data[(data['pickup_latitude'] >= 0) & (data['pickup_latitude'] <= 90) &\n            (data['pickup_longitude'] >= -180) & (data['pickup_longitude'] <= 0) \n]\ndata",
      "metadata": {
        "slideshow": {
          "slide_type": "fragment"
        }
      },
      "outputs": [
        {
          "data": {
            "text/html": [
              "<div>\n",
              "<style scoped>\n",
              "    .dataframe tbody tr th:only-of-type {\n",
              "        vertical-align: middle;\n",
              "    }\n",
              "\n",
              "    .dataframe tbody tr th {\n",
              "        vertical-align: top;\n",
              "    }\n",
              "\n",
              "    .dataframe thead th {\n",
              "        text-align: right;\n",
              "    }\n",
              "</style>\n",
              "<table border=\"1\" class=\"dataframe\">\n",
              "  <thead>\n",
              "    <tr style=\"text-align: right;\">\n",
              "      <th></th>\n",
              "      <th>medallion</th>\n",
              "      <th>hack_license</th>\n",
              "      <th>vendor_id</th>\n",
              "      <th>rate_code</th>\n",
              "      <th>store_and_fwd_flag</th>\n",
              "      <th>pickup_datetime</th>\n",
              "      <th>dropoff_datetime</th>\n",
              "      <th>passenger_count</th>\n",
              "      <th>trip_time_in_secs</th>\n",
              "      <th>trip_distance</th>\n",
              "      <th>pickup_longitude</th>\n",
              "      <th>pickup_latitude</th>\n",
              "      <th>dropoff_longitude</th>\n",
              "      <th>dropoff_latitude</th>\n",
              "    </tr>\n",
              "  </thead>\n",
              "  <tbody>\n",
              "    <tr>\n",
              "      <th>0</th>\n",
              "      <td>037CB433AB5895649F7A9EF37F767EF1</td>\n",
              "      <td>F57FA13A6A82FE2F40D9DB0193DE0FEE</td>\n",
              "      <td>VTS</td>\n",
              "      <td>1</td>\n",
              "      <td>NaN</td>\n",
              "      <td>2013-10-04 20:20:00</td>\n",
              "      <td>2013-10-04 20:42:00</td>\n",
              "      <td>1</td>\n",
              "      <td>1320</td>\n",
              "      <td>4.05</td>\n",
              "      <td>-73.990089</td>\n",
              "      <td>40.723377</td>\n",
              "      <td>-73.941559</td>\n",
              "      <td>40.707790</td>\n",
              "    </tr>\n",
              "    <tr>\n",
              "      <th>1</th>\n",
              "      <td>E05E952B2DA14C7E9F1D7DEB80667739</td>\n",
              "      <td>11A3989B7BABB288FA3FA233E348C450</td>\n",
              "      <td>CMT</td>\n",
              "      <td>1</td>\n",
              "      <td>N</td>\n",
              "      <td>2013-09-27 14:16:04</td>\n",
              "      <td>2013-09-27 14:37:17</td>\n",
              "      <td>1</td>\n",
              "      <td>1273</td>\n",
              "      <td>2.10</td>\n",
              "      <td>-73.960022</td>\n",
              "      <td>40.710678</td>\n",
              "      <td>-73.994324</td>\n",
              "      <td>40.722858</td>\n",
              "    </tr>\n",
              "    <tr>\n",
              "      <th>2</th>\n",
              "      <td>51B267141807D0261EEB1844D2A78087</td>\n",
              "      <td>9DE60DFD683336F899D5BB448CE7CB09</td>\n",
              "      <td>CMT</td>\n",
              "      <td>1</td>\n",
              "      <td>N</td>\n",
              "      <td>2013-07-18 13:24:37</td>\n",
              "      <td>2013-07-18 13:29:27</td>\n",
              "      <td>3</td>\n",
              "      <td>290</td>\n",
              "      <td>0.90</td>\n",
              "      <td>-73.970634</td>\n",
              "      <td>40.760410</td>\n",
              "      <td>-73.960213</td>\n",
              "      <td>40.770241</td>\n",
              "    </tr>\n",
              "    <tr>\n",
              "      <th>3</th>\n",
              "      <td>76AC5C0F44D07BA5A2291F19E730B0B9</td>\n",
              "      <td>2348E03BB8227595281D9D6B38E45B38</td>\n",
              "      <td>VTS</td>\n",
              "      <td>1</td>\n",
              "      <td>NaN</td>\n",
              "      <td>2013-06-25 12:12:00</td>\n",
              "      <td>2013-06-25 12:28:00</td>\n",
              "      <td>2</td>\n",
              "      <td>960</td>\n",
              "      <td>1.28</td>\n",
              "      <td>-73.992661</td>\n",
              "      <td>40.752766</td>\n",
              "      <td>-73.975952</td>\n",
              "      <td>40.751781</td>\n",
              "    </tr>\n",
              "    <tr>\n",
              "      <th>4</th>\n",
              "      <td>739323AC15DADABE4B54561CB3330C53</td>\n",
              "      <td>9387A0902D7B1B4597802BE63AE7C34F</td>\n",
              "      <td>VTS</td>\n",
              "      <td>1</td>\n",
              "      <td>NaN</td>\n",
              "      <td>2013-04-19 05:28:00</td>\n",
              "      <td>2013-04-19 05:38:00</td>\n",
              "      <td>1</td>\n",
              "      <td>600</td>\n",
              "      <td>2.22</td>\n",
              "      <td>-73.999107</td>\n",
              "      <td>40.727924</td>\n",
              "      <td>-73.974869</td>\n",
              "      <td>40.741886</td>\n",
              "    </tr>\n",
              "    <tr>\n",
              "      <th>...</th>\n",
              "      <td>...</td>\n",
              "      <td>...</td>\n",
              "      <td>...</td>\n",
              "      <td>...</td>\n",
              "      <td>...</td>\n",
              "      <td>...</td>\n",
              "      <td>...</td>\n",
              "      <td>...</td>\n",
              "      <td>...</td>\n",
              "      <td>...</td>\n",
              "      <td>...</td>\n",
              "      <td>...</td>\n",
              "      <td>...</td>\n",
              "      <td>...</td>\n",
              "    </tr>\n",
              "    <tr>\n",
              "      <th>1731792</th>\n",
              "      <td>5DAE4FE51457F5B4D4950D00A0AD4394</td>\n",
              "      <td>B76DC9DC874EB9D71CC04ABC0D9AAC6A</td>\n",
              "      <td>CMT</td>\n",
              "      <td>1</td>\n",
              "      <td>N</td>\n",
              "      <td>2013-08-02 03:34:00</td>\n",
              "      <td>2013-08-02 03:51:47</td>\n",
              "      <td>2</td>\n",
              "      <td>1067</td>\n",
              "      <td>6.00</td>\n",
              "      <td>-73.995766</td>\n",
              "      <td>40.764359</td>\n",
              "      <td>-73.920052</td>\n",
              "      <td>40.775574</td>\n",
              "    </tr>\n",
              "    <tr>\n",
              "      <th>1731793</th>\n",
              "      <td>3C16CFAD2B12F3508F7211C37F8F8B8F</td>\n",
              "      <td>A36B62F2B6D1D6C289519810E66EAAB9</td>\n",
              "      <td>VTS</td>\n",
              "      <td>1</td>\n",
              "      <td>NaN</td>\n",
              "      <td>2013-02-21 12:44:00</td>\n",
              "      <td>2013-02-21 13:11:00</td>\n",
              "      <td>6</td>\n",
              "      <td>1620</td>\n",
              "      <td>3.94</td>\n",
              "      <td>0.000000</td>\n",
              "      <td>0.000000</td>\n",
              "      <td>0.000000</td>\n",
              "      <td>0.000000</td>\n",
              "    </tr>\n",
              "    <tr>\n",
              "      <th>1731794</th>\n",
              "      <td>23E5F1FDC96168E865BF7B4427C0163B</td>\n",
              "      <td>E7D75D6D6F2DBD7D25578F02991193D9</td>\n",
              "      <td>VTS</td>\n",
              "      <td>1</td>\n",
              "      <td>NaN</td>\n",
              "      <td>2013-02-16 17:24:00</td>\n",
              "      <td>2013-02-16 17:30:00</td>\n",
              "      <td>3</td>\n",
              "      <td>360</td>\n",
              "      <td>2.15</td>\n",
              "      <td>-73.991554</td>\n",
              "      <td>40.726940</td>\n",
              "      <td>-73.971642</td>\n",
              "      <td>40.751362</td>\n",
              "    </tr>\n",
              "    <tr>\n",
              "      <th>1731795</th>\n",
              "      <td>FE44D1131D86D515C88D5296598DD35A</td>\n",
              "      <td>015615BB1B66BA269602ED1A867271FA</td>\n",
              "      <td>CMT</td>\n",
              "      <td>1</td>\n",
              "      <td>N</td>\n",
              "      <td>2013-05-24 10:29:16</td>\n",
              "      <td>2013-05-24 10:44:39</td>\n",
              "      <td>1</td>\n",
              "      <td>923</td>\n",
              "      <td>7.20</td>\n",
              "      <td>-73.865715</td>\n",
              "      <td>40.771168</td>\n",
              "      <td>-73.809006</td>\n",
              "      <td>40.700127</td>\n",
              "    </tr>\n",
              "    <tr>\n",
              "      <th>1731796</th>\n",
              "      <td>465FE7E793D67BBB8A7A9869065170E5</td>\n",
              "      <td>E5D211ECD1F6A6164B6CFF1EB9B50499</td>\n",
              "      <td>CMT</td>\n",
              "      <td>1</td>\n",
              "      <td>N</td>\n",
              "      <td>2013-03-15 14:42:10</td>\n",
              "      <td>2013-03-15 14:51:20</td>\n",
              "      <td>1</td>\n",
              "      <td>549</td>\n",
              "      <td>0.70</td>\n",
              "      <td>-74.002968</td>\n",
              "      <td>40.718216</td>\n",
              "      <td>-74.011620</td>\n",
              "      <td>40.708351</td>\n",
              "    </tr>\n",
              "  </tbody>\n",
              "</table>\n",
              "<p>1726326 rows × 14 columns</p>\n",
              "</div>"
            ],
            "text/plain": [
              "                                medallion                      hack_license  \\\n",
              "0        037CB433AB5895649F7A9EF37F767EF1  F57FA13A6A82FE2F40D9DB0193DE0FEE   \n",
              "1        E05E952B2DA14C7E9F1D7DEB80667739  11A3989B7BABB288FA3FA233E348C450   \n",
              "2        51B267141807D0261EEB1844D2A78087  9DE60DFD683336F899D5BB448CE7CB09   \n",
              "3        76AC5C0F44D07BA5A2291F19E730B0B9  2348E03BB8227595281D9D6B38E45B38   \n",
              "4        739323AC15DADABE4B54561CB3330C53  9387A0902D7B1B4597802BE63AE7C34F   \n",
              "...                                   ...                               ...   \n",
              "1731792  5DAE4FE51457F5B4D4950D00A0AD4394  B76DC9DC874EB9D71CC04ABC0D9AAC6A   \n",
              "1731793  3C16CFAD2B12F3508F7211C37F8F8B8F  A36B62F2B6D1D6C289519810E66EAAB9   \n",
              "1731794  23E5F1FDC96168E865BF7B4427C0163B  E7D75D6D6F2DBD7D25578F02991193D9   \n",
              "1731795  FE44D1131D86D515C88D5296598DD35A  015615BB1B66BA269602ED1A867271FA   \n",
              "1731796  465FE7E793D67BBB8A7A9869065170E5  E5D211ECD1F6A6164B6CFF1EB9B50499   \n",
              "\n",
              "        vendor_id  rate_code store_and_fwd_flag      pickup_datetime  \\\n",
              "0             VTS          1                NaN  2013-10-04 20:20:00   \n",
              "1             CMT          1                  N  2013-09-27 14:16:04   \n",
              "2             CMT          1                  N  2013-07-18 13:24:37   \n",
              "3             VTS          1                NaN  2013-06-25 12:12:00   \n",
              "4             VTS          1                NaN  2013-04-19 05:28:00   \n",
              "...           ...        ...                ...                  ...   \n",
              "1731792       CMT          1                  N  2013-08-02 03:34:00   \n",
              "1731793       VTS          1                NaN  2013-02-21 12:44:00   \n",
              "1731794       VTS          1                NaN  2013-02-16 17:24:00   \n",
              "1731795       CMT          1                  N  2013-05-24 10:29:16   \n",
              "1731796       CMT          1                  N  2013-03-15 14:42:10   \n",
              "\n",
              "            dropoff_datetime  passenger_count  trip_time_in_secs  \\\n",
              "0        2013-10-04 20:42:00                1               1320   \n",
              "1        2013-09-27 14:37:17                1               1273   \n",
              "2        2013-07-18 13:29:27                3                290   \n",
              "3        2013-06-25 12:28:00                2                960   \n",
              "4        2013-04-19 05:38:00                1                600   \n",
              "...                      ...              ...                ...   \n",
              "1731792  2013-08-02 03:51:47                2               1067   \n",
              "1731793  2013-02-21 13:11:00                6               1620   \n",
              "1731794  2013-02-16 17:30:00                3                360   \n",
              "1731795  2013-05-24 10:44:39                1                923   \n",
              "1731796  2013-03-15 14:51:20                1                549   \n",
              "\n",
              "         trip_distance  pickup_longitude  pickup_latitude  dropoff_longitude  \\\n",
              "0                 4.05        -73.990089        40.723377         -73.941559   \n",
              "1                 2.10        -73.960022        40.710678         -73.994324   \n",
              "2                 0.90        -73.970634        40.760410         -73.960213   \n",
              "3                 1.28        -73.992661        40.752766         -73.975952   \n",
              "4                 2.22        -73.999107        40.727924         -73.974869   \n",
              "...                ...               ...              ...                ...   \n",
              "1731792           6.00        -73.995766        40.764359         -73.920052   \n",
              "1731793           3.94          0.000000         0.000000           0.000000   \n",
              "1731794           2.15        -73.991554        40.726940         -73.971642   \n",
              "1731795           7.20        -73.865715        40.771168         -73.809006   \n",
              "1731796           0.70        -74.002968        40.718216         -74.011620   \n",
              "\n",
              "         dropoff_latitude  \n",
              "0               40.707790  \n",
              "1               40.722858  \n",
              "2               40.770241  \n",
              "3               40.751781  \n",
              "4               40.741886  \n",
              "...                   ...  \n",
              "1731792         40.775574  \n",
              "1731793          0.000000  \n",
              "1731794         40.751362  \n",
              "1731795         40.700127  \n",
              "1731796         40.708351  \n",
              "\n",
              "[1726326 rows x 14 columns]"
            ]
          },
          "execution_count": 19,
          "metadata": {},
          "output_type": "execute_result"
        }
      ],
      "execution_count": 19
    },
    {
      "cell_type": "markdown",
      "source": "* Before we make our chart, we want to convert the coordinates to screen coordinates (pixels) from geographical coordinates that are currently.\n\n* We can use the function below which implements projection by Mercator (Flemish geographer and cartographer of the 16th century).\n\n* This is actually the [Mercator Projection used in web maps](https://en.wikipedia.org/wiki/Web_Mercator_projection) adjusted so that the point (0, 0) is at the bottom left (instead of the top left).",
      "metadata": {
        "slideshow": {
          "slide_type": "slide"
        }
      }
    },
    {
      "cell_type": "code",
      "source": "def lng_lat_to_pixels(lng, lat):    \n    lng_rad = lng * np.pi / 180\n    lat_rad = lat * np.pi / 180\n    x = (256/(2*np.pi))*(lng_rad + np.pi)\n    y = (256/(2*np.pi))*(np.log(np.tan(np.pi/4 + lat_rad/2)))\n    return (x, y)",
      "metadata": {
        "slideshow": {
          "slide_type": "fragment"
        }
      },
      "outputs": [],
      "execution_count": 20
    },
    {
      "cell_type": "markdown",
      "source": "* The NumPy library offers many math functions such as `np.log()` and `np.tan()`.\n\n* These can be applied to either single numbers or vectors.\n\n* So the following call will return us two *vectors*.",
      "metadata": {
        "slideshow": {
          "slide_type": "slide"
        }
      }
    },
    {
      "cell_type": "code",
      "source": "px, py = lng_lat_to_pixels(data['pickup_longitude'], data['pickup_latitude'])\npx.head(10)",
      "metadata": {
        "slideshow": {
          "slide_type": "fragment"
        }
      },
      "outputs": [
        {
          "data": {
            "text/plain": [
              "0    75.384826\n",
              "1    75.406207\n",
              "2    75.398660\n",
              "3    75.382997\n",
              "4    75.378413\n",
              "5    75.383789\n",
              "6    75.384993\n",
              "7    75.414177\n",
              "8    75.391119\n",
              "9    75.388048\n",
              "Name: pickup_longitude, dtype: float64"
            ]
          },
          "execution_count": 21,
          "metadata": {},
          "output_type": "execute_result"
        }
      ],
      "execution_count": 21
    },
    {
      "cell_type": "markdown",
      "source": "* To plot a set of points with matplotlib we use the `scatter()` method.\n\n* This method takes as input two matrix-vectors with the coordinates $x$ and $y$ of the points we want to show.",
      "metadata": {
        "slideshow": {
          "slide_type": "slide"
        }
      }
    },
    {
      "cell_type": "code",
      "source": "plt.scatter(px, py)",
      "metadata": {
        "slideshow": {
          "slide_type": "fragment"
        }
      },
      "outputs": [
        {
          "data": {
            "text/plain": [
              "<matplotlib.collections.PathCollection at 0x1379e8340>"
            ]
          },
          "execution_count": 22,
          "metadata": {},
          "output_type": "execute_result"
        },
        {
          "data": {
            "image/png": "[encoded data removed]",
            "text/plain": [
              "<Figure size 432x288 with 1 Axes>"
            ]
          },
          "metadata": {
            "needs_background": "light"
          },
          "output_type": "display_data"
        }
      ],
      "execution_count": 22
    },
    {
      "cell_type": "markdown",
      "source": "* The result is not ideal.\n\n* First: the footprint of each point is very large.\n\n* Second: the points are too many. We could make them somewhat transparent to get a better idea of ​​their distribution.\n\n* Third: we should probably focus our attention on the lower left part of the image.\n\n* Fourth: the image can be enlarged.\n\n* Finally, axes don't offer anything.",
      "metadata": {
        "slideshow": {
          "slide_type": "slide"
        }
      }
    },
    {
      "cell_type": "markdown",
      "source": "* All this can be done with matplotlib.",
      "metadata": {
        "slideshow": {
          "slide_type": "slide"
        }
      }
    },
    {
      "cell_type": "code",
      "source": "plt.figure(figsize=(12, 10))\nplt.axis('equal')\nplt.xlim(75.3, 75.55)\nplt.ylim(31.65, 31.90)\nplt.axis('off')\nplt.gca().set_facecolor('white')\n_ = plt.scatter(px, py, s=.1, alpha=.03, color='black') # get rid of matplotlib message output",
      "metadata": {
        "slideshow": {
          "slide_type": "fragment"
        },
        "tags": [
          "remove_output"
        ]
      },
      "outputs": [
        {
          "data": {
            "image/png": "[encoded data removed]",
            "text/plain": [
              "<Figure size 864x720 with 1 Axes>"
            ]
          },
          "metadata": {
            "needs_background": "light"
          },
          "output_type": "display_data"
        }
      ],
      "execution_count": 23
    },
    {
      "cell_type": "code",
      "source": "plt.figure(figsize=(12, 10))\nplt.axis('equal')\nplt.xlim(75.3, 75.55)\nplt.ylim(31.65, 31.90)\nplt.axis('off')\nplt.gca().set_facecolor('white')\n_ = plt.scatter(px, py, s=.1, alpha=.03, color='black') # get rid of matplotlib message output",
      "metadata": {
        "slideshow": {
          "slide_type": "slide"
        },
        "tags": [
          "remove_input"
        ]
      },
      "outputs": [
        {
          "data": {
            "image/png": "[encoded data removed]",
            "text/plain": [
              "<Figure size 864x720 with 1 Axes>"
            ]
          },
          "metadata": {
            "needs_background": "light"
          },
          "output_type": "display_data"
        }
      ],
      "execution_count": 24
    }
  ]
}