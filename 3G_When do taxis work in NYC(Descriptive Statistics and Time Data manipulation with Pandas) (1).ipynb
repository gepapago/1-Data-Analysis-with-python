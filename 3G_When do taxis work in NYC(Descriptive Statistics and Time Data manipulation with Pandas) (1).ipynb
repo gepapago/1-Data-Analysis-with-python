{
  "metadata": {
    "kernelspec": {
      "name": "python",
      "display_name": "Python (Pyodide)",
      "language": "python"
    },
    "language_info": {
      "codemirror_mode": {
        "name": "python",
        "version": 3
      },
      "file_extension": ".py",
      "mimetype": "text/x-python",
      "name": "python",
      "nbconvert_exporter": "python",
      "pygments_lexer": "ipython3",
      "version": "3.8"
    },
    "celltoolbar": "Slideshow"
  },
  "nbformat_minor": 4,
  "nbformat": 4,
  "cells": [
    {
      "cell_type": "markdown",
      "source": "# When do taxis work in NYC(Descriptive Statistics and Time Data manipulation with Pandas)",
      "metadata": {
        "slideshow": {
          "slide_type": "slide"
        }
      }
    },
    {
      "cell_type": "code",
      "source": "import numpy as np\nimport pandas as pd\nimport matplotlib.pyplot as plt",
      "metadata": {
        "slideshow": {
          "slide_type": "slide"
        }
      },
      "outputs": [],
      "execution_count": 1
    },
    {
      "cell_type": "markdown",
      "source": "* To see the functionality in pandas we will build a small `DataFrame' ourselves.",
      "metadata": {
        "slideshow": {
          "slide_type": "slide"
        }
      }
    },
    {
      "cell_type": "code",
      "source": "df = pd.DataFrame({'key1': ['a', 'a', 'b', 'b', 'a'],\n                   'key2': ['one', 'two', 'one', 'two', 'one'],\n                   'data1': np.random.randn(5),\n                   'data2': np.random.randn(5)})\ndf",
      "metadata": {},
      "outputs": [
        {
          "data": {
            "text/html": [
              "<div>\n",
              "<style scoped>\n",
              "    .dataframe tbody tr th:only-of-type {\n",
              "        vertical-align: middle;\n",
              "    }\n",
              "\n",
              "    .dataframe tbody tr th {\n",
              "        vertical-align: top;\n",
              "    }\n",
              "\n",
              "    .dataframe thead th {\n",
              "        text-align: right;\n",
              "    }\n",
              "</style>\n",
              "<table border=\"1\" class=\"dataframe\">\n",
              "  <thead>\n",
              "    <tr style=\"text-align: right;\">\n",
              "      <th></th>\n",
              "      <th>key1</th>\n",
              "      <th>key2</th>\n",
              "      <th>data1</th>\n",
              "      <th>data2</th>\n",
              "    </tr>\n",
              "  </thead>\n",
              "  <tbody>\n",
              "    <tr>\n",
              "      <th>0</th>\n",
              "      <td>a</td>\n",
              "      <td>one</td>\n",
              "      <td>1.690884</td>\n",
              "      <td>-0.516905</td>\n",
              "    </tr>\n",
              "    <tr>\n",
              "      <th>1</th>\n",
              "      <td>a</td>\n",
              "      <td>two</td>\n",
              "      <td>-0.097228</td>\n",
              "      <td>-0.134471</td>\n",
              "    </tr>\n",
              "    <tr>\n",
              "      <th>2</th>\n",
              "      <td>b</td>\n",
              "      <td>one</td>\n",
              "      <td>-0.171251</td>\n",
              "      <td>0.142496</td>\n",
              "    </tr>\n",
              "    <tr>\n",
              "      <th>3</th>\n",
              "      <td>b</td>\n",
              "      <td>two</td>\n",
              "      <td>0.150288</td>\n",
              "      <td>1.292270</td>\n",
              "    </tr>\n",
              "    <tr>\n",
              "      <th>4</th>\n",
              "      <td>a</td>\n",
              "      <td>one</td>\n",
              "      <td>1.206892</td>\n",
              "      <td>-0.467844</td>\n",
              "    </tr>\n",
              "  </tbody>\n",
              "</table>\n",
              "</div>"
            ],
            "text/plain": [
              "  key1 key2     data1     data2\n",
              "0    a  one  1.690884 -0.516905\n",
              "1    a  two -0.097228 -0.134471\n",
              "2    b  one -0.171251  0.142496\n",
              "3    b  two  0.150288  1.292270\n",
              "4    a  one  1.206892 -0.467844"
            ]
          },
          "execution_count": 2,
          "metadata": {},
          "output_type": "execute_result"
        }
      ],
      "execution_count": 2
    },
    {
      "cell_type": "markdown",
      "source": "* We group by `key1`.",
      "metadata": {
        "slideshow": {
          "slide_type": "slide"
        }
      }
    },
    {
      "cell_type": "code",
      "source": "grouped = df.groupby('key1')\n\nfor name, group in grouped:\n    print(name)\n    print(group)",
      "metadata": {
        "slideshow": {
          "slide_type": "fragment"
        }
      },
      "outputs": [
        {
          "name": "stdout",
          "output_type": "stream",
          "text": [
            "a\n",
            "  key1 key2     data1     data2\n",
            "0    a  one  1.690884 -0.516905\n",
            "1    a  two -0.097228 -0.134471\n",
            "4    a  one  1.206892 -0.467844\n",
            "b\n",
            "  key1 key2     data1     data2\n",
            "2    b  one -0.171251  0.142496\n",
            "3    b  two  0.150288  1.292270\n"
          ]
        }
      ],
      "execution_count": 3
    },
    {
      "cell_type": "markdown",
      "source": "* We can very easily calculate some aggregate value for each group.",
      "metadata": {
        "slideshow": {
          "slide_type": "slide"
        }
      }
    },
    {
      "cell_type": "code",
      "source": "grouped.mean()",
      "metadata": {
        "slideshow": {
          "slide_type": "fragment"
        }
      },
      "outputs": [
        {
          "data": {
            "text/html": [
              "<div>\n",
              "<style scoped>\n",
              "    .dataframe tbody tr th:only-of-type {\n",
              "        vertical-align: middle;\n",
              "    }\n",
              "\n",
              "    .dataframe tbody tr th {\n",
              "        vertical-align: top;\n",
              "    }\n",
              "\n",
              "    .dataframe thead th {\n",
              "        text-align: right;\n",
              "    }\n",
              "</style>\n",
              "<table border=\"1\" class=\"dataframe\">\n",
              "  <thead>\n",
              "    <tr style=\"text-align: right;\">\n",
              "      <th></th>\n",
              "      <th>data1</th>\n",
              "      <th>data2</th>\n",
              "    </tr>\n",
              "    <tr>\n",
              "      <th>key1</th>\n",
              "      <th></th>\n",
              "      <th></th>\n",
              "    </tr>\n",
              "  </thead>\n",
              "  <tbody>\n",
              "    <tr>\n",
              "      <th>a</th>\n",
              "      <td>0.933516</td>\n",
              "      <td>-0.373073</td>\n",
              "    </tr>\n",
              "    <tr>\n",
              "      <th>b</th>\n",
              "      <td>-0.010481</td>\n",
              "      <td>0.717383</td>\n",
              "    </tr>\n",
              "  </tbody>\n",
              "</table>\n",
              "</div>"
            ],
            "text/plain": [
              "         data1     data2\n",
              "key1                    \n",
              "a     0.933516 -0.373073\n",
              "b    -0.010481  0.717383"
            ]
          },
          "execution_count": 4,
          "metadata": {},
          "output_type": "execute_result"
        }
      ],
      "execution_count": 4
    },
    {
      "cell_type": "markdown",
      "source": "* We proceed to group by `key1` and `key2`.",
      "metadata": {
        "slideshow": {
          "slide_type": "slide"
        }
      }
    },
    {
      "cell_type": "code",
      "source": "grouped = df.groupby(['key1', 'key2'])\n\nfor (k1, k2), group in grouped:\n    print(k1, k2)\n    print(group)",
      "metadata": {
        "slideshow": {
          "slide_type": "fragment"
        }
      },
      "outputs": [
        {
          "name": "stdout",
          "output_type": "stream",
          "text": [
            "a one\n",
            "  key1 key2     data1     data2\n",
            "0    a  one  1.690884 -0.516905\n",
            "4    a  one  1.206892 -0.467844\n",
            "a two\n",
            "  key1 key2     data1     data2\n",
            "1    a  two -0.097228 -0.134471\n",
            "b one\n",
            "  key1 key2     data1     data2\n",
            "2    b  one -0.171251  0.142496\n",
            "b two\n",
            "  key1 key2     data1    data2\n",
            "3    b  two  0.150288  1.29227\n"
          ]
        }
      ],
      "execution_count": 5
    },
    {
      "cell_type": "markdown",
      "source": "* So again the averages:",
      "metadata": {
        "slideshow": {
          "slide_type": "slide"
        }
      }
    },
    {
      "cell_type": "code",
      "source": "grouped.mean()",
      "metadata": {},
      "outputs": [
        {
          "data": {
            "text/html": [
              "<div>\n",
              "<style scoped>\n",
              "    .dataframe tbody tr th:only-of-type {\n",
              "        vertical-align: middle;\n",
              "    }\n",
              "\n",
              "    .dataframe tbody tr th {\n",
              "        vertical-align: top;\n",
              "    }\n",
              "\n",
              "    .dataframe thead th {\n",
              "        text-align: right;\n",
              "    }\n",
              "</style>\n",
              "<table border=\"1\" class=\"dataframe\">\n",
              "  <thead>\n",
              "    <tr style=\"text-align: right;\">\n",
              "      <th></th>\n",
              "      <th></th>\n",
              "      <th>data1</th>\n",
              "      <th>data2</th>\n",
              "    </tr>\n",
              "    <tr>\n",
              "      <th>key1</th>\n",
              "      <th>key2</th>\n",
              "      <th></th>\n",
              "      <th></th>\n",
              "    </tr>\n",
              "  </thead>\n",
              "  <tbody>\n",
              "    <tr>\n",
              "      <th rowspan=\"2\" valign=\"top\">a</th>\n",
              "      <th>one</th>\n",
              "      <td>1.448888</td>\n",
              "      <td>-0.492374</td>\n",
              "    </tr>\n",
              "    <tr>\n",
              "      <th>two</th>\n",
              "      <td>-0.097228</td>\n",
              "      <td>-0.134471</td>\n",
              "    </tr>\n",
              "    <tr>\n",
              "      <th rowspan=\"2\" valign=\"top\">b</th>\n",
              "      <th>one</th>\n",
              "      <td>-0.171251</td>\n",
              "      <td>0.142496</td>\n",
              "    </tr>\n",
              "    <tr>\n",
              "      <th>two</th>\n",
              "      <td>0.150288</td>\n",
              "      <td>1.292270</td>\n",
              "    </tr>\n",
              "  </tbody>\n",
              "</table>\n",
              "</div>"
            ],
            "text/plain": [
              "              data1     data2\n",
              "key1 key2                    \n",
              "a    one   1.448888 -0.492374\n",
              "     two  -0.097228 -0.134471\n",
              "b    one  -0.171251  0.142496\n",
              "     two   0.150288  1.292270"
            ]
          },
          "execution_count": 6,
          "metadata": {},
          "output_type": "execute_result"
        }
      ],
      "execution_count": 6
    },
    {
      "cell_type": "markdown",
      "source": "* For something more realistic, we'll switch to a different dataset.\n\n* Relates to data from restaurant visits in New York, several years ago, as recorded in Bryant, P. G. and Smith, M. A. (1995), Practical Data Analysis: Case Studies in Business Statistics, Richard D. Irwin Publishing, Homewood, IL.",
      "metadata": {
        "slideshow": {
          "slide_type": "slide"
        }
      }
    },
    {
      "cell_type": "code",
      "source": "tips = pd.read_csv(\"tips.csv\")\ntips",
      "metadata": {
        "slideshow": {
          "slide_type": "fragment"
        }
      },
      "outputs": [
        {
          "data": {
            "text/html": [
              "<div>\n",
              "<style scoped>\n",
              "    .dataframe tbody tr th:only-of-type {\n",
              "        vertical-align: middle;\n",
              "    }\n",
              "\n",
              "    .dataframe tbody tr th {\n",
              "        vertical-align: top;\n",
              "    }\n",
              "\n",
              "    .dataframe thead th {\n",
              "        text-align: right;\n",
              "    }\n",
              "</style>\n",
              "<table border=\"1\" class=\"dataframe\">\n",
              "  <thead>\n",
              "    <tr style=\"text-align: right;\">\n",
              "      <th></th>\n",
              "      <th>total_bill</th>\n",
              "      <th>tip</th>\n",
              "      <th>sex</th>\n",
              "      <th>smoker</th>\n",
              "      <th>day</th>\n",
              "      <th>time</th>\n",
              "      <th>size</th>\n",
              "    </tr>\n",
              "  </thead>\n",
              "  <tbody>\n",
              "    <tr>\n",
              "      <th>0</th>\n",
              "      <td>16.99</td>\n",
              "      <td>1.01</td>\n",
              "      <td>Female</td>\n",
              "      <td>No</td>\n",
              "      <td>Sun</td>\n",
              "      <td>Dinner</td>\n",
              "      <td>2</td>\n",
              "    </tr>\n",
              "    <tr>\n",
              "      <th>1</th>\n",
              "      <td>10.34</td>\n",
              "      <td>1.66</td>\n",
              "      <td>Male</td>\n",
              "      <td>No</td>\n",
              "      <td>Sun</td>\n",
              "      <td>Dinner</td>\n",
              "      <td>3</td>\n",
              "    </tr>\n",
              "    <tr>\n",
              "      <th>2</th>\n",
              "      <td>21.01</td>\n",
              "      <td>3.50</td>\n",
              "      <td>Male</td>\n",
              "      <td>No</td>\n",
              "      <td>Sun</td>\n",
              "      <td>Dinner</td>\n",
              "      <td>3</td>\n",
              "    </tr>\n",
              "    <tr>\n",
              "      <th>3</th>\n",
              "      <td>23.68</td>\n",
              "      <td>3.31</td>\n",
              "      <td>Male</td>\n",
              "      <td>No</td>\n",
              "      <td>Sun</td>\n",
              "      <td>Dinner</td>\n",
              "      <td>2</td>\n",
              "    </tr>\n",
              "    <tr>\n",
              "      <th>4</th>\n",
              "      <td>24.59</td>\n",
              "      <td>3.61</td>\n",
              "      <td>Female</td>\n",
              "      <td>No</td>\n",
              "      <td>Sun</td>\n",
              "      <td>Dinner</td>\n",
              "      <td>4</td>\n",
              "    </tr>\n",
              "    <tr>\n",
              "      <th>...</th>\n",
              "      <td>...</td>\n",
              "      <td>...</td>\n",
              "      <td>...</td>\n",
              "      <td>...</td>\n",
              "      <td>...</td>\n",
              "      <td>...</td>\n",
              "      <td>...</td>\n",
              "    </tr>\n",
              "    <tr>\n",
              "      <th>239</th>\n",
              "      <td>29.03</td>\n",
              "      <td>5.92</td>\n",
              "      <td>Male</td>\n",
              "      <td>No</td>\n",
              "      <td>Sat</td>\n",
              "      <td>Dinner</td>\n",
              "      <td>3</td>\n",
              "    </tr>\n",
              "    <tr>\n",
              "      <th>240</th>\n",
              "      <td>27.18</td>\n",
              "      <td>2.00</td>\n",
              "      <td>Female</td>\n",
              "      <td>Yes</td>\n",
              "      <td>Sat</td>\n",
              "      <td>Dinner</td>\n",
              "      <td>2</td>\n",
              "    </tr>\n",
              "    <tr>\n",
              "      <th>241</th>\n",
              "      <td>22.67</td>\n",
              "      <td>2.00</td>\n",
              "      <td>Male</td>\n",
              "      <td>Yes</td>\n",
              "      <td>Sat</td>\n",
              "      <td>Dinner</td>\n",
              "      <td>2</td>\n",
              "    </tr>\n",
              "    <tr>\n",
              "      <th>242</th>\n",
              "      <td>17.82</td>\n",
              "      <td>1.75</td>\n",
              "      <td>Male</td>\n",
              "      <td>No</td>\n",
              "      <td>Sat</td>\n",
              "      <td>Dinner</td>\n",
              "      <td>2</td>\n",
              "    </tr>\n",
              "    <tr>\n",
              "      <th>243</th>\n",
              "      <td>18.78</td>\n",
              "      <td>3.00</td>\n",
              "      <td>Female</td>\n",
              "      <td>No</td>\n",
              "      <td>Thur</td>\n",
              "      <td>Dinner</td>\n",
              "      <td>2</td>\n",
              "    </tr>\n",
              "  </tbody>\n",
              "</table>\n",
              "<p>244 rows × 7 columns</p>\n",
              "</div>"
            ],
            "text/plain": [
              "     total_bill   tip     sex smoker   day    time  size\n",
              "0         16.99  1.01  Female     No   Sun  Dinner     2\n",
              "1         10.34  1.66    Male     No   Sun  Dinner     3\n",
              "2         21.01  3.50    Male     No   Sun  Dinner     3\n",
              "3         23.68  3.31    Male     No   Sun  Dinner     2\n",
              "4         24.59  3.61  Female     No   Sun  Dinner     4\n",
              "..          ...   ...     ...    ...   ...     ...   ...\n",
              "239       29.03  5.92    Male     No   Sat  Dinner     3\n",
              "240       27.18  2.00  Female    Yes   Sat  Dinner     2\n",
              "241       22.67  2.00    Male    Yes   Sat  Dinner     2\n",
              "242       17.82  1.75    Male     No   Sat  Dinner     2\n",
              "243       18.78  3.00  Female     No  Thur  Dinner     2\n",
              "\n",
              "[244 rows x 7 columns]"
            ]
          },
          "execution_count": 7,
          "metadata": {},
          "output_type": "execute_result"
        }
      ],
      "execution_count": 7
    },
    {
      "cell_type": "markdown",
      "source": "* We will add the percentage of the bill corresponding to the tip.\n\n* Let us also see how we create new columns in a `DataFrame`.",
      "metadata": {
        "slideshow": {
          "slide_type": "slide"
        }
      }
    },
    {
      "cell_type": "code",
      "source": "tips['tip_pct'] = tips['tip'] / tips['total_bill']\ntips",
      "metadata": {
        "slideshow": {
          "slide_type": "fragment"
        }
      },
      "outputs": [
        {
          "data": {
            "text/html": [
              "<div>\n",
              "<style scoped>\n",
              "    .dataframe tbody tr th:only-of-type {\n",
              "        vertical-align: middle;\n",
              "    }\n",
              "\n",
              "    .dataframe tbody tr th {\n",
              "        vertical-align: top;\n",
              "    }\n",
              "\n",
              "    .dataframe thead th {\n",
              "        text-align: right;\n",
              "    }\n",
              "</style>\n",
              "<table border=\"1\" class=\"dataframe\">\n",
              "  <thead>\n",
              "    <tr style=\"text-align: right;\">\n",
              "      <th></th>\n",
              "      <th>total_bill</th>\n",
              "      <th>tip</th>\n",
              "      <th>sex</th>\n",
              "      <th>smoker</th>\n",
              "      <th>day</th>\n",
              "      <th>time</th>\n",
              "      <th>size</th>\n",
              "      <th>tip_pct</th>\n",
              "    </tr>\n",
              "  </thead>\n",
              "  <tbody>\n",
              "    <tr>\n",
              "      <th>0</th>\n",
              "      <td>16.99</td>\n",
              "      <td>1.01</td>\n",
              "      <td>Female</td>\n",
              "      <td>No</td>\n",
              "      <td>Sun</td>\n",
              "      <td>Dinner</td>\n",
              "      <td>2</td>\n",
              "      <td>0.059447</td>\n",
              "    </tr>\n",
              "    <tr>\n",
              "      <th>1</th>\n",
              "      <td>10.34</td>\n",
              "      <td>1.66</td>\n",
              "      <td>Male</td>\n",
              "      <td>No</td>\n",
              "      <td>Sun</td>\n",
              "      <td>Dinner</td>\n",
              "      <td>3</td>\n",
              "      <td>0.160542</td>\n",
              "    </tr>\n",
              "    <tr>\n",
              "      <th>2</th>\n",
              "      <td>21.01</td>\n",
              "      <td>3.50</td>\n",
              "      <td>Male</td>\n",
              "      <td>No</td>\n",
              "      <td>Sun</td>\n",
              "      <td>Dinner</td>\n",
              "      <td>3</td>\n",
              "      <td>0.166587</td>\n",
              "    </tr>\n",
              "    <tr>\n",
              "      <th>3</th>\n",
              "      <td>23.68</td>\n",
              "      <td>3.31</td>\n",
              "      <td>Male</td>\n",
              "      <td>No</td>\n",
              "      <td>Sun</td>\n",
              "      <td>Dinner</td>\n",
              "      <td>2</td>\n",
              "      <td>0.139780</td>\n",
              "    </tr>\n",
              "    <tr>\n",
              "      <th>4</th>\n",
              "      <td>24.59</td>\n",
              "      <td>3.61</td>\n",
              "      <td>Female</td>\n",
              "      <td>No</td>\n",
              "      <td>Sun</td>\n",
              "      <td>Dinner</td>\n",
              "      <td>4</td>\n",
              "      <td>0.146808</td>\n",
              "    </tr>\n",
              "    <tr>\n",
              "      <th>...</th>\n",
              "      <td>...</td>\n",
              "      <td>...</td>\n",
              "      <td>...</td>\n",
              "      <td>...</td>\n",
              "      <td>...</td>\n",
              "      <td>...</td>\n",
              "      <td>...</td>\n",
              "      <td>...</td>\n",
              "    </tr>\n",
              "    <tr>\n",
              "      <th>239</th>\n",
              "      <td>29.03</td>\n",
              "      <td>5.92</td>\n",
              "      <td>Male</td>\n",
              "      <td>No</td>\n",
              "      <td>Sat</td>\n",
              "      <td>Dinner</td>\n",
              "      <td>3</td>\n",
              "      <td>0.203927</td>\n",
              "    </tr>\n",
              "    <tr>\n",
              "      <th>240</th>\n",
              "      <td>27.18</td>\n",
              "      <td>2.00</td>\n",
              "      <td>Female</td>\n",
              "      <td>Yes</td>\n",
              "      <td>Sat</td>\n",
              "      <td>Dinner</td>\n",
              "      <td>2</td>\n",
              "      <td>0.073584</td>\n",
              "    </tr>\n",
              "    <tr>\n",
              "      <th>241</th>\n",
              "      <td>22.67</td>\n",
              "      <td>2.00</td>\n",
              "      <td>Male</td>\n",
              "      <td>Yes</td>\n",
              "      <td>Sat</td>\n",
              "      <td>Dinner</td>\n",
              "      <td>2</td>\n",
              "      <td>0.088222</td>\n",
              "    </tr>\n",
              "    <tr>\n",
              "      <th>242</th>\n",
              "      <td>17.82</td>\n",
              "      <td>1.75</td>\n",
              "      <td>Male</td>\n",
              "      <td>No</td>\n",
              "      <td>Sat</td>\n",
              "      <td>Dinner</td>\n",
              "      <td>2</td>\n",
              "      <td>0.098204</td>\n",
              "    </tr>\n",
              "    <tr>\n",
              "      <th>243</th>\n",
              "      <td>18.78</td>\n",
              "      <td>3.00</td>\n",
              "      <td>Female</td>\n",
              "      <td>No</td>\n",
              "      <td>Thur</td>\n",
              "      <td>Dinner</td>\n",
              "      <td>2</td>\n",
              "      <td>0.159744</td>\n",
              "    </tr>\n",
              "  </tbody>\n",
              "</table>\n",
              "<p>244 rows × 8 columns</p>\n",
              "</div>"
            ],
            "text/plain": [
              "     total_bill   tip     sex smoker   day    time  size   tip_pct\n",
              "0         16.99  1.01  Female     No   Sun  Dinner     2  0.059447\n",
              "1         10.34  1.66    Male     No   Sun  Dinner     3  0.160542\n",
              "2         21.01  3.50    Male     No   Sun  Dinner     3  0.166587\n",
              "3         23.68  3.31    Male     No   Sun  Dinner     2  0.139780\n",
              "4         24.59  3.61  Female     No   Sun  Dinner     4  0.146808\n",
              "..          ...   ...     ...    ...   ...     ...   ...       ...\n",
              "239       29.03  5.92    Male     No   Sat  Dinner     3  0.203927\n",
              "240       27.18  2.00  Female    Yes   Sat  Dinner     2  0.073584\n",
              "241       22.67  2.00    Male    Yes   Sat  Dinner     2  0.088222\n",
              "242       17.82  1.75    Male     No   Sat  Dinner     2  0.098204\n",
              "243       18.78  3.00  Female     No  Thur  Dinner     2  0.159744\n",
              "\n",
              "[244 rows x 8 columns]"
            ]
          },
          "execution_count": 8,
          "metadata": {},
          "output_type": "execute_result"
        }
      ],
      "execution_count": 8
    },
    {
      "cell_type": "markdown",
      "source": "* We can now group by leaf and whether it is a smoker.",
      "metadata": {
        "slideshow": {
          "slide_type": "slide"
        }
      }
    },
    {
      "cell_type": "code",
      "source": "grouped = tips.groupby(['sex', 'smoker'])",
      "metadata": {
        "slideshow": {
          "slide_type": "fragment"
        }
      },
      "outputs": [],
      "execution_count": 9
    },
    {
      "cell_type": "markdown",
      "source": "* We can see the standard deviation and mean for each group, for all columns that can be calculated:",
      "metadata": {
        "slideshow": {
          "slide_type": "slide"
        }
      }
    },
    {
      "cell_type": "code",
      "source": "grouped.agg(['mean', 'std'])",
      "metadata": {
        "slideshow": {
          "slide_type": "fragment"
        }
      },
      "outputs": [
        {
          "data": {
            "text/html": [
              "<div>\n",
              "<style scoped>\n",
              "    .dataframe tbody tr th:only-of-type {\n",
              "        vertical-align: middle;\n",
              "    }\n",
              "\n",
              "    .dataframe tbody tr th {\n",
              "        vertical-align: top;\n",
              "    }\n",
              "\n",
              "    .dataframe thead tr th {\n",
              "        text-align: left;\n",
              "    }\n",
              "\n",
              "    .dataframe thead tr:last-of-type th {\n",
              "        text-align: right;\n",
              "    }\n",
              "</style>\n",
              "<table border=\"1\" class=\"dataframe\">\n",
              "  <thead>\n",
              "    <tr>\n",
              "      <th></th>\n",
              "      <th></th>\n",
              "      <th colspan=\"2\" halign=\"left\">total_bill</th>\n",
              "      <th colspan=\"2\" halign=\"left\">tip</th>\n",
              "      <th colspan=\"2\" halign=\"left\">size</th>\n",
              "      <th colspan=\"2\" halign=\"left\">tip_pct</th>\n",
              "    </tr>\n",
              "    <tr>\n",
              "      <th></th>\n",
              "      <th></th>\n",
              "      <th>mean</th>\n",
              "      <th>std</th>\n",
              "      <th>mean</th>\n",
              "      <th>std</th>\n",
              "      <th>mean</th>\n",
              "      <th>std</th>\n",
              "      <th>mean</th>\n",
              "      <th>std</th>\n",
              "    </tr>\n",
              "    <tr>\n",
              "      <th>sex</th>\n",
              "      <th>smoker</th>\n",
              "      <th></th>\n",
              "      <th></th>\n",
              "      <th></th>\n",
              "      <th></th>\n",
              "      <th></th>\n",
              "      <th></th>\n",
              "      <th></th>\n",
              "      <th></th>\n",
              "    </tr>\n",
              "  </thead>\n",
              "  <tbody>\n",
              "    <tr>\n",
              "      <th rowspan=\"2\" valign=\"top\">Female</th>\n",
              "      <th>No</th>\n",
              "      <td>18.105185</td>\n",
              "      <td>7.286455</td>\n",
              "      <td>2.773519</td>\n",
              "      <td>1.128425</td>\n",
              "      <td>2.592593</td>\n",
              "      <td>1.073146</td>\n",
              "      <td>0.156921</td>\n",
              "      <td>0.036421</td>\n",
              "    </tr>\n",
              "    <tr>\n",
              "      <th>Yes</th>\n",
              "      <td>17.977879</td>\n",
              "      <td>9.189751</td>\n",
              "      <td>2.931515</td>\n",
              "      <td>1.219916</td>\n",
              "      <td>2.242424</td>\n",
              "      <td>0.613917</td>\n",
              "      <td>0.182150</td>\n",
              "      <td>0.071595</td>\n",
              "    </tr>\n",
              "    <tr>\n",
              "      <th rowspan=\"2\" valign=\"top\">Male</th>\n",
              "      <th>No</th>\n",
              "      <td>19.791237</td>\n",
              "      <td>8.726566</td>\n",
              "      <td>3.113402</td>\n",
              "      <td>1.489559</td>\n",
              "      <td>2.711340</td>\n",
              "      <td>0.989094</td>\n",
              "      <td>0.160669</td>\n",
              "      <td>0.041849</td>\n",
              "    </tr>\n",
              "    <tr>\n",
              "      <th>Yes</th>\n",
              "      <td>22.284500</td>\n",
              "      <td>9.911845</td>\n",
              "      <td>3.051167</td>\n",
              "      <td>1.500120</td>\n",
              "      <td>2.500000</td>\n",
              "      <td>0.892530</td>\n",
              "      <td>0.152771</td>\n",
              "      <td>0.090588</td>\n",
              "    </tr>\n",
              "  </tbody>\n",
              "</table>\n",
              "</div>"
            ],
            "text/plain": [
              "              total_bill                 tip                size            \\\n",
              "                    mean       std      mean       std      mean       std   \n",
              "sex    smoker                                                                \n",
              "Female No      18.105185  7.286455  2.773519  1.128425  2.592593  1.073146   \n",
              "       Yes     17.977879  9.189751  2.931515  1.219916  2.242424  0.613917   \n",
              "Male   No      19.791237  8.726566  3.113402  1.489559  2.711340  0.989094   \n",
              "       Yes     22.284500  9.911845  3.051167  1.500120  2.500000  0.892530   \n",
              "\n",
              "                tip_pct            \n",
              "                   mean       std  \n",
              "sex    smoker                      \n",
              "Female No      0.156921  0.036421  \n",
              "       Yes     0.182150  0.071595  \n",
              "Male   No      0.160669  0.041849  \n",
              "       Yes     0.152771  0.090588  "
            ]
          },
          "execution_count": 10,
          "metadata": {},
          "output_type": "execute_result"
        }
      ],
      "execution_count": 10
    },
    {
      "cell_type": "markdown",
      "source": "* We now return to the familiar dataset of taxi routes.",
      "metadata": {
        "slideshow": {
          "slide_type": "slide"
        }
      }
    },
    {
      "cell_type": "code",
      "source": "taxis = pd.read_csv(\"nyc_taxi_trip_data_sample.csv.zip\")",
      "metadata": {
        "slideshow": {
          "slide_type": "fragment"
        }
      },
      "outputs": [],
      "execution_count": 11
    },
    {
      "cell_type": "markdown",
      "source": "* There were two columns which had date and time data:\n\n * `pickup_datetime`\n * `dropoff_datetime`\n\n* Let's consider `pickup_datetime`.",
      "metadata": {
        "slideshow": {
          "slide_type": "slide"
        }
      }
    },
    {
      "cell_type": "code",
      "source": "taxis.pickup_datetime",
      "metadata": {
        "slideshow": {
          "slide_type": "fragment"
        }
      },
      "outputs": [
        {
          "data": {
            "text/plain": [
              "0          2013-10-04 20:20:00\n",
              "1          2013-09-27 14:16:04\n",
              "2          2013-07-18 13:24:37\n",
              "3          2013-06-25 12:12:00\n",
              "4          2013-04-19 05:28:00\n",
              "                  ...         \n",
              "1731792    2013-08-02 03:34:00\n",
              "1731793    2013-02-21 12:44:00\n",
              "1731794    2013-02-16 17:24:00\n",
              "1731795    2013-05-24 10:29:16\n",
              "1731796    2013-03-15 14:42:10\n",
              "Name: pickup_datetime, Length: 1731797, dtype: object"
            ]
          },
          "execution_count": 12,
          "metadata": {},
          "output_type": "execute_result"
        }
      ],
      "execution_count": 12
    },
    {
      "cell_type": "markdown",
      "source": "* If we notice, the type (`dtype`) of the column (`Series`) `pickup_datetime` is `object`.\n\n* We want to handle it as a date and time.\n\n* To do this, we need to declare it when creating the `DataFrame`.",
      "metadata": {
        "slideshow": {
          "slide_type": "slide"
        }
      }
    },
    {
      "cell_type": "code",
      "source": "taxis.pickup_datetime",
      "metadata": {
        "slideshow": {
          "slide_type": "fragment"
        }
      },
      "outputs": [
        {
          "data": {
            "text/plain": [
              "0          2013-10-04 20:20:00\n",
              "1          2013-09-27 14:16:04\n",
              "2          2013-07-18 13:24:37\n",
              "3          2013-06-25 12:12:00\n",
              "4          2013-04-19 05:28:00\n",
              "                  ...         \n",
              "1731792    2013-08-02 03:34:00\n",
              "1731793    2013-02-21 12:44:00\n",
              "1731794    2013-02-16 17:24:00\n",
              "1731795    2013-05-24 10:29:16\n",
              "1731796    2013-03-15 14:42:10\n",
              "Name: pickup_datetime, Length: 1731797, dtype: object"
            ]
          },
          "execution_count": 13,
          "metadata": {},
          "output_type": "execute_result"
        }
      ],
      "execution_count": 13
    },
    {
      "cell_type": "code",
      "source": "taxis = pd.read_csv(\"nyc_taxi_trip_data_sample.csv.zip\", \n                    parse_dates=['pickup_datetime', 'dropoff_datetime'])\ntaxis",
      "metadata": {
        "slideshow": {
          "slide_type": "slide"
        }
      },
      "outputs": [
        {
          "data": {
            "text/html": [
              "<div>\n",
              "<style scoped>\n",
              "    .dataframe tbody tr th:only-of-type {\n",
              "        vertical-align: middle;\n",
              "    }\n",
              "\n",
              "    .dataframe tbody tr th {\n",
              "        vertical-align: top;\n",
              "    }\n",
              "\n",
              "    .dataframe thead th {\n",
              "        text-align: right;\n",
              "    }\n",
              "</style>\n",
              "<table border=\"1\" class=\"dataframe\">\n",
              "  <thead>\n",
              "    <tr style=\"text-align: right;\">\n",
              "      <th></th>\n",
              "      <th>medallion</th>\n",
              "      <th>hack_license</th>\n",
              "      <th>vendor_id</th>\n",
              "      <th>rate_code</th>\n",
              "      <th>store_and_fwd_flag</th>\n",
              "      <th>pickup_datetime</th>\n",
              "      <th>dropoff_datetime</th>\n",
              "      <th>passenger_count</th>\n",
              "      <th>trip_time_in_secs</th>\n",
              "      <th>trip_distance</th>\n",
              "      <th>pickup_longitude</th>\n",
              "      <th>pickup_latitude</th>\n",
              "      <th>dropoff_longitude</th>\n",
              "      <th>dropoff_latitude</th>\n",
              "    </tr>\n",
              "  </thead>\n",
              "  <tbody>\n",
              "    <tr>\n",
              "      <th>0</th>\n",
              "      <td>037CB433AB5895649F7A9EF37F767EF1</td>\n",
              "      <td>F57FA13A6A82FE2F40D9DB0193DE0FEE</td>\n",
              "      <td>VTS</td>\n",
              "      <td>1</td>\n",
              "      <td>NaN</td>\n",
              "      <td>2013-10-04 20:20:00</td>\n",
              "      <td>2013-10-04 20:42:00</td>\n",
              "      <td>1</td>\n",
              "      <td>1320</td>\n",
              "      <td>4.05</td>\n",
              "      <td>-73.990089</td>\n",
              "      <td>40.723377</td>\n",
              "      <td>-73.941559</td>\n",
              "      <td>40.707790</td>\n",
              "    </tr>\n",
              "    <tr>\n",
              "      <th>1</th>\n",
              "      <td>E05E952B2DA14C7E9F1D7DEB80667739</td>\n",
              "      <td>11A3989B7BABB288FA3FA233E348C450</td>\n",
              "      <td>CMT</td>\n",
              "      <td>1</td>\n",
              "      <td>N</td>\n",
              "      <td>2013-09-27 14:16:04</td>\n",
              "      <td>2013-09-27 14:37:17</td>\n",
              "      <td>1</td>\n",
              "      <td>1273</td>\n",
              "      <td>2.10</td>\n",
              "      <td>-73.960022</td>\n",
              "      <td>40.710678</td>\n",
              "      <td>-73.994324</td>\n",
              "      <td>40.722858</td>\n",
              "    </tr>\n",
              "    <tr>\n",
              "      <th>2</th>\n",
              "      <td>51B267141807D0261EEB1844D2A78087</td>\n",
              "      <td>9DE60DFD683336F899D5BB448CE7CB09</td>\n",
              "      <td>CMT</td>\n",
              "      <td>1</td>\n",
              "      <td>N</td>\n",
              "      <td>2013-07-18 13:24:37</td>\n",
              "      <td>2013-07-18 13:29:27</td>\n",
              "      <td>3</td>\n",
              "      <td>290</td>\n",
              "      <td>0.90</td>\n",
              "      <td>-73.970634</td>\n",
              "      <td>40.760410</td>\n",
              "      <td>-73.960213</td>\n",
              "      <td>40.770241</td>\n",
              "    </tr>\n",
              "    <tr>\n",
              "      <th>3</th>\n",
              "      <td>76AC5C0F44D07BA5A2291F19E730B0B9</td>\n",
              "      <td>2348E03BB8227595281D9D6B38E45B38</td>\n",
              "      <td>VTS</td>\n",
              "      <td>1</td>\n",
              "      <td>NaN</td>\n",
              "      <td>2013-06-25 12:12:00</td>\n",
              "      <td>2013-06-25 12:28:00</td>\n",
              "      <td>2</td>\n",
              "      <td>960</td>\n",
              "      <td>1.28</td>\n",
              "      <td>-73.992661</td>\n",
              "      <td>40.752766</td>\n",
              "      <td>-73.975952</td>\n",
              "      <td>40.751781</td>\n",
              "    </tr>\n",
              "    <tr>\n",
              "      <th>4</th>\n",
              "      <td>739323AC15DADABE4B54561CB3330C53</td>\n",
              "      <td>9387A0902D7B1B4597802BE63AE7C34F</td>\n",
              "      <td>VTS</td>\n",
              "      <td>1</td>\n",
              "      <td>NaN</td>\n",
              "      <td>2013-04-19 05:28:00</td>\n",
              "      <td>2013-04-19 05:38:00</td>\n",
              "      <td>1</td>\n",
              "      <td>600</td>\n",
              "      <td>2.22</td>\n",
              "      <td>-73.999107</td>\n",
              "      <td>40.727924</td>\n",
              "      <td>-73.974869</td>\n",
              "      <td>40.741886</td>\n",
              "    </tr>\n",
              "    <tr>\n",
              "      <th>...</th>\n",
              "      <td>...</td>\n",
              "      <td>...</td>\n",
              "      <td>...</td>\n",
              "      <td>...</td>\n",
              "      <td>...</td>\n",
              "      <td>...</td>\n",
              "      <td>...</td>\n",
              "      <td>...</td>\n",
              "      <td>...</td>\n",
              "      <td>...</td>\n",
              "      <td>...</td>\n",
              "      <td>...</td>\n",
              "      <td>...</td>\n",
              "      <td>...</td>\n",
              "    </tr>\n",
              "    <tr>\n",
              "      <th>1731792</th>\n",
              "      <td>5DAE4FE51457F5B4D4950D00A0AD4394</td>\n",
              "      <td>B76DC9DC874EB9D71CC04ABC0D9AAC6A</td>\n",
              "      <td>CMT</td>\n",
              "      <td>1</td>\n",
              "      <td>N</td>\n",
              "      <td>2013-08-02 03:34:00</td>\n",
              "      <td>2013-08-02 03:51:47</td>\n",
              "      <td>2</td>\n",
              "      <td>1067</td>\n",
              "      <td>6.00</td>\n",
              "      <td>-73.995766</td>\n",
              "      <td>40.764359</td>\n",
              "      <td>-73.920052</td>\n",
              "      <td>40.775574</td>\n",
              "    </tr>\n",
              "    <tr>\n",
              "      <th>1731793</th>\n",
              "      <td>3C16CFAD2B12F3508F7211C37F8F8B8F</td>\n",
              "      <td>A36B62F2B6D1D6C289519810E66EAAB9</td>\n",
              "      <td>VTS</td>\n",
              "      <td>1</td>\n",
              "      <td>NaN</td>\n",
              "      <td>2013-02-21 12:44:00</td>\n",
              "      <td>2013-02-21 13:11:00</td>\n",
              "      <td>6</td>\n",
              "      <td>1620</td>\n",
              "      <td>3.94</td>\n",
              "      <td>0.000000</td>\n",
              "      <td>0.000000</td>\n",
              "      <td>0.000000</td>\n",
              "      <td>0.000000</td>\n",
              "    </tr>\n",
              "    <tr>\n",
              "      <th>1731794</th>\n",
              "      <td>23E5F1FDC96168E865BF7B4427C0163B</td>\n",
              "      <td>E7D75D6D6F2DBD7D25578F02991193D9</td>\n",
              "      <td>VTS</td>\n",
              "      <td>1</td>\n",
              "      <td>NaN</td>\n",
              "      <td>2013-02-16 17:24:00</td>\n",
              "      <td>2013-02-16 17:30:00</td>\n",
              "      <td>3</td>\n",
              "      <td>360</td>\n",
              "      <td>2.15</td>\n",
              "      <td>-73.991554</td>\n",
              "      <td>40.726940</td>\n",
              "      <td>-73.971642</td>\n",
              "      <td>40.751362</td>\n",
              "    </tr>\n",
              "    <tr>\n",
              "      <th>1731795</th>\n",
              "      <td>FE44D1131D86D515C88D5296598DD35A</td>\n",
              "      <td>015615BB1B66BA269602ED1A867271FA</td>\n",
              "      <td>CMT</td>\n",
              "      <td>1</td>\n",
              "      <td>N</td>\n",
              "      <td>2013-05-24 10:29:16</td>\n",
              "      <td>2013-05-24 10:44:39</td>\n",
              "      <td>1</td>\n",
              "      <td>923</td>\n",
              "      <td>7.20</td>\n",
              "      <td>-73.865715</td>\n",
              "      <td>40.771168</td>\n",
              "      <td>-73.809006</td>\n",
              "      <td>40.700127</td>\n",
              "    </tr>\n",
              "    <tr>\n",
              "      <th>1731796</th>\n",
              "      <td>465FE7E793D67BBB8A7A9869065170E5</td>\n",
              "      <td>E5D211ECD1F6A6164B6CFF1EB9B50499</td>\n",
              "      <td>CMT</td>\n",
              "      <td>1</td>\n",
              "      <td>N</td>\n",
              "      <td>2013-03-15 14:42:10</td>\n",
              "      <td>2013-03-15 14:51:20</td>\n",
              "      <td>1</td>\n",
              "      <td>549</td>\n",
              "      <td>0.70</td>\n",
              "      <td>-74.002968</td>\n",
              "      <td>40.718216</td>\n",
              "      <td>-74.011620</td>\n",
              "      <td>40.708351</td>\n",
              "    </tr>\n",
              "  </tbody>\n",
              "</table>\n",
              "<p>1731797 rows × 14 columns</p>\n",
              "</div>"
            ],
            "text/plain": [
              "                                medallion                      hack_license  \\\n",
              "0        037CB433AB5895649F7A9EF37F767EF1  F57FA13A6A82FE2F40D9DB0193DE0FEE   \n",
              "1        E05E952B2DA14C7E9F1D7DEB80667739  11A3989B7BABB288FA3FA233E348C450   \n",
              "2        51B267141807D0261EEB1844D2A78087  9DE60DFD683336F899D5BB448CE7CB09   \n",
              "3        76AC5C0F44D07BA5A2291F19E730B0B9  2348E03BB8227595281D9D6B38E45B38   \n",
              "4        739323AC15DADABE4B54561CB3330C53  9387A0902D7B1B4597802BE63AE7C34F   \n",
              "...                                   ...                               ...   \n",
              "1731792  5DAE4FE51457F5B4D4950D00A0AD4394  B76DC9DC874EB9D71CC04ABC0D9AAC6A   \n",
              "1731793  3C16CFAD2B12F3508F7211C37F8F8B8F  A36B62F2B6D1D6C289519810E66EAAB9   \n",
              "1731794  23E5F1FDC96168E865BF7B4427C0163B  E7D75D6D6F2DBD7D25578F02991193D9   \n",
              "1731795  FE44D1131D86D515C88D5296598DD35A  015615BB1B66BA269602ED1A867271FA   \n",
              "1731796  465FE7E793D67BBB8A7A9869065170E5  E5D211ECD1F6A6164B6CFF1EB9B50499   \n",
              "\n",
              "        vendor_id  rate_code store_and_fwd_flag     pickup_datetime  \\\n",
              "0             VTS          1                NaN 2013-10-04 20:20:00   \n",
              "1             CMT          1                  N 2013-09-27 14:16:04   \n",
              "2             CMT          1                  N 2013-07-18 13:24:37   \n",
              "3             VTS          1                NaN 2013-06-25 12:12:00   \n",
              "4             VTS          1                NaN 2013-04-19 05:28:00   \n",
              "...           ...        ...                ...                 ...   \n",
              "1731792       CMT          1                  N 2013-08-02 03:34:00   \n",
              "1731793       VTS          1                NaN 2013-02-21 12:44:00   \n",
              "1731794       VTS          1                NaN 2013-02-16 17:24:00   \n",
              "1731795       CMT          1                  N 2013-05-24 10:29:16   \n",
              "1731796       CMT          1                  N 2013-03-15 14:42:10   \n",
              "\n",
              "           dropoff_datetime  passenger_count  trip_time_in_secs  \\\n",
              "0       2013-10-04 20:42:00                1               1320   \n",
              "1       2013-09-27 14:37:17                1               1273   \n",
              "2       2013-07-18 13:29:27                3                290   \n",
              "3       2013-06-25 12:28:00                2                960   \n",
              "4       2013-04-19 05:38:00                1                600   \n",
              "...                     ...              ...                ...   \n",
              "1731792 2013-08-02 03:51:47                2               1067   \n",
              "1731793 2013-02-21 13:11:00                6               1620   \n",
              "1731794 2013-02-16 17:30:00                3                360   \n",
              "1731795 2013-05-24 10:44:39                1                923   \n",
              "1731796 2013-03-15 14:51:20                1                549   \n",
              "\n",
              "         trip_distance  pickup_longitude  pickup_latitude  dropoff_longitude  \\\n",
              "0                 4.05        -73.990089        40.723377         -73.941559   \n",
              "1                 2.10        -73.960022        40.710678         -73.994324   \n",
              "2                 0.90        -73.970634        40.760410         -73.960213   \n",
              "3                 1.28        -73.992661        40.752766         -73.975952   \n",
              "4                 2.22        -73.999107        40.727924         -73.974869   \n",
              "...                ...               ...              ...                ...   \n",
              "1731792           6.00        -73.995766        40.764359         -73.920052   \n",
              "1731793           3.94          0.000000         0.000000           0.000000   \n",
              "1731794           2.15        -73.991554        40.726940         -73.971642   \n",
              "1731795           7.20        -73.865715        40.771168         -73.809006   \n",
              "1731796           0.70        -74.002968        40.718216         -74.011620   \n",
              "\n",
              "         dropoff_latitude  \n",
              "0               40.707790  \n",
              "1               40.722858  \n",
              "2               40.770241  \n",
              "3               40.751781  \n",
              "4               40.741886  \n",
              "...                   ...  \n",
              "1731792         40.775574  \n",
              "1731793          0.000000  \n",
              "1731794         40.751362  \n",
              "1731795         40.700127  \n",
              "1731796         40.708351  \n",
              "\n",
              "[1731797 rows x 14 columns]"
            ]
          },
          "execution_count": 14,
          "metadata": {},
          "output_type": "execute_result"
        }
      ],
      "execution_count": 14
    },
    {
      "cell_type": "markdown",
      "source": "* Now to see the type of the `pickup_datetime` column:",
      "metadata": {
        "slideshow": {
          "slide_type": "slide"
        }
      }
    },
    {
      "cell_type": "code",
      "source": "taxis.pickup_datetime",
      "metadata": {
        "slideshow": {
          "slide_type": "fragment"
        }
      },
      "outputs": [
        {
          "data": {
            "text/plain": [
              "0         2013-10-04 20:20:00\n",
              "1         2013-09-27 14:16:04\n",
              "2         2013-07-18 13:24:37\n",
              "3         2013-06-25 12:12:00\n",
              "4         2013-04-19 05:28:00\n",
              "                  ...        \n",
              "1731792   2013-08-02 03:34:00\n",
              "1731793   2013-02-21 12:44:00\n",
              "1731794   2013-02-16 17:24:00\n",
              "1731795   2013-05-24 10:29:16\n",
              "1731796   2013-03-15 14:42:10\n",
              "Name: pickup_datetime, Length: 1731797, dtype: datetime64[ns]"
            ]
          },
          "execution_count": 15,
          "metadata": {},
          "output_type": "execute_result"
        }
      ],
      "execution_count": 15
    },
    {
      "cell_type": "markdown",
      "source": "* Since a column is of type `datetime`, we can use the `.dt` suffix to use a variety of methods for datetime data.\n* Here we will group our data by week.",
      "metadata": {
        "collapsed": true,
        "slideshow": {
          "slide_type": "slide"
        },
        "jupyter": {
          "outputs_hidden": true
        }
      }
    },
    {
      "cell_type": "code",
      "source": "weekly = taxis.groupby(taxis.pickup_datetime.dt.isocalendar().week)\nlen(weekly)",
      "metadata": {
        "slideshow": {
          "slide_type": "fragment"
        }
      },
      "outputs": [
        {
          "data": {
            "text/plain": [
              "52"
            ]
          },
          "execution_count": 16,
          "metadata": {},
          "output_type": "execute_result"
        }
      ],
      "execution_count": 16
    },
    {
      "cell_type": "markdown",
      "source": "* So we got one group for each week, with the routes that were made in that week.\n\n* To count how many routes were made, it is enough to use the `size()` method on each group.",
      "metadata": {
        "slideshow": {
          "slide_type": "slide"
        }
      }
    },
    {
      "cell_type": "code",
      "source": "y = weekly.size()\ny.head(3)",
      "metadata": {
        "slideshow": {
          "slide_type": "fragment"
        }
      },
      "outputs": [
        {
          "data": {
            "text/plain": [
              "week\n",
              "1    35125\n",
              "2    32415\n",
              "3    34478\n",
              "dtype: int64"
            ]
          },
          "execution_count": 17,
          "metadata": {},
          "output_type": "execute_result"
        }
      ],
      "execution_count": 17
    },
    {
      "cell_type": "markdown",
      "source": "* To see what diagram we can make based on these.",
      "metadata": {
        "slideshow": {
          "slide_type": "slide"
        }
      }
    },
    {
      "cell_type": "code",
      "source": "pd.Series(y.values).plot(figsize=(10, 8))",
      "metadata": {
        "slideshow": {
          "slide_type": "fragment"
        }
      },
      "outputs": [
        {
          "data": {
            "text/plain": [
              "<AxesSubplot:>"
            ]
          },
          "execution_count": 18,
          "metadata": {},
          "output_type": "execute_result"
        },
        {
          "data": {
            "image/png": "[encoded data removed]",
            "text/plain": [
              "<Figure size 720x576 with 1 Axes>"
            ]
          },
          "metadata": {
            "needs_background": "light"
          },
          "output_type": "display_data"
        }
      ],
      "execution_count": 18
    },
    {
      "cell_type": "markdown",
      "source": "* The diagram is correct, but there is a problem.\n\n* The serial number of the week is written on the horizontal axis.\n\n* This is not very convenient, because we may not remember when in time, for example, the 13th week falls.",
      "metadata": {
        "slideshow": {
          "slide_type": "slide"
        }
      }
    },
    {
      "cell_type": "markdown",
      "source": "* To solve the problem, on the horizontal axis we will put the time at which each week of each team begins.",
      "metadata": {
        "slideshow": {
          "slide_type": "slide"
        }
      }
    },
    {
      "cell_type": "code",
      "source": "x = weekly.pickup_datetime.min()\nx[:3]",
      "metadata": {
        "slideshow": {
          "slide_type": "fragment"
        }
      },
      "outputs": [
        {
          "data": {
            "text/plain": [
              "week\n",
              "1   2013-01-01 00:00:00\n",
              "2   2013-01-07 00:00:29\n",
              "3   2013-01-14 00:00:00\n",
              "Name: pickup_datetime, dtype: datetime64[ns]"
            ]
          },
          "execution_count": 19,
          "metadata": {},
          "output_type": "execute_result"
        }
      ],
      "execution_count": 19
    },
    {
      "cell_type": "markdown",
      "source": "* We notice that the first week of the year contains six days, and not seven.\n\n* This explains why 2013 started on a Tuesday.",
      "metadata": {
        "slideshow": {
          "slide_type": "slide"
        }
      }
    },
    {
      "cell_type": "code",
      "source": "x.loc[1].day_name()",
      "metadata": {
        "slideshow": {
          "slide_type": "fragment"
        }
      },
      "outputs": [
        {
          "data": {
            "text/plain": [
              "'Tuesday'"
            ]
          },
          "execution_count": 20,
          "metadata": {},
          "output_type": "execute_result"
        }
      ],
      "execution_count": 20
    },
    {
      "cell_type": "markdown",
      "source": "* Now in the diagram we can put something more understandable on the horizontal axis.",
      "metadata": {
        "slideshow": {
          "slide_type": "slide"
        }
      }
    },
    {
      "cell_type": "code",
      "source": "pd.Series(y.values, index=x).plot(figsize=(10, 8))\nplt.grid()",
      "metadata": {
        "slideshow": {
          "slide_type": "fragment"
        }
      },
      "outputs": [
        {
          "data": {
            "image/png": "[encoded data removed]",
            "text/plain": [
              "<Figure size 720x576 with 1 Axes>"
            ]
          },
          "metadata": {
            "needs_background": "light"
          },
          "output_type": "display_data"
        }
      ],
      "execution_count": 21
    },
    {
      "cell_type": "markdown",
      "source": "* If we move from the month to the days of the week, how much is the taxi traffic?\n\n* It is enough to group exactly by day within the week.",
      "metadata": {
        "slideshow": {
          "slide_type": "slide"
        }
      }
    },
    {
      "cell_type": "code",
      "source": "dayofweek_rides = taxis.groupby(taxis.pickup_datetime.dt.dayofweek)\nlen(dayofweek_rides)",
      "metadata": {
        "slideshow": {
          "slide_type": "fragment"
        }
      },
      "outputs": [
        {
          "data": {
            "text/plain": [
              "7"
            ]
          },
          "execution_count": 22,
          "metadata": {},
          "output_type": "execute_result"
        }
      ],
      "execution_count": 22
    },
    {
      "cell_type": "markdown",
      "source": "* And count how many trips were made on each day of the week.",
      "metadata": {
        "slideshow": {
          "slide_type": "slide"
        }
      }
    },
    {
      "cell_type": "code",
      "source": "day_of_week_rides_num = dayofweek_rides.size()\nday_of_week_rides_num",
      "metadata": {
        "slideshow": {
          "slide_type": "fragment"
        }
      },
      "outputs": [
        {
          "data": {
            "text/plain": [
              "pickup_datetime\n",
              "0    224342\n",
              "1    246768\n",
              "2    249750\n",
              "3    255900\n",
              "4    263773\n",
              "5    262127\n",
              "6    229137\n",
              "dtype: int64"
            ]
          },
          "execution_count": 23,
          "metadata": {},
          "output_type": "execute_result"
        }
      ],
      "execution_count": 23
    },
    {
      "cell_type": "code",
      "source": "day_of_week_rides_num.plot(kind='bar', figsize=(10, 8))\nplt.gca().set_xticklabels(['Monday', 'Tuesday', 'Wednesday', 'Thursday', 'Friday', 'Saturday', 'Sunday'])\nplt.grid()",
      "metadata": {
        "slideshow": {
          "slide_type": "slide"
        }
      },
      "outputs": [
        {
          "data": {
            "image/png": "[encoded data removed]",
            "text/plain": [
              "<Figure size 720x576 with 1 Axes>"
            ]
          },
          "metadata": {
            "needs_background": "light"
          },
          "output_type": "display_data"
        }
      ],
      "execution_count": 24
    },
    {
      "cell_type": "markdown",
      "source": "* Correspondingly, we can also see the hourly situation.",
      "metadata": {
        "slideshow": {
          "slide_type": "slide"
        }
      }
    },
    {
      "cell_type": "code",
      "source": "hourly_rides = taxis.groupby(taxis.pickup_datetime.dt.hour)\nlen(hourly_rides)",
      "metadata": {
        "slideshow": {
          "slide_type": "fragment"
        }
      },
      "outputs": [
        {
          "data": {
            "text/plain": [
              "24"
            ]
          },
          "execution_count": 25,
          "metadata": {},
          "output_type": "execute_result"
        }
      ],
      "execution_count": 25
    },
    {
      "cell_type": "markdown",
      "source": "* We do the counting:",
      "metadata": {
        "slideshow": {
          "slide_type": "slide"
        }
      }
    },
    {
      "cell_type": "code",
      "source": "hourly_rides_num = hourly_rides.size()\nhourly_rides_num",
      "metadata": {
        "slideshow": {
          "slide_type": "fragment"
        }
      },
      "outputs": [
        {
          "data": {
            "text/plain": [
              "pickup_datetime\n",
              "0      69279\n",
              "1      50967\n",
              "2      38098\n",
              "3      27537\n",
              "4      20058\n",
              "5      17475\n",
              "6      35918\n",
              "7      62327\n",
              "8      77968\n",
              "9      80253\n",
              "10     78149\n",
              "11     80642\n",
              "12     85324\n",
              "13     84133\n",
              "14     86588\n",
              "15     83057\n",
              "16     69029\n",
              "17     83954\n",
              "18    104198\n",
              "19    108802\n",
              "20    103391\n",
              "21    100562\n",
              "22     97859\n",
              "23     86229\n",
              "dtype: int64"
            ]
          },
          "execution_count": 26,
          "metadata": {},
          "output_type": "execute_result"
        }
      ],
      "execution_count": 26
    },
    {
      "cell_type": "code",
      "source": "hourly_rides_num.plot.bar(figsize=(10, 8))\nplt.grid()",
      "metadata": {
        "slideshow": {
          "slide_type": "slide"
        }
      },
      "outputs": [
        {
          "data": {
            "image/png": "[encoded data removed]",
            "text/plain": [
              "<Figure size 720x576 with 1 Axes>"
            ]
          },
          "metadata": {
            "needs_background": "light"
          },
          "output_type": "display_data"
        }
      ],
      "execution_count": 27
    }
  ]
}