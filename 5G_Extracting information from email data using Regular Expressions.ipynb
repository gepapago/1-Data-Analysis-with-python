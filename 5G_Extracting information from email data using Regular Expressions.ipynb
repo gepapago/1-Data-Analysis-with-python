{
  "metadata": {
    "kernelspec": {
      "name": "python",
      "display_name": "Python (Pyodide)",
      "language": "python"
    },
    "language_info": {
      "codemirror_mode": {
        "name": "python",
        "version": 3
      },
      "file_extension": ".py",
      "mimetype": "text/x-python",
      "name": "python",
      "nbconvert_exporter": "python",
      "pygments_lexer": "ipython3",
      "version": "3.8"
    },
    "celltoolbar": "Slideshow"
  },
  "nbformat_minor": 4,
  "nbformat": 4,
  "cells": [
    {
      "cell_type": "markdown",
      "source": "# Extracting information from email data using Regular Expressions\n\n* Με υλικό από το [Regular Expression HOWTO](https://docs.python.org/3/howto/regex.html)",
      "metadata": {
        "slideshow": {
          "slide_type": "slide"
        }
      }
    },
    {
      "cell_type": "markdown",
      "source": "* Regular expressions (REs, regexes) are a mechanism by which we can describe strings.\n\n* This way we can search for strings that have a specific format, rather than being limited to searching for specific strings.\n\n* For example, let's say we don't want to find a specific phone in some data, but all phone numbers in the data. How are we going to do this?",
      "metadata": {
        "slideshow": {
          "slide_type": "slide"
        }
      }
    },
    {
      "cell_type": "markdown",
      "source": "* A regular expression consists of characters and symbols.\n\n* Most characters *match* (describe, match) themselves.\n\n * The regular expression `test` matches the string `test`.\n\n * The regular expression `banana` matches the string `banana`.",
      "metadata": {
        "slideshow": {
          "slide_type": "slide"
        }
      }
    },
    {
      "cell_type": "markdown",
      "source": "* But there are exceptions (and that's where things get interesting).\n\n* Some characters are *metacharacters*, and do not match themselves.\n\n* They mark some event, or some match that is not just an identification of a character.\n\n* Metacharacters are as follows:\n\n `. ^ $ * + ? { } [ ] \\ | ( )`",
      "metadata": {
        "slideshow": {
          "slide_type": "slide"
        }
      }
    },
    {
      "cell_type": "markdown",
      "source": "* The metacharacters `[` and `]` are used to define a *character class*, a set of characters we want to match.\n\n* For example, the regular expression `[abc]` matches `a`, `b`, or `c`.\n\n* The regular expression `[fgm]ood` matches the words `food`, `good`, `mood`.",
      "metadata": {
        "slideshow": {
          "slide_type": "slide"
        }
      }
    },
    {
      "cell_type": "markdown",
      "source": "* We can define a character field using `-`.\n\n* Instead of writing `[abc]` we can write `[a-c]`.\n\n* So if we want to match any lowercase Latin character we can use the regular expression `[a-z]`.",
      "metadata": {
        "slideshow": {
          "slide_type": "slide"
        }
      }
    },
    {
      "cell_type": "markdown",
      "source": "* Metacharacters behave like regular characters when in a class description.\n\n* `[akm$]` will match any of `a`, `k`, `m`, or `$`.\n\n* `$` is usually a metacharacter, but not inside a class description.",
      "metadata": {
        "slideshow": {
          "slide_type": "slide"
        }
      }
    },
    {
      "cell_type": "markdown",
      "source": "* If we want to get the characters that are not included in a class, we can *complement* it.\n\n* We do this by putting `^` as the first character of the class.\n\n* The expression `[^5]` will match any character *except* `5`.\n\n* The expression `[^m]iss` will match `kiss`, `hiss`, `diss`, as well as any other word ending in `iss` but not beginning with `m`.",
      "metadata": {
        "slideshow": {
          "slide_type": "slide"
        }
      }
    },
    {
      "cell_type": "markdown",
      "source": "* If `^` is not at the beginning of a class it loses its special meaning.\n\n* `[5^]` will match `5` or `^`.",
      "metadata": {
        "slideshow": {
          "slide_type": "slide"
        }
      }
    },
    {
      "cell_type": "markdown",
      "source": "* Perhaps the most important metacharacter is the `\\` (backslash).\n\n* With this we describe specific classes of characters.\n\n* `\\d` describes any decimal digit: `[0-9]`.\n\n* `\\D` describes characters that are *not* decimals: `[^0-9]`.\n\n* `\\s` describes whitespace characters: `[ \\t\\n\\r\\f\\v]`:\n\n * `\\f` is the character for new page (formfeed)\n * `\\n` is the new line character (linefeed)\n * `\\r` is the carriage return character\n * `\\t` is the tab\n * `\\v` is the vertical tab\n\n* `\\S` describes what is not a blank character: `[^ \\t\\n\\r\\f\\v]`.\n\n* `\\w` matches any alphanumeric character: `[a-zA-Z0-9_]` (approx).\n\n* `\\W` describes that it is not an alphanumeric character: `[^a-zA-Z0-9_]` (approx.).",
      "metadata": {
        "slideshow": {
          "slide_type": "slide"
        }
      }
    },
    {
      "cell_type": "markdown",
      "source": "* A special class is *any character*, `.`.\n\n* This matches every character except the newline.",
      "metadata": {
        "slideshow": {
          "slide_type": "slide"
        }
      }
    },
    {
      "cell_type": "markdown",
      "source": "* Describing character classes isn't the only thing we can do with regular expressions.\n\n* Another possibility they give us is to describe that their pieces can be repeated.",
      "metadata": {
        "slideshow": {
          "slide_type": "slide"
        }
      }
    },
    {
      "cell_type": "markdown",
      "source": "* The `*' metacharacter means that its previous character can match from zero to any number of times, as many as possible, i.e. it is *greedy*.\n\n* The expression `ca*t` can match `ct` (0 `a`), `cat` (1 `a`), `caaat` (3 `a`), etc.",
      "metadata": {
        "slideshow": {
          "slide_type": "slide"
        }
      }
    },
    {
      "cell_type": "markdown",
      "source": "* Another relevant character is `+`, which can be greedily matched from *one* to any number of times.\n\n* The expression `ca+t` can match `cat` (1 `a`), `caaat` (3 `a`s), but not `ct`.",
      "metadata": {
        "slideshow": {
          "slide_type": "slide"
        }
      }
    },
    {
      "cell_type": "markdown",
      "source": "* Question mark `?`, matches 0 or 1 time.\n\n* That is, it states that something is optional.\n\n* The expression `home-?brew` matches `homebrew` or `home-brew`.",
      "metadata": {
        "slideshow": {
          "slide_type": "slide"
        }
      }
    },
    {
      "cell_type": "markdown",
      "source": "* We can give a specific number of iterations by writing `{m,n}`, where `m` and `n` are digits (`n` we will see can be missing).\n\n* This means we want from `m` to `n` iterations.\n\n* The expression `a/{1,3}b` matches `a/b`, `a//b`, and `a///b`.",
      "metadata": {
        "slideshow": {
          "slide_type": "slide"
        }
      }
    },
    {
      "cell_type": "markdown",
      "source": "* `{0,}` is the same as `*`.\n\n* `{1,}` is the same as `+`.\n\n* `{0,1}` is the same as `?`.",
      "metadata": {
        "slideshow": {
          "slide_type": "slide"
        }
      }
    },
    {
      "cell_type": "markdown",
      "source": "* The metacharacter `|` is the logical \"OR\".\n\n* The expression `Cat|Dog` matches `Cat` or `Dog`.",
      "metadata": {
        "slideshow": {
          "slide_type": "slide"
        }
      }
    },
    {
      "cell_type": "markdown",
      "source": "* The `^` metacharacter matches the beginning of the string.\n\n* For example, if we want to match the word `From` only at the beginning of the string, we will give `^From`.\n\n* So `^From` matches ``From Here to Eternity''.\n\n* But it *doesn't* match ``Reciting From Memory''.",
      "metadata": {
        "slideshow": {
          "slide_type": "slide"
        }
      }
    },
    {
      "cell_type": "markdown",
      "source": "* Symmetrical to `^` is the metacharacter `$` which matches the end of the string.\n\n* So `fear$` matches `do not fear`.\n\n* But it doesn't match `fear not`.",
      "metadata": {
        "slideshow": {
          "slide_type": "slide"
        }
      }
    },
    {
      "cell_type": "markdown",
      "source": "* If we want to remove the meaning of a metacharacter, we use `\\`.\n\n* So, to match `$` we give `\\$`.",
      "metadata": {
        "slideshow": {
          "slide_type": "slide"
        }
      }
    },
    {
      "cell_type": "markdown",
      "source": "* So how do we match phone numbers?\n\n* If our number consists of seven digits we will write:\n\n `\\d{7}`\n\n* If we want to catch the numbers in Athens, we will write:\n\n `210 \\d{7}`\n\n* But whitespace can be optional, so better:\n\n `210\\s?\\d{7}`",
      "metadata": {
        "slideshow": {
          "slide_type": "slide"
        }
      }
    },
    {
      "cell_type": "markdown",
      "source": "* Let's look at a realistic example.\n\n* The example concerns a set of more than 500,000 emails that were related to the [Enron Scandal](https://en.wikipedia.org/wiki/Enron_scandal).\n\n* These have been compiled into one file, which contains a CSV file.\n\n* The file can be downloaded from [Kaggle](https://www.kaggle.com/wcukierski/enron-email-dataset).",
      "metadata": {
        "slideshow": {
          "slide_type": "slide"
        }
      }
    },
    {
      "cell_type": "code",
      "source": "import pandas as pd\n\nenron = pd.read_csv('emails.csv.zip')\nenron",
      "metadata": {
        "slideshow": {
          "slide_type": "slide"
        }
      },
      "outputs": [
        {
          "data": {
            "text/html": [
              "<div>\n",
              "<style scoped>\n",
              "    .dataframe tbody tr th:only-of-type {\n",
              "        vertical-align: middle;\n",
              "    }\n",
              "\n",
              "    .dataframe tbody tr th {\n",
              "        vertical-align: top;\n",
              "    }\n",
              "\n",
              "    .dataframe thead th {\n",
              "        text-align: right;\n",
              "    }\n",
              "</style>\n",
              "<table border=\"1\" class=\"dataframe\">\n",
              "  <thead>\n",
              "    <tr style=\"text-align: right;\">\n",
              "      <th></th>\n",
              "      <th>file</th>\n",
              "      <th>message</th>\n",
              "    </tr>\n",
              "  </thead>\n",
              "  <tbody>\n",
              "    <tr>\n",
              "      <th>0</th>\n",
              "      <td>allen-p/_sent_mail/1.</td>\n",
              "      <td>Message-ID: &lt;18782981.1075855378110.JavaMail.e...</td>\n",
              "    </tr>\n",
              "    <tr>\n",
              "      <th>1</th>\n",
              "      <td>allen-p/_sent_mail/10.</td>\n",
              "      <td>Message-ID: &lt;15464986.1075855378456.JavaMail.e...</td>\n",
              "    </tr>\n",
              "    <tr>\n",
              "      <th>2</th>\n",
              "      <td>allen-p/_sent_mail/100.</td>\n",
              "      <td>Message-ID: &lt;24216240.1075855687451.JavaMail.e...</td>\n",
              "    </tr>\n",
              "    <tr>\n",
              "      <th>3</th>\n",
              "      <td>allen-p/_sent_mail/1000.</td>\n",
              "      <td>Message-ID: &lt;13505866.1075863688222.JavaMail.e...</td>\n",
              "    </tr>\n",
              "    <tr>\n",
              "      <th>4</th>\n",
              "      <td>allen-p/_sent_mail/1001.</td>\n",
              "      <td>Message-ID: &lt;30922949.1075863688243.JavaMail.e...</td>\n",
              "    </tr>\n",
              "    <tr>\n",
              "      <th>...</th>\n",
              "      <td>...</td>\n",
              "      <td>...</td>\n",
              "    </tr>\n",
              "    <tr>\n",
              "      <th>517396</th>\n",
              "      <td>zufferli-j/sent_items/95.</td>\n",
              "      <td>Message-ID: &lt;26807948.1075842029936.JavaMail.e...</td>\n",
              "    </tr>\n",
              "    <tr>\n",
              "      <th>517397</th>\n",
              "      <td>zufferli-j/sent_items/96.</td>\n",
              "      <td>Message-ID: &lt;25835861.1075842029959.JavaMail.e...</td>\n",
              "    </tr>\n",
              "    <tr>\n",
              "      <th>517398</th>\n",
              "      <td>zufferli-j/sent_items/97.</td>\n",
              "      <td>Message-ID: &lt;28979867.1075842029988.JavaMail.e...</td>\n",
              "    </tr>\n",
              "    <tr>\n",
              "      <th>517399</th>\n",
              "      <td>zufferli-j/sent_items/98.</td>\n",
              "      <td>Message-ID: &lt;22052556.1075842030013.JavaMail.e...</td>\n",
              "    </tr>\n",
              "    <tr>\n",
              "      <th>517400</th>\n",
              "      <td>zufferli-j/sent_items/99.</td>\n",
              "      <td>Message-ID: &lt;28618979.1075842030037.JavaMail.e...</td>\n",
              "    </tr>\n",
              "  </tbody>\n",
              "</table>\n",
              "<p>517401 rows × 2 columns</p>\n",
              "</div>"
            ],
            "text/plain": [
              "                             file  \\\n",
              "0           allen-p/_sent_mail/1.   \n",
              "1          allen-p/_sent_mail/10.   \n",
              "2         allen-p/_sent_mail/100.   \n",
              "3        allen-p/_sent_mail/1000.   \n",
              "4        allen-p/_sent_mail/1001.   \n",
              "...                           ...   \n",
              "517396  zufferli-j/sent_items/95.   \n",
              "517397  zufferli-j/sent_items/96.   \n",
              "517398  zufferli-j/sent_items/97.   \n",
              "517399  zufferli-j/sent_items/98.   \n",
              "517400  zufferli-j/sent_items/99.   \n",
              "\n",
              "                                                  message  \n",
              "0       Message-ID: <18782981.1075855378110.JavaMail.e...  \n",
              "1       Message-ID: <15464986.1075855378456.JavaMail.e...  \n",
              "2       Message-ID: <24216240.1075855687451.JavaMail.e...  \n",
              "3       Message-ID: <13505866.1075863688222.JavaMail.e...  \n",
              "4       Message-ID: <30922949.1075863688243.JavaMail.e...  \n",
              "...                                                   ...  \n",
              "517396  Message-ID: <26807948.1075842029936.JavaMail.e...  \n",
              "517397  Message-ID: <25835861.1075842029959.JavaMail.e...  \n",
              "517398  Message-ID: <28979867.1075842029988.JavaMail.e...  \n",
              "517399  Message-ID: <22052556.1075842030013.JavaMail.e...  \n",
              "517400  Message-ID: <28618979.1075842030037.JavaMail.e...  \n",
              "\n",
              "[517401 rows x 2 columns]"
            ]
          },
          "execution_count": 8,
          "metadata": {},
          "output_type": "execute_result"
        }
      ],
      "execution_count": 8
    },
    {
      "cell_type": "code",
      "source": "print(enron.loc[1].message)",
      "metadata": {
        "slideshow": {
          "slide_type": "slide"
        }
      },
      "outputs": [
        {
          "name": "stdout",
          "output_type": "stream",
          "text": [
            "Message-ID: <15464986.1075855378456.JavaMail.evans@thyme>\n",
            "Date: Fri, 4 May 2001 13:51:00 -0700 (PDT)\n",
            "From: phillip.allen@enron.com\n",
            "To: john.lavorato@enron.com\n",
            "Subject: Re:\n",
            "Mime-Version: 1.0\n",
            "Content-Type: text/plain; charset=us-ascii\n",
            "Content-Transfer-Encoding: 7bit\n",
            "X-From: Phillip K Allen\n",
            "X-To: John J Lavorato <John J Lavorato/ENRON@enronXgate@ENRON>\n",
            "X-cc: \n",
            "X-bcc: \n",
            "X-Folder: \\Phillip_Allen_Jan2002_1\\Allen, Phillip K.\\'Sent Mail\n",
            "X-Origin: Allen-P\n",
            "X-FileName: pallen (Non-Privileged).pst\n",
            "\n",
            "Traveling to have a business meeting takes the fun out of the trip.  Especially if you have to prepare a presentation.  I would suggest holding the business plan meetings here then take a trip without any formal business meetings.  I would even try and get some honest opinions on whether a trip is even desired or necessary.\n",
            "\n",
            "As far as the business meetings, I think it would be more productive to try and stimulate discussions across the different groups about what is working and what is not.  Too often the presenter speaks and the others are quiet just waiting for their turn.   The meetings might be better if held in a round table discussion format.  \n",
            "\n",
            "My suggestion for where to go is Austin.  Play golf and rent a ski boat and jet ski's.  Flying somewhere takes too much time.\n",
            "\n"
          ]
        }
      ],
      "execution_count": 9
    },
    {
      "cell_type": "markdown",
      "source": "* Suppose we want to export all message senders.\n\n* This can be easily done with a regular expression (which we can find ready-made).",
      "metadata": {
        "slideshow": {
          "slide_type": "slide"
        }
      }
    },
    {
      "cell_type": "code",
      "source": "matches = enron.message.str.extract(r'From: ([a-zA-Z0-9_.+-]+@[a-zA-Z0-9-]+\\.[a-zA-Z0-9-.]+)')\nmatches",
      "metadata": {
        "slideshow": {
          "slide_type": "fragment"
        }
      },
      "outputs": [
        {
          "data": {
            "text/html": [
              "<div>\n",
              "<style scoped>\n",
              "    .dataframe tbody tr th:only-of-type {\n",
              "        vertical-align: middle;\n",
              "    }\n",
              "\n",
              "    .dataframe tbody tr th {\n",
              "        vertical-align: top;\n",
              "    }\n",
              "\n",
              "    .dataframe thead th {\n",
              "        text-align: right;\n",
              "    }\n",
              "</style>\n",
              "<table border=\"1\" class=\"dataframe\">\n",
              "  <thead>\n",
              "    <tr style=\"text-align: right;\">\n",
              "      <th></th>\n",
              "      <th>0</th>\n",
              "    </tr>\n",
              "  </thead>\n",
              "  <tbody>\n",
              "    <tr>\n",
              "      <th>0</th>\n",
              "      <td>phillip.allen@enron.com</td>\n",
              "    </tr>\n",
              "    <tr>\n",
              "      <th>1</th>\n",
              "      <td>phillip.allen@enron.com</td>\n",
              "    </tr>\n",
              "    <tr>\n",
              "      <th>2</th>\n",
              "      <td>phillip.allen@enron.com</td>\n",
              "    </tr>\n",
              "    <tr>\n",
              "      <th>3</th>\n",
              "      <td>phillip.allen@enron.com</td>\n",
              "    </tr>\n",
              "    <tr>\n",
              "      <th>4</th>\n",
              "      <td>phillip.allen@enron.com</td>\n",
              "    </tr>\n",
              "    <tr>\n",
              "      <th>...</th>\n",
              "      <td>...</td>\n",
              "    </tr>\n",
              "    <tr>\n",
              "      <th>517396</th>\n",
              "      <td>john.zufferli@enron.com</td>\n",
              "    </tr>\n",
              "    <tr>\n",
              "      <th>517397</th>\n",
              "      <td>john.zufferli@enron.com</td>\n",
              "    </tr>\n",
              "    <tr>\n",
              "      <th>517398</th>\n",
              "      <td>john.zufferli@enron.com</td>\n",
              "    </tr>\n",
              "    <tr>\n",
              "      <th>517399</th>\n",
              "      <td>john.zufferli@enron.com</td>\n",
              "    </tr>\n",
              "    <tr>\n",
              "      <th>517400</th>\n",
              "      <td>john.zufferli@enron.com</td>\n",
              "    </tr>\n",
              "  </tbody>\n",
              "</table>\n",
              "<p>517401 rows × 1 columns</p>\n",
              "</div>"
            ],
            "text/plain": [
              "                              0\n",
              "0       phillip.allen@enron.com\n",
              "1       phillip.allen@enron.com\n",
              "2       phillip.allen@enron.com\n",
              "3       phillip.allen@enron.com\n",
              "4       phillip.allen@enron.com\n",
              "...                         ...\n",
              "517396  john.zufferli@enron.com\n",
              "517397  john.zufferli@enron.com\n",
              "517398  john.zufferli@enron.com\n",
              "517399  john.zufferli@enron.com\n",
              "517400  john.zufferli@enron.com\n",
              "\n",
              "[517401 rows x 1 columns]"
            ]
          },
          "execution_count": 10,
          "metadata": {},
          "output_type": "execute_result"
        }
      ],
      "execution_count": 10
    },
    {
      "cell_type": "markdown",
      "source": "* The result was a `DataFrame` where the messages were in column `0`.\n\n* We can give a name to the part we export with the regular expression to make `DataFrame` more friendly.",
      "metadata": {
        "slideshow": {
          "slide_type": "slide"
        }
      }
    },
    {
      "cell_type": "code",
      "source": "matches = enron.message.str.extract(r'From: (?P<from>[a-zA-Z0-9_.+-]+@[a-zA-Z0-9-]+\\.[a-zA-Z0-9-.]+)')\nmatches",
      "metadata": {
        "slideshow": {
          "slide_type": "fragment"
        }
      },
      "outputs": [
        {
          "data": {
            "text/html": [
              "<div>\n",
              "<style scoped>\n",
              "    .dataframe tbody tr th:only-of-type {\n",
              "        vertical-align: middle;\n",
              "    }\n",
              "\n",
              "    .dataframe tbody tr th {\n",
              "        vertical-align: top;\n",
              "    }\n",
              "\n",
              "    .dataframe thead th {\n",
              "        text-align: right;\n",
              "    }\n",
              "</style>\n",
              "<table border=\"1\" class=\"dataframe\">\n",
              "  <thead>\n",
              "    <tr style=\"text-align: right;\">\n",
              "      <th></th>\n",
              "      <th>from</th>\n",
              "    </tr>\n",
              "  </thead>\n",
              "  <tbody>\n",
              "    <tr>\n",
              "      <th>0</th>\n",
              "      <td>phillip.allen@enron.com</td>\n",
              "    </tr>\n",
              "    <tr>\n",
              "      <th>1</th>\n",
              "      <td>phillip.allen@enron.com</td>\n",
              "    </tr>\n",
              "    <tr>\n",
              "      <th>2</th>\n",
              "      <td>phillip.allen@enron.com</td>\n",
              "    </tr>\n",
              "    <tr>\n",
              "      <th>3</th>\n",
              "      <td>phillip.allen@enron.com</td>\n",
              "    </tr>\n",
              "    <tr>\n",
              "      <th>4</th>\n",
              "      <td>phillip.allen@enron.com</td>\n",
              "    </tr>\n",
              "    <tr>\n",
              "      <th>...</th>\n",
              "      <td>...</td>\n",
              "    </tr>\n",
              "    <tr>\n",
              "      <th>517396</th>\n",
              "      <td>john.zufferli@enron.com</td>\n",
              "    </tr>\n",
              "    <tr>\n",
              "      <th>517397</th>\n",
              "      <td>john.zufferli@enron.com</td>\n",
              "    </tr>\n",
              "    <tr>\n",
              "      <th>517398</th>\n",
              "      <td>john.zufferli@enron.com</td>\n",
              "    </tr>\n",
              "    <tr>\n",
              "      <th>517399</th>\n",
              "      <td>john.zufferli@enron.com</td>\n",
              "    </tr>\n",
              "    <tr>\n",
              "      <th>517400</th>\n",
              "      <td>john.zufferli@enron.com</td>\n",
              "    </tr>\n",
              "  </tbody>\n",
              "</table>\n",
              "<p>517401 rows × 1 columns</p>\n",
              "</div>"
            ],
            "text/plain": [
              "                           from\n",
              "0       phillip.allen@enron.com\n",
              "1       phillip.allen@enron.com\n",
              "2       phillip.allen@enron.com\n",
              "3       phillip.allen@enron.com\n",
              "4       phillip.allen@enron.com\n",
              "...                         ...\n",
              "517396  john.zufferli@enron.com\n",
              "517397  john.zufferli@enron.com\n",
              "517398  john.zufferli@enron.com\n",
              "517399  john.zufferli@enron.com\n",
              "517400  john.zufferli@enron.com\n",
              "\n",
              "[517401 rows x 1 columns]"
            ]
          },
          "execution_count": 11,
          "metadata": {},
          "output_type": "execute_result"
        }
      ],
      "execution_count": 11
    },
    {
      "cell_type": "markdown",
      "source": "* Then we can count the messages sent and find the most frequent senders.",
      "metadata": {
        "slideshow": {
          "slide_type": "slide"
        }
      }
    },
    {
      "cell_type": "code",
      "source": "matches['from'].value_counts()[:10]",
      "metadata": {
        "slideshow": {
          "slide_type": "fragment"
        }
      },
      "outputs": [
        {
          "data": {
            "text/plain": [
              "kay.mann@enron.com               16735\n",
              "vince.kaminski@enron.com         14368\n",
              "jeff.dasovich@enron.com          11411\n",
              "pete.davis@enron.com              9149\n",
              "chris.germany@enron.com           8801\n",
              "sara.shackleton@enron.com         8777\n",
              "enron.announcements@enron.com     8587\n",
              "tana.jones@enron.com              8490\n",
              "steven.kean@enron.com             6759\n",
              "kate.symes@enron.com              5438\n",
              "Name: from, dtype: int64"
            ]
          },
          "execution_count": 14,
          "metadata": {},
          "output_type": "execute_result"
        }
      ],
      "execution_count": 14
    },
    {
      "cell_type": "markdown",
      "source": "* `kay.mann@enron.com', Kay Mann, was legal counsel at Enron.\n\n* `vince.kaminsky@enron.com' is Vincent Kaminski, director of research at Enron. He opposed the practices that led to the bankruptcy (but was not listened to).",
      "metadata": {
        "slideshow": {
          "slide_type": "slide"
        }
      }
    }
  ]
}