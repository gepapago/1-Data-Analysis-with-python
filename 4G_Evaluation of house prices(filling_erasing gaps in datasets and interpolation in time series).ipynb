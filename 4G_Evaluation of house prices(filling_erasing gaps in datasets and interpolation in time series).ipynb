{
  "metadata": {
    "kernelspec": {
      "name": "python",
      "display_name": "Python (Pyodide)",
      "language": "python"
    },
    "language_info": {
      "codemirror_mode": {
        "name": "python",
        "version": 3
      },
      "file_extension": ".py",
      "mimetype": "text/x-python",
      "name": "python",
      "nbconvert_exporter": "python",
      "pygments_lexer": "ipython3",
      "version": "3.8"
    },
    "celltoolbar": "Slideshow"
  },
  "nbformat_minor": 5,
  "nbformat": 4,
  "cells": [
    {
      "id": "understood-drama",
      "cell_type": "markdown",
      "source": "# Evaluation of house prices(filling/erasing gaps in datasets and interpolation in time series)",
      "metadata": {
        "slideshow": {
          "slide_type": "slide"
        }
      }
    },
    {
      "id": "framed-relay",
      "cell_type": "markdown",
      "source": "* We will use a dataset of California home values.\n\n* Data taken from academic paper by Pace, R. Kelley and Ronald Barry, Sparse Spatial Autoregressions, Statistics and Probability Letters, 33 (1997) 291-297.",
      "metadata": {
        "slideshow": {
          "slide_type": "slide"
        }
      }
    },
    {
      "id": "sharing-public",
      "cell_type": "code",
      "source": "import pandas as pd\nimport numpy as np",
      "metadata": {
        "slideshow": {
          "slide_type": "slide"
        }
      },
      "outputs": [],
      "execution_count": 1
    },
    {
      "id": "rapid-description",
      "cell_type": "code",
      "source": "cal_housing = pd.read_csv('cal_housing.csv')\ncal_housing",
      "metadata": {
        "slideshow": {
          "slide_type": "fragment"
        }
      },
      "outputs": [
        {
          "data": {
            "text/html": [
              "<div>\n",
              "<style scoped>\n",
              "    .dataframe tbody tr th:only-of-type {\n",
              "        vertical-align: middle;\n",
              "    }\n",
              "\n",
              "    .dataframe tbody tr th {\n",
              "        vertical-align: top;\n",
              "    }\n",
              "\n",
              "    .dataframe thead th {\n",
              "        text-align: right;\n",
              "    }\n",
              "</style>\n",
              "<table border=\"1\" class=\"dataframe\">\n",
              "  <thead>\n",
              "    <tr style=\"text-align: right;\">\n",
              "      <th></th>\n",
              "      <th>longitude</th>\n",
              "      <th>latitude</th>\n",
              "      <th>housingMedianAge</th>\n",
              "      <th>totalRooms</th>\n",
              "      <th>totalBedrooms</th>\n",
              "      <th>population</th>\n",
              "      <th>households</th>\n",
              "      <th>medianIncome</th>\n",
              "      <th>medianHouseValue</th>\n",
              "    </tr>\n",
              "  </thead>\n",
              "  <tbody>\n",
              "    <tr>\n",
              "      <th>0</th>\n",
              "      <td>-122.23</td>\n",
              "      <td>37.88</td>\n",
              "      <td>41.0</td>\n",
              "      <td>880.0</td>\n",
              "      <td>129.0</td>\n",
              "      <td>322.0</td>\n",
              "      <td>126.0</td>\n",
              "      <td>8.3252</td>\n",
              "      <td>452600.0</td>\n",
              "    </tr>\n",
              "    <tr>\n",
              "      <th>1</th>\n",
              "      <td>-122.22</td>\n",
              "      <td>37.86</td>\n",
              "      <td>21.0</td>\n",
              "      <td>7099.0</td>\n",
              "      <td>1106.0</td>\n",
              "      <td>2401.0</td>\n",
              "      <td>1138.0</td>\n",
              "      <td>8.3014</td>\n",
              "      <td>358500.0</td>\n",
              "    </tr>\n",
              "    <tr>\n",
              "      <th>2</th>\n",
              "      <td>-122.24</td>\n",
              "      <td>37.85</td>\n",
              "      <td>52.0</td>\n",
              "      <td>1467.0</td>\n",
              "      <td>190.0</td>\n",
              "      <td>496.0</td>\n",
              "      <td>177.0</td>\n",
              "      <td>7.2574</td>\n",
              "      <td>352100.0</td>\n",
              "    </tr>\n",
              "    <tr>\n",
              "      <th>3</th>\n",
              "      <td>-122.25</td>\n",
              "      <td>37.85</td>\n",
              "      <td>52.0</td>\n",
              "      <td>1274.0</td>\n",
              "      <td>235.0</td>\n",
              "      <td>558.0</td>\n",
              "      <td>219.0</td>\n",
              "      <td>5.6431</td>\n",
              "      <td>341300.0</td>\n",
              "    </tr>\n",
              "    <tr>\n",
              "      <th>4</th>\n",
              "      <td>-122.25</td>\n",
              "      <td>37.85</td>\n",
              "      <td>52.0</td>\n",
              "      <td>1627.0</td>\n",
              "      <td>280.0</td>\n",
              "      <td>565.0</td>\n",
              "      <td>259.0</td>\n",
              "      <td>3.8462</td>\n",
              "      <td>342200.0</td>\n",
              "    </tr>\n",
              "    <tr>\n",
              "      <th>...</th>\n",
              "      <td>...</td>\n",
              "      <td>...</td>\n",
              "      <td>...</td>\n",
              "      <td>...</td>\n",
              "      <td>...</td>\n",
              "      <td>...</td>\n",
              "      <td>...</td>\n",
              "      <td>...</td>\n",
              "      <td>...</td>\n",
              "    </tr>\n",
              "    <tr>\n",
              "      <th>20635</th>\n",
              "      <td>-121.09</td>\n",
              "      <td>39.48</td>\n",
              "      <td>25.0</td>\n",
              "      <td>1665.0</td>\n",
              "      <td>374.0</td>\n",
              "      <td>845.0</td>\n",
              "      <td>330.0</td>\n",
              "      <td>1.5603</td>\n",
              "      <td>78100.0</td>\n",
              "    </tr>\n",
              "    <tr>\n",
              "      <th>20636</th>\n",
              "      <td>-121.21</td>\n",
              "      <td>39.49</td>\n",
              "      <td>18.0</td>\n",
              "      <td>697.0</td>\n",
              "      <td>150.0</td>\n",
              "      <td>356.0</td>\n",
              "      <td>114.0</td>\n",
              "      <td>2.5568</td>\n",
              "      <td>77100.0</td>\n",
              "    </tr>\n",
              "    <tr>\n",
              "      <th>20637</th>\n",
              "      <td>-121.22</td>\n",
              "      <td>39.43</td>\n",
              "      <td>17.0</td>\n",
              "      <td>2254.0</td>\n",
              "      <td>485.0</td>\n",
              "      <td>1007.0</td>\n",
              "      <td>433.0</td>\n",
              "      <td>1.7000</td>\n",
              "      <td>92300.0</td>\n",
              "    </tr>\n",
              "    <tr>\n",
              "      <th>20638</th>\n",
              "      <td>-121.32</td>\n",
              "      <td>39.43</td>\n",
              "      <td>18.0</td>\n",
              "      <td>1860.0</td>\n",
              "      <td>409.0</td>\n",
              "      <td>741.0</td>\n",
              "      <td>349.0</td>\n",
              "      <td>1.8672</td>\n",
              "      <td>84700.0</td>\n",
              "    </tr>\n",
              "    <tr>\n",
              "      <th>20639</th>\n",
              "      <td>-121.24</td>\n",
              "      <td>39.37</td>\n",
              "      <td>16.0</td>\n",
              "      <td>2785.0</td>\n",
              "      <td>616.0</td>\n",
              "      <td>1387.0</td>\n",
              "      <td>530.0</td>\n",
              "      <td>2.3886</td>\n",
              "      <td>89400.0</td>\n",
              "    </tr>\n",
              "  </tbody>\n",
              "</table>\n",
              "<p>20640 rows × 9 columns</p>\n",
              "</div>"
            ],
            "text/plain": [
              "       longitude  latitude  housingMedianAge  totalRooms  totalBedrooms  \\\n",
              "0        -122.23     37.88              41.0       880.0          129.0   \n",
              "1        -122.22     37.86              21.0      7099.0         1106.0   \n",
              "2        -122.24     37.85              52.0      1467.0          190.0   \n",
              "3        -122.25     37.85              52.0      1274.0          235.0   \n",
              "4        -122.25     37.85              52.0      1627.0          280.0   \n",
              "...          ...       ...               ...         ...            ...   \n",
              "20635    -121.09     39.48              25.0      1665.0          374.0   \n",
              "20636    -121.21     39.49              18.0       697.0          150.0   \n",
              "20637    -121.22     39.43              17.0      2254.0          485.0   \n",
              "20638    -121.32     39.43              18.0      1860.0          409.0   \n",
              "20639    -121.24     39.37              16.0      2785.0          616.0   \n",
              "\n",
              "       population  households  medianIncome  medianHouseValue  \n",
              "0           322.0       126.0        8.3252          452600.0  \n",
              "1          2401.0      1138.0        8.3014          358500.0  \n",
              "2           496.0       177.0        7.2574          352100.0  \n",
              "3           558.0       219.0        5.6431          341300.0  \n",
              "4           565.0       259.0        3.8462          342200.0  \n",
              "...           ...         ...           ...               ...  \n",
              "20635       845.0       330.0        1.5603           78100.0  \n",
              "20636       356.0       114.0        2.5568           77100.0  \n",
              "20637      1007.0       433.0        1.7000           92300.0  \n",
              "20638       741.0       349.0        1.8672           84700.0  \n",
              "20639      1387.0       530.0        2.3886           89400.0  \n",
              "\n",
              "[20640 rows x 9 columns]"
            ]
          },
          "execution_count": 2,
          "metadata": {},
          "output_type": "execute_result"
        }
      ],
      "execution_count": 2
    },
    {
      "id": "grateful-korean",
      "cell_type": "markdown",
      "source": "* This data is complete, there are no gaps.\n\n* Unfortunately this is not the rule.\n\n* Most of the time there are gaps in the data available to us.\n\n* When a record contains a space instead of a real number, the space is represented as `NaN` (Not a Number).",
      "metadata": {
        "slideshow": {
          "slide_type": "slide"
        }
      }
    },
    {
      "id": "durable-detector",
      "cell_type": "markdown",
      "source": "* So we here degrade the quality of our data by introducing gaps in it.\n\n* We will impute blanks in 75% of the rows of the `DataFrame` (method comes from the [scikit-learn documentation](https://scikit-learn.org/stable/auto_examples/impute/plot_missing_values.html)).",
      "metadata": {
        "slideshow": {
          "slide_type": "slide"
        }
      }
    },
    {
      "id": "urban-wells",
      "cell_type": "code",
      "source": "n_samples, n_features = cal_housing.shape\n\n# Add missing values in 75% of the lines\nmissing_rate = 0.75\nn_missing_samples = int(n_samples * missing_rate)\nn_missing_samples",
      "metadata": {
        "slideshow": {
          "slide_type": "fragment"
        }
      },
      "outputs": [
        {
          "data": {
            "text/plain": [
              "15480"
            ]
          },
          "execution_count": 3,
          "metadata": {},
          "output_type": "execute_result"
        }
      ],
      "execution_count": 3
    },
    {
      "id": "sticky-announcement",
      "cell_type": "markdown",
      "source": "* We make an array with as many elements as the rows of `cal_housing` `DataFrame`, with `False` values.",
      "metadata": {
        "slideshow": {
          "slide_type": "slide"
        }
      }
    },
    {
      "id": "mathematical-scheme",
      "cell_type": "code",
      "source": "missing_samples = np.zeros(n_samples, dtype=bool)\nprint(missing_samples.shape, missing_samples)",
      "metadata": {
        "slideshow": {
          "slide_type": "fragment"
        }
      },
      "outputs": [
        {
          "name": "stdout",
          "output_type": "stream",
          "text": [
            "(20640,) [False False False ... False False False]\n"
          ]
        }
      ],
      "execution_count": 4
    },
    {
      "id": "returning-narrative",
      "cell_type": "markdown",
      "source": "* We'll make the first 75% of its elements equal to `True'.",
      "metadata": {
        "slideshow": {
          "slide_type": "slide"
        }
      }
    },
    {
      "id": "violent-pillow",
      "cell_type": "code",
      "source": "missing_samples[:n_missing_samples] = True",
      "metadata": {
        "slideshow": {
          "slide_type": "fragment"
        }
      },
      "outputs": [],
      "execution_count": 5
    },
    {
      "id": "worth-obligation",
      "cell_type": "markdown",
      "source": "* Shuffle the elements of the table so that `True` and `False` are scattered.",
      "metadata": {
        "slideshow": {
          "slide_type": "slide"
        }
      }
    },
    {
      "id": "considerable-montgomery",
      "cell_type": "code",
      "source": "rng = np.random.default_rng(42)\nrng.shuffle(missing_samples)",
      "metadata": {
        "slideshow": {
          "slide_type": "fragment"
        }
      },
      "outputs": [],
      "execution_count": 6
    },
    {
      "id": "blessed-excerpt",
      "cell_type": "markdown",
      "source": "* For each of the lines in which we will insert a space, we randomly select a column whose contents we will erase.",
      "metadata": {
        "slideshow": {
          "slide_type": "slide"
        }
      }
    },
    {
      "id": "coastal-constant",
      "cell_type": "code",
      "source": "missing_features = rng.integers(0, n_features, n_missing_samples)\nprint(missing_features.shape, missing_features)",
      "metadata": {
        "slideshow": {
          "slide_type": "fragment"
        }
      },
      "outputs": [
        {
          "name": "stdout",
          "output_type": "stream",
          "text": [
            "(15480,) [4 3 1 ... 7 2 1]\n"
          ]
        }
      ],
      "execution_count": 7
    },
    {
      "id": "superb-pathology",
      "cell_type": "markdown",
      "source": "* We change the values ​​of `cal_housing`, putting `np.nan` in the selected rows and columns.",
      "metadata": {
        "slideshow": {
          "slide_type": "slide"
        }
      }
    },
    {
      "id": "maritime-blowing",
      "cell_type": "code",
      "source": "cal_housing.values[missing_samples, missing_features] = np.nan\ncal_housing",
      "metadata": {
        "slideshow": {
          "slide_type": "fragment"
        }
      },
      "outputs": [
        {
          "data": {
            "text/html": [
              "<div>\n",
              "<style scoped>\n",
              "    .dataframe tbody tr th:only-of-type {\n",
              "        vertical-align: middle;\n",
              "    }\n",
              "\n",
              "    .dataframe tbody tr th {\n",
              "        vertical-align: top;\n",
              "    }\n",
              "\n",
              "    .dataframe thead th {\n",
              "        text-align: right;\n",
              "    }\n",
              "</style>\n",
              "<table border=\"1\" class=\"dataframe\">\n",
              "  <thead>\n",
              "    <tr style=\"text-align: right;\">\n",
              "      <th></th>\n",
              "      <th>longitude</th>\n",
              "      <th>latitude</th>\n",
              "      <th>housingMedianAge</th>\n",
              "      <th>totalRooms</th>\n",
              "      <th>totalBedrooms</th>\n",
              "      <th>population</th>\n",
              "      <th>households</th>\n",
              "      <th>medianIncome</th>\n",
              "      <th>medianHouseValue</th>\n",
              "    </tr>\n",
              "  </thead>\n",
              "  <tbody>\n",
              "    <tr>\n",
              "      <th>0</th>\n",
              "      <td>-122.23</td>\n",
              "      <td>37.88</td>\n",
              "      <td>41.0</td>\n",
              "      <td>880.0</td>\n",
              "      <td>NaN</td>\n",
              "      <td>322.0</td>\n",
              "      <td>126.0</td>\n",
              "      <td>8.3252</td>\n",
              "      <td>452600.0</td>\n",
              "    </tr>\n",
              "    <tr>\n",
              "      <th>1</th>\n",
              "      <td>-122.22</td>\n",
              "      <td>37.86</td>\n",
              "      <td>21.0</td>\n",
              "      <td>NaN</td>\n",
              "      <td>1106.0</td>\n",
              "      <td>2401.0</td>\n",
              "      <td>1138.0</td>\n",
              "      <td>8.3014</td>\n",
              "      <td>358500.0</td>\n",
              "    </tr>\n",
              "    <tr>\n",
              "      <th>2</th>\n",
              "      <td>-122.24</td>\n",
              "      <td>NaN</td>\n",
              "      <td>52.0</td>\n",
              "      <td>1467.0</td>\n",
              "      <td>190.0</td>\n",
              "      <td>496.0</td>\n",
              "      <td>177.0</td>\n",
              "      <td>7.2574</td>\n",
              "      <td>352100.0</td>\n",
              "    </tr>\n",
              "    <tr>\n",
              "      <th>3</th>\n",
              "      <td>-122.25</td>\n",
              "      <td>37.85</td>\n",
              "      <td>52.0</td>\n",
              "      <td>1274.0</td>\n",
              "      <td>235.0</td>\n",
              "      <td>558.0</td>\n",
              "      <td>NaN</td>\n",
              "      <td>5.6431</td>\n",
              "      <td>341300.0</td>\n",
              "    </tr>\n",
              "    <tr>\n",
              "      <th>4</th>\n",
              "      <td>NaN</td>\n",
              "      <td>37.85</td>\n",
              "      <td>52.0</td>\n",
              "      <td>1627.0</td>\n",
              "      <td>280.0</td>\n",
              "      <td>565.0</td>\n",
              "      <td>259.0</td>\n",
              "      <td>3.8462</td>\n",
              "      <td>342200.0</td>\n",
              "    </tr>\n",
              "    <tr>\n",
              "      <th>...</th>\n",
              "      <td>...</td>\n",
              "      <td>...</td>\n",
              "      <td>...</td>\n",
              "      <td>...</td>\n",
              "      <td>...</td>\n",
              "      <td>...</td>\n",
              "      <td>...</td>\n",
              "      <td>...</td>\n",
              "      <td>...</td>\n",
              "    </tr>\n",
              "    <tr>\n",
              "      <th>20635</th>\n",
              "      <td>NaN</td>\n",
              "      <td>39.48</td>\n",
              "      <td>25.0</td>\n",
              "      <td>1665.0</td>\n",
              "      <td>374.0</td>\n",
              "      <td>845.0</td>\n",
              "      <td>330.0</td>\n",
              "      <td>1.5603</td>\n",
              "      <td>78100.0</td>\n",
              "    </tr>\n",
              "    <tr>\n",
              "      <th>20636</th>\n",
              "      <td>-121.21</td>\n",
              "      <td>39.49</td>\n",
              "      <td>18.0</td>\n",
              "      <td>NaN</td>\n",
              "      <td>150.0</td>\n",
              "      <td>356.0</td>\n",
              "      <td>114.0</td>\n",
              "      <td>2.5568</td>\n",
              "      <td>77100.0</td>\n",
              "    </tr>\n",
              "    <tr>\n",
              "      <th>20637</th>\n",
              "      <td>-121.22</td>\n",
              "      <td>39.43</td>\n",
              "      <td>17.0</td>\n",
              "      <td>2254.0</td>\n",
              "      <td>485.0</td>\n",
              "      <td>1007.0</td>\n",
              "      <td>433.0</td>\n",
              "      <td>NaN</td>\n",
              "      <td>92300.0</td>\n",
              "    </tr>\n",
              "    <tr>\n",
              "      <th>20638</th>\n",
              "      <td>-121.32</td>\n",
              "      <td>39.43</td>\n",
              "      <td>NaN</td>\n",
              "      <td>1860.0</td>\n",
              "      <td>409.0</td>\n",
              "      <td>741.0</td>\n",
              "      <td>349.0</td>\n",
              "      <td>1.8672</td>\n",
              "      <td>84700.0</td>\n",
              "    </tr>\n",
              "    <tr>\n",
              "      <th>20639</th>\n",
              "      <td>-121.24</td>\n",
              "      <td>NaN</td>\n",
              "      <td>16.0</td>\n",
              "      <td>2785.0</td>\n",
              "      <td>616.0</td>\n",
              "      <td>1387.0</td>\n",
              "      <td>530.0</td>\n",
              "      <td>2.3886</td>\n",
              "      <td>89400.0</td>\n",
              "    </tr>\n",
              "  </tbody>\n",
              "</table>\n",
              "<p>20640 rows × 9 columns</p>\n",
              "</div>"
            ],
            "text/plain": [
              "       longitude  latitude  housingMedianAge  totalRooms  totalBedrooms  \\\n",
              "0        -122.23     37.88              41.0       880.0            NaN   \n",
              "1        -122.22     37.86              21.0         NaN         1106.0   \n",
              "2        -122.24       NaN              52.0      1467.0          190.0   \n",
              "3        -122.25     37.85              52.0      1274.0          235.0   \n",
              "4            NaN     37.85              52.0      1627.0          280.0   \n",
              "...          ...       ...               ...         ...            ...   \n",
              "20635        NaN     39.48              25.0      1665.0          374.0   \n",
              "20636    -121.21     39.49              18.0         NaN          150.0   \n",
              "20637    -121.22     39.43              17.0      2254.0          485.0   \n",
              "20638    -121.32     39.43               NaN      1860.0          409.0   \n",
              "20639    -121.24       NaN              16.0      2785.0          616.0   \n",
              "\n",
              "       population  households  medianIncome  medianHouseValue  \n",
              "0           322.0       126.0        8.3252          452600.0  \n",
              "1          2401.0      1138.0        8.3014          358500.0  \n",
              "2           496.0       177.0        7.2574          352100.0  \n",
              "3           558.0         NaN        5.6431          341300.0  \n",
              "4           565.0       259.0        3.8462          342200.0  \n",
              "...           ...         ...           ...               ...  \n",
              "20635       845.0       330.0        1.5603           78100.0  \n",
              "20636       356.0       114.0        2.5568           77100.0  \n",
              "20637      1007.0       433.0           NaN           92300.0  \n",
              "20638       741.0       349.0        1.8672           84700.0  \n",
              "20639      1387.0       530.0        2.3886           89400.0  \n",
              "\n",
              "[20640 rows x 9 columns]"
            ]
          },
          "execution_count": 8,
          "metadata": {},
          "output_type": "execute_result"
        }
      ],
      "execution_count": 8
    },
    {
      "id": "clinical-resource",
      "cell_type": "markdown",
      "source": "* The main thing we can do when we have gaps is to establish the existence of non-existence.\n\n* If we want pandas to check if a value does not exist, we can use the `isna()` method.",
      "metadata": {
        "slideshow": {
          "slide_type": "slide"
        }
      }
    },
    {
      "id": "moral-guitar",
      "cell_type": "code",
      "source": "cal_housing['totalRooms'].isna()",
      "metadata": {
        "slideshow": {
          "slide_type": "fragment"
        }
      },
      "outputs": [
        {
          "data": {
            "text/plain": [
              "0        False\n",
              "1         True\n",
              "2        False\n",
              "3        False\n",
              "4        False\n",
              "         ...  \n",
              "20635    False\n",
              "20636     True\n",
              "20637    False\n",
              "20638    False\n",
              "20639    False\n",
              "Name: totalRooms, Length: 20640, dtype: bool"
            ]
          },
          "execution_count": 9,
          "metadata": {},
          "output_type": "execute_result"
        }
      ],
      "execution_count": 9
    },
    {
      "id": "japanese-coordinate",
      "cell_type": "markdown",
      "source": "* A synonym of the `isna()` method is the `isnull()` method.",
      "metadata": {
        "slideshow": {
          "slide_type": "slide"
        }
      }
    },
    {
      "id": "statistical-operation",
      "cell_type": "code",
      "source": "cal_housing['totalRooms'].isnull()",
      "metadata": {
        "slideshow": {
          "slide_type": "fragment"
        }
      },
      "outputs": [
        {
          "data": {
            "text/plain": [
              "0        False\n",
              "1         True\n",
              "2        False\n",
              "3        False\n",
              "4        False\n",
              "         ...  \n",
              "20635    False\n",
              "20636     True\n",
              "20637    False\n",
              "20638    False\n",
              "20639    False\n",
              "Name: totalRooms, Length: 20640, dtype: bool"
            ]
          },
          "execution_count": 10,
          "metadata": {},
          "output_type": "execute_result"
        }
      ],
      "execution_count": 10
    },
    {
      "id": "distinguished-engagement",
      "cell_type": "markdown",
      "source": "* Conversely, if we want to check that a value exists, we can use the `notna()` method.",
      "metadata": {
        "slideshow": {
          "slide_type": "slide"
        }
      }
    },
    {
      "id": "occasional-surface",
      "cell_type": "code",
      "source": "cal_housing['latitude'].notna()",
      "metadata": {
        "slideshow": {
          "slide_type": "fragment"
        }
      },
      "outputs": [
        {
          "data": {
            "text/plain": [
              "0         True\n",
              "1         True\n",
              "2        False\n",
              "3         True\n",
              "4         True\n",
              "         ...  \n",
              "20635     True\n",
              "20636     True\n",
              "20637     True\n",
              "20638     True\n",
              "20639    False\n",
              "Name: latitude, Length: 20640, dtype: bool"
            ]
          },
          "execution_count": 11,
          "metadata": {},
          "output_type": "execute_result"
        }
      ],
      "execution_count": 11
    },
    {
      "id": "happy-couple",
      "cell_type": "markdown",
      "source": "* Synonymous with `notna()` is the `notnull()` method.",
      "metadata": {
        "slideshow": {
          "slide_type": "slide"
        }
      }
    },
    {
      "id": "multiple-graham",
      "cell_type": "code",
      "source": "cal_housing['latitude'].notnull()",
      "metadata": {
        "slideshow": {
          "slide_type": "fragment"
        }
      },
      "outputs": [
        {
          "data": {
            "text/plain": [
              "0         True\n",
              "1         True\n",
              "2        False\n",
              "3         True\n",
              "4         True\n",
              "         ...  \n",
              "20635     True\n",
              "20636     True\n",
              "20637     True\n",
              "20638     True\n",
              "20639    False\n",
              "Name: latitude, Length: 20640, dtype: bool"
            ]
          },
          "execution_count": 12,
          "metadata": {},
          "output_type": "execute_result"
        }
      ],
      "execution_count": 12
    },
    {
      "id": "anonymous-infection",
      "cell_type": "markdown",
      "source": "* If we want to count how many spaces there are, we can sum the result of `isna()`, since in the sum `True` values ​​become 1 and `False` values ​​become 0.",
      "metadata": {
        "slideshow": {
          "slide_type": "slide"
        }
      }
    },
    {
      "id": "touched-artist",
      "cell_type": "code",
      "source": "cal_housing['latitude'].isna().sum()",
      "metadata": {
        "slideshow": {
          "slide_type": "fragment"
        }
      },
      "outputs": [
        {
          "data": {
            "text/plain": [
              "1680"
            ]
          },
          "execution_count": 13,
          "metadata": {},
          "output_type": "execute_result"
        }
      ],
      "execution_count": 13
    },
    {
      "id": "negative-request",
      "cell_type": "markdown",
      "source": "* Based on these methods we can filter our data so that we don't have gaps.",
      "metadata": {
        "slideshow": {
          "slide_type": "slide"
        }
      }
    },
    {
      "id": "pressed-artist",
      "cell_type": "code",
      "source": "cal_housing[cal_housing['medianHouseValue'].notna()]",
      "metadata": {
        "slideshow": {
          "slide_type": "fragment"
        }
      },
      "outputs": [
        {
          "data": {
            "text/html": [
              "<div>\n",
              "<style scoped>\n",
              "    .dataframe tbody tr th:only-of-type {\n",
              "        vertical-align: middle;\n",
              "    }\n",
              "\n",
              "    .dataframe tbody tr th {\n",
              "        vertical-align: top;\n",
              "    }\n",
              "\n",
              "    .dataframe thead th {\n",
              "        text-align: right;\n",
              "    }\n",
              "</style>\n",
              "<table border=\"1\" class=\"dataframe\">\n",
              "  <thead>\n",
              "    <tr style=\"text-align: right;\">\n",
              "      <th></th>\n",
              "      <th>longitude</th>\n",
              "      <th>latitude</th>\n",
              "      <th>housingMedianAge</th>\n",
              "      <th>totalRooms</th>\n",
              "      <th>totalBedrooms</th>\n",
              "      <th>population</th>\n",
              "      <th>households</th>\n",
              "      <th>medianIncome</th>\n",
              "      <th>medianHouseValue</th>\n",
              "    </tr>\n",
              "  </thead>\n",
              "  <tbody>\n",
              "    <tr>\n",
              "      <th>0</th>\n",
              "      <td>-122.23</td>\n",
              "      <td>37.88</td>\n",
              "      <td>41.0</td>\n",
              "      <td>880.0</td>\n",
              "      <td>NaN</td>\n",
              "      <td>322.0</td>\n",
              "      <td>126.0</td>\n",
              "      <td>8.3252</td>\n",
              "      <td>452600.0</td>\n",
              "    </tr>\n",
              "    <tr>\n",
              "      <th>1</th>\n",
              "      <td>-122.22</td>\n",
              "      <td>37.86</td>\n",
              "      <td>21.0</td>\n",
              "      <td>NaN</td>\n",
              "      <td>1106.0</td>\n",
              "      <td>2401.0</td>\n",
              "      <td>1138.0</td>\n",
              "      <td>8.3014</td>\n",
              "      <td>358500.0</td>\n",
              "    </tr>\n",
              "    <tr>\n",
              "      <th>2</th>\n",
              "      <td>-122.24</td>\n",
              "      <td>NaN</td>\n",
              "      <td>52.0</td>\n",
              "      <td>1467.0</td>\n",
              "      <td>190.0</td>\n",
              "      <td>496.0</td>\n",
              "      <td>177.0</td>\n",
              "      <td>7.2574</td>\n",
              "      <td>352100.0</td>\n",
              "    </tr>\n",
              "    <tr>\n",
              "      <th>3</th>\n",
              "      <td>-122.25</td>\n",
              "      <td>37.85</td>\n",
              "      <td>52.0</td>\n",
              "      <td>1274.0</td>\n",
              "      <td>235.0</td>\n",
              "      <td>558.0</td>\n",
              "      <td>NaN</td>\n",
              "      <td>5.6431</td>\n",
              "      <td>341300.0</td>\n",
              "    </tr>\n",
              "    <tr>\n",
              "      <th>4</th>\n",
              "      <td>NaN</td>\n",
              "      <td>37.85</td>\n",
              "      <td>52.0</td>\n",
              "      <td>1627.0</td>\n",
              "      <td>280.0</td>\n",
              "      <td>565.0</td>\n",
              "      <td>259.0</td>\n",
              "      <td>3.8462</td>\n",
              "      <td>342200.0</td>\n",
              "    </tr>\n",
              "    <tr>\n",
              "      <th>...</th>\n",
              "      <td>...</td>\n",
              "      <td>...</td>\n",
              "      <td>...</td>\n",
              "      <td>...</td>\n",
              "      <td>...</td>\n",
              "      <td>...</td>\n",
              "      <td>...</td>\n",
              "      <td>...</td>\n",
              "      <td>...</td>\n",
              "    </tr>\n",
              "    <tr>\n",
              "      <th>20635</th>\n",
              "      <td>NaN</td>\n",
              "      <td>39.48</td>\n",
              "      <td>25.0</td>\n",
              "      <td>1665.0</td>\n",
              "      <td>374.0</td>\n",
              "      <td>845.0</td>\n",
              "      <td>330.0</td>\n",
              "      <td>1.5603</td>\n",
              "      <td>78100.0</td>\n",
              "    </tr>\n",
              "    <tr>\n",
              "      <th>20636</th>\n",
              "      <td>-121.21</td>\n",
              "      <td>39.49</td>\n",
              "      <td>18.0</td>\n",
              "      <td>NaN</td>\n",
              "      <td>150.0</td>\n",
              "      <td>356.0</td>\n",
              "      <td>114.0</td>\n",
              "      <td>2.5568</td>\n",
              "      <td>77100.0</td>\n",
              "    </tr>\n",
              "    <tr>\n",
              "      <th>20637</th>\n",
              "      <td>-121.22</td>\n",
              "      <td>39.43</td>\n",
              "      <td>17.0</td>\n",
              "      <td>2254.0</td>\n",
              "      <td>485.0</td>\n",
              "      <td>1007.0</td>\n",
              "      <td>433.0</td>\n",
              "      <td>NaN</td>\n",
              "      <td>92300.0</td>\n",
              "    </tr>\n",
              "    <tr>\n",
              "      <th>20638</th>\n",
              "      <td>-121.32</td>\n",
              "      <td>39.43</td>\n",
              "      <td>NaN</td>\n",
              "      <td>1860.0</td>\n",
              "      <td>409.0</td>\n",
              "      <td>741.0</td>\n",
              "      <td>349.0</td>\n",
              "      <td>1.8672</td>\n",
              "      <td>84700.0</td>\n",
              "    </tr>\n",
              "    <tr>\n",
              "      <th>20639</th>\n",
              "      <td>-121.24</td>\n",
              "      <td>NaN</td>\n",
              "      <td>16.0</td>\n",
              "      <td>2785.0</td>\n",
              "      <td>616.0</td>\n",
              "      <td>1387.0</td>\n",
              "      <td>530.0</td>\n",
              "      <td>2.3886</td>\n",
              "      <td>89400.0</td>\n",
              "    </tr>\n",
              "  </tbody>\n",
              "</table>\n",
              "<p>18890 rows × 9 columns</p>\n",
              "</div>"
            ],
            "text/plain": [
              "       longitude  latitude  housingMedianAge  totalRooms  totalBedrooms  \\\n",
              "0        -122.23     37.88              41.0       880.0            NaN   \n",
              "1        -122.22     37.86              21.0         NaN         1106.0   \n",
              "2        -122.24       NaN              52.0      1467.0          190.0   \n",
              "3        -122.25     37.85              52.0      1274.0          235.0   \n",
              "4            NaN     37.85              52.0      1627.0          280.0   \n",
              "...          ...       ...               ...         ...            ...   \n",
              "20635        NaN     39.48              25.0      1665.0          374.0   \n",
              "20636    -121.21     39.49              18.0         NaN          150.0   \n",
              "20637    -121.22     39.43              17.0      2254.0          485.0   \n",
              "20638    -121.32     39.43               NaN      1860.0          409.0   \n",
              "20639    -121.24       NaN              16.0      2785.0          616.0   \n",
              "\n",
              "       population  households  medianIncome  medianHouseValue  \n",
              "0           322.0       126.0        8.3252          452600.0  \n",
              "1          2401.0      1138.0        8.3014          358500.0  \n",
              "2           496.0       177.0        7.2574          352100.0  \n",
              "3           558.0         NaN        5.6431          341300.0  \n",
              "4           565.0       259.0        3.8462          342200.0  \n",
              "...           ...         ...           ...               ...  \n",
              "20635       845.0       330.0        1.5603           78100.0  \n",
              "20636       356.0       114.0        2.5568           77100.0  \n",
              "20637      1007.0       433.0           NaN           92300.0  \n",
              "20638       741.0       349.0        1.8672           84700.0  \n",
              "20639      1387.0       530.0        2.3886           89400.0  \n",
              "\n",
              "[18890 rows x 9 columns]"
            ]
          },
          "execution_count": 14,
          "metadata": {},
          "output_type": "execute_result"
        }
      ],
      "execution_count": 14
    },
    {
      "id": "painted-inventory",
      "cell_type": "markdown",
      "source": "* Another solution is to drop the lines (entries) where there are spaces using the `dropna()` method.",
      "metadata": {
        "slideshow": {
          "slide_type": "slide"
        }
      }
    },
    {
      "id": "whole-variable",
      "cell_type": "code",
      "source": "cal_housing.dropna()",
      "metadata": {
        "slideshow": {
          "slide_type": "fragment"
        }
      },
      "outputs": [
        {
          "data": {
            "text/html": [
              "<div>\n",
              "<style scoped>\n",
              "    .dataframe tbody tr th:only-of-type {\n",
              "        vertical-align: middle;\n",
              "    }\n",
              "\n",
              "    .dataframe tbody tr th {\n",
              "        vertical-align: top;\n",
              "    }\n",
              "\n",
              "    .dataframe thead th {\n",
              "        text-align: right;\n",
              "    }\n",
              "</style>\n",
              "<table border=\"1\" class=\"dataframe\">\n",
              "  <thead>\n",
              "    <tr style=\"text-align: right;\">\n",
              "      <th></th>\n",
              "      <th>longitude</th>\n",
              "      <th>latitude</th>\n",
              "      <th>housingMedianAge</th>\n",
              "      <th>totalRooms</th>\n",
              "      <th>totalBedrooms</th>\n",
              "      <th>population</th>\n",
              "      <th>households</th>\n",
              "      <th>medianIncome</th>\n",
              "      <th>medianHouseValue</th>\n",
              "    </tr>\n",
              "  </thead>\n",
              "  <tbody>\n",
              "    <tr>\n",
              "      <th>7</th>\n",
              "      <td>-122.25</td>\n",
              "      <td>37.84</td>\n",
              "      <td>52.0</td>\n",
              "      <td>3104.0</td>\n",
              "      <td>687.0</td>\n",
              "      <td>1157.0</td>\n",
              "      <td>647.0</td>\n",
              "      <td>3.1200</td>\n",
              "      <td>241400.0</td>\n",
              "    </tr>\n",
              "    <tr>\n",
              "      <th>11</th>\n",
              "      <td>-122.26</td>\n",
              "      <td>37.85</td>\n",
              "      <td>52.0</td>\n",
              "      <td>3503.0</td>\n",
              "      <td>752.0</td>\n",
              "      <td>1504.0</td>\n",
              "      <td>734.0</td>\n",
              "      <td>3.2705</td>\n",
              "      <td>241800.0</td>\n",
              "    </tr>\n",
              "    <tr>\n",
              "      <th>17</th>\n",
              "      <td>-122.27</td>\n",
              "      <td>37.85</td>\n",
              "      <td>52.0</td>\n",
              "      <td>1228.0</td>\n",
              "      <td>293.0</td>\n",
              "      <td>648.0</td>\n",
              "      <td>303.0</td>\n",
              "      <td>2.1202</td>\n",
              "      <td>155500.0</td>\n",
              "    </tr>\n",
              "    <tr>\n",
              "      <th>20</th>\n",
              "      <td>-122.27</td>\n",
              "      <td>37.85</td>\n",
              "      <td>40.0</td>\n",
              "      <td>751.0</td>\n",
              "      <td>184.0</td>\n",
              "      <td>409.0</td>\n",
              "      <td>166.0</td>\n",
              "      <td>1.3578</td>\n",
              "      <td>147500.0</td>\n",
              "    </tr>\n",
              "    <tr>\n",
              "      <th>21</th>\n",
              "      <td>-122.27</td>\n",
              "      <td>37.85</td>\n",
              "      <td>42.0</td>\n",
              "      <td>1639.0</td>\n",
              "      <td>367.0</td>\n",
              "      <td>929.0</td>\n",
              "      <td>366.0</td>\n",
              "      <td>1.7135</td>\n",
              "      <td>159800.0</td>\n",
              "    </tr>\n",
              "    <tr>\n",
              "      <th>...</th>\n",
              "      <td>...</td>\n",
              "      <td>...</td>\n",
              "      <td>...</td>\n",
              "      <td>...</td>\n",
              "      <td>...</td>\n",
              "      <td>...</td>\n",
              "      <td>...</td>\n",
              "      <td>...</td>\n",
              "      <td>...</td>\n",
              "    </tr>\n",
              "    <tr>\n",
              "      <th>20617</th>\n",
              "      <td>-121.53</td>\n",
              "      <td>39.06</td>\n",
              "      <td>20.0</td>\n",
              "      <td>561.0</td>\n",
              "      <td>109.0</td>\n",
              "      <td>308.0</td>\n",
              "      <td>114.0</td>\n",
              "      <td>3.3021</td>\n",
              "      <td>70800.0</td>\n",
              "    </tr>\n",
              "    <tr>\n",
              "      <th>20620</th>\n",
              "      <td>-121.48</td>\n",
              "      <td>39.05</td>\n",
              "      <td>40.0</td>\n",
              "      <td>198.0</td>\n",
              "      <td>41.0</td>\n",
              "      <td>151.0</td>\n",
              "      <td>48.0</td>\n",
              "      <td>4.5625</td>\n",
              "      <td>100000.0</td>\n",
              "    </tr>\n",
              "    <tr>\n",
              "      <th>20623</th>\n",
              "      <td>-121.37</td>\n",
              "      <td>39.03</td>\n",
              "      <td>32.0</td>\n",
              "      <td>1158.0</td>\n",
              "      <td>244.0</td>\n",
              "      <td>598.0</td>\n",
              "      <td>227.0</td>\n",
              "      <td>2.8235</td>\n",
              "      <td>65500.0</td>\n",
              "    </tr>\n",
              "    <tr>\n",
              "      <th>20627</th>\n",
              "      <td>-121.32</td>\n",
              "      <td>39.13</td>\n",
              "      <td>5.0</td>\n",
              "      <td>358.0</td>\n",
              "      <td>65.0</td>\n",
              "      <td>169.0</td>\n",
              "      <td>59.0</td>\n",
              "      <td>3.0000</td>\n",
              "      <td>162500.0</td>\n",
              "    </tr>\n",
              "    <tr>\n",
              "      <th>20632</th>\n",
              "      <td>-121.45</td>\n",
              "      <td>39.26</td>\n",
              "      <td>15.0</td>\n",
              "      <td>2319.0</td>\n",
              "      <td>416.0</td>\n",
              "      <td>1047.0</td>\n",
              "      <td>385.0</td>\n",
              "      <td>3.1250</td>\n",
              "      <td>115600.0</td>\n",
              "    </tr>\n",
              "  </tbody>\n",
              "</table>\n",
              "<p>5160 rows × 9 columns</p>\n",
              "</div>"
            ],
            "text/plain": [
              "       longitude  latitude  housingMedianAge  totalRooms  totalBedrooms  \\\n",
              "7        -122.25     37.84              52.0      3104.0          687.0   \n",
              "11       -122.26     37.85              52.0      3503.0          752.0   \n",
              "17       -122.27     37.85              52.0      1228.0          293.0   \n",
              "20       -122.27     37.85              40.0       751.0          184.0   \n",
              "21       -122.27     37.85              42.0      1639.0          367.0   \n",
              "...          ...       ...               ...         ...            ...   \n",
              "20617    -121.53     39.06              20.0       561.0          109.0   \n",
              "20620    -121.48     39.05              40.0       198.0           41.0   \n",
              "20623    -121.37     39.03              32.0      1158.0          244.0   \n",
              "20627    -121.32     39.13               5.0       358.0           65.0   \n",
              "20632    -121.45     39.26              15.0      2319.0          416.0   \n",
              "\n",
              "       population  households  medianIncome  medianHouseValue  \n",
              "7          1157.0       647.0        3.1200          241400.0  \n",
              "11         1504.0       734.0        3.2705          241800.0  \n",
              "17          648.0       303.0        2.1202          155500.0  \n",
              "20          409.0       166.0        1.3578          147500.0  \n",
              "21          929.0       366.0        1.7135          159800.0  \n",
              "...           ...         ...           ...               ...  \n",
              "20617       308.0       114.0        3.3021           70800.0  \n",
              "20620       151.0        48.0        4.5625          100000.0  \n",
              "20623       598.0       227.0        2.8235           65500.0  \n",
              "20627       169.0        59.0        3.0000          162500.0  \n",
              "20632      1047.0       385.0        3.1250          115600.0  \n",
              "\n",
              "[5160 rows x 9 columns]"
            ]
          },
          "execution_count": 15,
          "metadata": {},
          "output_type": "execute_result"
        }
      ],
      "execution_count": 15
    },
    {
      "id": "national-disclaimer",
      "cell_type": "markdown",
      "source": "* The problem is that such an approach can be overwhelming because we lose a large amount of our data.\n\n* We may eventually wish to remove lines where there are spaces only in certain columns.",
      "metadata": {
        "slideshow": {
          "slide_type": "slide"
        }
      }
    },
    {
      "id": "endless-customer",
      "cell_type": "code",
      "source": "cal_housing.dropna(subset=['medianHouseValue', 'medianIncome'])",
      "metadata": {
        "slideshow": {
          "slide_type": "fragment"
        }
      },
      "outputs": [
        {
          "data": {
            "text/html": [
              "<div>\n",
              "<style scoped>\n",
              "    .dataframe tbody tr th:only-of-type {\n",
              "        vertical-align: middle;\n",
              "    }\n",
              "\n",
              "    .dataframe tbody tr th {\n",
              "        vertical-align: top;\n",
              "    }\n",
              "\n",
              "    .dataframe thead th {\n",
              "        text-align: right;\n",
              "    }\n",
              "</style>\n",
              "<table border=\"1\" class=\"dataframe\">\n",
              "  <thead>\n",
              "    <tr style=\"text-align: right;\">\n",
              "      <th></th>\n",
              "      <th>longitude</th>\n",
              "      <th>latitude</th>\n",
              "      <th>housingMedianAge</th>\n",
              "      <th>totalRooms</th>\n",
              "      <th>totalBedrooms</th>\n",
              "      <th>population</th>\n",
              "      <th>households</th>\n",
              "      <th>medianIncome</th>\n",
              "      <th>medianHouseValue</th>\n",
              "    </tr>\n",
              "  </thead>\n",
              "  <tbody>\n",
              "    <tr>\n",
              "      <th>0</th>\n",
              "      <td>-122.23</td>\n",
              "      <td>37.88</td>\n",
              "      <td>41.0</td>\n",
              "      <td>880.0</td>\n",
              "      <td>NaN</td>\n",
              "      <td>322.0</td>\n",
              "      <td>126.0</td>\n",
              "      <td>8.3252</td>\n",
              "      <td>452600.0</td>\n",
              "    </tr>\n",
              "    <tr>\n",
              "      <th>1</th>\n",
              "      <td>-122.22</td>\n",
              "      <td>37.86</td>\n",
              "      <td>21.0</td>\n",
              "      <td>NaN</td>\n",
              "      <td>1106.0</td>\n",
              "      <td>2401.0</td>\n",
              "      <td>1138.0</td>\n",
              "      <td>8.3014</td>\n",
              "      <td>358500.0</td>\n",
              "    </tr>\n",
              "    <tr>\n",
              "      <th>2</th>\n",
              "      <td>-122.24</td>\n",
              "      <td>NaN</td>\n",
              "      <td>52.0</td>\n",
              "      <td>1467.0</td>\n",
              "      <td>190.0</td>\n",
              "      <td>496.0</td>\n",
              "      <td>177.0</td>\n",
              "      <td>7.2574</td>\n",
              "      <td>352100.0</td>\n",
              "    </tr>\n",
              "    <tr>\n",
              "      <th>3</th>\n",
              "      <td>-122.25</td>\n",
              "      <td>37.85</td>\n",
              "      <td>52.0</td>\n",
              "      <td>1274.0</td>\n",
              "      <td>235.0</td>\n",
              "      <td>558.0</td>\n",
              "      <td>NaN</td>\n",
              "      <td>5.6431</td>\n",
              "      <td>341300.0</td>\n",
              "    </tr>\n",
              "    <tr>\n",
              "      <th>4</th>\n",
              "      <td>NaN</td>\n",
              "      <td>37.85</td>\n",
              "      <td>52.0</td>\n",
              "      <td>1627.0</td>\n",
              "      <td>280.0</td>\n",
              "      <td>565.0</td>\n",
              "      <td>259.0</td>\n",
              "      <td>3.8462</td>\n",
              "      <td>342200.0</td>\n",
              "    </tr>\n",
              "    <tr>\n",
              "      <th>...</th>\n",
              "      <td>...</td>\n",
              "      <td>...</td>\n",
              "      <td>...</td>\n",
              "      <td>...</td>\n",
              "      <td>...</td>\n",
              "      <td>...</td>\n",
              "      <td>...</td>\n",
              "      <td>...</td>\n",
              "      <td>...</td>\n",
              "    </tr>\n",
              "    <tr>\n",
              "      <th>20633</th>\n",
              "      <td>-121.53</td>\n",
              "      <td>39.19</td>\n",
              "      <td>27.0</td>\n",
              "      <td>2080.0</td>\n",
              "      <td>412.0</td>\n",
              "      <td>1082.0</td>\n",
              "      <td>NaN</td>\n",
              "      <td>2.5495</td>\n",
              "      <td>98300.0</td>\n",
              "    </tr>\n",
              "    <tr>\n",
              "      <th>20635</th>\n",
              "      <td>NaN</td>\n",
              "      <td>39.48</td>\n",
              "      <td>25.0</td>\n",
              "      <td>1665.0</td>\n",
              "      <td>374.0</td>\n",
              "      <td>845.0</td>\n",
              "      <td>330.0</td>\n",
              "      <td>1.5603</td>\n",
              "      <td>78100.0</td>\n",
              "    </tr>\n",
              "    <tr>\n",
              "      <th>20636</th>\n",
              "      <td>-121.21</td>\n",
              "      <td>39.49</td>\n",
              "      <td>18.0</td>\n",
              "      <td>NaN</td>\n",
              "      <td>150.0</td>\n",
              "      <td>356.0</td>\n",
              "      <td>114.0</td>\n",
              "      <td>2.5568</td>\n",
              "      <td>77100.0</td>\n",
              "    </tr>\n",
              "    <tr>\n",
              "      <th>20638</th>\n",
              "      <td>-121.32</td>\n",
              "      <td>39.43</td>\n",
              "      <td>NaN</td>\n",
              "      <td>1860.0</td>\n",
              "      <td>409.0</td>\n",
              "      <td>741.0</td>\n",
              "      <td>349.0</td>\n",
              "      <td>1.8672</td>\n",
              "      <td>84700.0</td>\n",
              "    </tr>\n",
              "    <tr>\n",
              "      <th>20639</th>\n",
              "      <td>-121.24</td>\n",
              "      <td>NaN</td>\n",
              "      <td>16.0</td>\n",
              "      <td>2785.0</td>\n",
              "      <td>616.0</td>\n",
              "      <td>1387.0</td>\n",
              "      <td>530.0</td>\n",
              "      <td>2.3886</td>\n",
              "      <td>89400.0</td>\n",
              "    </tr>\n",
              "  </tbody>\n",
              "</table>\n",
              "<p>17092 rows × 9 columns</p>\n",
              "</div>"
            ],
            "text/plain": [
              "       longitude  latitude  housingMedianAge  totalRooms  totalBedrooms  \\\n",
              "0        -122.23     37.88              41.0       880.0            NaN   \n",
              "1        -122.22     37.86              21.0         NaN         1106.0   \n",
              "2        -122.24       NaN              52.0      1467.0          190.0   \n",
              "3        -122.25     37.85              52.0      1274.0          235.0   \n",
              "4            NaN     37.85              52.0      1627.0          280.0   \n",
              "...          ...       ...               ...         ...            ...   \n",
              "20633    -121.53     39.19              27.0      2080.0          412.0   \n",
              "20635        NaN     39.48              25.0      1665.0          374.0   \n",
              "20636    -121.21     39.49              18.0         NaN          150.0   \n",
              "20638    -121.32     39.43               NaN      1860.0          409.0   \n",
              "20639    -121.24       NaN              16.0      2785.0          616.0   \n",
              "\n",
              "       population  households  medianIncome  medianHouseValue  \n",
              "0           322.0       126.0        8.3252          452600.0  \n",
              "1          2401.0      1138.0        8.3014          358500.0  \n",
              "2           496.0       177.0        7.2574          352100.0  \n",
              "3           558.0         NaN        5.6431          341300.0  \n",
              "4           565.0       259.0        3.8462          342200.0  \n",
              "...           ...         ...           ...               ...  \n",
              "20633      1082.0         NaN        2.5495           98300.0  \n",
              "20635       845.0       330.0        1.5603           78100.0  \n",
              "20636       356.0       114.0        2.5568           77100.0  \n",
              "20638       741.0       349.0        1.8672           84700.0  \n",
              "20639      1387.0       530.0        2.3886           89400.0  \n",
              "\n",
              "[17092 rows x 9 columns]"
            ]
          },
          "execution_count": 16,
          "metadata": {},
          "output_type": "execute_result"
        }
      ],
      "execution_count": 16
    },
    {
      "id": "organic-bikini",
      "cell_type": "markdown",
      "source": "* If we don't want to throw away data, we can mutate our data, giving a default value where there are spaces, with the `fillna()` method.",
      "metadata": {
        "slideshow": {
          "slide_type": "slide"
        }
      }
    },
    {
      "id": "critical-classification",
      "cell_type": "code",
      "source": "cal_housing.fillna(0)",
      "metadata": {
        "slideshow": {
          "slide_type": "fragment"
        }
      },
      "outputs": [
        {
          "data": {
            "text/html": [
              "<div>\n",
              "<style scoped>\n",
              "    .dataframe tbody tr th:only-of-type {\n",
              "        vertical-align: middle;\n",
              "    }\n",
              "\n",
              "    .dataframe tbody tr th {\n",
              "        vertical-align: top;\n",
              "    }\n",
              "\n",
              "    .dataframe thead th {\n",
              "        text-align: right;\n",
              "    }\n",
              "</style>\n",
              "<table border=\"1\" class=\"dataframe\">\n",
              "  <thead>\n",
              "    <tr style=\"text-align: right;\">\n",
              "      <th></th>\n",
              "      <th>longitude</th>\n",
              "      <th>latitude</th>\n",
              "      <th>housingMedianAge</th>\n",
              "      <th>totalRooms</th>\n",
              "      <th>totalBedrooms</th>\n",
              "      <th>population</th>\n",
              "      <th>households</th>\n",
              "      <th>medianIncome</th>\n",
              "      <th>medianHouseValue</th>\n",
              "    </tr>\n",
              "  </thead>\n",
              "  <tbody>\n",
              "    <tr>\n",
              "      <th>0</th>\n",
              "      <td>-122.23</td>\n",
              "      <td>37.88</td>\n",
              "      <td>41.0</td>\n",
              "      <td>880.0</td>\n",
              "      <td>0.0</td>\n",
              "      <td>322.0</td>\n",
              "      <td>126.0</td>\n",
              "      <td>8.3252</td>\n",
              "      <td>452600.0</td>\n",
              "    </tr>\n",
              "    <tr>\n",
              "      <th>1</th>\n",
              "      <td>-122.22</td>\n",
              "      <td>37.86</td>\n",
              "      <td>21.0</td>\n",
              "      <td>0.0</td>\n",
              "      <td>1106.0</td>\n",
              "      <td>2401.0</td>\n",
              "      <td>1138.0</td>\n",
              "      <td>8.3014</td>\n",
              "      <td>358500.0</td>\n",
              "    </tr>\n",
              "    <tr>\n",
              "      <th>2</th>\n",
              "      <td>-122.24</td>\n",
              "      <td>0.00</td>\n",
              "      <td>52.0</td>\n",
              "      <td>1467.0</td>\n",
              "      <td>190.0</td>\n",
              "      <td>496.0</td>\n",
              "      <td>177.0</td>\n",
              "      <td>7.2574</td>\n",
              "      <td>352100.0</td>\n",
              "    </tr>\n",
              "    <tr>\n",
              "      <th>3</th>\n",
              "      <td>-122.25</td>\n",
              "      <td>37.85</td>\n",
              "      <td>52.0</td>\n",
              "      <td>1274.0</td>\n",
              "      <td>235.0</td>\n",
              "      <td>558.0</td>\n",
              "      <td>0.0</td>\n",
              "      <td>5.6431</td>\n",
              "      <td>341300.0</td>\n",
              "    </tr>\n",
              "    <tr>\n",
              "      <th>4</th>\n",
              "      <td>0.00</td>\n",
              "      <td>37.85</td>\n",
              "      <td>52.0</td>\n",
              "      <td>1627.0</td>\n",
              "      <td>280.0</td>\n",
              "      <td>565.0</td>\n",
              "      <td>259.0</td>\n",
              "      <td>3.8462</td>\n",
              "      <td>342200.0</td>\n",
              "    </tr>\n",
              "    <tr>\n",
              "      <th>...</th>\n",
              "      <td>...</td>\n",
              "      <td>...</td>\n",
              "      <td>...</td>\n",
              "      <td>...</td>\n",
              "      <td>...</td>\n",
              "      <td>...</td>\n",
              "      <td>...</td>\n",
              "      <td>...</td>\n",
              "      <td>...</td>\n",
              "    </tr>\n",
              "    <tr>\n",
              "      <th>20635</th>\n",
              "      <td>0.00</td>\n",
              "      <td>39.48</td>\n",
              "      <td>25.0</td>\n",
              "      <td>1665.0</td>\n",
              "      <td>374.0</td>\n",
              "      <td>845.0</td>\n",
              "      <td>330.0</td>\n",
              "      <td>1.5603</td>\n",
              "      <td>78100.0</td>\n",
              "    </tr>\n",
              "    <tr>\n",
              "      <th>20636</th>\n",
              "      <td>-121.21</td>\n",
              "      <td>39.49</td>\n",
              "      <td>18.0</td>\n",
              "      <td>0.0</td>\n",
              "      <td>150.0</td>\n",
              "      <td>356.0</td>\n",
              "      <td>114.0</td>\n",
              "      <td>2.5568</td>\n",
              "      <td>77100.0</td>\n",
              "    </tr>\n",
              "    <tr>\n",
              "      <th>20637</th>\n",
              "      <td>-121.22</td>\n",
              "      <td>39.43</td>\n",
              "      <td>17.0</td>\n",
              "      <td>2254.0</td>\n",
              "      <td>485.0</td>\n",
              "      <td>1007.0</td>\n",
              "      <td>433.0</td>\n",
              "      <td>0.0000</td>\n",
              "      <td>92300.0</td>\n",
              "    </tr>\n",
              "    <tr>\n",
              "      <th>20638</th>\n",
              "      <td>-121.32</td>\n",
              "      <td>39.43</td>\n",
              "      <td>0.0</td>\n",
              "      <td>1860.0</td>\n",
              "      <td>409.0</td>\n",
              "      <td>741.0</td>\n",
              "      <td>349.0</td>\n",
              "      <td>1.8672</td>\n",
              "      <td>84700.0</td>\n",
              "    </tr>\n",
              "    <tr>\n",
              "      <th>20639</th>\n",
              "      <td>-121.24</td>\n",
              "      <td>0.00</td>\n",
              "      <td>16.0</td>\n",
              "      <td>2785.0</td>\n",
              "      <td>616.0</td>\n",
              "      <td>1387.0</td>\n",
              "      <td>530.0</td>\n",
              "      <td>2.3886</td>\n",
              "      <td>89400.0</td>\n",
              "    </tr>\n",
              "  </tbody>\n",
              "</table>\n",
              "<p>20640 rows × 9 columns</p>\n",
              "</div>"
            ],
            "text/plain": [
              "       longitude  latitude  housingMedianAge  totalRooms  totalBedrooms  \\\n",
              "0        -122.23     37.88              41.0       880.0            0.0   \n",
              "1        -122.22     37.86              21.0         0.0         1106.0   \n",
              "2        -122.24      0.00              52.0      1467.0          190.0   \n",
              "3        -122.25     37.85              52.0      1274.0          235.0   \n",
              "4           0.00     37.85              52.0      1627.0          280.0   \n",
              "...          ...       ...               ...         ...            ...   \n",
              "20635       0.00     39.48              25.0      1665.0          374.0   \n",
              "20636    -121.21     39.49              18.0         0.0          150.0   \n",
              "20637    -121.22     39.43              17.0      2254.0          485.0   \n",
              "20638    -121.32     39.43               0.0      1860.0          409.0   \n",
              "20639    -121.24      0.00              16.0      2785.0          616.0   \n",
              "\n",
              "       population  households  medianIncome  medianHouseValue  \n",
              "0           322.0       126.0        8.3252          452600.0  \n",
              "1          2401.0      1138.0        8.3014          358500.0  \n",
              "2           496.0       177.0        7.2574          352100.0  \n",
              "3           558.0         0.0        5.6431          341300.0  \n",
              "4           565.0       259.0        3.8462          342200.0  \n",
              "...           ...         ...           ...               ...  \n",
              "20635       845.0       330.0        1.5603           78100.0  \n",
              "20636       356.0       114.0        2.5568           77100.0  \n",
              "20637      1007.0       433.0        0.0000           92300.0  \n",
              "20638       741.0       349.0        1.8672           84700.0  \n",
              "20639      1387.0       530.0        2.3886           89400.0  \n",
              "\n",
              "[20640 rows x 9 columns]"
            ]
          },
          "execution_count": 17,
          "metadata": {},
          "output_type": "execute_result"
        }
      ],
      "execution_count": 17
    },
    {
      "id": "acquired-elements",
      "cell_type": "markdown",
      "source": "* If we still don't want to insert the default value everywhere, we can select the subset of columns in which to use it.",
      "metadata": {
        "slideshow": {
          "slide_type": "slide"
        }
      }
    },
    {
      "id": "following-culture",
      "cell_type": "code",
      "source": "cal_housing[['medianIncome', 'medianHouseValue']].fillna(0)",
      "metadata": {
        "slideshow": {
          "slide_type": "fragment"
        }
      },
      "outputs": [
        {
          "data": {
            "text/html": [
              "<div>\n",
              "<style scoped>\n",
              "    .dataframe tbody tr th:only-of-type {\n",
              "        vertical-align: middle;\n",
              "    }\n",
              "\n",
              "    .dataframe tbody tr th {\n",
              "        vertical-align: top;\n",
              "    }\n",
              "\n",
              "    .dataframe thead th {\n",
              "        text-align: right;\n",
              "    }\n",
              "</style>\n",
              "<table border=\"1\" class=\"dataframe\">\n",
              "  <thead>\n",
              "    <tr style=\"text-align: right;\">\n",
              "      <th></th>\n",
              "      <th>medianIncome</th>\n",
              "      <th>medianHouseValue</th>\n",
              "    </tr>\n",
              "  </thead>\n",
              "  <tbody>\n",
              "    <tr>\n",
              "      <th>0</th>\n",
              "      <td>8.3252</td>\n",
              "      <td>452600.0</td>\n",
              "    </tr>\n",
              "    <tr>\n",
              "      <th>1</th>\n",
              "      <td>8.3014</td>\n",
              "      <td>358500.0</td>\n",
              "    </tr>\n",
              "    <tr>\n",
              "      <th>2</th>\n",
              "      <td>7.2574</td>\n",
              "      <td>352100.0</td>\n",
              "    </tr>\n",
              "    <tr>\n",
              "      <th>3</th>\n",
              "      <td>5.6431</td>\n",
              "      <td>341300.0</td>\n",
              "    </tr>\n",
              "    <tr>\n",
              "      <th>4</th>\n",
              "      <td>3.8462</td>\n",
              "      <td>342200.0</td>\n",
              "    </tr>\n",
              "    <tr>\n",
              "      <th>...</th>\n",
              "      <td>...</td>\n",
              "      <td>...</td>\n",
              "    </tr>\n",
              "    <tr>\n",
              "      <th>20635</th>\n",
              "      <td>1.5603</td>\n",
              "      <td>78100.0</td>\n",
              "    </tr>\n",
              "    <tr>\n",
              "      <th>20636</th>\n",
              "      <td>2.5568</td>\n",
              "      <td>77100.0</td>\n",
              "    </tr>\n",
              "    <tr>\n",
              "      <th>20637</th>\n",
              "      <td>0.0000</td>\n",
              "      <td>92300.0</td>\n",
              "    </tr>\n",
              "    <tr>\n",
              "      <th>20638</th>\n",
              "      <td>1.8672</td>\n",
              "      <td>84700.0</td>\n",
              "    </tr>\n",
              "    <tr>\n",
              "      <th>20639</th>\n",
              "      <td>2.3886</td>\n",
              "      <td>89400.0</td>\n",
              "    </tr>\n",
              "  </tbody>\n",
              "</table>\n",
              "<p>20640 rows × 2 columns</p>\n",
              "</div>"
            ],
            "text/plain": [
              "       medianIncome  medianHouseValue\n",
              "0            8.3252          452600.0\n",
              "1            8.3014          358500.0\n",
              "2            7.2574          352100.0\n",
              "3            5.6431          341300.0\n",
              "4            3.8462          342200.0\n",
              "...             ...               ...\n",
              "20635        1.5603           78100.0\n",
              "20636        2.5568           77100.0\n",
              "20637        0.0000           92300.0\n",
              "20638        1.8672           84700.0\n",
              "20639        2.3886           89400.0\n",
              "\n",
              "[20640 rows x 2 columns]"
            ]
          },
          "execution_count": 18,
          "metadata": {},
          "output_type": "execute_result"
        }
      ],
      "execution_count": 18
    },
    {
      "id": "infinite-dominant",
      "cell_type": "markdown",
      "source": "* Maybe filling in the blanks can be done a bit more intelligently.\n\n* For example, instead of a predetermined value to use the average, or more generally values ​​that will result from calculations.",
      "metadata": {
        "slideshow": {
          "slide_type": "slide"
        }
      }
    },
    {
      "id": "abstract-american",
      "cell_type": "code",
      "source": "cal_housing.fillna(cal_housing.mean())",
      "metadata": {
        "slideshow": {
          "slide_type": "fragment"
        }
      },
      "outputs": [
        {
          "data": {
            "text/html": [
              "<div>\n",
              "<style scoped>\n",
              "    .dataframe tbody tr th:only-of-type {\n",
              "        vertical-align: middle;\n",
              "    }\n",
              "\n",
              "    .dataframe tbody tr th {\n",
              "        vertical-align: top;\n",
              "    }\n",
              "\n",
              "    .dataframe thead th {\n",
              "        text-align: right;\n",
              "    }\n",
              "</style>\n",
              "<table border=\"1\" class=\"dataframe\">\n",
              "  <thead>\n",
              "    <tr style=\"text-align: right;\">\n",
              "      <th></th>\n",
              "      <th>longitude</th>\n",
              "      <th>latitude</th>\n",
              "      <th>housingMedianAge</th>\n",
              "      <th>totalRooms</th>\n",
              "      <th>totalBedrooms</th>\n",
              "      <th>population</th>\n",
              "      <th>households</th>\n",
              "      <th>medianIncome</th>\n",
              "      <th>medianHouseValue</th>\n",
              "    </tr>\n",
              "  </thead>\n",
              "  <tbody>\n",
              "    <tr>\n",
              "      <th>0</th>\n",
              "      <td>-122.230000</td>\n",
              "      <td>37.880000</td>\n",
              "      <td>41.000000</td>\n",
              "      <td>880.000000</td>\n",
              "      <td>539.232767</td>\n",
              "      <td>322.0</td>\n",
              "      <td>126.000</td>\n",
              "      <td>8.325200</td>\n",
              "      <td>452600.0</td>\n",
              "    </tr>\n",
              "    <tr>\n",
              "      <th>1</th>\n",
              "      <td>-122.220000</td>\n",
              "      <td>37.860000</td>\n",
              "      <td>21.000000</td>\n",
              "      <td>2641.457729</td>\n",
              "      <td>1106.000000</td>\n",
              "      <td>2401.0</td>\n",
              "      <td>1138.000</td>\n",
              "      <td>8.301400</td>\n",
              "      <td>358500.0</td>\n",
              "    </tr>\n",
              "    <tr>\n",
              "      <th>2</th>\n",
              "      <td>-122.240000</td>\n",
              "      <td>35.625127</td>\n",
              "      <td>52.000000</td>\n",
              "      <td>1467.000000</td>\n",
              "      <td>190.000000</td>\n",
              "      <td>496.0</td>\n",
              "      <td>177.000</td>\n",
              "      <td>7.257400</td>\n",
              "      <td>352100.0</td>\n",
              "    </tr>\n",
              "    <tr>\n",
              "      <th>3</th>\n",
              "      <td>-122.250000</td>\n",
              "      <td>37.850000</td>\n",
              "      <td>52.000000</td>\n",
              "      <td>1274.000000</td>\n",
              "      <td>235.000000</td>\n",
              "      <td>558.0</td>\n",
              "      <td>499.158</td>\n",
              "      <td>5.643100</td>\n",
              "      <td>341300.0</td>\n",
              "    </tr>\n",
              "    <tr>\n",
              "      <th>4</th>\n",
              "      <td>-119.574345</td>\n",
              "      <td>37.850000</td>\n",
              "      <td>52.000000</td>\n",
              "      <td>1627.000000</td>\n",
              "      <td>280.000000</td>\n",
              "      <td>565.0</td>\n",
              "      <td>259.000</td>\n",
              "      <td>3.846200</td>\n",
              "      <td>342200.0</td>\n",
              "    </tr>\n",
              "    <tr>\n",
              "      <th>...</th>\n",
              "      <td>...</td>\n",
              "      <td>...</td>\n",
              "      <td>...</td>\n",
              "      <td>...</td>\n",
              "      <td>...</td>\n",
              "      <td>...</td>\n",
              "      <td>...</td>\n",
              "      <td>...</td>\n",
              "      <td>...</td>\n",
              "    </tr>\n",
              "    <tr>\n",
              "      <th>20635</th>\n",
              "      <td>-119.574345</td>\n",
              "      <td>39.480000</td>\n",
              "      <td>25.000000</td>\n",
              "      <td>1665.000000</td>\n",
              "      <td>374.000000</td>\n",
              "      <td>845.0</td>\n",
              "      <td>330.000</td>\n",
              "      <td>1.560300</td>\n",
              "      <td>78100.0</td>\n",
              "    </tr>\n",
              "    <tr>\n",
              "      <th>20636</th>\n",
              "      <td>-121.210000</td>\n",
              "      <td>39.490000</td>\n",
              "      <td>18.000000</td>\n",
              "      <td>2641.457729</td>\n",
              "      <td>150.000000</td>\n",
              "      <td>356.0</td>\n",
              "      <td>114.000</td>\n",
              "      <td>2.556800</td>\n",
              "      <td>77100.0</td>\n",
              "    </tr>\n",
              "    <tr>\n",
              "      <th>20637</th>\n",
              "      <td>-121.220000</td>\n",
              "      <td>39.430000</td>\n",
              "      <td>17.000000</td>\n",
              "      <td>2254.000000</td>\n",
              "      <td>485.000000</td>\n",
              "      <td>1007.0</td>\n",
              "      <td>433.000</td>\n",
              "      <td>3.870723</td>\n",
              "      <td>92300.0</td>\n",
              "    </tr>\n",
              "    <tr>\n",
              "      <th>20638</th>\n",
              "      <td>-121.320000</td>\n",
              "      <td>39.430000</td>\n",
              "      <td>28.662049</td>\n",
              "      <td>1860.000000</td>\n",
              "      <td>409.000000</td>\n",
              "      <td>741.0</td>\n",
              "      <td>349.000</td>\n",
              "      <td>1.867200</td>\n",
              "      <td>84700.0</td>\n",
              "    </tr>\n",
              "    <tr>\n",
              "      <th>20639</th>\n",
              "      <td>-121.240000</td>\n",
              "      <td>35.625127</td>\n",
              "      <td>16.000000</td>\n",
              "      <td>2785.000000</td>\n",
              "      <td>616.000000</td>\n",
              "      <td>1387.0</td>\n",
              "      <td>530.000</td>\n",
              "      <td>2.388600</td>\n",
              "      <td>89400.0</td>\n",
              "    </tr>\n",
              "  </tbody>\n",
              "</table>\n",
              "<p>20640 rows × 9 columns</p>\n",
              "</div>"
            ],
            "text/plain": [
              "        longitude   latitude  housingMedianAge   totalRooms  totalBedrooms  \\\n",
              "0     -122.230000  37.880000         41.000000   880.000000     539.232767   \n",
              "1     -122.220000  37.860000         21.000000  2641.457729    1106.000000   \n",
              "2     -122.240000  35.625127         52.000000  1467.000000     190.000000   \n",
              "3     -122.250000  37.850000         52.000000  1274.000000     235.000000   \n",
              "4     -119.574345  37.850000         52.000000  1627.000000     280.000000   \n",
              "...           ...        ...               ...          ...            ...   \n",
              "20635 -119.574345  39.480000         25.000000  1665.000000     374.000000   \n",
              "20636 -121.210000  39.490000         18.000000  2641.457729     150.000000   \n",
              "20637 -121.220000  39.430000         17.000000  2254.000000     485.000000   \n",
              "20638 -121.320000  39.430000         28.662049  1860.000000     409.000000   \n",
              "20639 -121.240000  35.625127         16.000000  2785.000000     616.000000   \n",
              "\n",
              "       population  households  medianIncome  medianHouseValue  \n",
              "0           322.0     126.000      8.325200          452600.0  \n",
              "1          2401.0    1138.000      8.301400          358500.0  \n",
              "2           496.0     177.000      7.257400          352100.0  \n",
              "3           558.0     499.158      5.643100          341300.0  \n",
              "4           565.0     259.000      3.846200          342200.0  \n",
              "...           ...         ...           ...               ...  \n",
              "20635       845.0     330.000      1.560300           78100.0  \n",
              "20636       356.0     114.000      2.556800           77100.0  \n",
              "20637      1007.0     433.000      3.870723           92300.0  \n",
              "20638       741.0     349.000      1.867200           84700.0  \n",
              "20639      1387.0     530.000      2.388600           89400.0  \n",
              "\n",
              "[20640 rows x 9 columns]"
            ]
          },
          "execution_count": 19,
          "metadata": {},
          "output_type": "execute_result"
        }
      ],
      "execution_count": 19
    },
    {
      "id": "changed-reference",
      "cell_type": "markdown",
      "source": "* If we don't want to apply it to the whole `DataFrame`, we can still select subset of columns.",
      "metadata": {
        "slideshow": {
          "slide_type": "slide"
        }
      }
    },
    {
      "id": "minimal-spell",
      "cell_type": "code",
      "source": "cal_housing.fillna(cal_housing.mean()[\"medianIncome\":\"medianHouseValue\"])",
      "metadata": {
        "slideshow": {
          "slide_type": "fragment"
        }
      },
      "outputs": [
        {
          "data": {
            "text/html": [
              "<div>\n",
              "<style scoped>\n",
              "    .dataframe tbody tr th:only-of-type {\n",
              "        vertical-align: middle;\n",
              "    }\n",
              "\n",
              "    .dataframe tbody tr th {\n",
              "        vertical-align: top;\n",
              "    }\n",
              "\n",
              "    .dataframe thead th {\n",
              "        text-align: right;\n",
              "    }\n",
              "</style>\n",
              "<table border=\"1\" class=\"dataframe\">\n",
              "  <thead>\n",
              "    <tr style=\"text-align: right;\">\n",
              "      <th></th>\n",
              "      <th>longitude</th>\n",
              "      <th>latitude</th>\n",
              "      <th>housingMedianAge</th>\n",
              "      <th>totalRooms</th>\n",
              "      <th>totalBedrooms</th>\n",
              "      <th>population</th>\n",
              "      <th>households</th>\n",
              "      <th>medianIncome</th>\n",
              "      <th>medianHouseValue</th>\n",
              "    </tr>\n",
              "  </thead>\n",
              "  <tbody>\n",
              "    <tr>\n",
              "      <th>0</th>\n",
              "      <td>-122.23</td>\n",
              "      <td>37.88</td>\n",
              "      <td>41.0</td>\n",
              "      <td>880.0</td>\n",
              "      <td>NaN</td>\n",
              "      <td>322.0</td>\n",
              "      <td>126.0</td>\n",
              "      <td>8.325200</td>\n",
              "      <td>452600.0</td>\n",
              "    </tr>\n",
              "    <tr>\n",
              "      <th>1</th>\n",
              "      <td>-122.22</td>\n",
              "      <td>37.86</td>\n",
              "      <td>21.0</td>\n",
              "      <td>NaN</td>\n",
              "      <td>1106.0</td>\n",
              "      <td>2401.0</td>\n",
              "      <td>1138.0</td>\n",
              "      <td>8.301400</td>\n",
              "      <td>358500.0</td>\n",
              "    </tr>\n",
              "    <tr>\n",
              "      <th>2</th>\n",
              "      <td>-122.24</td>\n",
              "      <td>NaN</td>\n",
              "      <td>52.0</td>\n",
              "      <td>1467.0</td>\n",
              "      <td>190.0</td>\n",
              "      <td>496.0</td>\n",
              "      <td>177.0</td>\n",
              "      <td>7.257400</td>\n",
              "      <td>352100.0</td>\n",
              "    </tr>\n",
              "    <tr>\n",
              "      <th>3</th>\n",
              "      <td>-122.25</td>\n",
              "      <td>37.85</td>\n",
              "      <td>52.0</td>\n",
              "      <td>1274.0</td>\n",
              "      <td>235.0</td>\n",
              "      <td>558.0</td>\n",
              "      <td>NaN</td>\n",
              "      <td>5.643100</td>\n",
              "      <td>341300.0</td>\n",
              "    </tr>\n",
              "    <tr>\n",
              "      <th>4</th>\n",
              "      <td>NaN</td>\n",
              "      <td>37.85</td>\n",
              "      <td>52.0</td>\n",
              "      <td>1627.0</td>\n",
              "      <td>280.0</td>\n",
              "      <td>565.0</td>\n",
              "      <td>259.0</td>\n",
              "      <td>3.846200</td>\n",
              "      <td>342200.0</td>\n",
              "    </tr>\n",
              "    <tr>\n",
              "      <th>...</th>\n",
              "      <td>...</td>\n",
              "      <td>...</td>\n",
              "      <td>...</td>\n",
              "      <td>...</td>\n",
              "      <td>...</td>\n",
              "      <td>...</td>\n",
              "      <td>...</td>\n",
              "      <td>...</td>\n",
              "      <td>...</td>\n",
              "    </tr>\n",
              "    <tr>\n",
              "      <th>20635</th>\n",
              "      <td>NaN</td>\n",
              "      <td>39.48</td>\n",
              "      <td>25.0</td>\n",
              "      <td>1665.0</td>\n",
              "      <td>374.0</td>\n",
              "      <td>845.0</td>\n",
              "      <td>330.0</td>\n",
              "      <td>1.560300</td>\n",
              "      <td>78100.0</td>\n",
              "    </tr>\n",
              "    <tr>\n",
              "      <th>20636</th>\n",
              "      <td>-121.21</td>\n",
              "      <td>39.49</td>\n",
              "      <td>18.0</td>\n",
              "      <td>NaN</td>\n",
              "      <td>150.0</td>\n",
              "      <td>356.0</td>\n",
              "      <td>114.0</td>\n",
              "      <td>2.556800</td>\n",
              "      <td>77100.0</td>\n",
              "    </tr>\n",
              "    <tr>\n",
              "      <th>20637</th>\n",
              "      <td>-121.22</td>\n",
              "      <td>39.43</td>\n",
              "      <td>17.0</td>\n",
              "      <td>2254.0</td>\n",
              "      <td>485.0</td>\n",
              "      <td>1007.0</td>\n",
              "      <td>433.0</td>\n",
              "      <td>3.870723</td>\n",
              "      <td>92300.0</td>\n",
              "    </tr>\n",
              "    <tr>\n",
              "      <th>20638</th>\n",
              "      <td>-121.32</td>\n",
              "      <td>39.43</td>\n",
              "      <td>NaN</td>\n",
              "      <td>1860.0</td>\n",
              "      <td>409.0</td>\n",
              "      <td>741.0</td>\n",
              "      <td>349.0</td>\n",
              "      <td>1.867200</td>\n",
              "      <td>84700.0</td>\n",
              "    </tr>\n",
              "    <tr>\n",
              "      <th>20639</th>\n",
              "      <td>-121.24</td>\n",
              "      <td>NaN</td>\n",
              "      <td>16.0</td>\n",
              "      <td>2785.0</td>\n",
              "      <td>616.0</td>\n",
              "      <td>1387.0</td>\n",
              "      <td>530.0</td>\n",
              "      <td>2.388600</td>\n",
              "      <td>89400.0</td>\n",
              "    </tr>\n",
              "  </tbody>\n",
              "</table>\n",
              "<p>20640 rows × 9 columns</p>\n",
              "</div>"
            ],
            "text/plain": [
              "       longitude  latitude  housingMedianAge  totalRooms  totalBedrooms  \\\n",
              "0        -122.23     37.88              41.0       880.0            NaN   \n",
              "1        -122.22     37.86              21.0         NaN         1106.0   \n",
              "2        -122.24       NaN              52.0      1467.0          190.0   \n",
              "3        -122.25     37.85              52.0      1274.0          235.0   \n",
              "4            NaN     37.85              52.0      1627.0          280.0   \n",
              "...          ...       ...               ...         ...            ...   \n",
              "20635        NaN     39.48              25.0      1665.0          374.0   \n",
              "20636    -121.21     39.49              18.0         NaN          150.0   \n",
              "20637    -121.22     39.43              17.0      2254.0          485.0   \n",
              "20638    -121.32     39.43               NaN      1860.0          409.0   \n",
              "20639    -121.24       NaN              16.0      2785.0          616.0   \n",
              "\n",
              "       population  households  medianIncome  medianHouseValue  \n",
              "0           322.0       126.0      8.325200          452600.0  \n",
              "1          2401.0      1138.0      8.301400          358500.0  \n",
              "2           496.0       177.0      7.257400          352100.0  \n",
              "3           558.0         NaN      5.643100          341300.0  \n",
              "4           565.0       259.0      3.846200          342200.0  \n",
              "...           ...         ...           ...               ...  \n",
              "20635       845.0       330.0      1.560300           78100.0  \n",
              "20636       356.0       114.0      2.556800           77100.0  \n",
              "20637      1007.0       433.0      3.870723           92300.0  \n",
              "20638       741.0       349.0      1.867200           84700.0  \n",
              "20639      1387.0       530.0      2.388600           89400.0  \n",
              "\n",
              "[20640 rows x 9 columns]"
            ]
          },
          "execution_count": 20,
          "metadata": {},
          "output_type": "execute_result"
        }
      ],
      "execution_count": 20
    },
    {
      "id": "proprietary-indicator",
      "cell_type": "markdown",
      "source": "* With the `fillna()` method we can use other strategies for handling gaps.\n\n* It is more convenient to see them with another, smaller and artificial `DataFrame`.",
      "metadata": {
        "slideshow": {
          "slide_type": "slide"
        }
      }
    },
    {
      "id": "institutional-regard",
      "cell_type": "code",
      "source": "df = pd.DataFrame(\n    np.random.randn(5, 3),\n    columns=[\"a\", \"b\", \"c\"],\n)\ndf",
      "metadata": {
        "slideshow": {
          "slide_type": "fragment"
        }
      },
      "outputs": [
        {
          "data": {
            "text/html": [
              "<div>\n",
              "<style scoped>\n",
              "    .dataframe tbody tr th:only-of-type {\n",
              "        vertical-align: middle;\n",
              "    }\n",
              "\n",
              "    .dataframe tbody tr th {\n",
              "        vertical-align: top;\n",
              "    }\n",
              "\n",
              "    .dataframe thead th {\n",
              "        text-align: right;\n",
              "    }\n",
              "</style>\n",
              "<table border=\"1\" class=\"dataframe\">\n",
              "  <thead>\n",
              "    <tr style=\"text-align: right;\">\n",
              "      <th></th>\n",
              "      <th>a</th>\n",
              "      <th>b</th>\n",
              "      <th>c</th>\n",
              "    </tr>\n",
              "  </thead>\n",
              "  <tbody>\n",
              "    <tr>\n",
              "      <th>0</th>\n",
              "      <td>0.664319</td>\n",
              "      <td>-1.323232</td>\n",
              "      <td>0.585482</td>\n",
              "    </tr>\n",
              "    <tr>\n",
              "      <th>1</th>\n",
              "      <td>0.098835</td>\n",
              "      <td>0.225479</td>\n",
              "      <td>0.859195</td>\n",
              "    </tr>\n",
              "    <tr>\n",
              "      <th>2</th>\n",
              "      <td>-0.246654</td>\n",
              "      <td>-0.156775</td>\n",
              "      <td>-0.244600</td>\n",
              "    </tr>\n",
              "    <tr>\n",
              "      <th>3</th>\n",
              "      <td>-0.348405</td>\n",
              "      <td>-1.791612</td>\n",
              "      <td>-0.500346</td>\n",
              "    </tr>\n",
              "    <tr>\n",
              "      <th>4</th>\n",
              "      <td>-1.260509</td>\n",
              "      <td>0.851701</td>\n",
              "      <td>1.177573</td>\n",
              "    </tr>\n",
              "  </tbody>\n",
              "</table>\n",
              "</div>"
            ],
            "text/plain": [
              "          a         b         c\n",
              "0  0.664319 -1.323232  0.585482\n",
              "1  0.098835  0.225479  0.859195\n",
              "2 -0.246654 -0.156775 -0.244600\n",
              "3 -0.348405 -1.791612 -0.500346\n",
              "4 -1.260509  0.851701  1.177573"
            ]
          },
          "execution_count": 21,
          "metadata": {},
          "output_type": "execute_result"
        }
      ],
      "execution_count": 21
    },
    {
      "id": "concerned-representative",
      "cell_type": "markdown",
      "source": "* We will insert spaces by making a mask of `NaN' values.",
      "metadata": {
        "slideshow": {
          "slide_type": "slide"
        }
      }
    },
    {
      "id": "pacific-canal",
      "cell_type": "code",
      "source": "np.random.seed(0)\nnan_mask = np.where(np.random.randint(low=0, high=1+1, size=(5,3)) == 1, 0, np.nan)\nnan_mask",
      "metadata": {
        "slideshow": {
          "slide_type": "fragment"
        }
      },
      "outputs": [
        {
          "data": {
            "text/plain": [
              "array([[nan,  0.,  0.],\n",
              "       [nan,  0.,  0.],\n",
              "       [ 0.,  0.,  0.],\n",
              "       [ 0.,  0., nan],\n",
              "       [nan,  0., nan]])"
            ]
          },
          "execution_count": 22,
          "metadata": {},
          "output_type": "execute_result"
        }
      ],
      "execution_count": 22
    },
    {
      "id": "apart-belize",
      "cell_type": "markdown",
      "source": "* We add the mask to our `DataFrame`.\n\n* By chance we also see a basic characteristic of non-existence: non-existence spreads.\n\n* Operations with non-existent data give non-existent results (unless the documentation says otherwise).",
      "metadata": {
        "slideshow": {
          "slide_type": "slide"
        }
      }
    },
    {
      "id": "damaged-equation",
      "cell_type": "code",
      "source": "df",
      "metadata": {
        "slideshow": {
          "slide_type": "fragment"
        }
      },
      "outputs": [
        {
          "data": {
            "text/html": [
              "<div>\n",
              "<style scoped>\n",
              "    .dataframe tbody tr th:only-of-type {\n",
              "        vertical-align: middle;\n",
              "    }\n",
              "\n",
              "    .dataframe tbody tr th {\n",
              "        vertical-align: top;\n",
              "    }\n",
              "\n",
              "    .dataframe thead th {\n",
              "        text-align: right;\n",
              "    }\n",
              "</style>\n",
              "<table border=\"1\" class=\"dataframe\">\n",
              "  <thead>\n",
              "    <tr style=\"text-align: right;\">\n",
              "      <th></th>\n",
              "      <th>a</th>\n",
              "      <th>b</th>\n",
              "      <th>c</th>\n",
              "    </tr>\n",
              "  </thead>\n",
              "  <tbody>\n",
              "    <tr>\n",
              "      <th>0</th>\n",
              "      <td>0.664319</td>\n",
              "      <td>-1.323232</td>\n",
              "      <td>0.585482</td>\n",
              "    </tr>\n",
              "    <tr>\n",
              "      <th>1</th>\n",
              "      <td>0.098835</td>\n",
              "      <td>0.225479</td>\n",
              "      <td>0.859195</td>\n",
              "    </tr>\n",
              "    <tr>\n",
              "      <th>2</th>\n",
              "      <td>-0.246654</td>\n",
              "      <td>-0.156775</td>\n",
              "      <td>-0.244600</td>\n",
              "    </tr>\n",
              "    <tr>\n",
              "      <th>3</th>\n",
              "      <td>-0.348405</td>\n",
              "      <td>-1.791612</td>\n",
              "      <td>-0.500346</td>\n",
              "    </tr>\n",
              "    <tr>\n",
              "      <th>4</th>\n",
              "      <td>-1.260509</td>\n",
              "      <td>0.851701</td>\n",
              "      <td>1.177573</td>\n",
              "    </tr>\n",
              "  </tbody>\n",
              "</table>\n",
              "</div>"
            ],
            "text/plain": [
              "          a         b         c\n",
              "0  0.664319 -1.323232  0.585482\n",
              "1  0.098835  0.225479  0.859195\n",
              "2 -0.246654 -0.156775 -0.244600\n",
              "3 -0.348405 -1.791612 -0.500346\n",
              "4 -1.260509  0.851701  1.177573"
            ]
          },
          "execution_count": 23,
          "metadata": {},
          "output_type": "execute_result"
        }
      ],
      "execution_count": 23
    },
    {
      "id": "alpha-engineer",
      "cell_type": "code",
      "source": "df = df + nan_mask\ndf",
      "metadata": {
        "slideshow": {
          "slide_type": "fragment"
        }
      },
      "outputs": [
        {
          "data": {
            "text/html": [
              "<div>\n",
              "<style scoped>\n",
              "    .dataframe tbody tr th:only-of-type {\n",
              "        vertical-align: middle;\n",
              "    }\n",
              "\n",
              "    .dataframe tbody tr th {\n",
              "        vertical-align: top;\n",
              "    }\n",
              "\n",
              "    .dataframe thead th {\n",
              "        text-align: right;\n",
              "    }\n",
              "</style>\n",
              "<table border=\"1\" class=\"dataframe\">\n",
              "  <thead>\n",
              "    <tr style=\"text-align: right;\">\n",
              "      <th></th>\n",
              "      <th>a</th>\n",
              "      <th>b</th>\n",
              "      <th>c</th>\n",
              "    </tr>\n",
              "  </thead>\n",
              "  <tbody>\n",
              "    <tr>\n",
              "      <th>0</th>\n",
              "      <td>NaN</td>\n",
              "      <td>-1.323232</td>\n",
              "      <td>0.585482</td>\n",
              "    </tr>\n",
              "    <tr>\n",
              "      <th>1</th>\n",
              "      <td>NaN</td>\n",
              "      <td>0.225479</td>\n",
              "      <td>0.859195</td>\n",
              "    </tr>\n",
              "    <tr>\n",
              "      <th>2</th>\n",
              "      <td>-0.246654</td>\n",
              "      <td>-0.156775</td>\n",
              "      <td>-0.244600</td>\n",
              "    </tr>\n",
              "    <tr>\n",
              "      <th>3</th>\n",
              "      <td>-0.348405</td>\n",
              "      <td>-1.791612</td>\n",
              "      <td>NaN</td>\n",
              "    </tr>\n",
              "    <tr>\n",
              "      <th>4</th>\n",
              "      <td>NaN</td>\n",
              "      <td>0.851701</td>\n",
              "      <td>NaN</td>\n",
              "    </tr>\n",
              "  </tbody>\n",
              "</table>\n",
              "</div>"
            ],
            "text/plain": [
              "          a         b         c\n",
              "0       NaN -1.323232  0.585482\n",
              "1       NaN  0.225479  0.859195\n",
              "2 -0.246654 -0.156775 -0.244600\n",
              "3 -0.348405 -1.791612       NaN\n",
              "4       NaN  0.851701       NaN"
            ]
          },
          "execution_count": 24,
          "metadata": {},
          "output_type": "execute_result"
        }
      ],
      "execution_count": 24
    },
    {
      "id": "bored-lotus",
      "cell_type": "markdown",
      "source": "* Let us confirm again what we said before, that non-existence is contagious.",
      "metadata": {
        "slideshow": {
          "slide_type": "slide"
        }
      }
    },
    {
      "id": "constant-victor",
      "cell_type": "code",
      "source": "df",
      "metadata": {
        "slideshow": {
          "slide_type": "fragment"
        }
      },
      "outputs": [
        {
          "data": {
            "text/html": [
              "<div>\n",
              "<style scoped>\n",
              "    .dataframe tbody tr th:only-of-type {\n",
              "        vertical-align: middle;\n",
              "    }\n",
              "\n",
              "    .dataframe tbody tr th {\n",
              "        vertical-align: top;\n",
              "    }\n",
              "\n",
              "    .dataframe thead th {\n",
              "        text-align: right;\n",
              "    }\n",
              "</style>\n",
              "<table border=\"1\" class=\"dataframe\">\n",
              "  <thead>\n",
              "    <tr style=\"text-align: right;\">\n",
              "      <th></th>\n",
              "      <th>a</th>\n",
              "      <th>b</th>\n",
              "      <th>c</th>\n",
              "    </tr>\n",
              "  </thead>\n",
              "  <tbody>\n",
              "    <tr>\n",
              "      <th>0</th>\n",
              "      <td>NaN</td>\n",
              "      <td>-1.323232</td>\n",
              "      <td>0.585482</td>\n",
              "    </tr>\n",
              "    <tr>\n",
              "      <th>1</th>\n",
              "      <td>NaN</td>\n",
              "      <td>0.225479</td>\n",
              "      <td>0.859195</td>\n",
              "    </tr>\n",
              "    <tr>\n",
              "      <th>2</th>\n",
              "      <td>-0.246654</td>\n",
              "      <td>-0.156775</td>\n",
              "      <td>-0.244600</td>\n",
              "    </tr>\n",
              "    <tr>\n",
              "      <th>3</th>\n",
              "      <td>-0.348405</td>\n",
              "      <td>-1.791612</td>\n",
              "      <td>NaN</td>\n",
              "    </tr>\n",
              "    <tr>\n",
              "      <th>4</th>\n",
              "      <td>NaN</td>\n",
              "      <td>0.851701</td>\n",
              "      <td>NaN</td>\n",
              "    </tr>\n",
              "  </tbody>\n",
              "</table>\n",
              "</div>"
            ],
            "text/plain": [
              "          a         b         c\n",
              "0       NaN -1.323232  0.585482\n",
              "1       NaN  0.225479  0.859195\n",
              "2 -0.246654 -0.156775 -0.244600\n",
              "3 -0.348405 -1.791612       NaN\n",
              "4       NaN  0.851701       NaN"
            ]
          },
          "execution_count": 25,
          "metadata": {},
          "output_type": "execute_result"
        }
      ],
      "execution_count": 25
    },
    {
      "id": "rolled-holocaust",
      "cell_type": "code",
      "source": "df.a + df.b",
      "metadata": {
        "slideshow": {
          "slide_type": "fragment"
        }
      },
      "outputs": [
        {
          "data": {
            "text/plain": [
              "0         NaN\n",
              "1         NaN\n",
              "2   -0.403429\n",
              "3   -2.140017\n",
              "4         NaN\n",
              "dtype: float64"
            ]
          },
          "execution_count": 26,
          "metadata": {},
          "output_type": "execute_result"
        }
      ],
      "execution_count": 26
    },
    {
      "id": "foster-contractor",
      "cell_type": "markdown",
      "source": "* Giving `fillna(method='pad')` the gap is filled with the value on the previous line.",
      "metadata": {
        "slideshow": {
          "slide_type": "slide"
        }
      }
    },
    {
      "id": "extreme-donor",
      "cell_type": "code",
      "source": "df",
      "metadata": {},
      "outputs": [
        {
          "data": {
            "text/html": [
              "<div>\n",
              "<style scoped>\n",
              "    .dataframe tbody tr th:only-of-type {\n",
              "        vertical-align: middle;\n",
              "    }\n",
              "\n",
              "    .dataframe tbody tr th {\n",
              "        vertical-align: top;\n",
              "    }\n",
              "\n",
              "    .dataframe thead th {\n",
              "        text-align: right;\n",
              "    }\n",
              "</style>\n",
              "<table border=\"1\" class=\"dataframe\">\n",
              "  <thead>\n",
              "    <tr style=\"text-align: right;\">\n",
              "      <th></th>\n",
              "      <th>a</th>\n",
              "      <th>b</th>\n",
              "      <th>c</th>\n",
              "    </tr>\n",
              "  </thead>\n",
              "  <tbody>\n",
              "    <tr>\n",
              "      <th>0</th>\n",
              "      <td>NaN</td>\n",
              "      <td>-1.323232</td>\n",
              "      <td>0.585482</td>\n",
              "    </tr>\n",
              "    <tr>\n",
              "      <th>1</th>\n",
              "      <td>NaN</td>\n",
              "      <td>0.225479</td>\n",
              "      <td>0.859195</td>\n",
              "    </tr>\n",
              "    <tr>\n",
              "      <th>2</th>\n",
              "      <td>-0.246654</td>\n",
              "      <td>-0.156775</td>\n",
              "      <td>-0.244600</td>\n",
              "    </tr>\n",
              "    <tr>\n",
              "      <th>3</th>\n",
              "      <td>-0.348405</td>\n",
              "      <td>-1.791612</td>\n",
              "      <td>NaN</td>\n",
              "    </tr>\n",
              "    <tr>\n",
              "      <th>4</th>\n",
              "      <td>NaN</td>\n",
              "      <td>0.851701</td>\n",
              "      <td>NaN</td>\n",
              "    </tr>\n",
              "  </tbody>\n",
              "</table>\n",
              "</div>"
            ],
            "text/plain": [
              "          a         b         c\n",
              "0       NaN -1.323232  0.585482\n",
              "1       NaN  0.225479  0.859195\n",
              "2 -0.246654 -0.156775 -0.244600\n",
              "3 -0.348405 -1.791612       NaN\n",
              "4       NaN  0.851701       NaN"
            ]
          },
          "execution_count": 27,
          "metadata": {},
          "output_type": "execute_result"
        }
      ],
      "execution_count": 27
    },
    {
      "id": "united-consensus",
      "cell_type": "code",
      "source": "df.fillna(method='pad')",
      "metadata": {
        "slideshow": {
          "slide_type": "fragment"
        }
      },
      "outputs": [
        {
          "data": {
            "text/html": [
              "<div>\n",
              "<style scoped>\n",
              "    .dataframe tbody tr th:only-of-type {\n",
              "        vertical-align: middle;\n",
              "    }\n",
              "\n",
              "    .dataframe tbody tr th {\n",
              "        vertical-align: top;\n",
              "    }\n",
              "\n",
              "    .dataframe thead th {\n",
              "        text-align: right;\n",
              "    }\n",
              "</style>\n",
              "<table border=\"1\" class=\"dataframe\">\n",
              "  <thead>\n",
              "    <tr style=\"text-align: right;\">\n",
              "      <th></th>\n",
              "      <th>a</th>\n",
              "      <th>b</th>\n",
              "      <th>c</th>\n",
              "    </tr>\n",
              "  </thead>\n",
              "  <tbody>\n",
              "    <tr>\n",
              "      <th>0</th>\n",
              "      <td>NaN</td>\n",
              "      <td>-1.323232</td>\n",
              "      <td>0.585482</td>\n",
              "    </tr>\n",
              "    <tr>\n",
              "      <th>1</th>\n",
              "      <td>NaN</td>\n",
              "      <td>0.225479</td>\n",
              "      <td>0.859195</td>\n",
              "    </tr>\n",
              "    <tr>\n",
              "      <th>2</th>\n",
              "      <td>-0.246654</td>\n",
              "      <td>-0.156775</td>\n",
              "      <td>-0.244600</td>\n",
              "    </tr>\n",
              "    <tr>\n",
              "      <th>3</th>\n",
              "      <td>-0.348405</td>\n",
              "      <td>-1.791612</td>\n",
              "      <td>-0.244600</td>\n",
              "    </tr>\n",
              "    <tr>\n",
              "      <th>4</th>\n",
              "      <td>-0.348405</td>\n",
              "      <td>0.851701</td>\n",
              "      <td>-0.244600</td>\n",
              "    </tr>\n",
              "  </tbody>\n",
              "</table>\n",
              "</div>"
            ],
            "text/plain": [
              "          a         b         c\n",
              "0       NaN -1.323232  0.585482\n",
              "1       NaN  0.225479  0.859195\n",
              "2 -0.246654 -0.156775 -0.244600\n",
              "3 -0.348405 -1.791612 -0.244600\n",
              "4 -0.348405  0.851701 -0.244600"
            ]
          },
          "execution_count": 28,
          "metadata": {},
          "output_type": "execute_result"
        }
      ],
      "execution_count": 28
    },
    {
      "id": "controlled-holiday",
      "cell_type": "markdown",
      "source": "* We can do the same by giving `fillna(method='ffill')` (forward fill).",
      "metadata": {
        "slideshow": {
          "slide_type": "slide"
        }
      }
    },
    {
      "id": "obvious-stylus",
      "cell_type": "code",
      "source": "df",
      "metadata": {
        "slideshow": {
          "slide_type": "fragment"
        }
      },
      "outputs": [
        {
          "data": {
            "text/html": [
              "<div>\n",
              "<style scoped>\n",
              "    .dataframe tbody tr th:only-of-type {\n",
              "        vertical-align: middle;\n",
              "    }\n",
              "\n",
              "    .dataframe tbody tr th {\n",
              "        vertical-align: top;\n",
              "    }\n",
              "\n",
              "    .dataframe thead th {\n",
              "        text-align: right;\n",
              "    }\n",
              "</style>\n",
              "<table border=\"1\" class=\"dataframe\">\n",
              "  <thead>\n",
              "    <tr style=\"text-align: right;\">\n",
              "      <th></th>\n",
              "      <th>a</th>\n",
              "      <th>b</th>\n",
              "      <th>c</th>\n",
              "    </tr>\n",
              "  </thead>\n",
              "  <tbody>\n",
              "    <tr>\n",
              "      <th>0</th>\n",
              "      <td>NaN</td>\n",
              "      <td>-1.323232</td>\n",
              "      <td>0.585482</td>\n",
              "    </tr>\n",
              "    <tr>\n",
              "      <th>1</th>\n",
              "      <td>NaN</td>\n",
              "      <td>0.225479</td>\n",
              "      <td>0.859195</td>\n",
              "    </tr>\n",
              "    <tr>\n",
              "      <th>2</th>\n",
              "      <td>-0.246654</td>\n",
              "      <td>-0.156775</td>\n",
              "      <td>-0.244600</td>\n",
              "    </tr>\n",
              "    <tr>\n",
              "      <th>3</th>\n",
              "      <td>-0.348405</td>\n",
              "      <td>-1.791612</td>\n",
              "      <td>NaN</td>\n",
              "    </tr>\n",
              "    <tr>\n",
              "      <th>4</th>\n",
              "      <td>NaN</td>\n",
              "      <td>0.851701</td>\n",
              "      <td>NaN</td>\n",
              "    </tr>\n",
              "  </tbody>\n",
              "</table>\n",
              "</div>"
            ],
            "text/plain": [
              "          a         b         c\n",
              "0       NaN -1.323232  0.585482\n",
              "1       NaN  0.225479  0.859195\n",
              "2 -0.246654 -0.156775 -0.244600\n",
              "3 -0.348405 -1.791612       NaN\n",
              "4       NaN  0.851701       NaN"
            ]
          },
          "execution_count": 29,
          "metadata": {},
          "output_type": "execute_result"
        }
      ],
      "execution_count": 29
    },
    {
      "id": "comic-student",
      "cell_type": "code",
      "source": "df.fillna(method='ffill')",
      "metadata": {
        "slideshow": {
          "slide_type": "fragment"
        }
      },
      "outputs": [
        {
          "data": {
            "text/html": [
              "<div>\n",
              "<style scoped>\n",
              "    .dataframe tbody tr th:only-of-type {\n",
              "        vertical-align: middle;\n",
              "    }\n",
              "\n",
              "    .dataframe tbody tr th {\n",
              "        vertical-align: top;\n",
              "    }\n",
              "\n",
              "    .dataframe thead th {\n",
              "        text-align: right;\n",
              "    }\n",
              "</style>\n",
              "<table border=\"1\" class=\"dataframe\">\n",
              "  <thead>\n",
              "    <tr style=\"text-align: right;\">\n",
              "      <th></th>\n",
              "      <th>a</th>\n",
              "      <th>b</th>\n",
              "      <th>c</th>\n",
              "    </tr>\n",
              "  </thead>\n",
              "  <tbody>\n",
              "    <tr>\n",
              "      <th>0</th>\n",
              "      <td>NaN</td>\n",
              "      <td>-1.323232</td>\n",
              "      <td>0.585482</td>\n",
              "    </tr>\n",
              "    <tr>\n",
              "      <th>1</th>\n",
              "      <td>NaN</td>\n",
              "      <td>0.225479</td>\n",
              "      <td>0.859195</td>\n",
              "    </tr>\n",
              "    <tr>\n",
              "      <th>2</th>\n",
              "      <td>-0.246654</td>\n",
              "      <td>-0.156775</td>\n",
              "      <td>-0.244600</td>\n",
              "    </tr>\n",
              "    <tr>\n",
              "      <th>3</th>\n",
              "      <td>-0.348405</td>\n",
              "      <td>-1.791612</td>\n",
              "      <td>-0.244600</td>\n",
              "    </tr>\n",
              "    <tr>\n",
              "      <th>4</th>\n",
              "      <td>-0.348405</td>\n",
              "      <td>0.851701</td>\n",
              "      <td>-0.244600</td>\n",
              "    </tr>\n",
              "  </tbody>\n",
              "</table>\n",
              "</div>"
            ],
            "text/plain": [
              "          a         b         c\n",
              "0       NaN -1.323232  0.585482\n",
              "1       NaN  0.225479  0.859195\n",
              "2 -0.246654 -0.156775 -0.244600\n",
              "3 -0.348405 -1.791612 -0.244600\n",
              "4 -0.348405  0.851701 -0.244600"
            ]
          },
          "execution_count": 30,
          "metadata": {},
          "output_type": "execute_result"
        }
      ],
      "execution_count": 30
    },
    {
      "id": "final-mercury",
      "cell_type": "markdown",
      "source": "* If we want to fill in reverse, i.e. the space is filled by the value of the next line, we use `fillna(method='bfill')` (backfill).",
      "metadata": {
        "slideshow": {
          "slide_type": "slide"
        }
      }
    },
    {
      "id": "artificial-publisher",
      "cell_type": "code",
      "source": "df",
      "metadata": {
        "slideshow": {
          "slide_type": "fragment"
        }
      },
      "outputs": [
        {
          "data": {
            "text/html": [
              "<div>\n",
              "<style scoped>\n",
              "    .dataframe tbody tr th:only-of-type {\n",
              "        vertical-align: middle;\n",
              "    }\n",
              "\n",
              "    .dataframe tbody tr th {\n",
              "        vertical-align: top;\n",
              "    }\n",
              "\n",
              "    .dataframe thead th {\n",
              "        text-align: right;\n",
              "    }\n",
              "</style>\n",
              "<table border=\"1\" class=\"dataframe\">\n",
              "  <thead>\n",
              "    <tr style=\"text-align: right;\">\n",
              "      <th></th>\n",
              "      <th>a</th>\n",
              "      <th>b</th>\n",
              "      <th>c</th>\n",
              "    </tr>\n",
              "  </thead>\n",
              "  <tbody>\n",
              "    <tr>\n",
              "      <th>0</th>\n",
              "      <td>NaN</td>\n",
              "      <td>-1.323232</td>\n",
              "      <td>0.585482</td>\n",
              "    </tr>\n",
              "    <tr>\n",
              "      <th>1</th>\n",
              "      <td>NaN</td>\n",
              "      <td>0.225479</td>\n",
              "      <td>0.859195</td>\n",
              "    </tr>\n",
              "    <tr>\n",
              "      <th>2</th>\n",
              "      <td>-0.246654</td>\n",
              "      <td>-0.156775</td>\n",
              "      <td>-0.244600</td>\n",
              "    </tr>\n",
              "    <tr>\n",
              "      <th>3</th>\n",
              "      <td>-0.348405</td>\n",
              "      <td>-1.791612</td>\n",
              "      <td>NaN</td>\n",
              "    </tr>\n",
              "    <tr>\n",
              "      <th>4</th>\n",
              "      <td>NaN</td>\n",
              "      <td>0.851701</td>\n",
              "      <td>NaN</td>\n",
              "    </tr>\n",
              "  </tbody>\n",
              "</table>\n",
              "</div>"
            ],
            "text/plain": [
              "          a         b         c\n",
              "0       NaN -1.323232  0.585482\n",
              "1       NaN  0.225479  0.859195\n",
              "2 -0.246654 -0.156775 -0.244600\n",
              "3 -0.348405 -1.791612       NaN\n",
              "4       NaN  0.851701       NaN"
            ]
          },
          "execution_count": 31,
          "metadata": {},
          "output_type": "execute_result"
        }
      ],
      "execution_count": 31
    },
    {
      "id": "informational-curve",
      "cell_type": "code",
      "source": "df.fillna(method='bfill')",
      "metadata": {
        "slideshow": {
          "slide_type": "fragment"
        }
      },
      "outputs": [
        {
          "data": {
            "text/html": [
              "<div>\n",
              "<style scoped>\n",
              "    .dataframe tbody tr th:only-of-type {\n",
              "        vertical-align: middle;\n",
              "    }\n",
              "\n",
              "    .dataframe tbody tr th {\n",
              "        vertical-align: top;\n",
              "    }\n",
              "\n",
              "    .dataframe thead th {\n",
              "        text-align: right;\n",
              "    }\n",
              "</style>\n",
              "<table border=\"1\" class=\"dataframe\">\n",
              "  <thead>\n",
              "    <tr style=\"text-align: right;\">\n",
              "      <th></th>\n",
              "      <th>a</th>\n",
              "      <th>b</th>\n",
              "      <th>c</th>\n",
              "    </tr>\n",
              "  </thead>\n",
              "  <tbody>\n",
              "    <tr>\n",
              "      <th>0</th>\n",
              "      <td>-0.246654</td>\n",
              "      <td>-1.323232</td>\n",
              "      <td>0.585482</td>\n",
              "    </tr>\n",
              "    <tr>\n",
              "      <th>1</th>\n",
              "      <td>-0.246654</td>\n",
              "      <td>0.225479</td>\n",
              "      <td>0.859195</td>\n",
              "    </tr>\n",
              "    <tr>\n",
              "      <th>2</th>\n",
              "      <td>-0.246654</td>\n",
              "      <td>-0.156775</td>\n",
              "      <td>-0.244600</td>\n",
              "    </tr>\n",
              "    <tr>\n",
              "      <th>3</th>\n",
              "      <td>-0.348405</td>\n",
              "      <td>-1.791612</td>\n",
              "      <td>NaN</td>\n",
              "    </tr>\n",
              "    <tr>\n",
              "      <th>4</th>\n",
              "      <td>NaN</td>\n",
              "      <td>0.851701</td>\n",
              "      <td>NaN</td>\n",
              "    </tr>\n",
              "  </tbody>\n",
              "</table>\n",
              "</div>"
            ],
            "text/plain": [
              "          a         b         c\n",
              "0 -0.246654 -1.323232  0.585482\n",
              "1 -0.246654  0.225479  0.859195\n",
              "2 -0.246654 -0.156775 -0.244600\n",
              "3 -0.348405 -1.791612       NaN\n",
              "4       NaN  0.851701       NaN"
            ]
          },
          "execution_count": 32,
          "metadata": {},
          "output_type": "execute_result"
        }
      ],
      "execution_count": 32
    },
    {
      "id": "historic-turkey",
      "cell_type": "markdown",
      "source": "* We can do the same by giving `fillna(method='backfill')`.",
      "metadata": {
        "slideshow": {
          "slide_type": "slide"
        }
      }
    },
    {
      "id": "retained-casting",
      "cell_type": "code",
      "source": "df",
      "metadata": {
        "slideshow": {
          "slide_type": "fragment"
        }
      },
      "outputs": [
        {
          "data": {
            "text/html": [
              "<div>\n",
              "<style scoped>\n",
              "    .dataframe tbody tr th:only-of-type {\n",
              "        vertical-align: middle;\n",
              "    }\n",
              "\n",
              "    .dataframe tbody tr th {\n",
              "        vertical-align: top;\n",
              "    }\n",
              "\n",
              "    .dataframe thead th {\n",
              "        text-align: right;\n",
              "    }\n",
              "</style>\n",
              "<table border=\"1\" class=\"dataframe\">\n",
              "  <thead>\n",
              "    <tr style=\"text-align: right;\">\n",
              "      <th></th>\n",
              "      <th>a</th>\n",
              "      <th>b</th>\n",
              "      <th>c</th>\n",
              "    </tr>\n",
              "  </thead>\n",
              "  <tbody>\n",
              "    <tr>\n",
              "      <th>0</th>\n",
              "      <td>NaN</td>\n",
              "      <td>-1.323232</td>\n",
              "      <td>0.585482</td>\n",
              "    </tr>\n",
              "    <tr>\n",
              "      <th>1</th>\n",
              "      <td>NaN</td>\n",
              "      <td>0.225479</td>\n",
              "      <td>0.859195</td>\n",
              "    </tr>\n",
              "    <tr>\n",
              "      <th>2</th>\n",
              "      <td>-0.246654</td>\n",
              "      <td>-0.156775</td>\n",
              "      <td>-0.244600</td>\n",
              "    </tr>\n",
              "    <tr>\n",
              "      <th>3</th>\n",
              "      <td>-0.348405</td>\n",
              "      <td>-1.791612</td>\n",
              "      <td>NaN</td>\n",
              "    </tr>\n",
              "    <tr>\n",
              "      <th>4</th>\n",
              "      <td>NaN</td>\n",
              "      <td>0.851701</td>\n",
              "      <td>NaN</td>\n",
              "    </tr>\n",
              "  </tbody>\n",
              "</table>\n",
              "</div>"
            ],
            "text/plain": [
              "          a         b         c\n",
              "0       NaN -1.323232  0.585482\n",
              "1       NaN  0.225479  0.859195\n",
              "2 -0.246654 -0.156775 -0.244600\n",
              "3 -0.348405 -1.791612       NaN\n",
              "4       NaN  0.851701       NaN"
            ]
          },
          "execution_count": 33,
          "metadata": {},
          "output_type": "execute_result"
        }
      ],
      "execution_count": 33
    },
    {
      "id": "nominated-vermont",
      "cell_type": "code",
      "source": "df.fillna(method='backfill')",
      "metadata": {
        "slideshow": {
          "slide_type": "fragment"
        }
      },
      "outputs": [
        {
          "data": {
            "text/html": [
              "<div>\n",
              "<style scoped>\n",
              "    .dataframe tbody tr th:only-of-type {\n",
              "        vertical-align: middle;\n",
              "    }\n",
              "\n",
              "    .dataframe tbody tr th {\n",
              "        vertical-align: top;\n",
              "    }\n",
              "\n",
              "    .dataframe thead th {\n",
              "        text-align: right;\n",
              "    }\n",
              "</style>\n",
              "<table border=\"1\" class=\"dataframe\">\n",
              "  <thead>\n",
              "    <tr style=\"text-align: right;\">\n",
              "      <th></th>\n",
              "      <th>a</th>\n",
              "      <th>b</th>\n",
              "      <th>c</th>\n",
              "    </tr>\n",
              "  </thead>\n",
              "  <tbody>\n",
              "    <tr>\n",
              "      <th>0</th>\n",
              "      <td>-0.246654</td>\n",
              "      <td>-1.323232</td>\n",
              "      <td>0.585482</td>\n",
              "    </tr>\n",
              "    <tr>\n",
              "      <th>1</th>\n",
              "      <td>-0.246654</td>\n",
              "      <td>0.225479</td>\n",
              "      <td>0.859195</td>\n",
              "    </tr>\n",
              "    <tr>\n",
              "      <th>2</th>\n",
              "      <td>-0.246654</td>\n",
              "      <td>-0.156775</td>\n",
              "      <td>-0.244600</td>\n",
              "    </tr>\n",
              "    <tr>\n",
              "      <th>3</th>\n",
              "      <td>-0.348405</td>\n",
              "      <td>-1.791612</td>\n",
              "      <td>NaN</td>\n",
              "    </tr>\n",
              "    <tr>\n",
              "      <th>4</th>\n",
              "      <td>NaN</td>\n",
              "      <td>0.851701</td>\n",
              "      <td>NaN</td>\n",
              "    </tr>\n",
              "  </tbody>\n",
              "</table>\n",
              "</div>"
            ],
            "text/plain": [
              "          a         b         c\n",
              "0 -0.246654 -1.323232  0.585482\n",
              "1 -0.246654  0.225479  0.859195\n",
              "2 -0.246654 -0.156775 -0.244600\n",
              "3 -0.348405 -1.791612       NaN\n",
              "4       NaN  0.851701       NaN"
            ]
          },
          "execution_count": 34,
          "metadata": {},
          "output_type": "execute_result"
        }
      ],
      "execution_count": 34
    },
    {
      "id": "historical-faith",
      "cell_type": "markdown",
      "source": "* Another way to handle missing values ​​is with *interpolation*.\n\n* This can be particularly useful in cases where the values ​​have a continuum, such as in *time series*.\n\n* pandas supports various interpolation methods. Here we will see the simplest, the *linear interpolation* (linear interpolation).",
      "metadata": {
        "slideshow": {
          "slide_type": "slide"
        }
      }
    },
    {
      "id": "radical-fruit",
      "cell_type": "markdown",
      "source": "* To see interference in action, we will generate some synthetic data that will simulate a *random walk*.",
      "metadata": {
        "slideshow": {
          "slide_type": "slide"
        }
      }
    },
    {
      "id": "promising-married",
      "cell_type": "code",
      "source": "steps = np.random.randint(-1, 1+1, size=365)\ndata = steps.cumsum()\n\nts = pd.Series(data=data,\n               index=pd.date_range(start='2021-01-01', end='2021-12-31', freq='D'))\nts",
      "metadata": {
        "slideshow": {
          "slide_type": "fragment"
        }
      },
      "outputs": [
        {
          "data": {
            "text/plain": [
              "2021-01-01    -1\n",
              "2021-01-02    -2\n",
              "2021-01-03    -3\n",
              "2021-01-04    -2\n",
              "2021-01-05    -2\n",
              "              ..\n",
              "2021-12-27   -15\n",
              "2021-12-28   -14\n",
              "2021-12-29   -15\n",
              "2021-12-30   -14\n",
              "2021-12-31   -15\n",
              "Freq: D, Length: 365, dtype: int64"
            ]
          },
          "execution_count": 35,
          "metadata": {},
          "output_type": "execute_result"
        }
      ],
      "execution_count": 35
    },
    {
      "id": "fuzzy-peoples",
      "cell_type": "code",
      "source": "_ = ts.plot(figsize=(12, 10))",
      "metadata": {
        "slideshow": {
          "slide_type": "slide"
        }
      },
      "outputs": [
        {
          "data": {
            "image/png": "[encoded data removed]",
            "text/plain": [
              "<Figure size 864x720 with 1 Axes>"
            ]
          },
          "metadata": {
            "needs_background": "light"
          },
          "output_type": "display_data"
        }
      ],
      "execution_count": 36
    },
    {
      "id": "capital-appendix",
      "cell_type": "markdown",
      "source": "* We will again randomly delete some of the data (about half).",
      "metadata": {
        "slideshow": {
          "slide_type": "slide"
        }
      }
    },
    {
      "id": "occupational-advocacy",
      "cell_type": "code",
      "source": "nan_mask = np.where(np.random.randint(low=0, high=1+1, size=(365)) == 1, 0, np.nan)\nts = ts + nan_mask\nprint(ts.isna().sum())\nts",
      "metadata": {
        "slideshow": {
          "slide_type": "fragment"
        }
      },
      "outputs": [
        {
          "name": "stdout",
          "output_type": "stream",
          "text": [
            "179\n"
          ]
        },
        {
          "data": {
            "text/plain": [
              "2021-01-01    -1.0\n",
              "2021-01-02     NaN\n",
              "2021-01-03    -3.0\n",
              "2021-01-04     NaN\n",
              "2021-01-05    -2.0\n",
              "              ... \n",
              "2021-12-27     NaN\n",
              "2021-12-28     NaN\n",
              "2021-12-29   -15.0\n",
              "2021-12-30     NaN\n",
              "2021-12-31     NaN\n",
              "Freq: D, Length: 365, dtype: float64"
            ]
          },
          "execution_count": 37,
          "metadata": {},
          "output_type": "execute_result"
        }
      ],
      "execution_count": 37
    },
    {
      "id": "alien-romance",
      "cell_type": "code",
      "source": "_ = ts.plot(figsize=(12, 10))",
      "metadata": {
        "slideshow": {
          "slide_type": "slide"
        }
      },
      "outputs": [
        {
          "data": {
            "image/png": "[encoded data removed]",
            "text/plain": [
              "<Figure size 864x720 with 1 Axes>"
            ]
          },
          "metadata": {
            "needs_background": "light"
          },
          "output_type": "display_data"
        }
      ],
      "execution_count": 38
    },
    {
      "id": "loose-great",
      "cell_type": "markdown",
      "source": "* This is what we get if we use linear interpolation with the `interpolate()` method.",
      "metadata": {
        "slideshow": {
          "slide_type": "slide"
        }
      }
    },
    {
      "id": "numerous-estate",
      "cell_type": "code",
      "source": "ts = ts.interpolate()\nts",
      "metadata": {
        "slideshow": {
          "slide_type": "fragment"
        }
      },
      "outputs": [
        {
          "data": {
            "text/plain": [
              "2021-01-01    -1.000000\n",
              "2021-01-02    -2.000000\n",
              "2021-01-03    -3.000000\n",
              "2021-01-04    -2.500000\n",
              "2021-01-05    -2.000000\n",
              "                ...    \n",
              "2021-12-27   -14.333333\n",
              "2021-12-28   -14.666667\n",
              "2021-12-29   -15.000000\n",
              "2021-12-30   -15.000000\n",
              "2021-12-31   -15.000000\n",
              "Freq: D, Length: 365, dtype: float64"
            ]
          },
          "execution_count": 39,
          "metadata": {},
          "output_type": "execute_result"
        }
      ],
      "execution_count": 39
    },
    {
      "id": "executive-window",
      "cell_type": "code",
      "source": "_ = ts.plot(figsize=(12, 10))",
      "metadata": {
        "slideshow": {
          "slide_type": "slide"
        }
      },
      "outputs": [
        {
          "data": {
            "image/png": "[encoded data removed]",
            "text/plain": [
              "<Figure size 864x720 with 1 Axes>"
            ]
          },
          "metadata": {
            "needs_background": "light"
          },
          "output_type": "display_data"
        }
      ],
      "execution_count": 40
    },
    {
      "id": "pursuant-solid",
      "cell_type": "markdown",
      "source": "* Additional strategies for handling data with gaps are provided by the [scikit-learn](https://scikit-learn.org/stable/) library, via imputation mechanisms.\n\n* The simplest of these are given by the `SimpleImputer` class, which offers the alternatives:\n\n * `mean`\n\n * `median`\n\n * `most_frequent'\n\n * `constant'",
      "metadata": {
        "slideshow": {
          "slide_type": "slide"
        }
      }
    },
    {
      "id": "democratic-giant",
      "cell_type": "code",
      "source": "from sklearn.impute import SimpleImputer\n\nimputer = SimpleImputer(missing_values=np.nan, strategy=\"constant\", fill_value=0)",
      "metadata": {
        "slideshow": {
          "slide_type": "fragment"
        }
      },
      "outputs": [],
      "execution_count": 41
    },
    {
      "id": "trying-flooring",
      "cell_type": "markdown",
      "source": "* Back to the data from California:",
      "metadata": {
        "slideshow": {
          "slide_type": "slide"
        }
      }
    },
    {
      "id": "distinguished-executive",
      "cell_type": "code",
      "source": "cal_housing",
      "metadata": {
        "slideshow": {
          "slide_type": "fragment"
        }
      },
      "outputs": [
        {
          "data": {
            "text/html": [
              "<div>\n",
              "<style scoped>\n",
              "    .dataframe tbody tr th:only-of-type {\n",
              "        vertical-align: middle;\n",
              "    }\n",
              "\n",
              "    .dataframe tbody tr th {\n",
              "        vertical-align: top;\n",
              "    }\n",
              "\n",
              "    .dataframe thead th {\n",
              "        text-align: right;\n",
              "    }\n",
              "</style>\n",
              "<table border=\"1\" class=\"dataframe\">\n",
              "  <thead>\n",
              "    <tr style=\"text-align: right;\">\n",
              "      <th></th>\n",
              "      <th>longitude</th>\n",
              "      <th>latitude</th>\n",
              "      <th>housingMedianAge</th>\n",
              "      <th>totalRooms</th>\n",
              "      <th>totalBedrooms</th>\n",
              "      <th>population</th>\n",
              "      <th>households</th>\n",
              "      <th>medianIncome</th>\n",
              "      <th>medianHouseValue</th>\n",
              "    </tr>\n",
              "  </thead>\n",
              "  <tbody>\n",
              "    <tr>\n",
              "      <th>0</th>\n",
              "      <td>-122.23</td>\n",
              "      <td>37.88</td>\n",
              "      <td>41.0</td>\n",
              "      <td>880.0</td>\n",
              "      <td>NaN</td>\n",
              "      <td>322.0</td>\n",
              "      <td>126.0</td>\n",
              "      <td>8.3252</td>\n",
              "      <td>452600.0</td>\n",
              "    </tr>\n",
              "    <tr>\n",
              "      <th>1</th>\n",
              "      <td>-122.22</td>\n",
              "      <td>37.86</td>\n",
              "      <td>21.0</td>\n",
              "      <td>NaN</td>\n",
              "      <td>1106.0</td>\n",
              "      <td>2401.0</td>\n",
              "      <td>1138.0</td>\n",
              "      <td>8.3014</td>\n",
              "      <td>358500.0</td>\n",
              "    </tr>\n",
              "    <tr>\n",
              "      <th>2</th>\n",
              "      <td>-122.24</td>\n",
              "      <td>NaN</td>\n",
              "      <td>52.0</td>\n",
              "      <td>1467.0</td>\n",
              "      <td>190.0</td>\n",
              "      <td>496.0</td>\n",
              "      <td>177.0</td>\n",
              "      <td>7.2574</td>\n",
              "      <td>352100.0</td>\n",
              "    </tr>\n",
              "    <tr>\n",
              "      <th>3</th>\n",
              "      <td>-122.25</td>\n",
              "      <td>37.85</td>\n",
              "      <td>52.0</td>\n",
              "      <td>1274.0</td>\n",
              "      <td>235.0</td>\n",
              "      <td>558.0</td>\n",
              "      <td>NaN</td>\n",
              "      <td>5.6431</td>\n",
              "      <td>341300.0</td>\n",
              "    </tr>\n",
              "    <tr>\n",
              "      <th>4</th>\n",
              "      <td>NaN</td>\n",
              "      <td>37.85</td>\n",
              "      <td>52.0</td>\n",
              "      <td>1627.0</td>\n",
              "      <td>280.0</td>\n",
              "      <td>565.0</td>\n",
              "      <td>259.0</td>\n",
              "      <td>3.8462</td>\n",
              "      <td>342200.0</td>\n",
              "    </tr>\n",
              "    <tr>\n",
              "      <th>...</th>\n",
              "      <td>...</td>\n",
              "      <td>...</td>\n",
              "      <td>...</td>\n",
              "      <td>...</td>\n",
              "      <td>...</td>\n",
              "      <td>...</td>\n",
              "      <td>...</td>\n",
              "      <td>...</td>\n",
              "      <td>...</td>\n",
              "    </tr>\n",
              "    <tr>\n",
              "      <th>20635</th>\n",
              "      <td>NaN</td>\n",
              "      <td>39.48</td>\n",
              "      <td>25.0</td>\n",
              "      <td>1665.0</td>\n",
              "      <td>374.0</td>\n",
              "      <td>845.0</td>\n",
              "      <td>330.0</td>\n",
              "      <td>1.5603</td>\n",
              "      <td>78100.0</td>\n",
              "    </tr>\n",
              "    <tr>\n",
              "      <th>20636</th>\n",
              "      <td>-121.21</td>\n",
              "      <td>39.49</td>\n",
              "      <td>18.0</td>\n",
              "      <td>NaN</td>\n",
              "      <td>150.0</td>\n",
              "      <td>356.0</td>\n",
              "      <td>114.0</td>\n",
              "      <td>2.5568</td>\n",
              "      <td>77100.0</td>\n",
              "    </tr>\n",
              "    <tr>\n",
              "      <th>20637</th>\n",
              "      <td>-121.22</td>\n",
              "      <td>39.43</td>\n",
              "      <td>17.0</td>\n",
              "      <td>2254.0</td>\n",
              "      <td>485.0</td>\n",
              "      <td>1007.0</td>\n",
              "      <td>433.0</td>\n",
              "      <td>NaN</td>\n",
              "      <td>92300.0</td>\n",
              "    </tr>\n",
              "    <tr>\n",
              "      <th>20638</th>\n",
              "      <td>-121.32</td>\n",
              "      <td>39.43</td>\n",
              "      <td>NaN</td>\n",
              "      <td>1860.0</td>\n",
              "      <td>409.0</td>\n",
              "      <td>741.0</td>\n",
              "      <td>349.0</td>\n",
              "      <td>1.8672</td>\n",
              "      <td>84700.0</td>\n",
              "    </tr>\n",
              "    <tr>\n",
              "      <th>20639</th>\n",
              "      <td>-121.24</td>\n",
              "      <td>NaN</td>\n",
              "      <td>16.0</td>\n",
              "      <td>2785.0</td>\n",
              "      <td>616.0</td>\n",
              "      <td>1387.0</td>\n",
              "      <td>530.0</td>\n",
              "      <td>2.3886</td>\n",
              "      <td>89400.0</td>\n",
              "    </tr>\n",
              "  </tbody>\n",
              "</table>\n",
              "<p>20640 rows × 9 columns</p>\n",
              "</div>"
            ],
            "text/plain": [
              "       longitude  latitude  housingMedianAge  totalRooms  totalBedrooms  \\\n",
              "0        -122.23     37.88              41.0       880.0            NaN   \n",
              "1        -122.22     37.86              21.0         NaN         1106.0   \n",
              "2        -122.24       NaN              52.0      1467.0          190.0   \n",
              "3        -122.25     37.85              52.0      1274.0          235.0   \n",
              "4            NaN     37.85              52.0      1627.0          280.0   \n",
              "...          ...       ...               ...         ...            ...   \n",
              "20635        NaN     39.48              25.0      1665.0          374.0   \n",
              "20636    -121.21     39.49              18.0         NaN          150.0   \n",
              "20637    -121.22     39.43              17.0      2254.0          485.0   \n",
              "20638    -121.32     39.43               NaN      1860.0          409.0   \n",
              "20639    -121.24       NaN              16.0      2785.0          616.0   \n",
              "\n",
              "       population  households  medianIncome  medianHouseValue  \n",
              "0           322.0       126.0        8.3252          452600.0  \n",
              "1          2401.0      1138.0        8.3014          358500.0  \n",
              "2           496.0       177.0        7.2574          352100.0  \n",
              "3           558.0         NaN        5.6431          341300.0  \n",
              "4           565.0       259.0        3.8462          342200.0  \n",
              "...           ...         ...           ...               ...  \n",
              "20635       845.0       330.0        1.5603           78100.0  \n",
              "20636       356.0       114.0        2.5568           77100.0  \n",
              "20637      1007.0       433.0           NaN           92300.0  \n",
              "20638       741.0       349.0        1.8672           84700.0  \n",
              "20639      1387.0       530.0        2.3886           89400.0  \n",
              "\n",
              "[20640 rows x 9 columns]"
            ]
          },
          "execution_count": 42,
          "metadata": {},
          "output_type": "execute_result"
        }
      ],
      "execution_count": 42
    },
    {
      "id": "proprietary-struggle",
      "cell_type": "markdown",
      "source": "* To use a scikit-learn enumerator our data must be in the form of a 2D array.\n\n* We can do this by calling `reshape(-1, 1)` which means \"reshape the data into one column and as many rows as needed\".",
      "metadata": {
        "slideshow": {
          "slide_type": "slide"
        }
      }
    },
    {
      "id": "verified-comfort",
      "cell_type": "code",
      "source": "cal_housing['totalBedrooms'].values.reshape(-1, 1)",
      "metadata": {
        "slideshow": {
          "slide_type": "fragment"
        }
      },
      "outputs": [
        {
          "data": {
            "text/plain": [
              "array([[  nan],\n",
              "       [1106.],\n",
              "       [ 190.],\n",
              "       ...,\n",
              "       [ 485.],\n",
              "       [ 409.],\n",
              "       [ 616.]])"
            ]
          },
          "execution_count": 43,
          "metadata": {},
          "output_type": "execute_result"
        }
      ],
      "execution_count": 43
    },
    {
      "id": "modern-arkansas",
      "cell_type": "markdown",
      "source": "* We call the `fit_transform()` method of our enumerator:",
      "metadata": {
        "slideshow": {
          "slide_type": "slide"
        }
      }
    },
    {
      "id": "guilty-father",
      "cell_type": "code",
      "source": "imputer.fit_transform(cal_housing['totalBedrooms'].values.reshape(-1, 1))",
      "metadata": {
        "slideshow": {
          "slide_type": "fragment"
        }
      },
      "outputs": [
        {
          "data": {
            "text/plain": [
              "array([[   0.],\n",
              "       [1106.],\n",
              "       [ 190.],\n",
              "       ...,\n",
              "       [ 485.],\n",
              "       [ 409.],\n",
              "       [ 616.]])"
            ]
          },
          "execution_count": 44,
          "metadata": {},
          "output_type": "execute_result"
        }
      ],
      "execution_count": 44
    },
    {
      "id": "micro-arena",
      "cell_type": "markdown",
      "source": "* Instead of entering a fixed value, let's put the median.\n\n* We will also ask, by giving `add_indicator=True', to return an additional column with values ​​0 and 1, where the value 1 means that the enumerator entered the value in this line.",
      "metadata": {
        "slideshow": {
          "slide_type": "slide"
        }
      }
    },
    {
      "id": "automatic-fabric",
      "cell_type": "code",
      "source": "imputer = SimpleImputer(missing_values=np.nan, strategy=\"median\", add_indicator=True)\nimputer.fit_transform(cal_housing['totalBedrooms'].values.reshape(-1, 1))",
      "metadata": {
        "slideshow": {
          "slide_type": "fragment"
        }
      },
      "outputs": [
        {
          "data": {
            "text/plain": [
              "array([[4.350e+02, 1.000e+00],\n",
              "       [1.106e+03, 0.000e+00],\n",
              "       [1.900e+02, 0.000e+00],\n",
              "       ...,\n",
              "       [4.850e+02, 0.000e+00],\n",
              "       [4.090e+02, 0.000e+00],\n",
              "       [6.160e+02, 0.000e+00]])"
            ]
          },
          "execution_count": 45,
          "metadata": {},
          "output_type": "execute_result"
        }
      ],
      "execution_count": 45
    },
    {
      "id": "demonstrated-amsterdam",
      "cell_type": "markdown",
      "source": "* scikit-learn also offers other enumerators:\n\n * `KNNComputer`\n\n * `IterativeImputer`",
      "metadata": {
        "slideshow": {
          "slide_type": "slide"
        }
      }
    },
    {
      "id": "arctic-communications",
      "cell_type": "markdown",
      "source": "* The most difficult point in managing gaps is not the technical part.\n\n* We see that there are tools with which we can handle them.\n\n* The most difficult point is the operational one. Do we want to delete data, or fill in the blanks? If we want to fill in the blanks, what values ​​does it make sense to fill them in?\n\n* If reality has gaps, we must be sure that by filling them we do not falsify reality.",
      "metadata": {
        "slideshow": {
          "slide_type": "slide"
        }
      }
    }
  ]
}