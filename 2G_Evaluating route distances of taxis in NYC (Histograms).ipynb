{
  "metadata": {
    "kernelspec": {
      "name": "python",
      "display_name": "Python (Pyodide)",
      "language": "python"
    },
    "language_info": {
      "codemirror_mode": {
        "name": "python",
        "version": 3
      },
      "file_extension": ".py",
      "mimetype": "text/x-python",
      "name": "python",
      "nbconvert_exporter": "python",
      "pygments_lexer": "ipython3",
      "version": "3.8"
    },
    "celltoolbar": "Slideshow"
  },
  "nbformat_minor": 4,
  "nbformat": 4,
  "cells": [
    {
      "cell_type": "markdown",
      "source": "# Evaluating route distances of taxis in NYC (Histograms)",
      "metadata": {
        "slideshow": {
          "slide_type": "slide"
        }
      }
    },
    {
      "cell_type": "code",
      "source": "import numpy as np\nimport pandas as pd\nimport matplotlib.pyplot as plt",
      "metadata": {
        "slideshow": {
          "slide_type": "slide"
        }
      },
      "outputs": [],
      "execution_count": 1
    },
    {
      "cell_type": "markdown",
      "source": "* We start by reading the data.",
      "metadata": {
        "slideshow": {
          "slide_type": "slide"
        }
      }
    },
    {
      "cell_type": "code",
      "source": "data = pd.read_csv(\"nyc_taxi_trip_data_sample.csv.zip\")",
      "metadata": {
        "slideshow": {
          "slide_type": "fragment"
        }
      },
      "outputs": [],
      "execution_count": 2
    },
    {
      "cell_type": "markdown",
      "source": "* We have seen how to get an overview of the values ​​of a `DataFrame` via the `describe()` method.\n\n* We can also investigate the values ​​of a specific column by calling the appropriate methods on the `Series` object.",
      "metadata": {
        "slideshow": {
          "slide_type": "slide"
        }
      }
    },
    {
      "cell_type": "code",
      "source": "data['trip_distance'].count(), data['trip_distance'].min(), data['trip_distance'].max()",
      "metadata": {
        "slideshow": {
          "slide_type": "fragment"
        }
      },
      "outputs": [
        {
          "data": {
            "text/plain": [
              "(1731797, 0.0, 950000.0)"
            ]
          },
          "execution_count": 3,
          "metadata": {},
          "output_type": "execute_result"
        }
      ],
      "execution_count": 3
    },
    {
      "cell_type": "markdown",
      "source": "* Or even:",
      "metadata": {
        "slideshow": {
          "slide_type": "slide"
        }
      }
    },
    {
      "cell_type": "code",
      "source": "data['trip_distance'].mean(), data['trip_distance'].median(), data['trip_distance'].std()",
      "metadata": {
        "slideshow": {
          "slide_type": "fragment"
        }
      },
      "outputs": [
        {
          "data": {
            "text/plain": [
              "(3.4580053089363254, 1.8, 722.1294512805174)"
            ]
          },
          "execution_count": 4,
          "metadata": {},
          "output_type": "execute_result"
        }
      ],
      "execution_count": 4
    },
    {
      "cell_type": "markdown",
      "source": "* If the mean distance is about 3.5 miles and the median is 1.8 miles, what is the typical, or most common, distance of a ride?",
      "metadata": {
        "collapsed": true,
        "slideshow": {
          "slide_type": "slide"
        },
        "jupyter": {
          "outputs_hidden": true
        }
      }
    },
    {
      "cell_type": "code",
      "source": "data['trip_distance'].mode()",
      "metadata": {
        "slideshow": {
          "slide_type": "fragment"
        }
      },
      "outputs": [
        {
          "data": {
            "text/plain": [
              "0    1.0\n",
              "dtype: float64"
            ]
          },
          "execution_count": 5,
          "metadata": {},
          "output_type": "execute_result"
        }
      ],
      "execution_count": 5
    },
    {
      "cell_type": "markdown",
      "source": "* And what are the ten most common distances?\n\n* The `value_counts()` method counts each distinct value and lists them in descending order.\n\n* If we wanted ascending order, we would pass the `ascending=True` parameter.",
      "metadata": {
        "slideshow": {
          "slide_type": "slide"
        }
      }
    },
    {
      "cell_type": "code",
      "source": "data['trip_distance'].value_counts()",
      "metadata": {
        "slideshow": {
          "slide_type": "fragment"
        }
      },
      "outputs": [
        {
          "data": {
            "text/plain": [
              "1.00     43414\n",
              "0.90     38480\n",
              "0.80     37655\n",
              "1.10     37448\n",
              "1.20     36056\n",
              "         ...  \n",
              "31.97        1\n",
              "34.28        1\n",
              "36.00        1\n",
              "41.06        1\n",
              "24.87        1\n",
              "Name: trip_distance, Length: 3004, dtype: int64"
            ]
          },
          "execution_count": 6,
          "metadata": {},
          "output_type": "execute_result"
        }
      ],
      "execution_count": 6
    },
    {
      "cell_type": "markdown",
      "source": "* As we can see, there are thousands of different values.\n\n* Suppose we want to take the ten most common ones.\n\n* We can test with the usual Python syntax.",
      "metadata": {
        "slideshow": {
          "slide_type": "slide"
        }
      }
    },
    {
      "cell_type": "code",
      "source": "data['trip_distance'].value_counts()[:10]",
      "metadata": {
        "slideshow": {
          "slide_type": "fragment"
        }
      },
      "outputs": [
        {
          "data": {
            "text/plain": [
              "1.00     43414\n",
              "0.90     38480\n",
              "0.80     37655\n",
              "1.10     37448\n",
              "1.20     36056\n",
              "         ...  \n",
              "7.20      1357\n",
              "2.64      1337\n",
              "0.42      1331\n",
              "2.61      1320\n",
              "10.00     1313\n",
              "Name: trip_distance, Length: 275, dtype: int64"
            ]
          },
          "execution_count": 7,
          "metadata": {},
          "output_type": "execute_result"
        }
      ],
      "execution_count": 7
    },
    {
      "cell_type": "markdown",
      "source": "* The result is not what we expected.\n\n* The reason is that it returns us the values ​​until it finds the line with a *label* (label) equal to 10.\n\n* But we just want the first 10 in order, based on their position.\n\n* To select lines based on their position we use `iloc[]`.",
      "metadata": {
        "slideshow": {
          "slide_type": "slide"
        }
      }
    },
    {
      "cell_type": "code",
      "source": "data['trip_distance'].value_counts().iloc[:10]",
      "metadata": {
        "slideshow": {
          "slide_type": "fragment"
        }
      },
      "outputs": [
        {
          "data": {
            "text/plain": [
              "1.0    43414\n",
              "0.9    38480\n",
              "0.8    37655\n",
              "1.1    37448\n",
              "1.2    36056\n",
              "0.7    34601\n",
              "1.3    33994\n",
              "1.4    32474\n",
              "1.5    31080\n",
              "0.6    30361\n",
              "Name: trip_distance, dtype: int64"
            ]
          },
          "execution_count": 8,
          "metadata": {},
          "output_type": "execute_result"
        }
      ],
      "execution_count": 8
    },
    {
      "cell_type": "markdown",
      "source": "* The symmetric of `iloc[]` for tag-based selection is `loc[]` (which as we've seen doesn't produce the result we want in our case).",
      "metadata": {
        "slideshow": {
          "slide_type": "slide"
        }
      }
    },
    {
      "cell_type": "code",
      "source": "data['trip_distance'].value_counts().loc[:10]",
      "metadata": {
        "slideshow": {
          "slide_type": "fragment"
        }
      },
      "outputs": [
        {
          "data": {
            "text/plain": [
              "1.00     43414\n",
              "0.90     38480\n",
              "0.80     37655\n",
              "1.10     37448\n",
              "1.20     36056\n",
              "         ...  \n",
              "7.20      1357\n",
              "2.64      1337\n",
              "0.42      1331\n",
              "2.61      1320\n",
              "10.00     1313\n",
              "Name: trip_distance, Length: 275, dtype: int64"
            ]
          },
          "execution_count": 9,
          "metadata": {},
          "output_type": "execute_result"
        }
      ],
      "execution_count": 9
    },
    {
      "cell_type": "markdown",
      "source": "* Let's make a diagram to see the distances.\n\n* The chart will be a histogram.\n\n* This can be done directly from pandas.",
      "metadata": {
        "slideshow": {
          "slide_type": "slide"
        }
      }
    },
    {
      "cell_type": "code",
      "source": "data.trip_distance.hist(color='blue', edgecolor='black', alpha=0.5, figsize=(10, 8))",
      "metadata": {
        "slideshow": {
          "slide_type": "slide"
        }
      },
      "outputs": [
        {
          "data": {
            "text/plain": [
              "<AxesSubplot:>"
            ]
          },
          "execution_count": 18,
          "metadata": {},
          "output_type": "execute_result"
        },
        {
          "data": {
            "image/png": "[encoded data removed]",
            "text/plain": [
              "<Figure size 720x576 with 1 Axes>"
            ]
          },
          "metadata": {
            "needs_background": "light"
          },
          "output_type": "display_data"
        }
      ],
      "execution_count": 18
    },
    {
      "cell_type": "markdown",
      "source": "* The result is probably not what we wanted.\n\n* The reason is that there are routes with outliers, such as 950,000 miles.\n\n* It probably makes sense to limit the histogram to runs from 0 to 10 miles.",
      "metadata": {
        "slideshow": {
          "slide_type": "slide"
        }
      }
    },
    {
      "cell_type": "markdown",
      "source": "* To do this, we need to define the buckets in which we want to collect the data in the histogram.\n\n* We will find 100 values, with NumPy's `linspace()` function, to partition the data with distances from 0 to 10 miles.",
      "metadata": {
        "slideshow": {
          "slide_type": "slide"
        }
      }
    },
    {
      "cell_type": "code",
      "source": "np.linspace(0, 10, 100)",
      "metadata": {
        "slideshow": {
          "slide_type": "fragment"
        },
        "trusted": true
      },
      "outputs": [],
      "execution_count": null
    },
    {
      "cell_type": "code",
      "source": "data.trip_distance.hist(bins=np.linspace(0, 10, 100), \n                        color='blue', edgecolor='black', \n                        alpha=0.5, figsize=(10, 8))",
      "metadata": {
        "slideshow": {
          "slide_type": "slide"
        }
      },
      "outputs": [
        {
          "data": {
            "text/plain": [
              "<AxesSubplot:>"
            ]
          },
          "execution_count": 12,
          "metadata": {},
          "output_type": "execute_result"
        },
        {
          "data": {
            "image/png": "[encoded data removed]",
            "text/plain": [
              "<Figure size 720x576 with 1 Axes>"
            ]
          },
          "metadata": {
            "needs_background": "light"
          },
          "output_type": "display_data"
        }
      ],
      "execution_count": 12
    },
    {
      "cell_type": "markdown",
      "source": "* We notice that in the histogram there are some local maxima (peaks).\n\n* To investigate this.\n\n* Let's count how many routes were counted in each bucket (with a small difference that we don't mind here, in the histogram the buckets are right closed-left open, while here it's the other way around).",
      "metadata": {
        "slideshow": {
          "slide_type": "slide"
        }
      }
    },
    {
      "cell_type": "code",
      "source": "data['trip_distance'].value_counts(bins=np.linspace(0, 10, 100))",
      "metadata": {
        "slideshow": {
          "slide_type": "fragment"
        }
      },
      "outputs": [
        {
          "data": {
            "text/plain": [
              "(0.909, 1.01]     78629\n",
              "(0.808, 0.909]    68974\n",
              "(1.01, 1.111]     68413\n",
              "(0.707, 0.808]    66525\n",
              "(1.111, 1.212]    66112\n",
              "                  ...  \n",
              "(9.697, 9.798]     2022\n",
              "(7.879, 7.98]      2005\n",
              "(8.485, 8.586]     2005\n",
              "(8.283, 8.384]     1990\n",
              "(9.798, 9.899]     1974\n",
              "Name: trip_distance, Length: 99, dtype: int64"
            ]
          },
          "execution_count": 13,
          "metadata": {},
          "output_type": "execute_result"
        }
      ],
      "execution_count": 13
    },
    {
      "cell_type": "markdown",
      "source": "* To locate the vertices, we need to compare the number of runs in each bucket with the corresponding numbers in neighboring buckets.\n\n* We currently have the numbers sorted by the number of routes.\n\n* We should sort them based on the bucket, i.e. the label of each row of the result of `value_counts()`.\n\n* Basically we want to sort based on the index of the result of `value_couns()`.",
      "metadata": {
        "slideshow": {
          "slide_type": "slide"
        }
      }
    },
    {
      "cell_type": "code",
      "source": "trip_distance_counts = data['trip_distance'].value_counts(bins=np.linspace(0, 10, 100)).sort_index()\ntrip_distance_counts",
      "metadata": {
        "slideshow": {
          "slide_type": "fragment"
        }
      },
      "outputs": [
        {
          "data": {
            "text/plain": [
              "(-0.001, 0.101]    16986\n",
              "(0.101, 0.202]      7730\n",
              "(0.202, 0.303]     13104\n",
              "(0.303, 0.404]     24169\n",
              "(0.404, 0.505]     37491\n",
              "                   ...  \n",
              "(9.495, 9.596]      2137\n",
              "(9.596, 9.697]      2030\n",
              "(9.697, 9.798]      2022\n",
              "(9.798, 9.899]      1974\n",
              "(9.899, 10.0]       3214\n",
              "Name: trip_distance, Length: 99, dtype: int64"
            ]
          },
          "execution_count": 14,
          "metadata": {},
          "output_type": "execute_result"
        }
      ],
      "execution_count": 14
    },
    {
      "cell_type": "markdown",
      "source": "* So since we have the measurements per bucket, in order from the first bucket (0 to 0.10 miles) to the last (9.90 to 10 miles), we can find the vertices by comparing the neighbors.\n\n* For this purpose we can use the `find_peaks()` function of the [SciPy](https://scipy.org/) library.\n\n* The function returns us the position of the vertices and any additional features we may have requested (and we now ignore).",
      "metadata": {
        "slideshow": {
          "slide_type": "slide"
        }
      }
    },
    {
      "cell_type": "code",
      "source": "from scipy.signal import find_peaks\n\npeaks, _ = find_peaks(trip_distance_counts)\npeaks",
      "metadata": {
        "slideshow": {
          "slide_type": "fragment"
        }
      },
      "outputs": [
        {
          "data": {
            "text/plain": [
              "array([ 9, 19, 29, 39, 49, 59, 69, 79, 83, 89, 93])"
            ]
          },
          "execution_count": 15,
          "metadata": {},
          "output_type": "execute_result"
        }
      ],
      "execution_count": 15
    },
    {
      "cell_type": "markdown",
      "source": "* Now we can find the buckets corresponding to the vertices.\n\n* We will use `iloc[]` to extract the lines at the vertex positions.",
      "metadata": {
        "slideshow": {
          "slide_type": "slide"
        }
      }
    },
    {
      "cell_type": "code",
      "source": "trip_distance_counts.iloc[peaks]",
      "metadata": {
        "slideshow": {
          "slide_type": "fragment"
        }
      },
      "outputs": [
        {
          "data": {
            "text/plain": [
              "(0.909, 1.01]     78629\n",
              "(1.919, 2.02]     46971\n",
              "(2.929, 3.03]     23081\n",
              "(3.939, 4.04]     12562\n",
              "(4.949, 5.051]     7332\n",
              "(5.96, 6.061]      4756\n",
              "(6.97, 7.071]      3025\n",
              "(7.98, 8.081]      2343\n",
              "(8.384, 8.485]     2025\n",
              "(8.99, 9.091]      2425\n",
              "(9.394, 9.495]     2153\n",
              "Name: trip_distance, dtype: int64"
            ]
          },
          "execution_count": 16,
          "metadata": {},
          "output_type": "execute_result"
        }
      ],
      "execution_count": 16
    },
    {
      "cell_type": "markdown",
      "source": "* So most peaks correspond to routes with a round distance (1, 2, ..., 8 miles).",
      "metadata": {
        "slideshow": {
          "slide_type": "slide"
        }
      }
    },
    {
      "cell_type": "code",
      "source": "ax = data.trip_distance.hist(bins=np.linspace(0, 10, 100), \n                             color='blue', edgecolor='black', \n                             alpha=0.5, figsize=(10, 8))\nfor i in peaks:\n    ax.patches[i].set_facecolor('darkorange')",
      "metadata": {
        "slideshow": {
          "slide_type": "fragment"
        }
      },
      "outputs": [
        {
          "data": {
            "image/png": "[encoded data removed]",
            "text/plain": [
              "<Figure size 720x576 with 1 Axes>"
            ]
          },
          "metadata": {
            "needs_background": "light"
          },
          "output_type": "display_data"
        }
      ],
      "execution_count": 19
    }
  ]
}